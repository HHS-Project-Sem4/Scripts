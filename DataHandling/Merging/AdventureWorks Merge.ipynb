{
 "cells": [
  {
   "cell_type": "code",
   "execution_count": 1,
   "metadata": {
    "collapsed": true,
    "ExecuteTime": {
     "end_time": "2023-05-25T12:54:08.323125400Z",
     "start_time": "2023-05-25T12:54:07.895885300Z"
    }
   },
   "outputs": [],
   "source": [
    "import pandas as pd\n",
    "import pyodbc"
   ]
  },
  {
   "cell_type": "code",
   "execution_count": 2,
   "outputs": [],
   "source": [
    "adventureWorksConnection = pyodbc.connect(\"Driver={SQL Server};\"\n",
    "                                \"Server=DESKTOP-8INVJ1O\\SQLEXPRESS;\"\n",
    "                                \"Database=AdventureWorks;\"\n",
    "                                \"trusted_connection=yes\")"
   ],
   "metadata": {
    "collapsed": false,
    "ExecuteTime": {
     "end_time": "2023-05-25T12:54:08.354368700Z",
     "start_time": "2023-05-25T12:54:08.323125400Z"
    }
   }
  },
  {
   "cell_type": "code",
   "execution_count": 3,
   "outputs": [
    {
     "name": "stderr",
     "output_type": "stream",
     "text": [
      "C:\\Users\\Max\\AppData\\Local\\Temp\\ipykernel_12668\\4057129814.py:1: UserWarning: pandas only supports SQLAlchemy connectable (engine/connection) or database string URI or sqlite3 DBAPI2 connection. Other DBAPI2 objects are not tested. Please consider using SQLAlchemy.\n",
      "  salesSalesOrderHeader = pd.read_sql(\"SELECT * FROM sales.SalesOrderHeader\", adventureWorksConnection)\n",
      "C:\\Users\\Max\\AppData\\Local\\Temp\\ipykernel_12668\\4057129814.py:2: UserWarning: pandas only supports SQLAlchemy connectable (engine/connection) or database string URI or sqlite3 DBAPI2 connection. Other DBAPI2 objects are not tested. Please consider using SQLAlchemy.\n",
      "  salesSalesOrderDetail = pd.read_sql(\"SELECT * FROM sales.SalesOrderDetail\", adventureWorksConnection)\n",
      "C:\\Users\\Max\\AppData\\Local\\Temp\\ipykernel_12668\\4057129814.py:3: UserWarning: pandas only supports SQLAlchemy connectable (engine/connection) or database string URI or sqlite3 DBAPI2 connection. Other DBAPI2 objects are not tested. Please consider using SQLAlchemy.\n",
      "  salesSalesPerson = pd.read_sql(\"SELECT * FROM sales.SalesPerson\", adventureWorksConnection)\n",
      "C:\\Users\\Max\\AppData\\Local\\Temp\\ipykernel_12668\\4057129814.py:4: UserWarning: pandas only supports SQLAlchemy connectable (engine/connection) or database string URI or sqlite3 DBAPI2 connection. Other DBAPI2 objects are not tested. Please consider using SQLAlchemy.\n",
      "  salesCustomer = pd.read_sql(\"SELECT * FROM sales.Customer\", adventureWorksConnection)\n",
      "C:\\Users\\Max\\AppData\\Local\\Temp\\ipykernel_12668\\4057129814.py:5: UserWarning: pandas only supports SQLAlchemy connectable (engine/connection) or database string URI or sqlite3 DBAPI2 connection. Other DBAPI2 objects are not tested. Please consider using SQLAlchemy.\n",
      "  salesStore = pd.read_sql(\"SELECT * FROM sales.Store\", adventureWorksConnection)\n",
      "C:\\Users\\Max\\AppData\\Local\\Temp\\ipykernel_12668\\4057129814.py:6: UserWarning: pandas only supports SQLAlchemy connectable (engine/connection) or database string URI or sqlite3 DBAPI2 connection. Other DBAPI2 objects are not tested. Please consider using SQLAlchemy.\n",
      "  personPerson = pd.read_sql(\"SELECT * FROM person.Person\", adventureWorksConnection)\n",
      "C:\\Users\\Max\\AppData\\Local\\Temp\\ipykernel_12668\\4057129814.py:7: UserWarning: pandas only supports SQLAlchemy connectable (engine/connection) or database string URI or sqlite3 DBAPI2 connection. Other DBAPI2 objects are not tested. Please consider using SQLAlchemy.\n",
      "  personAddress = pd.read_sql(\"SELECT * FROM person.Address\", adventureWorksConnection)\n",
      "C:\\Users\\Max\\AppData\\Local\\Temp\\ipykernel_12668\\4057129814.py:8: UserWarning: pandas only supports SQLAlchemy connectable (engine/connection) or database string URI or sqlite3 DBAPI2 connection. Other DBAPI2 objects are not tested. Please consider using SQLAlchemy.\n",
      "  personStateProvince = pd.read_sql(\"SELECT * FROM person.StateProvince\", adventureWorksConnection)\n",
      "C:\\Users\\Max\\AppData\\Local\\Temp\\ipykernel_12668\\4057129814.py:9: UserWarning: pandas only supports SQLAlchemy connectable (engine/connection) or database string URI or sqlite3 DBAPI2 connection. Other DBAPI2 objects are not tested. Please consider using SQLAlchemy.\n",
      "  personCountryRegion = pd.read_sql(\"SELECT * FROM person.CountryRegion\", adventureWorksConnection)\n",
      "C:\\Users\\Max\\AppData\\Local\\Temp\\ipykernel_12668\\4057129814.py:10: UserWarning: pandas only supports SQLAlchemy connectable (engine/connection) or database string URI or sqlite3 DBAPI2 connection. Other DBAPI2 objects are not tested. Please consider using SQLAlchemy.\n",
      "  personBusinessEntity = pd.read_sql(\"SELECT * FROM person.BusinessEntity\", adventureWorksConnection)\n",
      "C:\\Users\\Max\\AppData\\Local\\Temp\\ipykernel_12668\\4057129814.py:11: UserWarning: pandas only supports SQLAlchemy connectable (engine/connection) or database string URI or sqlite3 DBAPI2 connection. Other DBAPI2 objects are not tested. Please consider using SQLAlchemy.\n",
      "  personBusinessEntityAddress = pd.read_sql(\"SELECT * FROM person.BusinessEntityAddress\", adventureWorksConnection)\n",
      "C:\\Users\\Max\\AppData\\Local\\Temp\\ipykernel_12668\\4057129814.py:12: UserWarning: pandas only supports SQLAlchemy connectable (engine/connection) or database string URI or sqlite3 DBAPI2 connection. Other DBAPI2 objects are not tested. Please consider using SQLAlchemy.\n",
      "  productionProduct = pd.read_sql(\"SELECT * FROM production.Product\", adventureWorksConnection)\n",
      "C:\\Users\\Max\\AppData\\Local\\Temp\\ipykernel_12668\\4057129814.py:13: UserWarning: pandas only supports SQLAlchemy connectable (engine/connection) or database string URI or sqlite3 DBAPI2 connection. Other DBAPI2 objects are not tested. Please consider using SQLAlchemy.\n",
      "  productionProductSubcategory = pd.read_sql(\"SELECT * FROM production.ProductSubcategory\", adventureWorksConnection)\n",
      "C:\\Users\\Max\\AppData\\Local\\Temp\\ipykernel_12668\\4057129814.py:14: UserWarning: pandas only supports SQLAlchemy connectable (engine/connection) or database string URI or sqlite3 DBAPI2 connection. Other DBAPI2 objects are not tested. Please consider using SQLAlchemy.\n",
      "  productionProductCategory = pd.read_sql(\"SELECT * FROM production.ProductCategory\", adventureWorksConnection)\n"
     ]
    }
   ],
   "source": [
    "salesSalesOrderHeader = pd.read_sql(\"SELECT * FROM sales.SalesOrderHeader\", adventureWorksConnection)\n",
    "salesSalesOrderDetail = pd.read_sql(\"SELECT * FROM sales.SalesOrderDetail\", adventureWorksConnection)\n",
    "salesSalesPerson = pd.read_sql(\"SELECT * FROM sales.SalesPerson\", adventureWorksConnection)\n",
    "salesCustomer = pd.read_sql(\"SELECT * FROM sales.Customer\", adventureWorksConnection)\n",
    "salesStore = pd.read_sql(\"SELECT * FROM sales.Store\", adventureWorksConnection)\n",
    "personPerson = pd.read_sql(\"SELECT * FROM person.Person\", adventureWorksConnection)\n",
    "personAddress = pd.read_sql(\"SELECT * FROM person.Address\", adventureWorksConnection)\n",
    "personStateProvince = pd.read_sql(\"SELECT * FROM person.StateProvince\", adventureWorksConnection)\n",
    "personCountryRegion = pd.read_sql(\"SELECT * FROM person.CountryRegion\", adventureWorksConnection)\n",
    "personBusinessEntity = pd.read_sql(\"SELECT * FROM person.BusinessEntity\", adventureWorksConnection)\n",
    "personBusinessEntityAddress = pd.read_sql(\"SELECT * FROM person.BusinessEntityAddress\", adventureWorksConnection)\n",
    "productionProduct = pd.read_sql(\"SELECT * FROM production.Product\", adventureWorksConnection)\n",
    "productionProductSubcategory = pd.read_sql(\"SELECT * FROM production.ProductSubcategory\", adventureWorksConnection)\n",
    "productionProductCategory = pd.read_sql(\"SELECT * FROM production.ProductCategory\", adventureWorksConnection)"
   ],
   "metadata": {
    "collapsed": false,
    "ExecuteTime": {
     "end_time": "2023-05-25T12:54:11.366747Z",
     "start_time": "2023-05-25T12:54:08.354368700Z"
    }
   }
  }
 ],
 "metadata": {
  "kernelspec": {
   "display_name": "Python 3",
   "language": "python",
   "name": "python3"
  },
  "language_info": {
   "codemirror_mode": {
    "name": "ipython",
    "version": 2
   },
   "file_extension": ".py",
   "mimetype": "text/x-python",
   "name": "python",
   "nbconvert_exporter": "python",
   "pygments_lexer": "ipython2",
   "version": "2.7.6"
  }
 },
 "nbformat": 4,
 "nbformat_minor": 0
}
