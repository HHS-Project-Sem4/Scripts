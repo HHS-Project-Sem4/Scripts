{
 "cells": [
  {
   "cell_type": "code",
   "execution_count": 477,
   "metadata": {
    "collapsed": true,
    "ExecuteTime": {
     "end_time": "2023-05-27T20:05:04.716515400Z",
     "start_time": "2023-05-27T20:05:04.643582800Z"
    }
   },
   "outputs": [],
   "source": [
    "import pandas as pd\n",
    "import pyodbc\n",
    "import Utils"
   ]
  },
  {
   "cell_type": "code",
   "execution_count": 478,
   "outputs": [],
   "source": [
    "adventureWorksConnection = pyodbc.connect(\"Driver={SQL Server};\"\n",
    "                                          \"Server=DESKTOP-8INVJ1O\\SQLEXPRESS;\"\n",
    "                                          \"Database=AdventureWorks;\"\n",
    "                                          \"trusted_connection=yes\")"
   ],
   "metadata": {
    "collapsed": false,
    "ExecuteTime": {
     "end_time": "2023-05-27T20:05:04.824366500Z",
     "start_time": "2023-05-27T20:05:04.658715300Z"
    }
   }
  },
  {
   "cell_type": "code",
   "execution_count": 479,
   "outputs": [
    {
     "name": "stderr",
     "output_type": "stream",
     "text": [
      "C:\\Users\\Max\\AppData\\Local\\Temp\\ipykernel_7244\\2862249871.py:1: UserWarning: pandas only supports SQLAlchemy connectable (engine/connection) or database string URI or sqlite3 DBAPI2 connection. Other DBAPI2 objects are not tested. Please consider using SQLAlchemy.\n",
      "  salesSalesOrderHeader = pd.read_sql(\"SELECT * FROM sales.SalesOrderHeader\", adventureWorksConnection)\n",
      "C:\\Users\\Max\\AppData\\Local\\Temp\\ipykernel_7244\\2862249871.py:2: UserWarning: pandas only supports SQLAlchemy connectable (engine/connection) or database string URI or sqlite3 DBAPI2 connection. Other DBAPI2 objects are not tested. Please consider using SQLAlchemy.\n",
      "  salesSalesOrderDetail = pd.read_sql(\"SELECT * FROM sales.SalesOrderDetail\", adventureWorksConnection)\n",
      "C:\\Users\\Max\\AppData\\Local\\Temp\\ipykernel_7244\\2862249871.py:3: UserWarning: pandas only supports SQLAlchemy connectable (engine/connection) or database string URI or sqlite3 DBAPI2 connection. Other DBAPI2 objects are not tested. Please consider using SQLAlchemy.\n",
      "  salesSalesPerson = pd.read_sql(\"SELECT * FROM sales.SalesPerson\", adventureWorksConnection)\n",
      "C:\\Users\\Max\\AppData\\Local\\Temp\\ipykernel_7244\\2862249871.py:4: UserWarning: pandas only supports SQLAlchemy connectable (engine/connection) or database string URI or sqlite3 DBAPI2 connection. Other DBAPI2 objects are not tested. Please consider using SQLAlchemy.\n",
      "  salesCustomer = pd.read_sql(\"SELECT * FROM sales.Customer\", adventureWorksConnection)\n",
      "C:\\Users\\Max\\AppData\\Local\\Temp\\ipykernel_7244\\2862249871.py:5: UserWarning: pandas only supports SQLAlchemy connectable (engine/connection) or database string URI or sqlite3 DBAPI2 connection. Other DBAPI2 objects are not tested. Please consider using SQLAlchemy.\n",
      "  salesStore = pd.read_sql(\"SELECT * FROM sales.Store\", adventureWorksConnection)\n",
      "C:\\Users\\Max\\AppData\\Local\\Temp\\ipykernel_7244\\2862249871.py:6: UserWarning: pandas only supports SQLAlchemy connectable (engine/connection) or database string URI or sqlite3 DBAPI2 connection. Other DBAPI2 objects are not tested. Please consider using SQLAlchemy.\n",
      "  personPerson = pd.read_sql(\"SELECT * FROM person.Person\", adventureWorksConnection)\n",
      "C:\\Users\\Max\\AppData\\Local\\Temp\\ipykernel_7244\\2862249871.py:7: UserWarning: pandas only supports SQLAlchemy connectable (engine/connection) or database string URI or sqlite3 DBAPI2 connection. Other DBAPI2 objects are not tested. Please consider using SQLAlchemy.\n",
      "  personAddress = pd.read_sql(\"SELECT * FROM person.Address\", adventureWorksConnection)\n",
      "C:\\Users\\Max\\AppData\\Local\\Temp\\ipykernel_7244\\2862249871.py:8: UserWarning: pandas only supports SQLAlchemy connectable (engine/connection) or database string URI or sqlite3 DBAPI2 connection. Other DBAPI2 objects are not tested. Please consider using SQLAlchemy.\n",
      "  personStateProvince = pd.read_sql(\"SELECT * FROM person.StateProvince\", adventureWorksConnection)\n",
      "C:\\Users\\Max\\AppData\\Local\\Temp\\ipykernel_7244\\2862249871.py:9: UserWarning: pandas only supports SQLAlchemy connectable (engine/connection) or database string URI or sqlite3 DBAPI2 connection. Other DBAPI2 objects are not tested. Please consider using SQLAlchemy.\n",
      "  personCountryRegion = pd.read_sql(\"SELECT * FROM person.CountryRegion\", adventureWorksConnection)\n",
      "C:\\Users\\Max\\AppData\\Local\\Temp\\ipykernel_7244\\2862249871.py:10: UserWarning: pandas only supports SQLAlchemy connectable (engine/connection) or database string URI or sqlite3 DBAPI2 connection. Other DBAPI2 objects are not tested. Please consider using SQLAlchemy.\n",
      "  personBusinessEntity = pd.read_sql(\"SELECT * FROM person.BusinessEntity\", adventureWorksConnection)\n",
      "C:\\Users\\Max\\AppData\\Local\\Temp\\ipykernel_7244\\2862249871.py:11: UserWarning: pandas only supports SQLAlchemy connectable (engine/connection) or database string URI or sqlite3 DBAPI2 connection. Other DBAPI2 objects are not tested. Please consider using SQLAlchemy.\n",
      "  personBusinessEntityAddress = pd.read_sql(\"SELECT * FROM person.BusinessEntityAddress\", adventureWorksConnection)\n",
      "C:\\Users\\Max\\AppData\\Local\\Temp\\ipykernel_7244\\2862249871.py:12: UserWarning: pandas only supports SQLAlchemy connectable (engine/connection) or database string URI or sqlite3 DBAPI2 connection. Other DBAPI2 objects are not tested. Please consider using SQLAlchemy.\n",
      "  productionProduct = pd.read_sql(\"SELECT * FROM production.Product\", adventureWorksConnection)\n",
      "C:\\Users\\Max\\AppData\\Local\\Temp\\ipykernel_7244\\2862249871.py:13: UserWarning: pandas only supports SQLAlchemy connectable (engine/connection) or database string URI or sqlite3 DBAPI2 connection. Other DBAPI2 objects are not tested. Please consider using SQLAlchemy.\n",
      "  productionProductSubcategory = pd.read_sql(\"SELECT * FROM production.ProductSubcategory\", adventureWorksConnection)\n",
      "C:\\Users\\Max\\AppData\\Local\\Temp\\ipykernel_7244\\2862249871.py:14: UserWarning: pandas only supports SQLAlchemy connectable (engine/connection) or database string URI or sqlite3 DBAPI2 connection. Other DBAPI2 objects are not tested. Please consider using SQLAlchemy.\n",
      "  productionProductCategory = pd.read_sql(\"SELECT * FROM production.ProductCategory\", adventureWorksConnection)\n"
     ]
    }
   ],
   "source": [
    "salesSalesOrderHeader = pd.read_sql(\"SELECT * FROM sales.SalesOrderHeader\", adventureWorksConnection)\n",
    "salesSalesOrderDetail = pd.read_sql(\"SELECT * FROM sales.SalesOrderDetail\", adventureWorksConnection)\n",
    "salesSalesPerson = pd.read_sql(\"SELECT * FROM sales.SalesPerson\", adventureWorksConnection)\n",
    "salesCustomer = pd.read_sql(\"SELECT * FROM sales.Customer\", adventureWorksConnection)\n",
    "salesStore = pd.read_sql(\"SELECT * FROM sales.Store\", adventureWorksConnection)\n",
    "personPerson = pd.read_sql(\"SELECT * FROM person.Person\", adventureWorksConnection)\n",
    "personAddress = pd.read_sql(\"SELECT * FROM person.Address\", adventureWorksConnection)\n",
    "personStateProvince = pd.read_sql(\"SELECT * FROM person.StateProvince\", adventureWorksConnection)\n",
    "personCountryRegion = pd.read_sql(\"SELECT * FROM person.CountryRegion\", adventureWorksConnection)\n",
    "personBusinessEntity = pd.read_sql(\"SELECT * FROM person.BusinessEntity\", adventureWorksConnection)\n",
    "personBusinessEntityAddress = pd.read_sql(\"SELECT * FROM person.BusinessEntityAddress\", adventureWorksConnection)\n",
    "productionProduct = pd.read_sql(\"SELECT * FROM production.Product\", adventureWorksConnection)\n",
    "productionProductSubcategory = pd.read_sql(\"SELECT * FROM production.ProductSubcategory\", adventureWorksConnection)\n",
    "productionProductCategory = pd.read_sql(\"SELECT * FROM production.ProductCategory\", adventureWorksConnection)"
   ],
   "metadata": {
    "collapsed": false,
    "ExecuteTime": {
     "end_time": "2023-05-27T20:05:07.491210700Z",
     "start_time": "2023-05-27T20:05:04.670866900Z"
    }
   }
  },
  {
   "cell_type": "markdown",
   "source": [
    "# Product\n",
    "First change column names in category and subcategory so select in the final table can be done easier"
   ],
   "metadata": {
    "collapsed": false
   }
  },
  {
   "cell_type": "code",
   "execution_count": 480,
   "outputs": [],
   "source": [
    "selectColumns = ['ProductSubcategoryID', 'ProductCategoryID', 'Name']\n",
    "productionProductSubcategoryData = productionProductSubcategory[selectColumns]\n",
    "renameColumns = ['ProductSubcategoryID', 'ProductCategoryID', 'SubCategoryName']\n",
    "productionProductSubcategoryData.columns = renameColumns"
   ],
   "metadata": {
    "collapsed": false,
    "ExecuteTime": {
     "end_time": "2023-05-27T20:05:07.511818Z",
     "start_time": "2023-05-27T20:05:07.493381Z"
    }
   }
  },
  {
   "cell_type": "code",
   "execution_count": 481,
   "outputs": [],
   "source": [
    "selectColumns = ['ProductCategoryID', 'Name']\n",
    "productionProductCategoryData = productionProductCategory[selectColumns]\n",
    "renameColumns = ['ProductCategoryID', 'CategoryName']\n",
    "productionProductCategoryData.columns = renameColumns"
   ],
   "metadata": {
    "collapsed": false,
    "ExecuteTime": {
     "end_time": "2023-05-27T20:05:07.521991800Z",
     "start_time": "2023-05-27T20:05:07.510820800Z"
    }
   }
  },
  {
   "cell_type": "markdown",
   "source": [
    "Start joining and finishing final product frame"
   ],
   "metadata": {
    "collapsed": false
   }
  },
  {
   "cell_type": "code",
   "execution_count": 482,
   "outputs": [
    {
     "data": {
      "text/plain": "     ProductID                   Name ProductNumber  MakeFlag  \\\n0            1        Adjustable Race       AR-5381     False   \n1            2           Bearing Ball       BA-8327     False   \n2            3        BB Ball Bearing       BE-2349      True   \n3            4  Headset Ball Bearings       BE-2908     False   \n4          316                  Blade       BL-2036      True   \n..         ...                    ...           ...       ...   \n499        995      ML Bottom Bracket       BB-8107      True   \n500        996      HL Bottom Bracket       BB-9108      True   \n501        997     Road-750 Black, 44    BK-R19B-44      True   \n502        998     Road-750 Black, 48    BK-R19B-48      True   \n503        999     Road-750 Black, 52    BK-R19B-52      True   \n\n     FinishedGoodsFlag  Color  SafetyStockLevel  ReorderPoint  StandardCost  \\\n0                False   None              1000           750        0.0000   \n1                False   None              1000           750        0.0000   \n2                False   None               800           600        0.0000   \n3                False   None               800           600        0.0000   \n4                False   None               800           600        0.0000   \n..                 ...    ...               ...           ...           ...   \n499               True   None               500           375       44.9506   \n500               True   None               500           375       53.9416   \n501               True  Black               100            75      343.6496   \n502               True  Black               100            75      343.6496   \n503               True  Black               100            75      343.6496   \n\n     ListPrice  ... ProductLine Class Style  ProductSubcategoryID  \\\n0         0.00  ...        None  None  None                   NaN   \n1         0.00  ...        None  None  None                   NaN   \n2         0.00  ...        None  None  None                   NaN   \n3         0.00  ...        None  None  None                   NaN   \n4         0.00  ...        None  None  None                   NaN   \n..         ...  ...         ...   ...   ...                   ...   \n499     101.24  ...        None    M   None                   5.0   \n500     121.49  ...        None    H   None                   5.0   \n501     539.99  ...          R     L     U                    2.0   \n502     539.99  ...          R     L     U                    2.0   \n503     539.99  ...          R     L     U                    2.0   \n\n     ProductModelID SellStartDate SellEndDate DiscontinuedDate  \\\n0               NaN    2008-04-30         NaT             None   \n1               NaN    2008-04-30         NaT             None   \n2               NaN    2008-04-30         NaT             None   \n3               NaN    2008-04-30         NaT             None   \n4               NaN    2008-04-30         NaT             None   \n..              ...           ...         ...              ...   \n499            96.0    2013-05-30         NaT             None   \n500            97.0    2013-05-30         NaT             None   \n501            31.0    2013-05-30         NaT             None   \n502            31.0    2013-05-30         NaT             None   \n503            31.0    2013-05-30         NaT             None   \n\n                                  rowguid            ModifiedDate  \n0    694215B7-08F7-4C0D-ACB1-D734BA44C0C8 2014-02-08 10:01:36.827  \n1    58AE3C20-4F3A-4749-A7D4-D568806CC537 2014-02-08 10:01:36.827  \n2    9C21AED2-5BFA-4F18-BCB8-F11638DC2E4E 2014-02-08 10:01:36.827  \n3    ECFED6CB-51FF-49B5-B06C-7D8AC834DB8B 2014-02-08 10:01:36.827  \n4    E73E9750-603B-4131-89F5-3DD15ED5FF80 2014-02-08 10:01:36.827  \n..                                    ...                     ...  \n499  71AB847F-D091-42D6-B735-7B0C2D82FC84 2014-02-08 10:01:36.827  \n500  230C47C5-08B2-4CE3-B706-69C0BDD62965 2014-02-08 10:01:36.827  \n501  44CE4802-409F-43AB-9B27-CA53421805BE 2014-02-08 10:01:36.827  \n502  3DE9A212-1D49-40B6-B10A-F564D981DBDE 2014-02-08 10:01:36.827  \n503  AE638923-2B67-4679-B90E-ABBAB17DCA31 2014-02-08 10:01:36.827  \n\n[504 rows x 25 columns]",
      "text/html": "<div>\n<style scoped>\n    .dataframe tbody tr th:only-of-type {\n        vertical-align: middle;\n    }\n\n    .dataframe tbody tr th {\n        vertical-align: top;\n    }\n\n    .dataframe thead th {\n        text-align: right;\n    }\n</style>\n<table border=\"1\" class=\"dataframe\">\n  <thead>\n    <tr style=\"text-align: right;\">\n      <th></th>\n      <th>ProductID</th>\n      <th>Name</th>\n      <th>ProductNumber</th>\n      <th>MakeFlag</th>\n      <th>FinishedGoodsFlag</th>\n      <th>Color</th>\n      <th>SafetyStockLevel</th>\n      <th>ReorderPoint</th>\n      <th>StandardCost</th>\n      <th>ListPrice</th>\n      <th>...</th>\n      <th>ProductLine</th>\n      <th>Class</th>\n      <th>Style</th>\n      <th>ProductSubcategoryID</th>\n      <th>ProductModelID</th>\n      <th>SellStartDate</th>\n      <th>SellEndDate</th>\n      <th>DiscontinuedDate</th>\n      <th>rowguid</th>\n      <th>ModifiedDate</th>\n    </tr>\n  </thead>\n  <tbody>\n    <tr>\n      <th>0</th>\n      <td>1</td>\n      <td>Adjustable Race</td>\n      <td>AR-5381</td>\n      <td>False</td>\n      <td>False</td>\n      <td>None</td>\n      <td>1000</td>\n      <td>750</td>\n      <td>0.0000</td>\n      <td>0.00</td>\n      <td>...</td>\n      <td>None</td>\n      <td>None</td>\n      <td>None</td>\n      <td>NaN</td>\n      <td>NaN</td>\n      <td>2008-04-30</td>\n      <td>NaT</td>\n      <td>None</td>\n      <td>694215B7-08F7-4C0D-ACB1-D734BA44C0C8</td>\n      <td>2014-02-08 10:01:36.827</td>\n    </tr>\n    <tr>\n      <th>1</th>\n      <td>2</td>\n      <td>Bearing Ball</td>\n      <td>BA-8327</td>\n      <td>False</td>\n      <td>False</td>\n      <td>None</td>\n      <td>1000</td>\n      <td>750</td>\n      <td>0.0000</td>\n      <td>0.00</td>\n      <td>...</td>\n      <td>None</td>\n      <td>None</td>\n      <td>None</td>\n      <td>NaN</td>\n      <td>NaN</td>\n      <td>2008-04-30</td>\n      <td>NaT</td>\n      <td>None</td>\n      <td>58AE3C20-4F3A-4749-A7D4-D568806CC537</td>\n      <td>2014-02-08 10:01:36.827</td>\n    </tr>\n    <tr>\n      <th>2</th>\n      <td>3</td>\n      <td>BB Ball Bearing</td>\n      <td>BE-2349</td>\n      <td>True</td>\n      <td>False</td>\n      <td>None</td>\n      <td>800</td>\n      <td>600</td>\n      <td>0.0000</td>\n      <td>0.00</td>\n      <td>...</td>\n      <td>None</td>\n      <td>None</td>\n      <td>None</td>\n      <td>NaN</td>\n      <td>NaN</td>\n      <td>2008-04-30</td>\n      <td>NaT</td>\n      <td>None</td>\n      <td>9C21AED2-5BFA-4F18-BCB8-F11638DC2E4E</td>\n      <td>2014-02-08 10:01:36.827</td>\n    </tr>\n    <tr>\n      <th>3</th>\n      <td>4</td>\n      <td>Headset Ball Bearings</td>\n      <td>BE-2908</td>\n      <td>False</td>\n      <td>False</td>\n      <td>None</td>\n      <td>800</td>\n      <td>600</td>\n      <td>0.0000</td>\n      <td>0.00</td>\n      <td>...</td>\n      <td>None</td>\n      <td>None</td>\n      <td>None</td>\n      <td>NaN</td>\n      <td>NaN</td>\n      <td>2008-04-30</td>\n      <td>NaT</td>\n      <td>None</td>\n      <td>ECFED6CB-51FF-49B5-B06C-7D8AC834DB8B</td>\n      <td>2014-02-08 10:01:36.827</td>\n    </tr>\n    <tr>\n      <th>4</th>\n      <td>316</td>\n      <td>Blade</td>\n      <td>BL-2036</td>\n      <td>True</td>\n      <td>False</td>\n      <td>None</td>\n      <td>800</td>\n      <td>600</td>\n      <td>0.0000</td>\n      <td>0.00</td>\n      <td>...</td>\n      <td>None</td>\n      <td>None</td>\n      <td>None</td>\n      <td>NaN</td>\n      <td>NaN</td>\n      <td>2008-04-30</td>\n      <td>NaT</td>\n      <td>None</td>\n      <td>E73E9750-603B-4131-89F5-3DD15ED5FF80</td>\n      <td>2014-02-08 10:01:36.827</td>\n    </tr>\n    <tr>\n      <th>...</th>\n      <td>...</td>\n      <td>...</td>\n      <td>...</td>\n      <td>...</td>\n      <td>...</td>\n      <td>...</td>\n      <td>...</td>\n      <td>...</td>\n      <td>...</td>\n      <td>...</td>\n      <td>...</td>\n      <td>...</td>\n      <td>...</td>\n      <td>...</td>\n      <td>...</td>\n      <td>...</td>\n      <td>...</td>\n      <td>...</td>\n      <td>...</td>\n      <td>...</td>\n      <td>...</td>\n    </tr>\n    <tr>\n      <th>499</th>\n      <td>995</td>\n      <td>ML Bottom Bracket</td>\n      <td>BB-8107</td>\n      <td>True</td>\n      <td>True</td>\n      <td>None</td>\n      <td>500</td>\n      <td>375</td>\n      <td>44.9506</td>\n      <td>101.24</td>\n      <td>...</td>\n      <td>None</td>\n      <td>M</td>\n      <td>None</td>\n      <td>5.0</td>\n      <td>96.0</td>\n      <td>2013-05-30</td>\n      <td>NaT</td>\n      <td>None</td>\n      <td>71AB847F-D091-42D6-B735-7B0C2D82FC84</td>\n      <td>2014-02-08 10:01:36.827</td>\n    </tr>\n    <tr>\n      <th>500</th>\n      <td>996</td>\n      <td>HL Bottom Bracket</td>\n      <td>BB-9108</td>\n      <td>True</td>\n      <td>True</td>\n      <td>None</td>\n      <td>500</td>\n      <td>375</td>\n      <td>53.9416</td>\n      <td>121.49</td>\n      <td>...</td>\n      <td>None</td>\n      <td>H</td>\n      <td>None</td>\n      <td>5.0</td>\n      <td>97.0</td>\n      <td>2013-05-30</td>\n      <td>NaT</td>\n      <td>None</td>\n      <td>230C47C5-08B2-4CE3-B706-69C0BDD62965</td>\n      <td>2014-02-08 10:01:36.827</td>\n    </tr>\n    <tr>\n      <th>501</th>\n      <td>997</td>\n      <td>Road-750 Black, 44</td>\n      <td>BK-R19B-44</td>\n      <td>True</td>\n      <td>True</td>\n      <td>Black</td>\n      <td>100</td>\n      <td>75</td>\n      <td>343.6496</td>\n      <td>539.99</td>\n      <td>...</td>\n      <td>R</td>\n      <td>L</td>\n      <td>U</td>\n      <td>2.0</td>\n      <td>31.0</td>\n      <td>2013-05-30</td>\n      <td>NaT</td>\n      <td>None</td>\n      <td>44CE4802-409F-43AB-9B27-CA53421805BE</td>\n      <td>2014-02-08 10:01:36.827</td>\n    </tr>\n    <tr>\n      <th>502</th>\n      <td>998</td>\n      <td>Road-750 Black, 48</td>\n      <td>BK-R19B-48</td>\n      <td>True</td>\n      <td>True</td>\n      <td>Black</td>\n      <td>100</td>\n      <td>75</td>\n      <td>343.6496</td>\n      <td>539.99</td>\n      <td>...</td>\n      <td>R</td>\n      <td>L</td>\n      <td>U</td>\n      <td>2.0</td>\n      <td>31.0</td>\n      <td>2013-05-30</td>\n      <td>NaT</td>\n      <td>None</td>\n      <td>3DE9A212-1D49-40B6-B10A-F564D981DBDE</td>\n      <td>2014-02-08 10:01:36.827</td>\n    </tr>\n    <tr>\n      <th>503</th>\n      <td>999</td>\n      <td>Road-750 Black, 52</td>\n      <td>BK-R19B-52</td>\n      <td>True</td>\n      <td>True</td>\n      <td>Black</td>\n      <td>100</td>\n      <td>75</td>\n      <td>343.6496</td>\n      <td>539.99</td>\n      <td>...</td>\n      <td>R</td>\n      <td>L</td>\n      <td>U</td>\n      <td>2.0</td>\n      <td>31.0</td>\n      <td>2013-05-30</td>\n      <td>NaT</td>\n      <td>None</td>\n      <td>AE638923-2B67-4679-B90E-ABBAB17DCA31</td>\n      <td>2014-02-08 10:01:36.827</td>\n    </tr>\n  </tbody>\n</table>\n<p>504 rows × 25 columns</p>\n</div>"
     },
     "execution_count": 482,
     "metadata": {},
     "output_type": "execute_result"
    }
   ],
   "source": [
    "productionProduct"
   ],
   "metadata": {
    "collapsed": false,
    "ExecuteTime": {
     "end_time": "2023-05-27T20:05:07.553031300Z",
     "start_time": "2023-05-27T20:05:07.523902200Z"
    }
   }
  },
  {
   "cell_type": "code",
   "execution_count": 483,
   "outputs": [],
   "source": [
    "productJoin = pd.merge(productionProduct, productionProductSubcategoryData, on='ProductSubcategoryID', how='outer')"
   ],
   "metadata": {
    "collapsed": false,
    "ExecuteTime": {
     "end_time": "2023-05-27T20:05:07.568249800Z",
     "start_time": "2023-05-27T20:05:07.554160400Z"
    }
   }
  },
  {
   "cell_type": "code",
   "execution_count": 484,
   "outputs": [],
   "source": [
    "productJoin = pd.merge(productJoin, productionProductCategoryData, on='ProductCategoryID', how='outer')"
   ],
   "metadata": {
    "collapsed": false,
    "ExecuteTime": {
     "end_time": "2023-05-27T20:05:07.589998100Z",
     "start_time": "2023-05-27T20:05:07.570244700Z"
    }
   }
  },
  {
   "cell_type": "code",
   "execution_count": 485,
   "outputs": [
    {
     "data": {
      "text/plain": "     PRODUCT_id           PRODUCT_name PRODUCT_category PRODUCT_sub_category  \\\n0             1        Adjustable Race              NaN                  NaN   \n1             2           Bearing Ball              NaN                  NaN   \n2             3        BB Ball Bearing              NaN                  NaN   \n3             4  Headset Ball Bearings              NaN                  NaN   \n4           316                  Blade              NaN                  NaN   \n..          ...                    ...              ...                  ...   \n499         970  Touring-2000 Blue, 46            Bikes        Touring Bikes   \n500         971  Touring-2000 Blue, 50            Bikes        Touring Bikes   \n501         972  Touring-2000 Blue, 54            Bikes        Touring Bikes   \n502         978  Touring-3000 Blue, 44            Bikes        Touring Bikes   \n503         979  Touring-3000 Blue, 50            Bikes        Touring Bikes   \n\n    PRODUCT_colour  PRODUCT_prod_cost  \n0             None             0.0000  \n1             None             0.0000  \n2             None             0.0000  \n3             None             0.0000  \n4             None             0.0000  \n..             ...                ...  \n499           Blue           755.1508  \n500           Blue           755.1508  \n501           Blue           755.1508  \n502           Blue           461.4448  \n503           Blue           461.4448  \n\n[504 rows x 6 columns]",
      "text/html": "<div>\n<style scoped>\n    .dataframe tbody tr th:only-of-type {\n        vertical-align: middle;\n    }\n\n    .dataframe tbody tr th {\n        vertical-align: top;\n    }\n\n    .dataframe thead th {\n        text-align: right;\n    }\n</style>\n<table border=\"1\" class=\"dataframe\">\n  <thead>\n    <tr style=\"text-align: right;\">\n      <th></th>\n      <th>PRODUCT_id</th>\n      <th>PRODUCT_name</th>\n      <th>PRODUCT_category</th>\n      <th>PRODUCT_sub_category</th>\n      <th>PRODUCT_colour</th>\n      <th>PRODUCT_prod_cost</th>\n    </tr>\n  </thead>\n  <tbody>\n    <tr>\n      <th>0</th>\n      <td>1</td>\n      <td>Adjustable Race</td>\n      <td>NaN</td>\n      <td>NaN</td>\n      <td>None</td>\n      <td>0.0000</td>\n    </tr>\n    <tr>\n      <th>1</th>\n      <td>2</td>\n      <td>Bearing Ball</td>\n      <td>NaN</td>\n      <td>NaN</td>\n      <td>None</td>\n      <td>0.0000</td>\n    </tr>\n    <tr>\n      <th>2</th>\n      <td>3</td>\n      <td>BB Ball Bearing</td>\n      <td>NaN</td>\n      <td>NaN</td>\n      <td>None</td>\n      <td>0.0000</td>\n    </tr>\n    <tr>\n      <th>3</th>\n      <td>4</td>\n      <td>Headset Ball Bearings</td>\n      <td>NaN</td>\n      <td>NaN</td>\n      <td>None</td>\n      <td>0.0000</td>\n    </tr>\n    <tr>\n      <th>4</th>\n      <td>316</td>\n      <td>Blade</td>\n      <td>NaN</td>\n      <td>NaN</td>\n      <td>None</td>\n      <td>0.0000</td>\n    </tr>\n    <tr>\n      <th>...</th>\n      <td>...</td>\n      <td>...</td>\n      <td>...</td>\n      <td>...</td>\n      <td>...</td>\n      <td>...</td>\n    </tr>\n    <tr>\n      <th>499</th>\n      <td>970</td>\n      <td>Touring-2000 Blue, 46</td>\n      <td>Bikes</td>\n      <td>Touring Bikes</td>\n      <td>Blue</td>\n      <td>755.1508</td>\n    </tr>\n    <tr>\n      <th>500</th>\n      <td>971</td>\n      <td>Touring-2000 Blue, 50</td>\n      <td>Bikes</td>\n      <td>Touring Bikes</td>\n      <td>Blue</td>\n      <td>755.1508</td>\n    </tr>\n    <tr>\n      <th>501</th>\n      <td>972</td>\n      <td>Touring-2000 Blue, 54</td>\n      <td>Bikes</td>\n      <td>Touring Bikes</td>\n      <td>Blue</td>\n      <td>755.1508</td>\n    </tr>\n    <tr>\n      <th>502</th>\n      <td>978</td>\n      <td>Touring-3000 Blue, 44</td>\n      <td>Bikes</td>\n      <td>Touring Bikes</td>\n      <td>Blue</td>\n      <td>461.4448</td>\n    </tr>\n    <tr>\n      <th>503</th>\n      <td>979</td>\n      <td>Touring-3000 Blue, 50</td>\n      <td>Bikes</td>\n      <td>Touring Bikes</td>\n      <td>Blue</td>\n      <td>461.4448</td>\n    </tr>\n  </tbody>\n</table>\n<p>504 rows × 6 columns</p>\n</div>"
     },
     "execution_count": 485,
     "metadata": {},
     "output_type": "execute_result"
    }
   ],
   "source": [
    "selectColumns = ['ProductID', 'Name', 'CategoryName', 'SubCategoryName', 'Color', 'StandardCost']\n",
    "productData = productJoin[selectColumns]\n",
    "renameColumns = ['PRODUCT_id', 'PRODUCT_name', 'PRODUCT_category', 'PRODUCT_sub_category', 'PRODUCT_colour',\n",
    "                 'PRODUCT_prod_cost']\n",
    "productData.columns = renameColumns\n",
    "productData"
   ],
   "metadata": {
    "collapsed": false,
    "ExecuteTime": {
     "end_time": "2023-05-27T20:05:07.642879800Z",
     "start_time": "2023-05-27T20:05:07.587006700Z"
    }
   }
  },
  {
   "cell_type": "markdown",
   "source": [
    "# Customer"
   ],
   "metadata": {
    "collapsed": false
   }
  },
  {
   "cell_type": "code",
   "execution_count": 486,
   "outputs": [],
   "source": [
    "selectColumns = ['CustomerID', 'PersonID', 'StoreID']\n",
    "salesCustomerData = salesCustomer[selectColumns]"
   ],
   "metadata": {
    "collapsed": false,
    "ExecuteTime": {
     "end_time": "2023-05-27T20:05:07.684177100Z",
     "start_time": "2023-05-27T20:05:07.600119200Z"
    }
   }
  },
  {
   "cell_type": "code",
   "execution_count": 487,
   "outputs": [],
   "source": [
    "selectColumns = ['BusinessEntityID']\n",
    "personPersonData = personPerson[selectColumns]"
   ],
   "metadata": {
    "collapsed": false,
    "ExecuteTime": {
     "end_time": "2023-05-27T20:05:07.685195200Z",
     "start_time": "2023-05-27T20:05:07.620181800Z"
    }
   }
  },
  {
   "cell_type": "code",
   "execution_count": 488,
   "outputs": [],
   "source": [
    "selectColumns = ['AddressID', 'City', 'AddressLine1', 'StateProvinceID']\n",
    "personAddressData = personAddress[selectColumns]"
   ],
   "metadata": {
    "collapsed": false,
    "ExecuteTime": {
     "end_time": "2023-05-27T20:05:07.685195200Z",
     "start_time": "2023-05-27T20:05:07.634881800Z"
    }
   }
  },
  {
   "cell_type": "code",
   "execution_count": 489,
   "outputs": [],
   "source": [
    "selectColumns = ['StateProvinceID', 'Name', 'CountryRegionCode']\n",
    "personStateProvinceData = personStateProvince[selectColumns]\n",
    "renameColumns = ['StateProvinceID', 'StateName', 'CountryRegionCode']\n",
    "personStateProvinceData.columns = renameColumns"
   ],
   "metadata": {
    "collapsed": false,
    "ExecuteTime": {
     "end_time": "2023-05-27T20:05:07.685195200Z",
     "start_time": "2023-05-27T20:05:07.647997Z"
    }
   }
  },
  {
   "cell_type": "code",
   "execution_count": 490,
   "outputs": [],
   "source": [
    "selectColumns = ['CountryRegionCode', 'Name']\n",
    "personCountryRegionData = personCountryRegion[selectColumns]\n",
    "renameColumns = ['CountryRegionCode', 'CountryName']\n",
    "personCountryRegionData.columns = renameColumns"
   ],
   "metadata": {
    "collapsed": false,
    "ExecuteTime": {
     "end_time": "2023-05-27T20:05:07.705290Z",
     "start_time": "2023-05-27T20:05:07.664141200Z"
    }
   }
  },
  {
   "cell_type": "code",
   "execution_count": 491,
   "outputs": [],
   "source": [
    "selectColumns = ['BusinessEntityID', 'Name']\n",
    "salesStoreData = salesStore[selectColumns]\n",
    "renameColumns = ['BusinessEntityID', 'CompanyName']\n",
    "salesStoreData.columns = renameColumns"
   ],
   "metadata": {
    "collapsed": false,
    "ExecuteTime": {
     "end_time": "2023-05-27T20:05:07.752559Z",
     "start_time": "2023-05-27T20:05:07.681000400Z"
    }
   }
  },
  {
   "cell_type": "code",
   "execution_count": 492,
   "outputs": [],
   "source": [
    "customerJoinStore = pd.merge(salesCustomerData, salesStoreData, left_on='StoreID', right_on='BusinessEntityID')\n",
    "customerJoinStore = pd.merge(customerJoinStore, personBusinessEntity, on='BusinessEntityID')"
   ],
   "metadata": {
    "collapsed": false,
    "ExecuteTime": {
     "end_time": "2023-05-27T20:05:07.804175500Z",
     "start_time": "2023-05-27T20:05:07.696122Z"
    }
   }
  },
  {
   "cell_type": "code",
   "execution_count": 493,
   "outputs": [],
   "source": [
    "customerJoinPerson = pd.merge(salesCustomerData, personPersonData, left_on='PersonID', right_on='BusinessEntityID')\n",
    "customerJoinPerson = pd.merge(customerJoinPerson, personBusinessEntity, on='BusinessEntityID')"
   ],
   "metadata": {
    "collapsed": false,
    "ExecuteTime": {
     "end_time": "2023-05-27T20:05:07.804175500Z",
     "start_time": "2023-05-27T20:05:07.710249700Z"
    }
   }
  },
  {
   "cell_type": "code",
   "execution_count": 494,
   "outputs": [
    {
     "data": {
      "text/plain": "      CustomerID  PersonID  StoreID  BusinessEntityID  \\\n0          11000   13531.0      NaN             13531   \n1          11001    5454.0      NaN              5454   \n2          11002   11269.0      NaN             11269   \n3          11003   11358.0      NaN             11358   \n4          11004   11901.0      NaN             11901   \n...          ...       ...      ...               ...   \n1331       29729     841.0    842.0               842   \n1332         700       NaN   1030.0              1030   \n1333       29817    1029.0   1030.0              1030   \n1334         701       NaN    844.0               844   \n1335       29730     843.0    844.0               844   \n\n                                   rowguid            ModifiedDate  \\\n0     2BFAC0B9-6DC0-434A-974D-29CC1BD83091 2017-12-13 13:36:50.787   \n1     E40B919C-55F7-4F37-8C36-BBE4A1968E6D 2017-12-13 13:25:38.207   \n2     EC5955AA-3A17-47B8-8F07-83FBA03D0181 2017-12-13 13:33:40.583   \n3     952992A4-8769-4AAF-9FB3-050584DE7EBF 2017-12-13 13:33:48.083   \n4     24203C15-B3A6-45A6-93E1-73208BBC5B25 2017-12-13 13:34:32.037   \n...                                    ...                     ...   \n1331  06E75768-FF7C-4448-8B11-A2F96088352F 2017-12-13 13:21:19.490   \n1332  31935365-5167-4692-BBD0-6D8ED98DFF14 2017-12-13 13:21:25.303   \n1333  31935365-5167-4692-BBD0-6D8ED98DFF14 2017-12-13 13:21:25.303   \n1334  8E47C41A-E0E2-4A30-8388-88F8F523573E 2017-12-13 13:21:19.540   \n1335  8E47C41A-E0E2-4A30-8388-88F8F523573E 2017-12-13 13:21:19.540   \n\n                        CompanyName  \n0                               NaN  \n1                               NaN  \n2                               NaN  \n3                               NaN  \n4                               NaN  \n...                             ...  \n1331     Sensational Discount Store  \n1332  Underglaze and Finish Company  \n1333  Underglaze and Finish Company  \n1334                   Future Bikes  \n1335                   Future Bikes  \n\n[20455 rows x 7 columns]",
      "text/html": "<div>\n<style scoped>\n    .dataframe tbody tr th:only-of-type {\n        vertical-align: middle;\n    }\n\n    .dataframe tbody tr th {\n        vertical-align: top;\n    }\n\n    .dataframe thead th {\n        text-align: right;\n    }\n</style>\n<table border=\"1\" class=\"dataframe\">\n  <thead>\n    <tr style=\"text-align: right;\">\n      <th></th>\n      <th>CustomerID</th>\n      <th>PersonID</th>\n      <th>StoreID</th>\n      <th>BusinessEntityID</th>\n      <th>rowguid</th>\n      <th>ModifiedDate</th>\n      <th>CompanyName</th>\n    </tr>\n  </thead>\n  <tbody>\n    <tr>\n      <th>0</th>\n      <td>11000</td>\n      <td>13531.0</td>\n      <td>NaN</td>\n      <td>13531</td>\n      <td>2BFAC0B9-6DC0-434A-974D-29CC1BD83091</td>\n      <td>2017-12-13 13:36:50.787</td>\n      <td>NaN</td>\n    </tr>\n    <tr>\n      <th>1</th>\n      <td>11001</td>\n      <td>5454.0</td>\n      <td>NaN</td>\n      <td>5454</td>\n      <td>E40B919C-55F7-4F37-8C36-BBE4A1968E6D</td>\n      <td>2017-12-13 13:25:38.207</td>\n      <td>NaN</td>\n    </tr>\n    <tr>\n      <th>2</th>\n      <td>11002</td>\n      <td>11269.0</td>\n      <td>NaN</td>\n      <td>11269</td>\n      <td>EC5955AA-3A17-47B8-8F07-83FBA03D0181</td>\n      <td>2017-12-13 13:33:40.583</td>\n      <td>NaN</td>\n    </tr>\n    <tr>\n      <th>3</th>\n      <td>11003</td>\n      <td>11358.0</td>\n      <td>NaN</td>\n      <td>11358</td>\n      <td>952992A4-8769-4AAF-9FB3-050584DE7EBF</td>\n      <td>2017-12-13 13:33:48.083</td>\n      <td>NaN</td>\n    </tr>\n    <tr>\n      <th>4</th>\n      <td>11004</td>\n      <td>11901.0</td>\n      <td>NaN</td>\n      <td>11901</td>\n      <td>24203C15-B3A6-45A6-93E1-73208BBC5B25</td>\n      <td>2017-12-13 13:34:32.037</td>\n      <td>NaN</td>\n    </tr>\n    <tr>\n      <th>...</th>\n      <td>...</td>\n      <td>...</td>\n      <td>...</td>\n      <td>...</td>\n      <td>...</td>\n      <td>...</td>\n      <td>...</td>\n    </tr>\n    <tr>\n      <th>1331</th>\n      <td>29729</td>\n      <td>841.0</td>\n      <td>842.0</td>\n      <td>842</td>\n      <td>06E75768-FF7C-4448-8B11-A2F96088352F</td>\n      <td>2017-12-13 13:21:19.490</td>\n      <td>Sensational Discount Store</td>\n    </tr>\n    <tr>\n      <th>1332</th>\n      <td>700</td>\n      <td>NaN</td>\n      <td>1030.0</td>\n      <td>1030</td>\n      <td>31935365-5167-4692-BBD0-6D8ED98DFF14</td>\n      <td>2017-12-13 13:21:25.303</td>\n      <td>Underglaze and Finish Company</td>\n    </tr>\n    <tr>\n      <th>1333</th>\n      <td>29817</td>\n      <td>1029.0</td>\n      <td>1030.0</td>\n      <td>1030</td>\n      <td>31935365-5167-4692-BBD0-6D8ED98DFF14</td>\n      <td>2017-12-13 13:21:25.303</td>\n      <td>Underglaze and Finish Company</td>\n    </tr>\n    <tr>\n      <th>1334</th>\n      <td>701</td>\n      <td>NaN</td>\n      <td>844.0</td>\n      <td>844</td>\n      <td>8E47C41A-E0E2-4A30-8388-88F8F523573E</td>\n      <td>2017-12-13 13:21:19.540</td>\n      <td>Future Bikes</td>\n    </tr>\n    <tr>\n      <th>1335</th>\n      <td>29730</td>\n      <td>843.0</td>\n      <td>844.0</td>\n      <td>844</td>\n      <td>8E47C41A-E0E2-4A30-8388-88F8F523573E</td>\n      <td>2017-12-13 13:21:19.540</td>\n      <td>Future Bikes</td>\n    </tr>\n  </tbody>\n</table>\n<p>20455 rows × 7 columns</p>\n</div>"
     },
     "execution_count": 494,
     "metadata": {},
     "output_type": "execute_result"
    }
   ],
   "source": [
    "frames = [customerJoinPerson, customerJoinStore]\n",
    "customerJoin = pd.concat(frames)\n",
    "customerJoin"
   ],
   "metadata": {
    "collapsed": false,
    "ExecuteTime": {
     "end_time": "2023-05-27T20:05:07.805173100Z",
     "start_time": "2023-05-27T20:05:07.747369200Z"
    }
   }
  },
  {
   "cell_type": "code",
   "execution_count": 495,
   "outputs": [],
   "source": [
    "customerJoin = pd.merge(customerJoin, personBusinessEntity, on='BusinessEntityID')\n",
    "customerJoin = pd.merge(customerJoin, personBusinessEntityAddress, on='BusinessEntityID')"
   ],
   "metadata": {
    "collapsed": false,
    "ExecuteTime": {
     "end_time": "2023-05-27T20:05:07.806170900Z",
     "start_time": "2023-05-27T20:05:07.770689500Z"
    }
   }
  },
  {
   "cell_type": "code",
   "execution_count": 496,
   "outputs": [],
   "source": [
    "customerJoin = pd.merge(customerJoin, personAddressData, on='AddressID')\n",
    "customerJoin = pd.merge(customerJoin, personStateProvinceData, on='StateProvinceID')\n",
    "customerJoin = pd.merge(customerJoin, personCountryRegionData, on='CountryRegionCode')"
   ],
   "metadata": {
    "collapsed": false,
    "ExecuteTime": {
     "end_time": "2023-05-27T20:05:07.875714100Z",
     "start_time": "2023-05-27T20:05:07.801060800Z"
    }
   }
  },
  {
   "cell_type": "code",
   "execution_count": 497,
   "outputs": [],
   "source": [
    "selectColumns = ['CustomerID', 'AddressLine1', 'City', 'StateName', 'CountryName', 'CompanyName']\n",
    "customerData = customerJoin[selectColumns]"
   ],
   "metadata": {
    "collapsed": false,
    "ExecuteTime": {
     "end_time": "2023-05-27T20:05:07.921092Z",
     "start_time": "2023-05-27T20:05:07.847519100Z"
    }
   }
  },
  {
   "cell_type": "code",
   "execution_count": 498,
   "outputs": [
    {
     "data": {
      "text/plain": "       CUSTOMER_id                 CUSTOMER_address   CUSTOMER_city  \\\n0            11000                  3761 N. 14th St     Rockhampton   \n1            11005              7305 Humphrey Drive   East Brisbane   \n2            11009              3839 Northgate Road      Hervey Bay   \n3            11010              7800 Corrinne Court   East Brisbane   \n4            11011                     1224 Shoenic   East Brisbane   \n...            ...                              ...             ...   \n19861        27126  11, rue de l'Espace De Schengen      Saint Ouen   \n19862        27167           2, place de Brazaville      Saint Ouen   \n19863        28758        3139, chaussée de Tournai      Saint Ouen   \n19864        28888             8011, rue de Cambrai      Saint Ouen   \n19865          409           18, rue de l´Esplanade  Aujan Mournede   \n\n      CUSTOMER_state CUSTOMER_country CUSTOMER_company_name  \n0         Queensland        Australia                   NaN  \n1         Queensland        Australia                   NaN  \n2         Queensland        Australia                   NaN  \n3         Queensland        Australia                   NaN  \n4         Queensland        Australia                   NaN  \n...              ...              ...                   ...  \n19861          Somme           France                   NaN  \n19862          Somme           France                   NaN  \n19863          Somme           France                   NaN  \n19864          Somme           France                   NaN  \n19865           Gers           France     Outdoor Toy Store  \n\n[19866 rows x 6 columns]",
      "text/html": "<div>\n<style scoped>\n    .dataframe tbody tr th:only-of-type {\n        vertical-align: middle;\n    }\n\n    .dataframe tbody tr th {\n        vertical-align: top;\n    }\n\n    .dataframe thead th {\n        text-align: right;\n    }\n</style>\n<table border=\"1\" class=\"dataframe\">\n  <thead>\n    <tr style=\"text-align: right;\">\n      <th></th>\n      <th>CUSTOMER_id</th>\n      <th>CUSTOMER_address</th>\n      <th>CUSTOMER_city</th>\n      <th>CUSTOMER_state</th>\n      <th>CUSTOMER_country</th>\n      <th>CUSTOMER_company_name</th>\n    </tr>\n  </thead>\n  <tbody>\n    <tr>\n      <th>0</th>\n      <td>11000</td>\n      <td>3761 N. 14th St</td>\n      <td>Rockhampton</td>\n      <td>Queensland</td>\n      <td>Australia</td>\n      <td>NaN</td>\n    </tr>\n    <tr>\n      <th>1</th>\n      <td>11005</td>\n      <td>7305 Humphrey Drive</td>\n      <td>East Brisbane</td>\n      <td>Queensland</td>\n      <td>Australia</td>\n      <td>NaN</td>\n    </tr>\n    <tr>\n      <th>2</th>\n      <td>11009</td>\n      <td>3839 Northgate Road</td>\n      <td>Hervey Bay</td>\n      <td>Queensland</td>\n      <td>Australia</td>\n      <td>NaN</td>\n    </tr>\n    <tr>\n      <th>3</th>\n      <td>11010</td>\n      <td>7800 Corrinne Court</td>\n      <td>East Brisbane</td>\n      <td>Queensland</td>\n      <td>Australia</td>\n      <td>NaN</td>\n    </tr>\n    <tr>\n      <th>4</th>\n      <td>11011</td>\n      <td>1224 Shoenic</td>\n      <td>East Brisbane</td>\n      <td>Queensland</td>\n      <td>Australia</td>\n      <td>NaN</td>\n    </tr>\n    <tr>\n      <th>...</th>\n      <td>...</td>\n      <td>...</td>\n      <td>...</td>\n      <td>...</td>\n      <td>...</td>\n      <td>...</td>\n    </tr>\n    <tr>\n      <th>19861</th>\n      <td>27126</td>\n      <td>11, rue de l'Espace De Schengen</td>\n      <td>Saint Ouen</td>\n      <td>Somme</td>\n      <td>France</td>\n      <td>NaN</td>\n    </tr>\n    <tr>\n      <th>19862</th>\n      <td>27167</td>\n      <td>2, place de Brazaville</td>\n      <td>Saint Ouen</td>\n      <td>Somme</td>\n      <td>France</td>\n      <td>NaN</td>\n    </tr>\n    <tr>\n      <th>19863</th>\n      <td>28758</td>\n      <td>3139, chaussée de Tournai</td>\n      <td>Saint Ouen</td>\n      <td>Somme</td>\n      <td>France</td>\n      <td>NaN</td>\n    </tr>\n    <tr>\n      <th>19864</th>\n      <td>28888</td>\n      <td>8011, rue de Cambrai</td>\n      <td>Saint Ouen</td>\n      <td>Somme</td>\n      <td>France</td>\n      <td>NaN</td>\n    </tr>\n    <tr>\n      <th>19865</th>\n      <td>409</td>\n      <td>18, rue de l´Esplanade</td>\n      <td>Aujan Mournede</td>\n      <td>Gers</td>\n      <td>France</td>\n      <td>Outdoor Toy Store</td>\n    </tr>\n  </tbody>\n</table>\n<p>19866 rows × 6 columns</p>\n</div>"
     },
     "execution_count": 498,
     "metadata": {},
     "output_type": "execute_result"
    }
   ],
   "source": [
    "renameColumns = ['CUSTOMER_id', 'CUSTOMER_address', 'CUSTOMER_city', 'CUSTOMER_state', 'CUSTOMER_country', 'CUSTOMER_company_name']\n",
    "customerData.columns = renameColumns\n",
    "customerData"
   ],
   "metadata": {
    "collapsed": false,
    "ExecuteTime": {
     "end_time": "2023-05-27T20:05:07.921092Z",
     "start_time": "2023-05-27T20:05:07.875714100Z"
    }
   }
  },
  {
   "cell_type": "markdown",
   "source": [
    "# Employee"
   ],
   "metadata": {
    "collapsed": false
   }
  },
  {
   "cell_type": "code",
   "execution_count": 499,
   "outputs": [],
   "source": [
    "selectColumns = ['BusinessEntityID']\n",
    "salesSalesPersonData = salesSalesPerson[selectColumns]"
   ],
   "metadata": {
    "collapsed": false,
    "ExecuteTime": {
     "end_time": "2023-05-27T20:05:07.922069800Z",
     "start_time": "2023-05-27T20:05:07.880695600Z"
    }
   }
  },
  {
   "cell_type": "code",
   "execution_count": 500,
   "outputs": [],
   "source": [
    "selectColumns = ['BusinessEntityID', 'FirstName', 'LastName']\n",
    "personPersonData = personPerson[selectColumns]"
   ],
   "metadata": {
    "collapsed": false,
    "ExecuteTime": {
     "end_time": "2023-05-27T20:05:07.947316600Z",
     "start_time": "2023-05-27T20:05:07.895877300Z"
    }
   }
  },
  {
   "cell_type": "code",
   "execution_count": 501,
   "outputs": [],
   "source": [
    "selectColumns = ['AddressID', 'City', 'StateProvinceID']\n",
    "personAddressData = personAddress[selectColumns]"
   ],
   "metadata": {
    "collapsed": false,
    "ExecuteTime": {
     "end_time": "2023-05-27T20:05:07.947316600Z",
     "start_time": "2023-05-27T20:05:07.909964200Z"
    }
   }
  },
  {
   "cell_type": "code",
   "execution_count": 502,
   "outputs": [],
   "source": [
    "selectColumns = ['StateProvinceID', 'Name', 'CountryRegionCode']\n",
    "personStateProvinceData = personStateProvince[selectColumns]\n",
    "renameColumns = ['StateProvinceID', 'StateName', 'CountryRegionCode']\n",
    "personStateProvinceData.columns = renameColumns"
   ],
   "metadata": {
    "collapsed": false,
    "ExecuteTime": {
     "end_time": "2023-05-27T20:05:07.969485900Z",
     "start_time": "2023-05-27T20:05:07.926151900Z"
    }
   }
  },
  {
   "cell_type": "code",
   "execution_count": 503,
   "outputs": [],
   "source": [
    "selectColumns = ['CountryRegionCode', 'Name']\n",
    "personCountryRegionData = personCountryRegion[selectColumns]\n",
    "renameColumns = ['CountryRegionCode', 'CountryName']\n",
    "personCountryRegionData.columns = renameColumns"
   ],
   "metadata": {
    "collapsed": false,
    "ExecuteTime": {
     "end_time": "2023-05-27T20:05:08.001977800Z",
     "start_time": "2023-05-27T20:05:07.942193700Z"
    }
   }
  },
  {
   "cell_type": "code",
   "execution_count": 504,
   "outputs": [],
   "source": [
    "employeeJoin = pd.merge(salesSalesPersonData, personPersonData, on='BusinessEntityID')\n",
    "employeeJoin = pd.merge(employeeJoin, personBusinessEntity, on='BusinessEntityID')\n",
    "employeeJoin = pd.merge(employeeJoin, personBusinessEntityAddress, on='BusinessEntityID')\n",
    "employeeJoin = pd.merge(employeeJoin, personAddressData, on='AddressID')\n",
    "employeeJoin = pd.merge(employeeJoin, personStateProvinceData, on='StateProvinceID')\n",
    "employeeJoin = pd.merge(employeeJoin, personCountryRegionData, on='CountryRegionCode')"
   ],
   "metadata": {
    "collapsed": false,
    "ExecuteTime": {
     "end_time": "2023-05-27T20:05:08.063849500Z",
     "start_time": "2023-05-27T20:05:07.957395200Z"
    }
   }
  },
  {
   "cell_type": "code",
   "execution_count": 505,
   "outputs": [
    {
     "data": {
      "text/plain": "    EMPLOYEE_id EMPLOYEE_first_name EMPLOYEE_last_name  EMPLOYEE_city  \\\n0           274             Stephen              Jiang        Redmond   \n1           283               David           Campbell       Bellevue   \n2           285                Syed              Abbas        Bothell   \n3           287                 Amy            Alberts         Renton   \n4           275             Michael             Blythe        Detroit   \n5           276               Linda           Mitchell         Nevada   \n6           277             Jillian             Carson         Duluth   \n7           279                Tsvi             Reiter        Memphis   \n8           280              Pamela       Ansman-Wolfe       Portland   \n9           281                 Shu                Ito  San Francisco   \n10          284                Tete        Mensa-Annan      Cambridge   \n11          278             Garrett             Vargas        Calgary   \n12          282                José            Saraiva         Ottawa   \n13          286                Lynn           Tsoflias      Melbourne   \n14          288              Rachel             Valdez         Berlin   \n15          289                 Jae                Pak      Cambridge   \n16          290              Ranjit  Varkey Chudukatil       Bordeaux   \n\n   EMPLOYEE_state EMPLOYEE_country  \n0      Washington    United States  \n1      Washington    United States  \n2      Washington    United States  \n3      Washington    United States  \n4        Michigan    United States  \n5            Utah    United States  \n6       Minnesota    United States  \n7       Tennessee    United States  \n8          Oregon    United States  \n9      California    United States  \n10  Massachusetts    United States  \n11        Alberta           Canada  \n12        Ontario           Canada  \n13       Victoria        Australia  \n14        Hamburg          Germany  \n15        England   United Kingdom  \n16        Gironde           France  ",
      "text/html": "<div>\n<style scoped>\n    .dataframe tbody tr th:only-of-type {\n        vertical-align: middle;\n    }\n\n    .dataframe tbody tr th {\n        vertical-align: top;\n    }\n\n    .dataframe thead th {\n        text-align: right;\n    }\n</style>\n<table border=\"1\" class=\"dataframe\">\n  <thead>\n    <tr style=\"text-align: right;\">\n      <th></th>\n      <th>EMPLOYEE_id</th>\n      <th>EMPLOYEE_first_name</th>\n      <th>EMPLOYEE_last_name</th>\n      <th>EMPLOYEE_city</th>\n      <th>EMPLOYEE_state</th>\n      <th>EMPLOYEE_country</th>\n    </tr>\n  </thead>\n  <tbody>\n    <tr>\n      <th>0</th>\n      <td>274</td>\n      <td>Stephen</td>\n      <td>Jiang</td>\n      <td>Redmond</td>\n      <td>Washington</td>\n      <td>United States</td>\n    </tr>\n    <tr>\n      <th>1</th>\n      <td>283</td>\n      <td>David</td>\n      <td>Campbell</td>\n      <td>Bellevue</td>\n      <td>Washington</td>\n      <td>United States</td>\n    </tr>\n    <tr>\n      <th>2</th>\n      <td>285</td>\n      <td>Syed</td>\n      <td>Abbas</td>\n      <td>Bothell</td>\n      <td>Washington</td>\n      <td>United States</td>\n    </tr>\n    <tr>\n      <th>3</th>\n      <td>287</td>\n      <td>Amy</td>\n      <td>Alberts</td>\n      <td>Renton</td>\n      <td>Washington</td>\n      <td>United States</td>\n    </tr>\n    <tr>\n      <th>4</th>\n      <td>275</td>\n      <td>Michael</td>\n      <td>Blythe</td>\n      <td>Detroit</td>\n      <td>Michigan</td>\n      <td>United States</td>\n    </tr>\n    <tr>\n      <th>5</th>\n      <td>276</td>\n      <td>Linda</td>\n      <td>Mitchell</td>\n      <td>Nevada</td>\n      <td>Utah</td>\n      <td>United States</td>\n    </tr>\n    <tr>\n      <th>6</th>\n      <td>277</td>\n      <td>Jillian</td>\n      <td>Carson</td>\n      <td>Duluth</td>\n      <td>Minnesota</td>\n      <td>United States</td>\n    </tr>\n    <tr>\n      <th>7</th>\n      <td>279</td>\n      <td>Tsvi</td>\n      <td>Reiter</td>\n      <td>Memphis</td>\n      <td>Tennessee</td>\n      <td>United States</td>\n    </tr>\n    <tr>\n      <th>8</th>\n      <td>280</td>\n      <td>Pamela</td>\n      <td>Ansman-Wolfe</td>\n      <td>Portland</td>\n      <td>Oregon</td>\n      <td>United States</td>\n    </tr>\n    <tr>\n      <th>9</th>\n      <td>281</td>\n      <td>Shu</td>\n      <td>Ito</td>\n      <td>San Francisco</td>\n      <td>California</td>\n      <td>United States</td>\n    </tr>\n    <tr>\n      <th>10</th>\n      <td>284</td>\n      <td>Tete</td>\n      <td>Mensa-Annan</td>\n      <td>Cambridge</td>\n      <td>Massachusetts</td>\n      <td>United States</td>\n    </tr>\n    <tr>\n      <th>11</th>\n      <td>278</td>\n      <td>Garrett</td>\n      <td>Vargas</td>\n      <td>Calgary</td>\n      <td>Alberta</td>\n      <td>Canada</td>\n    </tr>\n    <tr>\n      <th>12</th>\n      <td>282</td>\n      <td>José</td>\n      <td>Saraiva</td>\n      <td>Ottawa</td>\n      <td>Ontario</td>\n      <td>Canada</td>\n    </tr>\n    <tr>\n      <th>13</th>\n      <td>286</td>\n      <td>Lynn</td>\n      <td>Tsoflias</td>\n      <td>Melbourne</td>\n      <td>Victoria</td>\n      <td>Australia</td>\n    </tr>\n    <tr>\n      <th>14</th>\n      <td>288</td>\n      <td>Rachel</td>\n      <td>Valdez</td>\n      <td>Berlin</td>\n      <td>Hamburg</td>\n      <td>Germany</td>\n    </tr>\n    <tr>\n      <th>15</th>\n      <td>289</td>\n      <td>Jae</td>\n      <td>Pak</td>\n      <td>Cambridge</td>\n      <td>England</td>\n      <td>United Kingdom</td>\n    </tr>\n    <tr>\n      <th>16</th>\n      <td>290</td>\n      <td>Ranjit</td>\n      <td>Varkey Chudukatil</td>\n      <td>Bordeaux</td>\n      <td>Gironde</td>\n      <td>France</td>\n    </tr>\n  </tbody>\n</table>\n</div>"
     },
     "execution_count": 505,
     "metadata": {},
     "output_type": "execute_result"
    }
   ],
   "source": [
    "selectColumns = ['BusinessEntityID', 'FirstName', 'LastName', 'City', 'StateName', 'CountryName']\n",
    "employeeData = employeeJoin[selectColumns]\n",
    "renameColumns = ['EMPLOYEE_id', 'EMPLOYEE_first_name', 'EMPLOYEE_last_name', 'EMPLOYEE_city', 'EMPLOYEE_state',\n",
    "                 'EMPLOYEE_country']\n",
    "employeeData.columns = renameColumns\n",
    "employeeData"
   ],
   "metadata": {
    "collapsed": false,
    "ExecuteTime": {
     "end_time": "2023-05-27T20:05:08.094145Z",
     "start_time": "2023-05-27T20:05:07.989837600Z"
    }
   }
  },
  {
   "cell_type": "markdown",
   "source": [
    "# Day"
   ],
   "metadata": {
    "collapsed": false
   }
  },
  {
   "cell_type": "code",
   "execution_count": 506,
   "outputs": [],
   "source": [
    "newFrames = Utils.splitFrames(salesSalesOrderHeader, 'OrderDate', [])\n",
    "salesSalesOrderHeader = newFrames[0]\n",
    "dateData = newFrames[1]"
   ],
   "metadata": {
    "collapsed": false,
    "ExecuteTime": {
     "end_time": "2023-05-27T20:05:08.095142500Z",
     "start_time": "2023-05-27T20:05:08.006081Z"
    }
   }
  },
  {
   "cell_type": "code",
   "execution_count": 507,
   "outputs": [
    {
     "data": {
      "text/plain": "       DAY_date DAY_MONTH_nr DAY_QUARTER_nr DAY_YEAR_nr\n0    2011-05-31            5              2        2011\n1    2011-06-01            6              2        2011\n2    2011-06-02            6              2        2011\n3    2011-06-03            6              2        2011\n4    2011-06-04            6              2        2011\n...         ...          ...            ...         ...\n1119 2014-06-26            6              2        2014\n1120 2014-06-27            6              2        2014\n1121 2014-06-28            6              2        2014\n1122 2014-06-29            6              2        2014\n1123 2014-06-30            6              2        2014\n\n[1124 rows x 4 columns]",
      "text/html": "<div>\n<style scoped>\n    .dataframe tbody tr th:only-of-type {\n        vertical-align: middle;\n    }\n\n    .dataframe tbody tr th {\n        vertical-align: top;\n    }\n\n    .dataframe thead th {\n        text-align: right;\n    }\n</style>\n<table border=\"1\" class=\"dataframe\">\n  <thead>\n    <tr style=\"text-align: right;\">\n      <th></th>\n      <th>DAY_date</th>\n      <th>DAY_MONTH_nr</th>\n      <th>DAY_QUARTER_nr</th>\n      <th>DAY_YEAR_nr</th>\n    </tr>\n  </thead>\n  <tbody>\n    <tr>\n      <th>0</th>\n      <td>2011-05-31</td>\n      <td>5</td>\n      <td>2</td>\n      <td>2011</td>\n    </tr>\n    <tr>\n      <th>1</th>\n      <td>2011-06-01</td>\n      <td>6</td>\n      <td>2</td>\n      <td>2011</td>\n    </tr>\n    <tr>\n      <th>2</th>\n      <td>2011-06-02</td>\n      <td>6</td>\n      <td>2</td>\n      <td>2011</td>\n    </tr>\n    <tr>\n      <th>3</th>\n      <td>2011-06-03</td>\n      <td>6</td>\n      <td>2</td>\n      <td>2011</td>\n    </tr>\n    <tr>\n      <th>4</th>\n      <td>2011-06-04</td>\n      <td>6</td>\n      <td>2</td>\n      <td>2011</td>\n    </tr>\n    <tr>\n      <th>...</th>\n      <td>...</td>\n      <td>...</td>\n      <td>...</td>\n      <td>...</td>\n    </tr>\n    <tr>\n      <th>1119</th>\n      <td>2014-06-26</td>\n      <td>6</td>\n      <td>2</td>\n      <td>2014</td>\n    </tr>\n    <tr>\n      <th>1120</th>\n      <td>2014-06-27</td>\n      <td>6</td>\n      <td>2</td>\n      <td>2014</td>\n    </tr>\n    <tr>\n      <th>1121</th>\n      <td>2014-06-28</td>\n      <td>6</td>\n      <td>2</td>\n      <td>2014</td>\n    </tr>\n    <tr>\n      <th>1122</th>\n      <td>2014-06-29</td>\n      <td>6</td>\n      <td>2</td>\n      <td>2014</td>\n    </tr>\n    <tr>\n      <th>1123</th>\n      <td>2014-06-30</td>\n      <td>6</td>\n      <td>2</td>\n      <td>2014</td>\n    </tr>\n  </tbody>\n</table>\n<p>1124 rows × 4 columns</p>\n</div>"
     },
     "execution_count": 507,
     "metadata": {},
     "output_type": "execute_result"
    }
   ],
   "source": [
    "dateFormat = '%Y-%m-%d'\n",
    "DAY_date = Utils.getDayDate(dateData, 'OrderDate', dateFormat)\n",
    "DAY_date"
   ],
   "metadata": {
    "collapsed": false,
    "ExecuteTime": {
     "end_time": "2023-05-27T20:05:09.025498800Z",
     "start_time": "2023-05-27T20:05:08.078942900Z"
    }
   }
  },
  {
   "cell_type": "markdown",
   "source": [
    "# Order Details"
   ],
   "metadata": {
    "collapsed": false
   }
  },
  {
   "cell_type": "code",
   "execution_count": 508,
   "outputs": [],
   "source": [
    "orderDetailsJoin = pd.merge(salesSalesOrderDetail, salesSalesOrderHeader, on='SalesOrderID')"
   ],
   "metadata": {
    "collapsed": false,
    "ExecuteTime": {
     "end_time": "2023-05-27T20:05:09.121661700Z",
     "start_time": "2023-05-27T20:05:09.028471900Z"
    }
   }
  },
  {
   "cell_type": "code",
   "execution_count": 509,
   "outputs": [],
   "source": [
    "selectColumns = ['SalesOrderDetailID', 'OrderQty', 'UnitPrice', 'OrderDate','SalesPersonID', 'CustomerID' ,'ProductID']\n",
    "orderDetailsData = orderDetailsJoin[selectColumns]"
   ],
   "metadata": {
    "collapsed": false,
    "ExecuteTime": {
     "end_time": "2023-05-27T20:05:09.194297100Z",
     "start_time": "2023-05-27T20:05:09.121661700Z"
    }
   }
  },
  {
   "cell_type": "code",
   "execution_count": 510,
   "outputs": [],
   "source": [
    "renameColumns = ['ORDER_DETAIL_NUMBER', 'ORDER_DETAIL_order_quantity', 'ORDER_DETAIL_unit_price', 'DAY_date', 'EMPLOYEE_id','CUSTOMER_id', 'PRODUCT_id']\n",
    "orderDetailsData.columns = renameColumns"
   ],
   "metadata": {
    "collapsed": false,
    "ExecuteTime": {
     "end_time": "2023-05-27T20:05:09.210256400Z",
     "start_time": "2023-05-27T20:05:09.182707200Z"
    }
   }
  }
 ],
 "metadata": {
  "kernelspec": {
   "display_name": "Python 3",
   "language": "python",
   "name": "python3"
  },
  "language_info": {
   "codemirror_mode": {
    "name": "ipython",
    "version": 2
   },
   "file_extension": ".py",
   "mimetype": "text/x-python",
   "name": "python",
   "nbconvert_exporter": "python",
   "pygments_lexer": "ipython2",
   "version": "2.7.6"
  }
 },
 "nbformat": 4,
 "nbformat_minor": 0
}
