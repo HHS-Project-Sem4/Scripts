{
 "cells": [
  {
   "cell_type": "code",
   "execution_count": null,
   "metadata": {
    "collapsed": true
   },
   "outputs": [],
   "source": [
    "from Services.DataService import BrightSpaceData as brightSpaceData\n",
    "from Repositories.AENCRepository import Repository as aencRepository\n",
    "from Repositories.NorthwindRepository import Repository as northwindRepository\n",
    "from Repositories.AdventureWorksRepository import Repository as adventureWorksRepository\n",
    "from Repositories.SalesRepository import Repository as salesRepository\n",
    "import Tools.utils as utils"
   ]
  },
  {
   "cell_type": "code",
   "execution_count": null,
   "outputs": [],
   "source": [
    "server = 'outdoorfusionserver.database.windows.net'\n",
    "username = 'floep'\n",
    "password = 'ploep123!'\n",
    "driver = '{ODBC Driver 17 for SQL Server}'\n",
    "dataService = brightSpaceData(server, username, password, driver)"
   ],
   "metadata": {
    "collapsed": false
   }
  },
  {
   "cell_type": "code",
   "execution_count": null,
   "outputs": [],
   "source": [
    "northwind = 'Northwind'\n",
    "AENC = 'AENC'\n",
    "adventureWorks = 'AdventureWorks'\n",
    "sales = 'Sales_db'"
   ],
   "metadata": {
    "collapsed": false
   }
  },
  {
   "cell_type": "code",
   "execution_count": null,
   "outputs": [],
   "source": [
    "northwindStar = dataService.getData(northwindRepository, northwind)\n",
    "aencStar = dataService.getData(aencRepository, AENC)\n",
    "adventureWorksStar = dataService.getData(adventureWorksRepository, adventureWorks)\n",
    "salesStar = dataService.getData(salesRepository, sales)"
   ],
   "metadata": {
    "collapsed": false
   }
  },
  {
   "cell_type": "code",
   "execution_count": null,
   "outputs": [],
   "source": [
    "newData = utils.mergeFrame(adventureWorksStar, northwindStar)"
   ],
   "metadata": {
    "collapsed": false
   }
  },
  {
   "cell_type": "code",
   "execution_count": null,
   "outputs": [],
   "source": [
    "newData['product_df']"
   ],
   "metadata": {
    "collapsed": false
   }
  },
  {
   "cell_type": "code",
   "execution_count": null,
   "outputs": [],
   "source": [
    "newData = utils.mergeFrame(newData, aencStar)"
   ],
   "metadata": {
    "collapsed": false
   }
  },
  {
   "cell_type": "code",
   "execution_count": null,
   "outputs": [],
   "source": [
    "newData['product_df']"
   ],
   "metadata": {
    "collapsed": false
   }
  },
  {
   "cell_type": "code",
   "execution_count": null,
   "outputs": [],
   "source": [
    "newData = utils.mergeFrame(newData, salesStar)"
   ],
   "metadata": {
    "collapsed": false
   }
  },
  {
   "cell_type": "code",
   "execution_count": null,
   "outputs": [],
   "source": [
    "newData['product_df']"
   ],
   "metadata": {
    "collapsed": false
   }
  }
 ],
 "metadata": {
  "kernelspec": {
   "display_name": "Python 3",
   "language": "python",
   "name": "python3"
  },
  "language_info": {
   "codemirror_mode": {
    "name": "ipython",
    "version": 2
   },
   "file_extension": ".py",
   "mimetype": "text/x-python",
   "name": "python",
   "nbconvert_exporter": "python",
   "pygments_lexer": "ipython2",
   "version": "2.7.6"
  }
 },
 "nbformat": 4,
 "nbformat_minor": 0
}
