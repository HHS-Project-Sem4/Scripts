{
 "cells": [
  {
   "cell_type": "code",
   "execution_count": 38,
   "metadata": {
    "collapsed": true,
    "ExecuteTime": {
     "end_time": "2023-05-26T05:02:35.737828Z",
     "start_time": "2023-05-26T05:02:35.708802Z"
    }
   },
   "outputs": [],
   "source": [
    "import pandas as pd\n",
    "import pyodbc\n",
    "import Utils"
   ]
  },
  {
   "cell_type": "code",
   "execution_count": 47,
   "outputs": [],
   "source": [
    "salesConnection = pyodbc.connect(\"Driver={SQL Server};\"\n",
    "                                \"Server=DESKTOP-8INVJ1O\\SQLEXPRESS;\"\n",
    "                                \"Database=Sales_db;\"\n",
    "                                \"trusted_connection=yes\")"
   ],
   "metadata": {
    "collapsed": false,
    "ExecuteTime": {
     "end_time": "2023-05-26T05:03:16.507615Z",
     "start_time": "2023-05-26T05:03:16.491878700Z"
    }
   }
  },
  {
   "cell_type": "code",
   "execution_count": 52,
   "outputs": [
    {
     "name": "stderr",
     "output_type": "stream",
     "text": [
      "C:\\Users\\Max\\AppData\\Local\\Temp\\ipykernel_41680\\3051299410.py:2: UserWarning: pandas only supports SQLAlchemy connectable (engine/connection) or database string URI or sqlite3 DBAPI2 connection. Other DBAPI2 objects are not tested. Please consider using SQLAlchemy.\n",
      "  sales = pd.read_sql(\"SELECT * FROM Sales\", salesConnection)\n"
     ]
    }
   ],
   "source": [
    "# Try to separate the large ass table?\n",
    "sales = pd.read_sql(\"SELECT * FROM Sales\", salesConnection)"
   ],
   "metadata": {
    "collapsed": false,
    "ExecuteTime": {
     "end_time": "2023-05-26T05:04:09.400041500Z",
     "start_time": "2023-05-26T05:04:08.227873800Z"
    }
   }
  },
  {
   "cell_type": "code",
   "execution_count": 41,
   "outputs": [],
   "source": [
    "# add id"
   ],
   "metadata": {
    "collapsed": false,
    "ExecuteTime": {
     "end_time": "2023-05-26T05:02:36.884317100Z",
     "start_time": "2023-05-26T05:02:36.876024200Z"
    }
   }
  },
  {
   "cell_type": "code",
   "execution_count": 42,
   "outputs": [
    {
     "data": {
      "text/plain": "              Date  Day     Month  Year  Customer_Age       Age_Group  \\\n0       2013-11-26   26  November  2013            19     Youth (<25)   \n1       2015-11-26   26  November  2015            19     Youth (<25)   \n2       2014-03-23   23     March  2014            49  Adults (35-64)   \n3       2016-03-23   23     March  2016            49  Adults (35-64)   \n4       2014-05-15   15       May  2014            47  Adults (35-64)   \n...            ...  ...       ...   ...           ...             ...   \n113031  2016-04-12   12     April  2016            41  Adults (35-64)   \n113032  2014-04-02    2     April  2014            18     Youth (<25)   \n113033  2016-04-02    2     April  2016            18     Youth (<25)   \n113034  2014-03-04    4     March  2014            37  Adults (35-64)   \n113035  2016-03-04    4     March  2016            37  Adults (35-64)   \n\n       Customer_Gender         Country             State Product_Category  \\\n0                    M          Canada  British Columbia      Accessories   \n1                    M          Canada  British Columbia      Accessories   \n2                    M       Australia   New South Wales      Accessories   \n3                    M       Australia   New South Wales      Accessories   \n4                    F       Australia   New South Wales      Accessories   \n...                ...             ...               ...              ...   \n113031               M  United Kingdom           England         Clothing   \n113032               M       Australia        Queensland         Clothing   \n113033               M       Australia        Queensland         Clothing   \n113034               F          France     Seine (Paris)         Clothing   \n113035               F          France     Seine (Paris)         Clothing   \n\n       Sub_Category              Product  Order_Quantity  Unit_Cost  \\\n0        Bike Racks  Hitch Rack - 4-Bike               8       45.0   \n1        Bike Racks  Hitch Rack - 4-Bike               8       45.0   \n2        Bike Racks  Hitch Rack - 4-Bike              23       45.0   \n3        Bike Racks  Hitch Rack - 4-Bike              20       45.0   \n4        Bike Racks  Hitch Rack - 4-Bike               4       45.0   \n...             ...                  ...             ...        ...   \n113031        Vests      Classic Vest, S               3       24.0   \n113032        Vests      Classic Vest, M              22       24.0   \n113033        Vests      Classic Vest, M              22       24.0   \n113034        Vests      Classic Vest, L              24       24.0   \n113035        Vests      Classic Vest, L              23       24.0   \n\n        Unit_Price  Profit    Cost  Revenue  \n0            120.0   590.0   360.0    950.0  \n1            120.0   590.0   360.0    950.0  \n2            120.0  1366.0  1035.0   2401.0  \n3            120.0  1188.0   900.0   2088.0  \n4            120.0   238.0   180.0    418.0  \n...            ...     ...     ...      ...  \n113031        64.0   112.0    72.0    184.0  \n113032        64.0   655.0   528.0   1183.0  \n113033        64.0   655.0   528.0   1183.0  \n113034        64.0   684.0   576.0   1260.0  \n113035        64.0   655.0   552.0   1207.0  \n\n[113036 rows x 18 columns]",
      "text/html": "<div>\n<style scoped>\n    .dataframe tbody tr th:only-of-type {\n        vertical-align: middle;\n    }\n\n    .dataframe tbody tr th {\n        vertical-align: top;\n    }\n\n    .dataframe thead th {\n        text-align: right;\n    }\n</style>\n<table border=\"1\" class=\"dataframe\">\n  <thead>\n    <tr style=\"text-align: right;\">\n      <th></th>\n      <th>Date</th>\n      <th>Day</th>\n      <th>Month</th>\n      <th>Year</th>\n      <th>Customer_Age</th>\n      <th>Age_Group</th>\n      <th>Customer_Gender</th>\n      <th>Country</th>\n      <th>State</th>\n      <th>Product_Category</th>\n      <th>Sub_Category</th>\n      <th>Product</th>\n      <th>Order_Quantity</th>\n      <th>Unit_Cost</th>\n      <th>Unit_Price</th>\n      <th>Profit</th>\n      <th>Cost</th>\n      <th>Revenue</th>\n    </tr>\n  </thead>\n  <tbody>\n    <tr>\n      <th>0</th>\n      <td>2013-11-26</td>\n      <td>26</td>\n      <td>November</td>\n      <td>2013</td>\n      <td>19</td>\n      <td>Youth (&lt;25)</td>\n      <td>M</td>\n      <td>Canada</td>\n      <td>British Columbia</td>\n      <td>Accessories</td>\n      <td>Bike Racks</td>\n      <td>Hitch Rack - 4-Bike</td>\n      <td>8</td>\n      <td>45.0</td>\n      <td>120.0</td>\n      <td>590.0</td>\n      <td>360.0</td>\n      <td>950.0</td>\n    </tr>\n    <tr>\n      <th>1</th>\n      <td>2015-11-26</td>\n      <td>26</td>\n      <td>November</td>\n      <td>2015</td>\n      <td>19</td>\n      <td>Youth (&lt;25)</td>\n      <td>M</td>\n      <td>Canada</td>\n      <td>British Columbia</td>\n      <td>Accessories</td>\n      <td>Bike Racks</td>\n      <td>Hitch Rack - 4-Bike</td>\n      <td>8</td>\n      <td>45.0</td>\n      <td>120.0</td>\n      <td>590.0</td>\n      <td>360.0</td>\n      <td>950.0</td>\n    </tr>\n    <tr>\n      <th>2</th>\n      <td>2014-03-23</td>\n      <td>23</td>\n      <td>March</td>\n      <td>2014</td>\n      <td>49</td>\n      <td>Adults (35-64)</td>\n      <td>M</td>\n      <td>Australia</td>\n      <td>New South Wales</td>\n      <td>Accessories</td>\n      <td>Bike Racks</td>\n      <td>Hitch Rack - 4-Bike</td>\n      <td>23</td>\n      <td>45.0</td>\n      <td>120.0</td>\n      <td>1366.0</td>\n      <td>1035.0</td>\n      <td>2401.0</td>\n    </tr>\n    <tr>\n      <th>3</th>\n      <td>2016-03-23</td>\n      <td>23</td>\n      <td>March</td>\n      <td>2016</td>\n      <td>49</td>\n      <td>Adults (35-64)</td>\n      <td>M</td>\n      <td>Australia</td>\n      <td>New South Wales</td>\n      <td>Accessories</td>\n      <td>Bike Racks</td>\n      <td>Hitch Rack - 4-Bike</td>\n      <td>20</td>\n      <td>45.0</td>\n      <td>120.0</td>\n      <td>1188.0</td>\n      <td>900.0</td>\n      <td>2088.0</td>\n    </tr>\n    <tr>\n      <th>4</th>\n      <td>2014-05-15</td>\n      <td>15</td>\n      <td>May</td>\n      <td>2014</td>\n      <td>47</td>\n      <td>Adults (35-64)</td>\n      <td>F</td>\n      <td>Australia</td>\n      <td>New South Wales</td>\n      <td>Accessories</td>\n      <td>Bike Racks</td>\n      <td>Hitch Rack - 4-Bike</td>\n      <td>4</td>\n      <td>45.0</td>\n      <td>120.0</td>\n      <td>238.0</td>\n      <td>180.0</td>\n      <td>418.0</td>\n    </tr>\n    <tr>\n      <th>...</th>\n      <td>...</td>\n      <td>...</td>\n      <td>...</td>\n      <td>...</td>\n      <td>...</td>\n      <td>...</td>\n      <td>...</td>\n      <td>...</td>\n      <td>...</td>\n      <td>...</td>\n      <td>...</td>\n      <td>...</td>\n      <td>...</td>\n      <td>...</td>\n      <td>...</td>\n      <td>...</td>\n      <td>...</td>\n      <td>...</td>\n    </tr>\n    <tr>\n      <th>113031</th>\n      <td>2016-04-12</td>\n      <td>12</td>\n      <td>April</td>\n      <td>2016</td>\n      <td>41</td>\n      <td>Adults (35-64)</td>\n      <td>M</td>\n      <td>United Kingdom</td>\n      <td>England</td>\n      <td>Clothing</td>\n      <td>Vests</td>\n      <td>Classic Vest, S</td>\n      <td>3</td>\n      <td>24.0</td>\n      <td>64.0</td>\n      <td>112.0</td>\n      <td>72.0</td>\n      <td>184.0</td>\n    </tr>\n    <tr>\n      <th>113032</th>\n      <td>2014-04-02</td>\n      <td>2</td>\n      <td>April</td>\n      <td>2014</td>\n      <td>18</td>\n      <td>Youth (&lt;25)</td>\n      <td>M</td>\n      <td>Australia</td>\n      <td>Queensland</td>\n      <td>Clothing</td>\n      <td>Vests</td>\n      <td>Classic Vest, M</td>\n      <td>22</td>\n      <td>24.0</td>\n      <td>64.0</td>\n      <td>655.0</td>\n      <td>528.0</td>\n      <td>1183.0</td>\n    </tr>\n    <tr>\n      <th>113033</th>\n      <td>2016-04-02</td>\n      <td>2</td>\n      <td>April</td>\n      <td>2016</td>\n      <td>18</td>\n      <td>Youth (&lt;25)</td>\n      <td>M</td>\n      <td>Australia</td>\n      <td>Queensland</td>\n      <td>Clothing</td>\n      <td>Vests</td>\n      <td>Classic Vest, M</td>\n      <td>22</td>\n      <td>24.0</td>\n      <td>64.0</td>\n      <td>655.0</td>\n      <td>528.0</td>\n      <td>1183.0</td>\n    </tr>\n    <tr>\n      <th>113034</th>\n      <td>2014-03-04</td>\n      <td>4</td>\n      <td>March</td>\n      <td>2014</td>\n      <td>37</td>\n      <td>Adults (35-64)</td>\n      <td>F</td>\n      <td>France</td>\n      <td>Seine (Paris)</td>\n      <td>Clothing</td>\n      <td>Vests</td>\n      <td>Classic Vest, L</td>\n      <td>24</td>\n      <td>24.0</td>\n      <td>64.0</td>\n      <td>684.0</td>\n      <td>576.0</td>\n      <td>1260.0</td>\n    </tr>\n    <tr>\n      <th>113035</th>\n      <td>2016-03-04</td>\n      <td>4</td>\n      <td>March</td>\n      <td>2016</td>\n      <td>37</td>\n      <td>Adults (35-64)</td>\n      <td>F</td>\n      <td>France</td>\n      <td>Seine (Paris)</td>\n      <td>Clothing</td>\n      <td>Vests</td>\n      <td>Classic Vest, L</td>\n      <td>23</td>\n      <td>24.0</td>\n      <td>64.0</td>\n      <td>655.0</td>\n      <td>552.0</td>\n      <td>1207.0</td>\n    </tr>\n  </tbody>\n</table>\n<p>113036 rows × 18 columns</p>\n</div>"
     },
     "execution_count": 42,
     "metadata": {},
     "output_type": "execute_result"
    }
   ],
   "source": [
    "sales"
   ],
   "metadata": {
    "collapsed": false,
    "ExecuteTime": {
     "end_time": "2023-05-26T05:02:36.916073400Z",
     "start_time": "2023-05-26T05:02:36.888284400Z"
    }
   }
  },
  {
   "cell_type": "markdown",
   "source": [
    "# Product"
   ],
   "metadata": {
    "collapsed": false
   }
  },
  {
   "cell_type": "code",
   "execution_count": 53,
   "outputs": [],
   "source": [
    "sales = Utils.addIds(sales, 'Product', 'prod_id')"
   ],
   "metadata": {
    "collapsed": false,
    "ExecuteTime": {
     "end_time": "2023-05-26T05:04:10.310809900Z",
     "start_time": "2023-05-26T05:04:09.400041500Z"
    }
   }
  },
  {
   "cell_type": "code",
   "execution_count": 54,
   "outputs": [],
   "source": [
    "columns = ['Product_Category', 'Sub_Category', 'Unit_Cost']\n",
    "newFrames = Utils.splitFrames(sales, 'Product', 'prod_id', columns)\n",
    "\n",
    "sales = newFrames[0]\n",
    "product = newFrames[1]"
   ],
   "metadata": {
    "collapsed": false,
    "ExecuteTime": {
     "end_time": "2023-05-26T05:04:11.522730500Z",
     "start_time": "2023-05-26T05:04:11.406897Z"
    }
   }
  },
  {
   "cell_type": "code",
   "execution_count": 55,
   "outputs": [
    {
     "data": {
      "text/plain": "       Product_Category       Sub_Category  Unit_Cost  prod_id  \\\n0           Accessories         Bike Racks       45.0      0.0   \n596         Accessories        Bike Stands       59.0      1.0   \n1048        Accessories  Bottles and Cages        4.0      2.0   \n1056        Accessories  Bottles and Cages        2.0      3.0   \n1074        Accessories  Bottles and Cages        3.0      4.0   \n...                 ...                ...        ...      ...   \n108780            Bikes      Touring Bikes      755.0    125.0   \n108864            Bikes      Touring Bikes      755.0    126.0   \n112074         Clothing              Vests       24.0    127.0   \n112080         Clothing              Vests       24.0    128.0   \n112090         Clothing              Vests       24.0    129.0   \n\n                       Product  \n0          Hitch Rack - 4-Bike  \n596     All-Purpose Bike Stand  \n1048      Mountain Bottle Cage  \n1056     Water Bottle - 30 oz.  \n1074          Road Bottle Cage  \n...                        ...  \n108780   Touring-2000 Blue, 50  \n108864   Touring-2000 Blue, 60  \n112074         Classic Vest, L  \n112080         Classic Vest, M  \n112090         Classic Vest, S  \n\n[130 rows x 5 columns]",
      "text/html": "<div>\n<style scoped>\n    .dataframe tbody tr th:only-of-type {\n        vertical-align: middle;\n    }\n\n    .dataframe tbody tr th {\n        vertical-align: top;\n    }\n\n    .dataframe thead th {\n        text-align: right;\n    }\n</style>\n<table border=\"1\" class=\"dataframe\">\n  <thead>\n    <tr style=\"text-align: right;\">\n      <th></th>\n      <th>Product_Category</th>\n      <th>Sub_Category</th>\n      <th>Unit_Cost</th>\n      <th>prod_id</th>\n      <th>Product</th>\n    </tr>\n  </thead>\n  <tbody>\n    <tr>\n      <th>0</th>\n      <td>Accessories</td>\n      <td>Bike Racks</td>\n      <td>45.0</td>\n      <td>0.0</td>\n      <td>Hitch Rack - 4-Bike</td>\n    </tr>\n    <tr>\n      <th>596</th>\n      <td>Accessories</td>\n      <td>Bike Stands</td>\n      <td>59.0</td>\n      <td>1.0</td>\n      <td>All-Purpose Bike Stand</td>\n    </tr>\n    <tr>\n      <th>1048</th>\n      <td>Accessories</td>\n      <td>Bottles and Cages</td>\n      <td>4.0</td>\n      <td>2.0</td>\n      <td>Mountain Bottle Cage</td>\n    </tr>\n    <tr>\n      <th>1056</th>\n      <td>Accessories</td>\n      <td>Bottles and Cages</td>\n      <td>2.0</td>\n      <td>3.0</td>\n      <td>Water Bottle - 30 oz.</td>\n    </tr>\n    <tr>\n      <th>1074</th>\n      <td>Accessories</td>\n      <td>Bottles and Cages</td>\n      <td>3.0</td>\n      <td>4.0</td>\n      <td>Road Bottle Cage</td>\n    </tr>\n    <tr>\n      <th>...</th>\n      <td>...</td>\n      <td>...</td>\n      <td>...</td>\n      <td>...</td>\n      <td>...</td>\n    </tr>\n    <tr>\n      <th>108780</th>\n      <td>Bikes</td>\n      <td>Touring Bikes</td>\n      <td>755.0</td>\n      <td>125.0</td>\n      <td>Touring-2000 Blue, 50</td>\n    </tr>\n    <tr>\n      <th>108864</th>\n      <td>Bikes</td>\n      <td>Touring Bikes</td>\n      <td>755.0</td>\n      <td>126.0</td>\n      <td>Touring-2000 Blue, 60</td>\n    </tr>\n    <tr>\n      <th>112074</th>\n      <td>Clothing</td>\n      <td>Vests</td>\n      <td>24.0</td>\n      <td>127.0</td>\n      <td>Classic Vest, L</td>\n    </tr>\n    <tr>\n      <th>112080</th>\n      <td>Clothing</td>\n      <td>Vests</td>\n      <td>24.0</td>\n      <td>128.0</td>\n      <td>Classic Vest, M</td>\n    </tr>\n    <tr>\n      <th>112090</th>\n      <td>Clothing</td>\n      <td>Vests</td>\n      <td>24.0</td>\n      <td>129.0</td>\n      <td>Classic Vest, S</td>\n    </tr>\n  </tbody>\n</table>\n<p>130 rows × 5 columns</p>\n</div>"
     },
     "execution_count": 55,
     "metadata": {},
     "output_type": "execute_result"
    }
   ],
   "source": [
    "product"
   ],
   "metadata": {
    "collapsed": false,
    "ExecuteTime": {
     "end_time": "2023-05-26T05:04:12.859807600Z",
     "start_time": "2023-05-26T05:04:12.844152Z"
    }
   }
  },
  {
   "cell_type": "code",
   "execution_count": 57,
   "outputs": [
    {
     "data": {
      "text/plain": "       PRODUCT_category PRODUCT_sub_category  PRODUCT_prod_cost  PRODUCT_id  \\\n0           Accessories           Bike Racks               45.0         0.0   \n596         Accessories          Bike Stands               59.0         1.0   \n1048        Accessories    Bottles and Cages                4.0         2.0   \n1056        Accessories    Bottles and Cages                2.0         3.0   \n1074        Accessories    Bottles and Cages                3.0         4.0   \n...                 ...                  ...                ...         ...   \n108780            Bikes        Touring Bikes              755.0       125.0   \n108864            Bikes        Touring Bikes              755.0       126.0   \n112074         Clothing                Vests               24.0       127.0   \n112080         Clothing                Vests               24.0       128.0   \n112090         Clothing                Vests               24.0       129.0   \n\n                  PRODUCT_name  \n0          Hitch Rack - 4-Bike  \n596     All-Purpose Bike Stand  \n1048      Mountain Bottle Cage  \n1056     Water Bottle - 30 oz.  \n1074          Road Bottle Cage  \n...                        ...  \n108780   Touring-2000 Blue, 50  \n108864   Touring-2000 Blue, 60  \n112074         Classic Vest, L  \n112080         Classic Vest, M  \n112090         Classic Vest, S  \n\n[130 rows x 5 columns]",
      "text/html": "<div>\n<style scoped>\n    .dataframe tbody tr th:only-of-type {\n        vertical-align: middle;\n    }\n\n    .dataframe tbody tr th {\n        vertical-align: top;\n    }\n\n    .dataframe thead th {\n        text-align: right;\n    }\n</style>\n<table border=\"1\" class=\"dataframe\">\n  <thead>\n    <tr style=\"text-align: right;\">\n      <th></th>\n      <th>PRODUCT_category</th>\n      <th>PRODUCT_sub_category</th>\n      <th>PRODUCT_prod_cost</th>\n      <th>PRODUCT_id</th>\n      <th>PRODUCT_name</th>\n    </tr>\n  </thead>\n  <tbody>\n    <tr>\n      <th>0</th>\n      <td>Accessories</td>\n      <td>Bike Racks</td>\n      <td>45.0</td>\n      <td>0.0</td>\n      <td>Hitch Rack - 4-Bike</td>\n    </tr>\n    <tr>\n      <th>596</th>\n      <td>Accessories</td>\n      <td>Bike Stands</td>\n      <td>59.0</td>\n      <td>1.0</td>\n      <td>All-Purpose Bike Stand</td>\n    </tr>\n    <tr>\n      <th>1048</th>\n      <td>Accessories</td>\n      <td>Bottles and Cages</td>\n      <td>4.0</td>\n      <td>2.0</td>\n      <td>Mountain Bottle Cage</td>\n    </tr>\n    <tr>\n      <th>1056</th>\n      <td>Accessories</td>\n      <td>Bottles and Cages</td>\n      <td>2.0</td>\n      <td>3.0</td>\n      <td>Water Bottle - 30 oz.</td>\n    </tr>\n    <tr>\n      <th>1074</th>\n      <td>Accessories</td>\n      <td>Bottles and Cages</td>\n      <td>3.0</td>\n      <td>4.0</td>\n      <td>Road Bottle Cage</td>\n    </tr>\n    <tr>\n      <th>...</th>\n      <td>...</td>\n      <td>...</td>\n      <td>...</td>\n      <td>...</td>\n      <td>...</td>\n    </tr>\n    <tr>\n      <th>108780</th>\n      <td>Bikes</td>\n      <td>Touring Bikes</td>\n      <td>755.0</td>\n      <td>125.0</td>\n      <td>Touring-2000 Blue, 50</td>\n    </tr>\n    <tr>\n      <th>108864</th>\n      <td>Bikes</td>\n      <td>Touring Bikes</td>\n      <td>755.0</td>\n      <td>126.0</td>\n      <td>Touring-2000 Blue, 60</td>\n    </tr>\n    <tr>\n      <th>112074</th>\n      <td>Clothing</td>\n      <td>Vests</td>\n      <td>24.0</td>\n      <td>127.0</td>\n      <td>Classic Vest, L</td>\n    </tr>\n    <tr>\n      <th>112080</th>\n      <td>Clothing</td>\n      <td>Vests</td>\n      <td>24.0</td>\n      <td>128.0</td>\n      <td>Classic Vest, M</td>\n    </tr>\n    <tr>\n      <th>112090</th>\n      <td>Clothing</td>\n      <td>Vests</td>\n      <td>24.0</td>\n      <td>129.0</td>\n      <td>Classic Vest, S</td>\n    </tr>\n  </tbody>\n</table>\n<p>130 rows × 5 columns</p>\n</div>"
     },
     "execution_count": 57,
     "metadata": {},
     "output_type": "execute_result"
    }
   ],
   "source": [
    "newColumnNames = ['PRODUCT_category', 'PRODUCT_sub_category','PRODUCT_prod_cost' ,'PRODUCT_id', 'PRODUCT_name']\n",
    "product.columns = newColumnNames\n",
    "product"
   ],
   "metadata": {
    "collapsed": false,
    "ExecuteTime": {
     "end_time": "2023-05-26T05:04:42.182913Z",
     "start_time": "2023-05-26T05:04:42.120826200Z"
    }
   }
  },
  {
   "cell_type": "markdown",
   "source": [
    "# Customer"
   ],
   "metadata": {
    "collapsed": false
   }
  },
  {
   "cell_type": "code",
   "execution_count": null,
   "outputs": [],
   "source": [
    "selectedColumn = ['Country', 'State']\n",
    "customer = sales[selectedColumn]\n",
    "newColumnNames = ['CUSTOMER_country', 'CUSTOMER_state']\n",
    "customer.columns = newColumnNames"
   ],
   "metadata": {
    "collapsed": false,
    "ExecuteTime": {
     "start_time": "2023-05-26T05:02:37.917033200Z"
    }
   }
  },
  {
   "cell_type": "markdown",
   "source": [
    "# Day"
   ],
   "metadata": {
    "collapsed": false
   }
  },
  {
   "cell_type": "code",
   "execution_count": null,
   "outputs": [],
   "source": [
    "dateFormat = '%Y-%m-%d'\n",
    "DAY_date = Utils.getDayDate(sales, 'Date', dateFormat)\n",
    "DAY_date"
   ],
   "metadata": {
    "collapsed": false,
    "ExecuteTime": {
     "start_time": "2023-05-26T05:02:37.917033200Z"
    }
   }
  },
  {
   "cell_type": "markdown",
   "source": [
    "# Order Detail"
   ],
   "metadata": {
    "collapsed": false
   }
  },
  {
   "cell_type": "code",
   "execution_count": null,
   "outputs": [],
   "source": [
    "selectedColumn = []\n",
    "\n",
    "newColumnNames = []"
   ],
   "metadata": {
    "collapsed": false,
    "ExecuteTime": {
     "start_time": "2023-05-26T05:02:37.921042600Z"
    }
   }
  }
 ],
 "metadata": {
  "kernelspec": {
   "display_name": "Python 3",
   "language": "python",
   "name": "python3"
  },
  "language_info": {
   "codemirror_mode": {
    "name": "ipython",
    "version": 2
   },
   "file_extension": ".py",
   "mimetype": "text/x-python",
   "name": "python",
   "nbconvert_exporter": "python",
   "pygments_lexer": "ipython2",
   "version": "2.7.6"
  }
 },
 "nbformat": 4,
 "nbformat_minor": 0
}
