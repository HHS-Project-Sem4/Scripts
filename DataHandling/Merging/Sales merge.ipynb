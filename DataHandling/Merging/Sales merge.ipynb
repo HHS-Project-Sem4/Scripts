{
 "cells": [
  {
   "cell_type": "code",
   "execution_count": 39,
   "metadata": {
    "collapsed": true,
    "ExecuteTime": {
     "end_time": "2023-05-26T18:03:30.127445100Z",
     "start_time": "2023-05-26T18:03:30.085226300Z"
    }
   },
   "outputs": [],
   "source": [
    "import pandas as pd\n",
    "import pyodbc\n",
    "import Utils"
   ]
  },
  {
   "cell_type": "code",
   "execution_count": 40,
   "outputs": [],
   "source": [
    "salesConnection = pyodbc.connect(\"Driver={SQL Server};\"\n",
    "                                \"Server=DESKTOP-8INVJ1O\\SQLEXPRESS;\"\n",
    "                                \"Database=Sales_db;\"\n",
    "                                \"trusted_connection=yes\")"
   ],
   "metadata": {
    "collapsed": false,
    "ExecuteTime": {
     "end_time": "2023-05-26T18:03:30.183822800Z",
     "start_time": "2023-05-26T18:03:30.095265400Z"
    }
   }
  },
  {
   "cell_type": "code",
   "execution_count": 41,
   "outputs": [
    {
     "name": "stderr",
     "output_type": "stream",
     "text": [
      "C:\\Users\\Max\\AppData\\Local\\Temp\\ipykernel_15800\\1864275861.py:1: UserWarning: pandas only supports SQLAlchemy connectable (engine/connection) or database string URI or sqlite3 DBAPI2 connection. Other DBAPI2 objects are not tested. Please consider using SQLAlchemy.\n",
      "  sales = pd.read_sql(\"SELECT * FROM Sales\", salesConnection)\n"
     ]
    }
   ],
   "source": [
    "sales = pd.read_sql(\"SELECT * FROM Sales\", salesConnection)"
   ],
   "metadata": {
    "collapsed": false,
    "ExecuteTime": {
     "end_time": "2023-05-26T18:03:31.773129Z",
     "start_time": "2023-05-26T18:03:30.112413400Z"
    }
   }
  },
  {
   "cell_type": "markdown",
   "source": [
    "# Product"
   ],
   "metadata": {
    "collapsed": false
   }
  },
  {
   "cell_type": "code",
   "execution_count": 42,
   "outputs": [],
   "source": [
    "sales = Utils.addGuidsUnique(sales, 'Product', 'prod_id')"
   ],
   "metadata": {
    "collapsed": false,
    "ExecuteTime": {
     "end_time": "2023-05-26T18:03:32.758367100Z",
     "start_time": "2023-05-26T18:03:31.776100700Z"
    }
   }
  },
  {
   "cell_type": "code",
   "execution_count": 43,
   "outputs": [],
   "source": [
    "columns = ['Product', 'Product_Category', 'Sub_Category', 'Unit_Cost']\n",
    "newFrames = Utils.splitFrames(sales, 'prod_id', columns)\n",
    "sales = newFrames[0]\n",
    "product = newFrames[1]"
   ],
   "metadata": {
    "collapsed": false,
    "ExecuteTime": {
     "end_time": "2023-05-26T18:03:32.873979900Z",
     "start_time": "2023-05-26T18:03:32.762378Z"
    }
   }
  },
  {
   "cell_type": "code",
   "execution_count": 44,
   "outputs": [
    {
     "data": {
      "text/plain": "              PRODUCT_category PRODUCT_sub_category  PRODUCT_prod_cost  \\\n0          Hitch Rack - 4-Bike          Accessories         Bike Racks   \n596     All-Purpose Bike Stand          Accessories        Bike Stands   \n1048      Mountain Bottle Cage          Accessories  Bottles and Cages   \n1056     Water Bottle - 30 oz.          Accessories  Bottles and Cages   \n1074          Road Bottle Cage          Accessories  Bottles and Cages   \n...                        ...                  ...                ...   \n108780   Touring-2000 Blue, 50                Bikes      Touring Bikes   \n108864   Touring-2000 Blue, 60                Bikes      Touring Bikes   \n112074         Classic Vest, L             Clothing              Vests   \n112080         Classic Vest, M             Clothing              Vests   \n112090         Classic Vest, S             Clothing              Vests   \n\n        PRODUCT_id  PRODUCT_name  \n0             45.0           0.0  \n596           59.0           1.0  \n1048           4.0           2.0  \n1056           2.0           3.0  \n1074           3.0           4.0  \n...            ...           ...  \n108780       755.0         125.0  \n108864       755.0         126.0  \n112074        24.0         127.0  \n112080        24.0         128.0  \n112090        24.0         129.0  \n\n[130 rows x 5 columns]",
      "text/html": "<div>\n<style scoped>\n    .dataframe tbody tr th:only-of-type {\n        vertical-align: middle;\n    }\n\n    .dataframe tbody tr th {\n        vertical-align: top;\n    }\n\n    .dataframe thead th {\n        text-align: right;\n    }\n</style>\n<table border=\"1\" class=\"dataframe\">\n  <thead>\n    <tr style=\"text-align: right;\">\n      <th></th>\n      <th>PRODUCT_category</th>\n      <th>PRODUCT_sub_category</th>\n      <th>PRODUCT_prod_cost</th>\n      <th>PRODUCT_id</th>\n      <th>PRODUCT_name</th>\n    </tr>\n  </thead>\n  <tbody>\n    <tr>\n      <th>0</th>\n      <td>Hitch Rack - 4-Bike</td>\n      <td>Accessories</td>\n      <td>Bike Racks</td>\n      <td>45.0</td>\n      <td>0.0</td>\n    </tr>\n    <tr>\n      <th>596</th>\n      <td>All-Purpose Bike Stand</td>\n      <td>Accessories</td>\n      <td>Bike Stands</td>\n      <td>59.0</td>\n      <td>1.0</td>\n    </tr>\n    <tr>\n      <th>1048</th>\n      <td>Mountain Bottle Cage</td>\n      <td>Accessories</td>\n      <td>Bottles and Cages</td>\n      <td>4.0</td>\n      <td>2.0</td>\n    </tr>\n    <tr>\n      <th>1056</th>\n      <td>Water Bottle - 30 oz.</td>\n      <td>Accessories</td>\n      <td>Bottles and Cages</td>\n      <td>2.0</td>\n      <td>3.0</td>\n    </tr>\n    <tr>\n      <th>1074</th>\n      <td>Road Bottle Cage</td>\n      <td>Accessories</td>\n      <td>Bottles and Cages</td>\n      <td>3.0</td>\n      <td>4.0</td>\n    </tr>\n    <tr>\n      <th>...</th>\n      <td>...</td>\n      <td>...</td>\n      <td>...</td>\n      <td>...</td>\n      <td>...</td>\n    </tr>\n    <tr>\n      <th>108780</th>\n      <td>Touring-2000 Blue, 50</td>\n      <td>Bikes</td>\n      <td>Touring Bikes</td>\n      <td>755.0</td>\n      <td>125.0</td>\n    </tr>\n    <tr>\n      <th>108864</th>\n      <td>Touring-2000 Blue, 60</td>\n      <td>Bikes</td>\n      <td>Touring Bikes</td>\n      <td>755.0</td>\n      <td>126.0</td>\n    </tr>\n    <tr>\n      <th>112074</th>\n      <td>Classic Vest, L</td>\n      <td>Clothing</td>\n      <td>Vests</td>\n      <td>24.0</td>\n      <td>127.0</td>\n    </tr>\n    <tr>\n      <th>112080</th>\n      <td>Classic Vest, M</td>\n      <td>Clothing</td>\n      <td>Vests</td>\n      <td>24.0</td>\n      <td>128.0</td>\n    </tr>\n    <tr>\n      <th>112090</th>\n      <td>Classic Vest, S</td>\n      <td>Clothing</td>\n      <td>Vests</td>\n      <td>24.0</td>\n      <td>129.0</td>\n    </tr>\n  </tbody>\n</table>\n<p>130 rows × 5 columns</p>\n</div>"
     },
     "execution_count": 44,
     "metadata": {},
     "output_type": "execute_result"
    }
   ],
   "source": [
    "newColumnNames = ['PRODUCT_category', 'PRODUCT_sub_category','PRODUCT_prod_cost' ,'PRODUCT_id', 'PRODUCT_name']\n",
    "product.columns = newColumnNames\n",
    "product"
   ],
   "metadata": {
    "collapsed": false,
    "ExecuteTime": {
     "end_time": "2023-05-26T18:03:32.921612500Z",
     "start_time": "2023-05-26T18:03:32.876932Z"
    }
   }
  },
  {
   "cell_type": "markdown",
   "source": [
    "# Customer"
   ],
   "metadata": {
    "collapsed": false
   }
  },
  {
   "cell_type": "code",
   "execution_count": 45,
   "outputs": [],
   "source": [
    "sales = Utils.addGuids(sales, 'CUSTOMER_id')"
   ],
   "metadata": {
    "collapsed": false,
    "ExecuteTime": {
     "end_time": "2023-05-26T18:03:33.294638200Z",
     "start_time": "2023-05-26T18:03:32.913422700Z"
    }
   }
  },
  {
   "cell_type": "code",
   "execution_count": 46,
   "outputs": [],
   "source": [
    "newFrames = Utils.splitFrames(sales, 'CUSTOMER_id', ['Country', 'State'])\n",
    "sales = newFrames[0]\n",
    "customerData = newFrames[1]"
   ],
   "metadata": {
    "collapsed": false,
    "ExecuteTime": {
     "end_time": "2023-05-26T18:03:33.441711700Z",
     "start_time": "2023-05-26T18:03:33.297630300Z"
    }
   }
  },
  {
   "cell_type": "code",
   "execution_count": 47,
   "outputs": [],
   "source": [
    "selectedColumn = ['CUSTOMER_id', 'Country', 'State']\n",
    "customerData = customerData[selectedColumn]\n",
    "newColumnNames = ['CUSTOMER_id','CUSTOMER_country', 'CUSTOMER_state']\n",
    "customerData.columns = newColumnNames"
   ],
   "metadata": {
    "collapsed": false,
    "ExecuteTime": {
     "end_time": "2023-05-26T18:03:33.447694900Z",
     "start_time": "2023-05-26T18:03:33.433558100Z"
    }
   }
  },
  {
   "cell_type": "markdown",
   "source": [
    "# Day"
   ],
   "metadata": {
    "collapsed": false
   }
  },
  {
   "cell_type": "code",
   "execution_count": 48,
   "outputs": [],
   "source": [
    "newFrames = Utils.splitFrames(sales, 'Date', [])\n",
    "sales = newFrames[0]\n",
    "dateData = newFrames[1]"
   ],
   "metadata": {
    "collapsed": false,
    "ExecuteTime": {
     "end_time": "2023-05-26T18:03:33.525366900Z",
     "start_time": "2023-05-26T18:03:33.449828Z"
    }
   }
  },
  {
   "cell_type": "code",
   "execution_count": 49,
   "outputs": [
    {
     "data": {
      "text/plain": "       DAY_date DAY_MONTH_nr DAY_QUARTER_nr DAY_YEAR_nr\n0    2013-11-26           11              4        2013\n1    2015-11-26           11              4        2015\n2    2014-03-23            3              1        2014\n3    2016-03-23            3              1        2016\n4    2014-05-15            5              2        2014\n...         ...          ...            ...         ...\n1879 2011-10-27           10              4        2011\n1880 2013-01-06            1              1        2013\n1881 2015-01-06            1              1        2015\n1882 2012-02-20            2              1        2012\n1883 2011-02-20            2              1        2011\n\n[1884 rows x 4 columns]",
      "text/html": "<div>\n<style scoped>\n    .dataframe tbody tr th:only-of-type {\n        vertical-align: middle;\n    }\n\n    .dataframe tbody tr th {\n        vertical-align: top;\n    }\n\n    .dataframe thead th {\n        text-align: right;\n    }\n</style>\n<table border=\"1\" class=\"dataframe\">\n  <thead>\n    <tr style=\"text-align: right;\">\n      <th></th>\n      <th>DAY_date</th>\n      <th>DAY_MONTH_nr</th>\n      <th>DAY_QUARTER_nr</th>\n      <th>DAY_YEAR_nr</th>\n    </tr>\n  </thead>\n  <tbody>\n    <tr>\n      <th>0</th>\n      <td>2013-11-26</td>\n      <td>11</td>\n      <td>4</td>\n      <td>2013</td>\n    </tr>\n    <tr>\n      <th>1</th>\n      <td>2015-11-26</td>\n      <td>11</td>\n      <td>4</td>\n      <td>2015</td>\n    </tr>\n    <tr>\n      <th>2</th>\n      <td>2014-03-23</td>\n      <td>3</td>\n      <td>1</td>\n      <td>2014</td>\n    </tr>\n    <tr>\n      <th>3</th>\n      <td>2016-03-23</td>\n      <td>3</td>\n      <td>1</td>\n      <td>2016</td>\n    </tr>\n    <tr>\n      <th>4</th>\n      <td>2014-05-15</td>\n      <td>5</td>\n      <td>2</td>\n      <td>2014</td>\n    </tr>\n    <tr>\n      <th>...</th>\n      <td>...</td>\n      <td>...</td>\n      <td>...</td>\n      <td>...</td>\n    </tr>\n    <tr>\n      <th>1879</th>\n      <td>2011-10-27</td>\n      <td>10</td>\n      <td>4</td>\n      <td>2011</td>\n    </tr>\n    <tr>\n      <th>1880</th>\n      <td>2013-01-06</td>\n      <td>1</td>\n      <td>1</td>\n      <td>2013</td>\n    </tr>\n    <tr>\n      <th>1881</th>\n      <td>2015-01-06</td>\n      <td>1</td>\n      <td>1</td>\n      <td>2015</td>\n    </tr>\n    <tr>\n      <th>1882</th>\n      <td>2012-02-20</td>\n      <td>2</td>\n      <td>1</td>\n      <td>2012</td>\n    </tr>\n    <tr>\n      <th>1883</th>\n      <td>2011-02-20</td>\n      <td>2</td>\n      <td>1</td>\n      <td>2011</td>\n    </tr>\n  </tbody>\n</table>\n<p>1884 rows × 4 columns</p>\n</div>"
     },
     "execution_count": 49,
     "metadata": {},
     "output_type": "execute_result"
    }
   ],
   "source": [
    "dateFormat = '%Y-%m-%d'\n",
    "DAY_date = Utils.getDayDate(dateData, 'Date', dateFormat)\n",
    "DAY_date"
   ],
   "metadata": {
    "collapsed": false,
    "ExecuteTime": {
     "end_time": "2023-05-26T18:03:35.001023200Z",
     "start_time": "2023-05-26T18:03:33.539579400Z"
    }
   }
  },
  {
   "cell_type": "markdown",
   "source": [
    "# Order Detail"
   ],
   "metadata": {
    "collapsed": false
   }
  },
  {
   "cell_type": "code",
   "execution_count": 50,
   "outputs": [
    {
     "ename": "KeyError",
     "evalue": "\"['DAY_date'] not in index\"",
     "output_type": "error",
     "traceback": [
      "\u001B[1;31m---------------------------------------------------------------------------\u001B[0m",
      "\u001B[1;31mKeyError\u001B[0m                                  Traceback (most recent call last)",
      "Cell \u001B[1;32mIn[50], line 2\u001B[0m\n\u001B[0;32m      1\u001B[0m selectedColumn \u001B[38;5;241m=\u001B[39m [\u001B[38;5;124m'\u001B[39m\u001B[38;5;124mOrder_Quantity\u001B[39m\u001B[38;5;124m'\u001B[39m,\u001B[38;5;124m'\u001B[39m\u001B[38;5;124mUnit_Price\u001B[39m\u001B[38;5;124m'\u001B[39m, \u001B[38;5;124m'\u001B[39m\u001B[38;5;124mDAY_date\u001B[39m\u001B[38;5;124m'\u001B[39m, \u001B[38;5;124m'\u001B[39m\u001B[38;5;124mCUSTOMER_id\u001B[39m\u001B[38;5;124m'\u001B[39m ,\u001B[38;5;124m'\u001B[39m\u001B[38;5;124mprod_id\u001B[39m\u001B[38;5;124m'\u001B[39m]\n\u001B[1;32m----> 2\u001B[0m salesOrderDetail \u001B[38;5;241m=\u001B[39m \u001B[43msales\u001B[49m\u001B[43m[\u001B[49m\u001B[43mselectedColumn\u001B[49m\u001B[43m]\u001B[49m\n\u001B[0;32m      3\u001B[0m salesOrderDetail\n",
      "File \u001B[1;32m~\\anaconda3\\lib\\site-packages\\pandas\\core\\frame.py:3813\u001B[0m, in \u001B[0;36mDataFrame.__getitem__\u001B[1;34m(self, key)\u001B[0m\n\u001B[0;32m   3811\u001B[0m     \u001B[38;5;28;01mif\u001B[39;00m is_iterator(key):\n\u001B[0;32m   3812\u001B[0m         key \u001B[38;5;241m=\u001B[39m \u001B[38;5;28mlist\u001B[39m(key)\n\u001B[1;32m-> 3813\u001B[0m     indexer \u001B[38;5;241m=\u001B[39m \u001B[38;5;28;43mself\u001B[39;49m\u001B[38;5;241;43m.\u001B[39;49m\u001B[43mcolumns\u001B[49m\u001B[38;5;241;43m.\u001B[39;49m\u001B[43m_get_indexer_strict\u001B[49m\u001B[43m(\u001B[49m\u001B[43mkey\u001B[49m\u001B[43m,\u001B[49m\u001B[43m \u001B[49m\u001B[38;5;124;43m\"\u001B[39;49m\u001B[38;5;124;43mcolumns\u001B[39;49m\u001B[38;5;124;43m\"\u001B[39;49m\u001B[43m)\u001B[49m[\u001B[38;5;241m1\u001B[39m]\n\u001B[0;32m   3815\u001B[0m \u001B[38;5;66;03m# take() does not accept boolean indexers\u001B[39;00m\n\u001B[0;32m   3816\u001B[0m \u001B[38;5;28;01mif\u001B[39;00m \u001B[38;5;28mgetattr\u001B[39m(indexer, \u001B[38;5;124m\"\u001B[39m\u001B[38;5;124mdtype\u001B[39m\u001B[38;5;124m\"\u001B[39m, \u001B[38;5;28;01mNone\u001B[39;00m) \u001B[38;5;241m==\u001B[39m \u001B[38;5;28mbool\u001B[39m:\n",
      "File \u001B[1;32m~\\anaconda3\\lib\\site-packages\\pandas\\core\\indexes\\base.py:6070\u001B[0m, in \u001B[0;36mIndex._get_indexer_strict\u001B[1;34m(self, key, axis_name)\u001B[0m\n\u001B[0;32m   6067\u001B[0m \u001B[38;5;28;01melse\u001B[39;00m:\n\u001B[0;32m   6068\u001B[0m     keyarr, indexer, new_indexer \u001B[38;5;241m=\u001B[39m \u001B[38;5;28mself\u001B[39m\u001B[38;5;241m.\u001B[39m_reindex_non_unique(keyarr)\n\u001B[1;32m-> 6070\u001B[0m \u001B[38;5;28;43mself\u001B[39;49m\u001B[38;5;241;43m.\u001B[39;49m\u001B[43m_raise_if_missing\u001B[49m\u001B[43m(\u001B[49m\u001B[43mkeyarr\u001B[49m\u001B[43m,\u001B[49m\u001B[43m \u001B[49m\u001B[43mindexer\u001B[49m\u001B[43m,\u001B[49m\u001B[43m \u001B[49m\u001B[43maxis_name\u001B[49m\u001B[43m)\u001B[49m\n\u001B[0;32m   6072\u001B[0m keyarr \u001B[38;5;241m=\u001B[39m \u001B[38;5;28mself\u001B[39m\u001B[38;5;241m.\u001B[39mtake(indexer)\n\u001B[0;32m   6073\u001B[0m \u001B[38;5;28;01mif\u001B[39;00m \u001B[38;5;28misinstance\u001B[39m(key, Index):\n\u001B[0;32m   6074\u001B[0m     \u001B[38;5;66;03m# GH 42790 - Preserve name from an Index\u001B[39;00m\n",
      "File \u001B[1;32m~\\anaconda3\\lib\\site-packages\\pandas\\core\\indexes\\base.py:6133\u001B[0m, in \u001B[0;36mIndex._raise_if_missing\u001B[1;34m(self, key, indexer, axis_name)\u001B[0m\n\u001B[0;32m   6130\u001B[0m     \u001B[38;5;28;01mraise\u001B[39;00m \u001B[38;5;167;01mKeyError\u001B[39;00m(\u001B[38;5;124mf\u001B[39m\u001B[38;5;124m\"\u001B[39m\u001B[38;5;124mNone of [\u001B[39m\u001B[38;5;132;01m{\u001B[39;00mkey\u001B[38;5;132;01m}\u001B[39;00m\u001B[38;5;124m] are in the [\u001B[39m\u001B[38;5;132;01m{\u001B[39;00maxis_name\u001B[38;5;132;01m}\u001B[39;00m\u001B[38;5;124m]\u001B[39m\u001B[38;5;124m\"\u001B[39m)\n\u001B[0;32m   6132\u001B[0m not_found \u001B[38;5;241m=\u001B[39m \u001B[38;5;28mlist\u001B[39m(ensure_index(key)[missing_mask\u001B[38;5;241m.\u001B[39mnonzero()[\u001B[38;5;241m0\u001B[39m]]\u001B[38;5;241m.\u001B[39munique())\n\u001B[1;32m-> 6133\u001B[0m \u001B[38;5;28;01mraise\u001B[39;00m \u001B[38;5;167;01mKeyError\u001B[39;00m(\u001B[38;5;124mf\u001B[39m\u001B[38;5;124m\"\u001B[39m\u001B[38;5;132;01m{\u001B[39;00mnot_found\u001B[38;5;132;01m}\u001B[39;00m\u001B[38;5;124m not in index\u001B[39m\u001B[38;5;124m\"\u001B[39m)\n",
      "\u001B[1;31mKeyError\u001B[0m: \"['DAY_date'] not in index\""
     ]
    }
   ],
   "source": [
    "selectedColumn = ['Order_Quantity','Unit_Price', 'Date', 'CUSTOMER_id' ,'prod_id']\n",
    "salesOrderDetail = sales[selectedColumn]\n",
    "salesOrderDetail"
   ],
   "metadata": {
    "collapsed": false,
    "ExecuteTime": {
     "end_time": "2023-05-26T18:03:35.072280100Z",
     "start_time": "2023-05-26T18:03:35.003993Z"
    }
   }
  },
  {
   "cell_type": "code",
   "execution_count": null,
   "outputs": [],
   "source": [
    "newColumnNames = ['ORDER_DETAIL_quantity', 'ORDER_DETAIL_unit_price', 'DAY_date', 'CUSTOMER_id' ,'PRODUCT_id']\n",
    "salesOrderDetail.columns = newColumnNames\n",
    "salesOrderDetail"
   ],
   "metadata": {
    "collapsed": false,
    "ExecuteTime": {
     "start_time": "2023-05-26T18:03:35.065131700Z"
    }
   }
  }
 ],
 "metadata": {
  "kernelspec": {
   "display_name": "Python 3",
   "language": "python",
   "name": "python3"
  },
  "language_info": {
   "codemirror_mode": {
    "name": "ipython",
    "version": 2
   },
   "file_extension": ".py",
   "mimetype": "text/x-python",
   "name": "python",
   "nbconvert_exporter": "python",
   "pygments_lexer": "ipython2",
   "version": "2.7.6"
  }
 },
 "nbformat": 4,
 "nbformat_minor": 0
}
