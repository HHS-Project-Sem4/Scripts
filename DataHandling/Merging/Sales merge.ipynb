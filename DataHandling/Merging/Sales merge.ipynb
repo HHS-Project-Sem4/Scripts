{
 "cells": [
  {
   "cell_type": "code",
   "execution_count": 45,
   "metadata": {
    "collapsed": true,
    "ExecuteTime": {
     "end_time": "2023-05-26T19:33:10.862089Z",
     "start_time": "2023-05-26T19:33:10.853541700Z"
    }
   },
   "outputs": [],
   "source": [
    "import pandas as pd\n",
    "import pyodbc\n",
    "import Utils"
   ]
  },
  {
   "cell_type": "code",
   "execution_count": 46,
   "outputs": [],
   "source": [
    "salesConnection = pyodbc.connect(\"Driver={SQL Server};\"\n",
    "                                \"Server=DESKTOP-8INVJ1O\\SQLEXPRESS;\"\n",
    "                                \"Database=Sales_db;\"\n",
    "                                \"trusted_connection=yes\")"
   ],
   "metadata": {
    "collapsed": false,
    "ExecuteTime": {
     "end_time": "2023-05-26T19:33:11.353512700Z",
     "start_time": "2023-05-26T19:33:11.338552500Z"
    }
   }
  },
  {
   "cell_type": "code",
   "execution_count": 47,
   "outputs": [
    {
     "name": "stderr",
     "output_type": "stream",
     "text": [
      "C:\\Users\\Max\\AppData\\Local\\Temp\\ipykernel_42920\\1864275861.py:1: UserWarning: pandas only supports SQLAlchemy connectable (engine/connection) or database string URI or sqlite3 DBAPI2 connection. Other DBAPI2 objects are not tested. Please consider using SQLAlchemy.\n",
      "  sales = pd.read_sql(\"SELECT * FROM Sales\", salesConnection)\n"
     ]
    }
   ],
   "source": [
    "sales = pd.read_sql(\"SELECT * FROM Sales\", salesConnection)"
   ],
   "metadata": {
    "collapsed": false,
    "ExecuteTime": {
     "end_time": "2023-05-26T19:33:13.124425800Z",
     "start_time": "2023-05-26T19:33:11.945693400Z"
    }
   }
  },
  {
   "cell_type": "markdown",
   "source": [
    "# Product"
   ],
   "metadata": {
    "collapsed": false
   }
  },
  {
   "cell_type": "code",
   "execution_count": 48,
   "outputs": [],
   "source": [
    "sales = Utils.addGuidsUnique(sales, 'Product', 'prod_id')"
   ],
   "metadata": {
    "collapsed": false,
    "ExecuteTime": {
     "end_time": "2023-05-26T19:33:14.187013900Z",
     "start_time": "2023-05-26T19:33:13.125397400Z"
    }
   }
  },
  {
   "cell_type": "code",
   "execution_count": 49,
   "outputs": [],
   "source": [
    "columns = ['Product', 'Product_Category', 'Sub_Category', 'Unit_Cost']\n",
    "newFrames = Utils.splitFrames(sales, 'prod_id', columns)\n",
    "sales = newFrames[0]\n",
    "productData = newFrames[1]"
   ],
   "metadata": {
    "collapsed": false,
    "ExecuteTime": {
     "end_time": "2023-05-26T19:33:15.720509500Z",
     "start_time": "2023-05-26T19:33:15.627738700Z"
    }
   }
  },
  {
   "cell_type": "code",
   "execution_count": 37,
   "outputs": [
    {
     "data": {
      "text/plain": "        PRODUCT_id        PRODUCT_category PRODUCT_sub_category  \\\n0              0.0     Hitch Rack - 4-Bike          Accessories   \n596            1.0  All-Purpose Bike Stand          Accessories   \n1048           2.0    Mountain Bottle Cage          Accessories   \n1056           3.0   Water Bottle - 30 oz.          Accessories   \n1074           4.0        Road Bottle Cage          Accessories   \n...            ...                     ...                  ...   \n108780       125.0   Touring-2000 Blue, 50                Bikes   \n108864       126.0   Touring-2000 Blue, 60                Bikes   \n112074       127.0         Classic Vest, L             Clothing   \n112080       128.0         Classic Vest, M             Clothing   \n112090       129.0         Classic Vest, S             Clothing   \n\n        PRODUCT_prod_cost  PRODUCT_name  \n0              Bike Racks          45.0  \n596           Bike Stands          59.0  \n1048    Bottles and Cages           4.0  \n1056    Bottles and Cages           2.0  \n1074    Bottles and Cages           3.0  \n...                   ...           ...  \n108780      Touring Bikes         755.0  \n108864      Touring Bikes         755.0  \n112074              Vests          24.0  \n112080              Vests          24.0  \n112090              Vests          24.0  \n\n[130 rows x 5 columns]",
      "text/html": "<div>\n<style scoped>\n    .dataframe tbody tr th:only-of-type {\n        vertical-align: middle;\n    }\n\n    .dataframe tbody tr th {\n        vertical-align: top;\n    }\n\n    .dataframe thead th {\n        text-align: right;\n    }\n</style>\n<table border=\"1\" class=\"dataframe\">\n  <thead>\n    <tr style=\"text-align: right;\">\n      <th></th>\n      <th>PRODUCT_id</th>\n      <th>PRODUCT_category</th>\n      <th>PRODUCT_sub_category</th>\n      <th>PRODUCT_prod_cost</th>\n      <th>PRODUCT_name</th>\n    </tr>\n  </thead>\n  <tbody>\n    <tr>\n      <th>0</th>\n      <td>0.0</td>\n      <td>Hitch Rack - 4-Bike</td>\n      <td>Accessories</td>\n      <td>Bike Racks</td>\n      <td>45.0</td>\n    </tr>\n    <tr>\n      <th>596</th>\n      <td>1.0</td>\n      <td>All-Purpose Bike Stand</td>\n      <td>Accessories</td>\n      <td>Bike Stands</td>\n      <td>59.0</td>\n    </tr>\n    <tr>\n      <th>1048</th>\n      <td>2.0</td>\n      <td>Mountain Bottle Cage</td>\n      <td>Accessories</td>\n      <td>Bottles and Cages</td>\n      <td>4.0</td>\n    </tr>\n    <tr>\n      <th>1056</th>\n      <td>3.0</td>\n      <td>Water Bottle - 30 oz.</td>\n      <td>Accessories</td>\n      <td>Bottles and Cages</td>\n      <td>2.0</td>\n    </tr>\n    <tr>\n      <th>1074</th>\n      <td>4.0</td>\n      <td>Road Bottle Cage</td>\n      <td>Accessories</td>\n      <td>Bottles and Cages</td>\n      <td>3.0</td>\n    </tr>\n    <tr>\n      <th>...</th>\n      <td>...</td>\n      <td>...</td>\n      <td>...</td>\n      <td>...</td>\n      <td>...</td>\n    </tr>\n    <tr>\n      <th>108780</th>\n      <td>125.0</td>\n      <td>Touring-2000 Blue, 50</td>\n      <td>Bikes</td>\n      <td>Touring Bikes</td>\n      <td>755.0</td>\n    </tr>\n    <tr>\n      <th>108864</th>\n      <td>126.0</td>\n      <td>Touring-2000 Blue, 60</td>\n      <td>Bikes</td>\n      <td>Touring Bikes</td>\n      <td>755.0</td>\n    </tr>\n    <tr>\n      <th>112074</th>\n      <td>127.0</td>\n      <td>Classic Vest, L</td>\n      <td>Clothing</td>\n      <td>Vests</td>\n      <td>24.0</td>\n    </tr>\n    <tr>\n      <th>112080</th>\n      <td>128.0</td>\n      <td>Classic Vest, M</td>\n      <td>Clothing</td>\n      <td>Vests</td>\n      <td>24.0</td>\n    </tr>\n    <tr>\n      <th>112090</th>\n      <td>129.0</td>\n      <td>Classic Vest, S</td>\n      <td>Clothing</td>\n      <td>Vests</td>\n      <td>24.0</td>\n    </tr>\n  </tbody>\n</table>\n<p>130 rows × 5 columns</p>\n</div>"
     },
     "execution_count": 37,
     "metadata": {},
     "output_type": "execute_result"
    }
   ],
   "source": [
    "newColumnNames = ['PRODUCT_id', 'PRODUCT_name' ,'PRODUCT_category', 'PRODUCT_sub_category','PRODUCT_prod_cost']\n",
    "productData.columns = newColumnNames\n",
    "productData"
   ],
   "metadata": {
    "collapsed": false,
    "ExecuteTime": {
     "end_time": "2023-05-26T19:32:11.383658Z",
     "start_time": "2023-05-26T19:32:11.359625900Z"
    }
   }
  },
  {
   "cell_type": "markdown",
   "source": [
    "# Customer"
   ],
   "metadata": {
    "collapsed": false
   }
  },
  {
   "cell_type": "code",
   "execution_count": 38,
   "outputs": [],
   "source": [
    "sales = Utils.addGuids(sales, 'CUSTOMER_id')"
   ],
   "metadata": {
    "collapsed": false,
    "ExecuteTime": {
     "end_time": "2023-05-26T19:32:11.743406Z",
     "start_time": "2023-05-26T19:32:11.375680900Z"
    }
   }
  },
  {
   "cell_type": "code",
   "execution_count": 39,
   "outputs": [],
   "source": [
    "newFrames = Utils.splitFrames(sales, 'CUSTOMER_id', ['Country', 'State'])\n",
    "sales = newFrames[0]\n",
    "customerData = newFrames[1]"
   ],
   "metadata": {
    "collapsed": false,
    "ExecuteTime": {
     "end_time": "2023-05-26T19:32:11.866871400Z",
     "start_time": "2023-05-26T19:32:11.745375100Z"
    }
   }
  },
  {
   "cell_type": "code",
   "execution_count": 40,
   "outputs": [
    {
     "data": {
      "text/plain": "                                 CUSTOMER_id CUSTOMER_country  \\\n0       417b7953-6398-4a79-ae4f-5878b41d6cef           Canada   \n1       fd7f19ec-6f51-41e8-8986-2f5ab4512dce           Canada   \n2       47a8b80d-495c-490d-906b-f1699157f39a        Australia   \n3       efa0e613-c587-4e43-84b9-5a7d5e7c1dec        Australia   \n4       6f4b1003-0ed5-49bf-ba7c-8c8700f3ce8c        Australia   \n...                                      ...              ...   \n113031  627459a3-5d3e-472a-98c1-ab2a54db273f   United Kingdom   \n113032  9c2cbbf9-8ec9-41f0-82e7-75e13199c7b4        Australia   \n113033  31215762-a614-4cd7-b58c-c83c553a05e1        Australia   \n113034  74b00a52-471c-4970-ae69-2dc73ce6d57d           France   \n113035  b7573439-eb09-4707-8da3-927539285484           France   \n\n          CUSTOMER_state  \n0       British Columbia  \n1       British Columbia  \n2        New South Wales  \n3        New South Wales  \n4        New South Wales  \n...                  ...  \n113031           England  \n113032        Queensland  \n113033        Queensland  \n113034     Seine (Paris)  \n113035     Seine (Paris)  \n\n[113036 rows x 3 columns]",
      "text/html": "<div>\n<style scoped>\n    .dataframe tbody tr th:only-of-type {\n        vertical-align: middle;\n    }\n\n    .dataframe tbody tr th {\n        vertical-align: top;\n    }\n\n    .dataframe thead th {\n        text-align: right;\n    }\n</style>\n<table border=\"1\" class=\"dataframe\">\n  <thead>\n    <tr style=\"text-align: right;\">\n      <th></th>\n      <th>CUSTOMER_id</th>\n      <th>CUSTOMER_country</th>\n      <th>CUSTOMER_state</th>\n    </tr>\n  </thead>\n  <tbody>\n    <tr>\n      <th>0</th>\n      <td>417b7953-6398-4a79-ae4f-5878b41d6cef</td>\n      <td>Canada</td>\n      <td>British Columbia</td>\n    </tr>\n    <tr>\n      <th>1</th>\n      <td>fd7f19ec-6f51-41e8-8986-2f5ab4512dce</td>\n      <td>Canada</td>\n      <td>British Columbia</td>\n    </tr>\n    <tr>\n      <th>2</th>\n      <td>47a8b80d-495c-490d-906b-f1699157f39a</td>\n      <td>Australia</td>\n      <td>New South Wales</td>\n    </tr>\n    <tr>\n      <th>3</th>\n      <td>efa0e613-c587-4e43-84b9-5a7d5e7c1dec</td>\n      <td>Australia</td>\n      <td>New South Wales</td>\n    </tr>\n    <tr>\n      <th>4</th>\n      <td>6f4b1003-0ed5-49bf-ba7c-8c8700f3ce8c</td>\n      <td>Australia</td>\n      <td>New South Wales</td>\n    </tr>\n    <tr>\n      <th>...</th>\n      <td>...</td>\n      <td>...</td>\n      <td>...</td>\n    </tr>\n    <tr>\n      <th>113031</th>\n      <td>627459a3-5d3e-472a-98c1-ab2a54db273f</td>\n      <td>United Kingdom</td>\n      <td>England</td>\n    </tr>\n    <tr>\n      <th>113032</th>\n      <td>9c2cbbf9-8ec9-41f0-82e7-75e13199c7b4</td>\n      <td>Australia</td>\n      <td>Queensland</td>\n    </tr>\n    <tr>\n      <th>113033</th>\n      <td>31215762-a614-4cd7-b58c-c83c553a05e1</td>\n      <td>Australia</td>\n      <td>Queensland</td>\n    </tr>\n    <tr>\n      <th>113034</th>\n      <td>74b00a52-471c-4970-ae69-2dc73ce6d57d</td>\n      <td>France</td>\n      <td>Seine (Paris)</td>\n    </tr>\n    <tr>\n      <th>113035</th>\n      <td>b7573439-eb09-4707-8da3-927539285484</td>\n      <td>France</td>\n      <td>Seine (Paris)</td>\n    </tr>\n  </tbody>\n</table>\n<p>113036 rows × 3 columns</p>\n</div>"
     },
     "execution_count": 40,
     "metadata": {},
     "output_type": "execute_result"
    }
   ],
   "source": [
    "newColumnNames = ['CUSTOMER_id','CUSTOMER_country', 'CUSTOMER_state']\n",
    "customerData.columns = newColumnNames\n",
    "customerData"
   ],
   "metadata": {
    "collapsed": false,
    "ExecuteTime": {
     "end_time": "2023-05-26T19:32:11.894797400Z",
     "start_time": "2023-05-26T19:32:11.873852300Z"
    }
   }
  },
  {
   "cell_type": "markdown",
   "source": [
    "# Day"
   ],
   "metadata": {
    "collapsed": false
   }
  },
  {
   "cell_type": "code",
   "execution_count": 41,
   "outputs": [],
   "source": [
    "newFrames = Utils.splitFrames(sales, 'Date', [])\n",
    "sales = newFrames[0]\n",
    "dateData = newFrames[1]"
   ],
   "metadata": {
    "collapsed": false,
    "ExecuteTime": {
     "end_time": "2023-05-26T19:32:11.977646600Z",
     "start_time": "2023-05-26T19:32:11.892826800Z"
    }
   }
  },
  {
   "cell_type": "code",
   "execution_count": 42,
   "outputs": [
    {
     "data": {
      "text/plain": "       DAY_date DAY_MONTH_nr DAY_QUARTER_nr DAY_YEAR_nr\n0    2013-11-26           11              4        2013\n1    2015-11-26           11              4        2015\n2    2014-03-23            3              1        2014\n3    2016-03-23            3              1        2016\n4    2014-05-15            5              2        2014\n...         ...          ...            ...         ...\n1879 2011-10-27           10              4        2011\n1880 2013-01-06            1              1        2013\n1881 2015-01-06            1              1        2015\n1882 2012-02-20            2              1        2012\n1883 2011-02-20            2              1        2011\n\n[1884 rows x 4 columns]",
      "text/html": "<div>\n<style scoped>\n    .dataframe tbody tr th:only-of-type {\n        vertical-align: middle;\n    }\n\n    .dataframe tbody tr th {\n        vertical-align: top;\n    }\n\n    .dataframe thead th {\n        text-align: right;\n    }\n</style>\n<table border=\"1\" class=\"dataframe\">\n  <thead>\n    <tr style=\"text-align: right;\">\n      <th></th>\n      <th>DAY_date</th>\n      <th>DAY_MONTH_nr</th>\n      <th>DAY_QUARTER_nr</th>\n      <th>DAY_YEAR_nr</th>\n    </tr>\n  </thead>\n  <tbody>\n    <tr>\n      <th>0</th>\n      <td>2013-11-26</td>\n      <td>11</td>\n      <td>4</td>\n      <td>2013</td>\n    </tr>\n    <tr>\n      <th>1</th>\n      <td>2015-11-26</td>\n      <td>11</td>\n      <td>4</td>\n      <td>2015</td>\n    </tr>\n    <tr>\n      <th>2</th>\n      <td>2014-03-23</td>\n      <td>3</td>\n      <td>1</td>\n      <td>2014</td>\n    </tr>\n    <tr>\n      <th>3</th>\n      <td>2016-03-23</td>\n      <td>3</td>\n      <td>1</td>\n      <td>2016</td>\n    </tr>\n    <tr>\n      <th>4</th>\n      <td>2014-05-15</td>\n      <td>5</td>\n      <td>2</td>\n      <td>2014</td>\n    </tr>\n    <tr>\n      <th>...</th>\n      <td>...</td>\n      <td>...</td>\n      <td>...</td>\n      <td>...</td>\n    </tr>\n    <tr>\n      <th>1879</th>\n      <td>2011-10-27</td>\n      <td>10</td>\n      <td>4</td>\n      <td>2011</td>\n    </tr>\n    <tr>\n      <th>1880</th>\n      <td>2013-01-06</td>\n      <td>1</td>\n      <td>1</td>\n      <td>2013</td>\n    </tr>\n    <tr>\n      <th>1881</th>\n      <td>2015-01-06</td>\n      <td>1</td>\n      <td>1</td>\n      <td>2015</td>\n    </tr>\n    <tr>\n      <th>1882</th>\n      <td>2012-02-20</td>\n      <td>2</td>\n      <td>1</td>\n      <td>2012</td>\n    </tr>\n    <tr>\n      <th>1883</th>\n      <td>2011-02-20</td>\n      <td>2</td>\n      <td>1</td>\n      <td>2011</td>\n    </tr>\n  </tbody>\n</table>\n<p>1884 rows × 4 columns</p>\n</div>"
     },
     "execution_count": 42,
     "metadata": {},
     "output_type": "execute_result"
    }
   ],
   "source": [
    "dateFormat = '%Y-%m-%d'\n",
    "DAY_date = Utils.getDayDate(dateData, 'Date', dateFormat)\n",
    "DAY_date"
   ],
   "metadata": {
    "collapsed": false,
    "ExecuteTime": {
     "end_time": "2023-05-26T19:32:13.491506200Z",
     "start_time": "2023-05-26T19:32:11.946729300Z"
    }
   }
  },
  {
   "cell_type": "markdown",
   "source": [
    "# Order Detail"
   ],
   "metadata": {
    "collapsed": false
   }
  },
  {
   "cell_type": "code",
   "execution_count": 43,
   "outputs": [
    {
     "data": {
      "text/plain": "        Order_Quantity  Unit_Price        Date  \\\n0                    8       120.0  2013-11-26   \n1                    8       120.0  2015-11-26   \n2                   23       120.0  2014-03-23   \n3                   20       120.0  2016-03-23   \n4                    4       120.0  2014-05-15   \n...                ...         ...         ...   \n113031               3        64.0  2016-04-12   \n113032              22        64.0  2014-04-02   \n113033              22        64.0  2016-04-02   \n113034              24        64.0  2014-03-04   \n113035              23        64.0  2016-03-04   \n\n                                 CUSTOMER_id  prod_id  \n0       417b7953-6398-4a79-ae4f-5878b41d6cef      0.0  \n1       fd7f19ec-6f51-41e8-8986-2f5ab4512dce      0.0  \n2       47a8b80d-495c-490d-906b-f1699157f39a      0.0  \n3       efa0e613-c587-4e43-84b9-5a7d5e7c1dec      0.0  \n4       6f4b1003-0ed5-49bf-ba7c-8c8700f3ce8c      0.0  \n...                                      ...      ...  \n113031  627459a3-5d3e-472a-98c1-ab2a54db273f    129.0  \n113032  9c2cbbf9-8ec9-41f0-82e7-75e13199c7b4    128.0  \n113033  31215762-a614-4cd7-b58c-c83c553a05e1    128.0  \n113034  74b00a52-471c-4970-ae69-2dc73ce6d57d    127.0  \n113035  b7573439-eb09-4707-8da3-927539285484    127.0  \n\n[113036 rows x 5 columns]",
      "text/html": "<div>\n<style scoped>\n    .dataframe tbody tr th:only-of-type {\n        vertical-align: middle;\n    }\n\n    .dataframe tbody tr th {\n        vertical-align: top;\n    }\n\n    .dataframe thead th {\n        text-align: right;\n    }\n</style>\n<table border=\"1\" class=\"dataframe\">\n  <thead>\n    <tr style=\"text-align: right;\">\n      <th></th>\n      <th>Order_Quantity</th>\n      <th>Unit_Price</th>\n      <th>Date</th>\n      <th>CUSTOMER_id</th>\n      <th>prod_id</th>\n    </tr>\n  </thead>\n  <tbody>\n    <tr>\n      <th>0</th>\n      <td>8</td>\n      <td>120.0</td>\n      <td>2013-11-26</td>\n      <td>417b7953-6398-4a79-ae4f-5878b41d6cef</td>\n      <td>0.0</td>\n    </tr>\n    <tr>\n      <th>1</th>\n      <td>8</td>\n      <td>120.0</td>\n      <td>2015-11-26</td>\n      <td>fd7f19ec-6f51-41e8-8986-2f5ab4512dce</td>\n      <td>0.0</td>\n    </tr>\n    <tr>\n      <th>2</th>\n      <td>23</td>\n      <td>120.0</td>\n      <td>2014-03-23</td>\n      <td>47a8b80d-495c-490d-906b-f1699157f39a</td>\n      <td>0.0</td>\n    </tr>\n    <tr>\n      <th>3</th>\n      <td>20</td>\n      <td>120.0</td>\n      <td>2016-03-23</td>\n      <td>efa0e613-c587-4e43-84b9-5a7d5e7c1dec</td>\n      <td>0.0</td>\n    </tr>\n    <tr>\n      <th>4</th>\n      <td>4</td>\n      <td>120.0</td>\n      <td>2014-05-15</td>\n      <td>6f4b1003-0ed5-49bf-ba7c-8c8700f3ce8c</td>\n      <td>0.0</td>\n    </tr>\n    <tr>\n      <th>...</th>\n      <td>...</td>\n      <td>...</td>\n      <td>...</td>\n      <td>...</td>\n      <td>...</td>\n    </tr>\n    <tr>\n      <th>113031</th>\n      <td>3</td>\n      <td>64.0</td>\n      <td>2016-04-12</td>\n      <td>627459a3-5d3e-472a-98c1-ab2a54db273f</td>\n      <td>129.0</td>\n    </tr>\n    <tr>\n      <th>113032</th>\n      <td>22</td>\n      <td>64.0</td>\n      <td>2014-04-02</td>\n      <td>9c2cbbf9-8ec9-41f0-82e7-75e13199c7b4</td>\n      <td>128.0</td>\n    </tr>\n    <tr>\n      <th>113033</th>\n      <td>22</td>\n      <td>64.0</td>\n      <td>2016-04-02</td>\n      <td>31215762-a614-4cd7-b58c-c83c553a05e1</td>\n      <td>128.0</td>\n    </tr>\n    <tr>\n      <th>113034</th>\n      <td>24</td>\n      <td>64.0</td>\n      <td>2014-03-04</td>\n      <td>74b00a52-471c-4970-ae69-2dc73ce6d57d</td>\n      <td>127.0</td>\n    </tr>\n    <tr>\n      <th>113035</th>\n      <td>23</td>\n      <td>64.0</td>\n      <td>2016-03-04</td>\n      <td>b7573439-eb09-4707-8da3-927539285484</td>\n      <td>127.0</td>\n    </tr>\n  </tbody>\n</table>\n<p>113036 rows × 5 columns</p>\n</div>"
     },
     "execution_count": 43,
     "metadata": {},
     "output_type": "execute_result"
    }
   ],
   "source": [
    "selectedColumn = ['Order_Quantity','Unit_Price', 'Date', 'CUSTOMER_id' ,'prod_id']\n",
    "salesOrderDetail = sales[selectedColumn]\n",
    "salesOrderDetail"
   ],
   "metadata": {
    "collapsed": false,
    "ExecuteTime": {
     "end_time": "2023-05-26T19:32:13.581584400Z",
     "start_time": "2023-05-26T19:32:13.492503800Z"
    }
   }
  },
  {
   "cell_type": "code",
   "execution_count": 44,
   "outputs": [
    {
     "data": {
      "text/plain": "        ORDER_DETAIL_quantity  ORDER_DETAIL_unit_price    DAY_date  \\\n0                           8                    120.0  2013-11-26   \n1                           8                    120.0  2015-11-26   \n2                          23                    120.0  2014-03-23   \n3                          20                    120.0  2016-03-23   \n4                           4                    120.0  2014-05-15   \n...                       ...                      ...         ...   \n113031                      3                     64.0  2016-04-12   \n113032                     22                     64.0  2014-04-02   \n113033                     22                     64.0  2016-04-02   \n113034                     24                     64.0  2014-03-04   \n113035                     23                     64.0  2016-03-04   \n\n                                 CUSTOMER_id  PRODUCT_id  \n0       417b7953-6398-4a79-ae4f-5878b41d6cef         0.0  \n1       fd7f19ec-6f51-41e8-8986-2f5ab4512dce         0.0  \n2       47a8b80d-495c-490d-906b-f1699157f39a         0.0  \n3       efa0e613-c587-4e43-84b9-5a7d5e7c1dec         0.0  \n4       6f4b1003-0ed5-49bf-ba7c-8c8700f3ce8c         0.0  \n...                                      ...         ...  \n113031  627459a3-5d3e-472a-98c1-ab2a54db273f       129.0  \n113032  9c2cbbf9-8ec9-41f0-82e7-75e13199c7b4       128.0  \n113033  31215762-a614-4cd7-b58c-c83c553a05e1       128.0  \n113034  74b00a52-471c-4970-ae69-2dc73ce6d57d       127.0  \n113035  b7573439-eb09-4707-8da3-927539285484       127.0  \n\n[113036 rows x 5 columns]",
      "text/html": "<div>\n<style scoped>\n    .dataframe tbody tr th:only-of-type {\n        vertical-align: middle;\n    }\n\n    .dataframe tbody tr th {\n        vertical-align: top;\n    }\n\n    .dataframe thead th {\n        text-align: right;\n    }\n</style>\n<table border=\"1\" class=\"dataframe\">\n  <thead>\n    <tr style=\"text-align: right;\">\n      <th></th>\n      <th>ORDER_DETAIL_quantity</th>\n      <th>ORDER_DETAIL_unit_price</th>\n      <th>DAY_date</th>\n      <th>CUSTOMER_id</th>\n      <th>PRODUCT_id</th>\n    </tr>\n  </thead>\n  <tbody>\n    <tr>\n      <th>0</th>\n      <td>8</td>\n      <td>120.0</td>\n      <td>2013-11-26</td>\n      <td>417b7953-6398-4a79-ae4f-5878b41d6cef</td>\n      <td>0.0</td>\n    </tr>\n    <tr>\n      <th>1</th>\n      <td>8</td>\n      <td>120.0</td>\n      <td>2015-11-26</td>\n      <td>fd7f19ec-6f51-41e8-8986-2f5ab4512dce</td>\n      <td>0.0</td>\n    </tr>\n    <tr>\n      <th>2</th>\n      <td>23</td>\n      <td>120.0</td>\n      <td>2014-03-23</td>\n      <td>47a8b80d-495c-490d-906b-f1699157f39a</td>\n      <td>0.0</td>\n    </tr>\n    <tr>\n      <th>3</th>\n      <td>20</td>\n      <td>120.0</td>\n      <td>2016-03-23</td>\n      <td>efa0e613-c587-4e43-84b9-5a7d5e7c1dec</td>\n      <td>0.0</td>\n    </tr>\n    <tr>\n      <th>4</th>\n      <td>4</td>\n      <td>120.0</td>\n      <td>2014-05-15</td>\n      <td>6f4b1003-0ed5-49bf-ba7c-8c8700f3ce8c</td>\n      <td>0.0</td>\n    </tr>\n    <tr>\n      <th>...</th>\n      <td>...</td>\n      <td>...</td>\n      <td>...</td>\n      <td>...</td>\n      <td>...</td>\n    </tr>\n    <tr>\n      <th>113031</th>\n      <td>3</td>\n      <td>64.0</td>\n      <td>2016-04-12</td>\n      <td>627459a3-5d3e-472a-98c1-ab2a54db273f</td>\n      <td>129.0</td>\n    </tr>\n    <tr>\n      <th>113032</th>\n      <td>22</td>\n      <td>64.0</td>\n      <td>2014-04-02</td>\n      <td>9c2cbbf9-8ec9-41f0-82e7-75e13199c7b4</td>\n      <td>128.0</td>\n    </tr>\n    <tr>\n      <th>113033</th>\n      <td>22</td>\n      <td>64.0</td>\n      <td>2016-04-02</td>\n      <td>31215762-a614-4cd7-b58c-c83c553a05e1</td>\n      <td>128.0</td>\n    </tr>\n    <tr>\n      <th>113034</th>\n      <td>24</td>\n      <td>64.0</td>\n      <td>2014-03-04</td>\n      <td>74b00a52-471c-4970-ae69-2dc73ce6d57d</td>\n      <td>127.0</td>\n    </tr>\n    <tr>\n      <th>113035</th>\n      <td>23</td>\n      <td>64.0</td>\n      <td>2016-03-04</td>\n      <td>b7573439-eb09-4707-8da3-927539285484</td>\n      <td>127.0</td>\n    </tr>\n  </tbody>\n</table>\n<p>113036 rows × 5 columns</p>\n</div>"
     },
     "execution_count": 44,
     "metadata": {},
     "output_type": "execute_result"
    }
   ],
   "source": [
    "newColumnNames = ['ORDER_DETAIL_order_quantity', 'ORDER_DETAIL_unit_price', 'DAY_date', 'CUSTOMER_id' ,'PRODUCT_id']\n",
    "salesOrderDetail.columns = newColumnNames\n",
    "salesOrderDetail"
   ],
   "metadata": {
    "collapsed": false,
    "ExecuteTime": {
     "end_time": "2023-05-26T19:32:13.615287300Z",
     "start_time": "2023-05-26T19:32:13.540851800Z"
    }
   }
  }
 ],
 "metadata": {
  "kernelspec": {
   "display_name": "Python 3",
   "language": "python",
   "name": "python3"
  },
  "language_info": {
   "codemirror_mode": {
    "name": "ipython",
    "version": 2
   },
   "file_extension": ".py",
   "mimetype": "text/x-python",
   "name": "python",
   "nbconvert_exporter": "python",
   "pygments_lexer": "ipython2",
   "version": "2.7.6"
  }
 },
 "nbformat": 4,
 "nbformat_minor": 0
}
