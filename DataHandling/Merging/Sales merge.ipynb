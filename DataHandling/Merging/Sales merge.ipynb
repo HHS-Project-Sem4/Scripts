{
 "cells": [
  {
   "cell_type": "code",
   "execution_count": 1,
   "metadata": {
    "collapsed": true,
    "ExecuteTime": {
     "end_time": "2023-05-25T20:35:23.249786800Z",
     "start_time": "2023-05-25T20:35:22.716655400Z"
    }
   },
   "outputs": [],
   "source": [
    "import pandas as pd\n",
    "import pyodbc\n",
    "import Utils"
   ]
  },
  {
   "cell_type": "code",
   "execution_count": 2,
   "outputs": [],
   "source": [
    "salesConnection = pyodbc.connect(\"Driver={SQL Server};\"\n",
    "                                \"Server=DESKTOP-8INVJ1O\\SQLEXPRESS;\"\n",
    "                                \"Database=Sales_db;\"\n",
    "                                \"trusted_connection=yes\")"
   ],
   "metadata": {
    "collapsed": false,
    "ExecuteTime": {
     "end_time": "2023-05-25T20:35:23.310788300Z",
     "start_time": "2023-05-25T20:35:23.250785400Z"
    }
   }
  },
  {
   "cell_type": "code",
   "execution_count": 3,
   "outputs": [
    {
     "name": "stderr",
     "output_type": "stream",
     "text": [
      "C:\\Users\\Max\\AppData\\Local\\Temp\\ipykernel_5160\\3051299410.py:2: UserWarning: pandas only supports SQLAlchemy connectable (engine/connection) or database string URI or sqlite3 DBAPI2 connection. Other DBAPI2 objects are not tested. Please consider using SQLAlchemy.\n",
      "  sales = pd.read_sql(\"SELECT * FROM Sales\", salesConnection)\n"
     ]
    }
   ],
   "source": [
    "# Try to separate the large ass table?\n",
    "sales = pd.read_sql(\"SELECT * FROM Sales\", salesConnection)"
   ],
   "metadata": {
    "collapsed": false,
    "ExecuteTime": {
     "end_time": "2023-05-25T20:35:24.795606900Z",
     "start_time": "2023-05-25T20:35:23.309791Z"
    }
   }
  },
  {
   "cell_type": "code",
   "execution_count": 4,
   "outputs": [],
   "source": [
    "# add id"
   ],
   "metadata": {
    "collapsed": false,
    "ExecuteTime": {
     "end_time": "2023-05-25T20:35:24.811218300Z",
     "start_time": "2023-05-25T20:35:24.796729900Z"
    }
   }
  },
  {
   "cell_type": "markdown",
   "source": [
    "# Product"
   ],
   "metadata": {
    "collapsed": false
   }
  },
  {
   "cell_type": "code",
   "execution_count": 5,
   "outputs": [],
   "source": [
    "sales = Utils.addIds(sales, 'Product', 'prod_id')"
   ],
   "metadata": {
    "collapsed": false,
    "ExecuteTime": {
     "end_time": "2023-05-25T20:35:25.707992200Z",
     "start_time": "2023-05-25T20:35:24.814216500Z"
    }
   }
  },
  {
   "cell_type": "code",
   "execution_count": 6,
   "outputs": [
    {
     "data": {
      "text/plain": "       Product_Category       Sub_Category  Unit_Cost  prod_id  \\\n0           Accessories         Bike Racks       45.0      0.0   \n596         Accessories        Bike Stands       59.0      1.0   \n1048        Accessories  Bottles and Cages        4.0      2.0   \n1056        Accessories  Bottles and Cages        2.0      3.0   \n1074        Accessories  Bottles and Cages        3.0      4.0   \n...                 ...                ...        ...      ...   \n108780            Bikes      Touring Bikes      755.0    125.0   \n108864            Bikes      Touring Bikes      755.0    126.0   \n112074         Clothing              Vests       24.0    127.0   \n112080         Clothing              Vests       24.0    128.0   \n112090         Clothing              Vests       24.0    129.0   \n\n                       Product  \n0          Hitch Rack - 4-Bike  \n596     All-Purpose Bike Stand  \n1048      Mountain Bottle Cage  \n1056     Water Bottle - 30 oz.  \n1074          Road Bottle Cage  \n...                        ...  \n108780   Touring-2000 Blue, 50  \n108864   Touring-2000 Blue, 60  \n112074         Classic Vest, L  \n112080         Classic Vest, M  \n112090         Classic Vest, S  \n\n[130 rows x 5 columns]",
      "text/html": "<div>\n<style scoped>\n    .dataframe tbody tr th:only-of-type {\n        vertical-align: middle;\n    }\n\n    .dataframe tbody tr th {\n        vertical-align: top;\n    }\n\n    .dataframe thead th {\n        text-align: right;\n    }\n</style>\n<table border=\"1\" class=\"dataframe\">\n  <thead>\n    <tr style=\"text-align: right;\">\n      <th></th>\n      <th>Product_Category</th>\n      <th>Sub_Category</th>\n      <th>Unit_Cost</th>\n      <th>prod_id</th>\n      <th>Product</th>\n    </tr>\n  </thead>\n  <tbody>\n    <tr>\n      <th>0</th>\n      <td>Accessories</td>\n      <td>Bike Racks</td>\n      <td>45.0</td>\n      <td>0.0</td>\n      <td>Hitch Rack - 4-Bike</td>\n    </tr>\n    <tr>\n      <th>596</th>\n      <td>Accessories</td>\n      <td>Bike Stands</td>\n      <td>59.0</td>\n      <td>1.0</td>\n      <td>All-Purpose Bike Stand</td>\n    </tr>\n    <tr>\n      <th>1048</th>\n      <td>Accessories</td>\n      <td>Bottles and Cages</td>\n      <td>4.0</td>\n      <td>2.0</td>\n      <td>Mountain Bottle Cage</td>\n    </tr>\n    <tr>\n      <th>1056</th>\n      <td>Accessories</td>\n      <td>Bottles and Cages</td>\n      <td>2.0</td>\n      <td>3.0</td>\n      <td>Water Bottle - 30 oz.</td>\n    </tr>\n    <tr>\n      <th>1074</th>\n      <td>Accessories</td>\n      <td>Bottles and Cages</td>\n      <td>3.0</td>\n      <td>4.0</td>\n      <td>Road Bottle Cage</td>\n    </tr>\n    <tr>\n      <th>...</th>\n      <td>...</td>\n      <td>...</td>\n      <td>...</td>\n      <td>...</td>\n      <td>...</td>\n    </tr>\n    <tr>\n      <th>108780</th>\n      <td>Bikes</td>\n      <td>Touring Bikes</td>\n      <td>755.0</td>\n      <td>125.0</td>\n      <td>Touring-2000 Blue, 50</td>\n    </tr>\n    <tr>\n      <th>108864</th>\n      <td>Bikes</td>\n      <td>Touring Bikes</td>\n      <td>755.0</td>\n      <td>126.0</td>\n      <td>Touring-2000 Blue, 60</td>\n    </tr>\n    <tr>\n      <th>112074</th>\n      <td>Clothing</td>\n      <td>Vests</td>\n      <td>24.0</td>\n      <td>127.0</td>\n      <td>Classic Vest, L</td>\n    </tr>\n    <tr>\n      <th>112080</th>\n      <td>Clothing</td>\n      <td>Vests</td>\n      <td>24.0</td>\n      <td>128.0</td>\n      <td>Classic Vest, M</td>\n    </tr>\n    <tr>\n      <th>112090</th>\n      <td>Clothing</td>\n      <td>Vests</td>\n      <td>24.0</td>\n      <td>129.0</td>\n      <td>Classic Vest, S</td>\n    </tr>\n  </tbody>\n</table>\n<p>130 rows × 5 columns</p>\n</div>"
     },
     "execution_count": 6,
     "metadata": {},
     "output_type": "execute_result"
    }
   ],
   "source": [
    "columns = ['Product_Category', 'Sub_Category', 'Unit_Cost']\n",
    "newFrames = Utils.splitFrames(sales, 'Product', 'prod_id', columns)\n",
    "\n",
    "sales = newFrames[0]\n",
    "product = newFrames[1]\n",
    "product"
   ],
   "metadata": {
    "collapsed": false,
    "ExecuteTime": {
     "end_time": "2023-05-25T20:35:25.801741700Z",
     "start_time": "2023-05-25T20:35:25.710011100Z"
    }
   }
  },
  {
   "cell_type": "code",
   "execution_count": 7,
   "outputs": [
    {
     "data": {
      "text/plain": "              Date  Day     Month  Year  Customer_Age       Age_Group  \\\n0       2013-11-26   26  November  2013            19     Youth (<25)   \n1       2015-11-26   26  November  2015            19     Youth (<25)   \n2       2014-03-23   23     March  2014            49  Adults (35-64)   \n3       2016-03-23   23     March  2016            49  Adults (35-64)   \n4       2014-05-15   15       May  2014            47  Adults (35-64)   \n...            ...  ...       ...   ...           ...             ...   \n113031  2016-04-12   12     April  2016            41  Adults (35-64)   \n113032  2014-04-02    2     April  2014            18     Youth (<25)   \n113033  2016-04-02    2     April  2016            18     Youth (<25)   \n113034  2014-03-04    4     March  2014            37  Adults (35-64)   \n113035  2016-03-04    4     March  2016            37  Adults (35-64)   \n\n       Customer_Gender         Country             State  Order_Quantity  \\\n0                    M          Canada  British Columbia               8   \n1                    M          Canada  British Columbia               8   \n2                    M       Australia   New South Wales              23   \n3                    M       Australia   New South Wales              20   \n4                    F       Australia   New South Wales               4   \n...                ...             ...               ...             ...   \n113031               M  United Kingdom           England               3   \n113032               M       Australia        Queensland              22   \n113033               M       Australia        Queensland              22   \n113034               F          France     Seine (Paris)              24   \n113035               F          France     Seine (Paris)              23   \n\n        Unit_Price  Profit    Cost  Revenue  prod_id  \n0            120.0   590.0   360.0    950.0      0.0  \n1            120.0   590.0   360.0    950.0      0.0  \n2            120.0  1366.0  1035.0   2401.0      0.0  \n3            120.0  1188.0   900.0   2088.0      0.0  \n4            120.0   238.0   180.0    418.0      0.0  \n...            ...     ...     ...      ...      ...  \n113031        64.0   112.0    72.0    184.0    129.0  \n113032        64.0   655.0   528.0   1183.0    128.0  \n113033        64.0   655.0   528.0   1183.0    128.0  \n113034        64.0   684.0   576.0   1260.0    127.0  \n113035        64.0   655.0   552.0   1207.0    127.0  \n\n[113036 rows x 15 columns]",
      "text/html": "<div>\n<style scoped>\n    .dataframe tbody tr th:only-of-type {\n        vertical-align: middle;\n    }\n\n    .dataframe tbody tr th {\n        vertical-align: top;\n    }\n\n    .dataframe thead th {\n        text-align: right;\n    }\n</style>\n<table border=\"1\" class=\"dataframe\">\n  <thead>\n    <tr style=\"text-align: right;\">\n      <th></th>\n      <th>Date</th>\n      <th>Day</th>\n      <th>Month</th>\n      <th>Year</th>\n      <th>Customer_Age</th>\n      <th>Age_Group</th>\n      <th>Customer_Gender</th>\n      <th>Country</th>\n      <th>State</th>\n      <th>Order_Quantity</th>\n      <th>Unit_Price</th>\n      <th>Profit</th>\n      <th>Cost</th>\n      <th>Revenue</th>\n      <th>prod_id</th>\n    </tr>\n  </thead>\n  <tbody>\n    <tr>\n      <th>0</th>\n      <td>2013-11-26</td>\n      <td>26</td>\n      <td>November</td>\n      <td>2013</td>\n      <td>19</td>\n      <td>Youth (&lt;25)</td>\n      <td>M</td>\n      <td>Canada</td>\n      <td>British Columbia</td>\n      <td>8</td>\n      <td>120.0</td>\n      <td>590.0</td>\n      <td>360.0</td>\n      <td>950.0</td>\n      <td>0.0</td>\n    </tr>\n    <tr>\n      <th>1</th>\n      <td>2015-11-26</td>\n      <td>26</td>\n      <td>November</td>\n      <td>2015</td>\n      <td>19</td>\n      <td>Youth (&lt;25)</td>\n      <td>M</td>\n      <td>Canada</td>\n      <td>British Columbia</td>\n      <td>8</td>\n      <td>120.0</td>\n      <td>590.0</td>\n      <td>360.0</td>\n      <td>950.0</td>\n      <td>0.0</td>\n    </tr>\n    <tr>\n      <th>2</th>\n      <td>2014-03-23</td>\n      <td>23</td>\n      <td>March</td>\n      <td>2014</td>\n      <td>49</td>\n      <td>Adults (35-64)</td>\n      <td>M</td>\n      <td>Australia</td>\n      <td>New South Wales</td>\n      <td>23</td>\n      <td>120.0</td>\n      <td>1366.0</td>\n      <td>1035.0</td>\n      <td>2401.0</td>\n      <td>0.0</td>\n    </tr>\n    <tr>\n      <th>3</th>\n      <td>2016-03-23</td>\n      <td>23</td>\n      <td>March</td>\n      <td>2016</td>\n      <td>49</td>\n      <td>Adults (35-64)</td>\n      <td>M</td>\n      <td>Australia</td>\n      <td>New South Wales</td>\n      <td>20</td>\n      <td>120.0</td>\n      <td>1188.0</td>\n      <td>900.0</td>\n      <td>2088.0</td>\n      <td>0.0</td>\n    </tr>\n    <tr>\n      <th>4</th>\n      <td>2014-05-15</td>\n      <td>15</td>\n      <td>May</td>\n      <td>2014</td>\n      <td>47</td>\n      <td>Adults (35-64)</td>\n      <td>F</td>\n      <td>Australia</td>\n      <td>New South Wales</td>\n      <td>4</td>\n      <td>120.0</td>\n      <td>238.0</td>\n      <td>180.0</td>\n      <td>418.0</td>\n      <td>0.0</td>\n    </tr>\n    <tr>\n      <th>...</th>\n      <td>...</td>\n      <td>...</td>\n      <td>...</td>\n      <td>...</td>\n      <td>...</td>\n      <td>...</td>\n      <td>...</td>\n      <td>...</td>\n      <td>...</td>\n      <td>...</td>\n      <td>...</td>\n      <td>...</td>\n      <td>...</td>\n      <td>...</td>\n      <td>...</td>\n    </tr>\n    <tr>\n      <th>113031</th>\n      <td>2016-04-12</td>\n      <td>12</td>\n      <td>April</td>\n      <td>2016</td>\n      <td>41</td>\n      <td>Adults (35-64)</td>\n      <td>M</td>\n      <td>United Kingdom</td>\n      <td>England</td>\n      <td>3</td>\n      <td>64.0</td>\n      <td>112.0</td>\n      <td>72.0</td>\n      <td>184.0</td>\n      <td>129.0</td>\n    </tr>\n    <tr>\n      <th>113032</th>\n      <td>2014-04-02</td>\n      <td>2</td>\n      <td>April</td>\n      <td>2014</td>\n      <td>18</td>\n      <td>Youth (&lt;25)</td>\n      <td>M</td>\n      <td>Australia</td>\n      <td>Queensland</td>\n      <td>22</td>\n      <td>64.0</td>\n      <td>655.0</td>\n      <td>528.0</td>\n      <td>1183.0</td>\n      <td>128.0</td>\n    </tr>\n    <tr>\n      <th>113033</th>\n      <td>2016-04-02</td>\n      <td>2</td>\n      <td>April</td>\n      <td>2016</td>\n      <td>18</td>\n      <td>Youth (&lt;25)</td>\n      <td>M</td>\n      <td>Australia</td>\n      <td>Queensland</td>\n      <td>22</td>\n      <td>64.0</td>\n      <td>655.0</td>\n      <td>528.0</td>\n      <td>1183.0</td>\n      <td>128.0</td>\n    </tr>\n    <tr>\n      <th>113034</th>\n      <td>2014-03-04</td>\n      <td>4</td>\n      <td>March</td>\n      <td>2014</td>\n      <td>37</td>\n      <td>Adults (35-64)</td>\n      <td>F</td>\n      <td>France</td>\n      <td>Seine (Paris)</td>\n      <td>24</td>\n      <td>64.0</td>\n      <td>684.0</td>\n      <td>576.0</td>\n      <td>1260.0</td>\n      <td>127.0</td>\n    </tr>\n    <tr>\n      <th>113035</th>\n      <td>2016-03-04</td>\n      <td>4</td>\n      <td>March</td>\n      <td>2016</td>\n      <td>37</td>\n      <td>Adults (35-64)</td>\n      <td>F</td>\n      <td>France</td>\n      <td>Seine (Paris)</td>\n      <td>23</td>\n      <td>64.0</td>\n      <td>655.0</td>\n      <td>552.0</td>\n      <td>1207.0</td>\n      <td>127.0</td>\n    </tr>\n  </tbody>\n</table>\n<p>113036 rows × 15 columns</p>\n</div>"
     },
     "execution_count": 7,
     "metadata": {},
     "output_type": "execute_result"
    }
   ],
   "source": [
    "sales"
   ],
   "metadata": {
    "collapsed": false,
    "ExecuteTime": {
     "end_time": "2023-05-25T20:35:25.836648600Z",
     "start_time": "2023-05-25T20:35:25.802739100Z"
    }
   }
  },
  {
   "cell_type": "code",
   "execution_count": 8,
   "outputs": [
    {
     "ename": "KeyError",
     "evalue": "\"['Product_Category', 'Sub_Category', 'Unit_Cost'] not in index\"",
     "output_type": "error",
     "traceback": [
      "\u001B[1;31m---------------------------------------------------------------------------\u001B[0m",
      "\u001B[1;31mKeyError\u001B[0m                                  Traceback (most recent call last)",
      "Cell \u001B[1;32mIn[8], line 2\u001B[0m\n\u001B[0;32m      1\u001B[0m selectedColumn \u001B[38;5;241m=\u001B[39m [\u001B[38;5;124m'\u001B[39m\u001B[38;5;124mOrder_Quantity\u001B[39m\u001B[38;5;124m'\u001B[39m, \u001B[38;5;124m'\u001B[39m\u001B[38;5;124mProduct_Category\u001B[39m\u001B[38;5;124m'\u001B[39m, \u001B[38;5;124m'\u001B[39m\u001B[38;5;124mSub_Category\u001B[39m\u001B[38;5;124m'\u001B[39m, \u001B[38;5;124m'\u001B[39m\u001B[38;5;124mUnit_Cost\u001B[39m\u001B[38;5;124m'\u001B[39m]\n\u001B[1;32m----> 2\u001B[0m product \u001B[38;5;241m=\u001B[39m \u001B[43msales\u001B[49m\u001B[43m[\u001B[49m\u001B[43mselectedColumn\u001B[49m\u001B[43m]\u001B[49m\n\u001B[0;32m      3\u001B[0m newColumnNames \u001B[38;5;241m=\u001B[39m [\u001B[38;5;124m'\u001B[39m\u001B[38;5;124mPRODUCT_name\u001B[39m\u001B[38;5;124m'\u001B[39m, \u001B[38;5;124m'\u001B[39m\u001B[38;5;124mPRODUCT_category\u001B[39m\u001B[38;5;124m'\u001B[39m, \u001B[38;5;124m'\u001B[39m\u001B[38;5;124mPRODUCT_sub_category\u001B[39m\u001B[38;5;124m'\u001B[39m, \u001B[38;5;124m'\u001B[39m\u001B[38;5;124mPRODUCT_prod_cost\u001B[39m\u001B[38;5;124m'\u001B[39m]\n\u001B[0;32m      4\u001B[0m product\u001B[38;5;241m.\u001B[39mcolumns \u001B[38;5;241m=\u001B[39m newColumnNames\n",
      "File \u001B[1;32m~\\anaconda3\\lib\\site-packages\\pandas\\core\\frame.py:3813\u001B[0m, in \u001B[0;36mDataFrame.__getitem__\u001B[1;34m(self, key)\u001B[0m\n\u001B[0;32m   3811\u001B[0m     \u001B[38;5;28;01mif\u001B[39;00m is_iterator(key):\n\u001B[0;32m   3812\u001B[0m         key \u001B[38;5;241m=\u001B[39m \u001B[38;5;28mlist\u001B[39m(key)\n\u001B[1;32m-> 3813\u001B[0m     indexer \u001B[38;5;241m=\u001B[39m \u001B[38;5;28;43mself\u001B[39;49m\u001B[38;5;241;43m.\u001B[39;49m\u001B[43mcolumns\u001B[49m\u001B[38;5;241;43m.\u001B[39;49m\u001B[43m_get_indexer_strict\u001B[49m\u001B[43m(\u001B[49m\u001B[43mkey\u001B[49m\u001B[43m,\u001B[49m\u001B[43m \u001B[49m\u001B[38;5;124;43m\"\u001B[39;49m\u001B[38;5;124;43mcolumns\u001B[39;49m\u001B[38;5;124;43m\"\u001B[39;49m\u001B[43m)\u001B[49m[\u001B[38;5;241m1\u001B[39m]\n\u001B[0;32m   3815\u001B[0m \u001B[38;5;66;03m# take() does not accept boolean indexers\u001B[39;00m\n\u001B[0;32m   3816\u001B[0m \u001B[38;5;28;01mif\u001B[39;00m \u001B[38;5;28mgetattr\u001B[39m(indexer, \u001B[38;5;124m\"\u001B[39m\u001B[38;5;124mdtype\u001B[39m\u001B[38;5;124m\"\u001B[39m, \u001B[38;5;28;01mNone\u001B[39;00m) \u001B[38;5;241m==\u001B[39m \u001B[38;5;28mbool\u001B[39m:\n",
      "File \u001B[1;32m~\\anaconda3\\lib\\site-packages\\pandas\\core\\indexes\\base.py:6070\u001B[0m, in \u001B[0;36mIndex._get_indexer_strict\u001B[1;34m(self, key, axis_name)\u001B[0m\n\u001B[0;32m   6067\u001B[0m \u001B[38;5;28;01melse\u001B[39;00m:\n\u001B[0;32m   6068\u001B[0m     keyarr, indexer, new_indexer \u001B[38;5;241m=\u001B[39m \u001B[38;5;28mself\u001B[39m\u001B[38;5;241m.\u001B[39m_reindex_non_unique(keyarr)\n\u001B[1;32m-> 6070\u001B[0m \u001B[38;5;28;43mself\u001B[39;49m\u001B[38;5;241;43m.\u001B[39;49m\u001B[43m_raise_if_missing\u001B[49m\u001B[43m(\u001B[49m\u001B[43mkeyarr\u001B[49m\u001B[43m,\u001B[49m\u001B[43m \u001B[49m\u001B[43mindexer\u001B[49m\u001B[43m,\u001B[49m\u001B[43m \u001B[49m\u001B[43maxis_name\u001B[49m\u001B[43m)\u001B[49m\n\u001B[0;32m   6072\u001B[0m keyarr \u001B[38;5;241m=\u001B[39m \u001B[38;5;28mself\u001B[39m\u001B[38;5;241m.\u001B[39mtake(indexer)\n\u001B[0;32m   6073\u001B[0m \u001B[38;5;28;01mif\u001B[39;00m \u001B[38;5;28misinstance\u001B[39m(key, Index):\n\u001B[0;32m   6074\u001B[0m     \u001B[38;5;66;03m# GH 42790 - Preserve name from an Index\u001B[39;00m\n",
      "File \u001B[1;32m~\\anaconda3\\lib\\site-packages\\pandas\\core\\indexes\\base.py:6133\u001B[0m, in \u001B[0;36mIndex._raise_if_missing\u001B[1;34m(self, key, indexer, axis_name)\u001B[0m\n\u001B[0;32m   6130\u001B[0m     \u001B[38;5;28;01mraise\u001B[39;00m \u001B[38;5;167;01mKeyError\u001B[39;00m(\u001B[38;5;124mf\u001B[39m\u001B[38;5;124m\"\u001B[39m\u001B[38;5;124mNone of [\u001B[39m\u001B[38;5;132;01m{\u001B[39;00mkey\u001B[38;5;132;01m}\u001B[39;00m\u001B[38;5;124m] are in the [\u001B[39m\u001B[38;5;132;01m{\u001B[39;00maxis_name\u001B[38;5;132;01m}\u001B[39;00m\u001B[38;5;124m]\u001B[39m\u001B[38;5;124m\"\u001B[39m)\n\u001B[0;32m   6132\u001B[0m not_found \u001B[38;5;241m=\u001B[39m \u001B[38;5;28mlist\u001B[39m(ensure_index(key)[missing_mask\u001B[38;5;241m.\u001B[39mnonzero()[\u001B[38;5;241m0\u001B[39m]]\u001B[38;5;241m.\u001B[39munique())\n\u001B[1;32m-> 6133\u001B[0m \u001B[38;5;28;01mraise\u001B[39;00m \u001B[38;5;167;01mKeyError\u001B[39;00m(\u001B[38;5;124mf\u001B[39m\u001B[38;5;124m\"\u001B[39m\u001B[38;5;132;01m{\u001B[39;00mnot_found\u001B[38;5;132;01m}\u001B[39;00m\u001B[38;5;124m not in index\u001B[39m\u001B[38;5;124m\"\u001B[39m)\n",
      "\u001B[1;31mKeyError\u001B[0m: \"['Product_Category', 'Sub_Category', 'Unit_Cost'] not in index\""
     ]
    }
   ],
   "source": [
    "selectedColumn = ['Order_Quantity', 'Product_Category', 'Sub_Category', 'Unit_Cost']\n",
    "product = sales[selectedColumn]\n",
    "newColumnNames = ['PRODUCT_name', 'PRODUCT_category', 'PRODUCT_sub_category', 'PRODUCT_prod_cost']\n",
    "product.columns = newColumnNames"
   ],
   "metadata": {
    "collapsed": false,
    "ExecuteTime": {
     "end_time": "2023-05-25T20:35:27.965390200Z",
     "start_time": "2023-05-25T20:35:25.832659400Z"
    }
   }
  },
  {
   "cell_type": "markdown",
   "source": [
    "# Customer"
   ],
   "metadata": {
    "collapsed": false
   }
  },
  {
   "cell_type": "code",
   "execution_count": null,
   "outputs": [],
   "source": [
    "selectedColumn = ['Country', 'State']\n",
    "customer = sales[selectedColumn]\n",
    "newColumnNames = ['CUSTOMER_country', 'CUSTOMER_state']\n",
    "customer.columns = newColumnNames"
   ],
   "metadata": {
    "collapsed": false
   }
  },
  {
   "cell_type": "markdown",
   "source": [
    "# Day"
   ],
   "metadata": {
    "collapsed": false
   }
  },
  {
   "cell_type": "code",
   "execution_count": null,
   "outputs": [],
   "source": [
    "dateFormat = '%Y-%m-%d'\n",
    "DAY_date = Utils.getDayDate(sales, 'Date', dateFormat)\n",
    "DAY_date"
   ],
   "metadata": {
    "collapsed": false
   }
  },
  {
   "cell_type": "markdown",
   "source": [
    "# Order Detail"
   ],
   "metadata": {
    "collapsed": false
   }
  },
  {
   "cell_type": "code",
   "execution_count": null,
   "outputs": [],
   "source": [
    "selectedColumn = []\n",
    "\n",
    "newColumnNames = []"
   ],
   "metadata": {
    "collapsed": false
   }
  }
 ],
 "metadata": {
  "kernelspec": {
   "display_name": "Python 3",
   "language": "python",
   "name": "python3"
  },
  "language_info": {
   "codemirror_mode": {
    "name": "ipython",
    "version": 2
   },
   "file_extension": ".py",
   "mimetype": "text/x-python",
   "name": "python",
   "nbconvert_exporter": "python",
   "pygments_lexer": "ipython2",
   "version": "2.7.6"
  }
 },
 "nbformat": 4,
 "nbformat_minor": 0
}
