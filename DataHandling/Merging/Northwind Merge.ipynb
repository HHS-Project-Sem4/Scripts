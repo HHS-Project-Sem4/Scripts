{
 "cells": [
  {
   "cell_type": "code",
   "execution_count": 5,
   "metadata": {
    "collapsed": true,
    "ExecuteTime": {
     "end_time": "2023-05-26T06:02:54.402127400Z",
     "start_time": "2023-05-26T06:02:54.347252100Z"
    }
   },
   "outputs": [],
   "source": [
    "import pandas as pd\n",
    "import pyodbc\n",
    "import Utils"
   ]
  },
  {
   "cell_type": "code",
   "execution_count": 6,
   "outputs": [],
   "source": [
    "nortWindConnection = pyodbc.connect(\"Driver={SQL Server};\"\n",
    "                                \"Server=DESKTOP-8INVJ1O\\SQLEXPRESS;\"\n",
    "                                \"Database=Northwind;\"\n",
    "                                \"trusted_connection=yes\")"
   ],
   "metadata": {
    "collapsed": false,
    "ExecuteTime": {
     "end_time": "2023-05-26T06:02:54.403124600Z",
     "start_time": "2023-05-26T06:02:54.368219Z"
    }
   }
  },
  {
   "cell_type": "code",
   "execution_count": 7,
   "outputs": [
    {
     "name": "stderr",
     "output_type": "stream",
     "text": [
      "C:\\Users\\Max\\AppData\\Local\\Temp\\ipykernel_30380\\3887764839.py:1: UserWarning: pandas only supports SQLAlchemy connectable (engine/connection) or database string URI or sqlite3 DBAPI2 connection. Other DBAPI2 objects are not tested. Please consider using SQLAlchemy.\n",
      "  products = pd.read_sql(\"SELECT * FROM products\", nortWindConnection)\n",
      "C:\\Users\\Max\\AppData\\Local\\Temp\\ipykernel_30380\\3887764839.py:2: UserWarning: pandas only supports SQLAlchemy connectable (engine/connection) or database string URI or sqlite3 DBAPI2 connection. Other DBAPI2 objects are not tested. Please consider using SQLAlchemy.\n",
      "  categories = pd.read_sql(\"SELECT * FROM categories\", nortWindConnection)\n",
      "C:\\Users\\Max\\AppData\\Local\\Temp\\ipykernel_30380\\3887764839.py:3: UserWarning: pandas only supports SQLAlchemy connectable (engine/connection) or database string URI or sqlite3 DBAPI2 connection. Other DBAPI2 objects are not tested. Please consider using SQLAlchemy.\n",
      "  customers = pd.read_sql(\"SELECT * FROM customers\", nortWindConnection)\n",
      "C:\\Users\\Max\\AppData\\Local\\Temp\\ipykernel_30380\\3887764839.py:4: UserWarning: pandas only supports SQLAlchemy connectable (engine/connection) or database string URI or sqlite3 DBAPI2 connection. Other DBAPI2 objects are not tested. Please consider using SQLAlchemy.\n",
      "  employees = pd.read_sql(\"SELECT * FROM employees\", nortWindConnection)\n",
      "C:\\Users\\Max\\AppData\\Local\\Temp\\ipykernel_30380\\3887764839.py:5: UserWarning: pandas only supports SQLAlchemy connectable (engine/connection) or database string URI or sqlite3 DBAPI2 connection. Other DBAPI2 objects are not tested. Please consider using SQLAlchemy.\n",
      "  orderDetails = pd.read_sql(\"SELECT * FROM [order details]\", nortWindConnection)\n",
      "C:\\Users\\Max\\AppData\\Local\\Temp\\ipykernel_30380\\3887764839.py:6: UserWarning: pandas only supports SQLAlchemy connectable (engine/connection) or database string URI or sqlite3 DBAPI2 connection. Other DBAPI2 objects are not tested. Please consider using SQLAlchemy.\n",
      "  orders = pd.read_sql(\"SELECT * FROM orders\", nortWindConnection)\n"
     ]
    }
   ],
   "source": [
    "products = pd.read_sql(\"SELECT * FROM products\", nortWindConnection)\n",
    "categories = pd.read_sql(\"SELECT * FROM categories\", nortWindConnection)\n",
    "customers = pd.read_sql(\"SELECT * FROM customers\", nortWindConnection)\n",
    "employees = pd.read_sql(\"SELECT * FROM employees\", nortWindConnection)\n",
    "orderDetails = pd.read_sql(\"SELECT * FROM [order details]\", nortWindConnection)\n",
    "orders = pd.read_sql(\"SELECT * FROM orders\", nortWindConnection)"
   ],
   "metadata": {
    "collapsed": false,
    "ExecuteTime": {
     "end_time": "2023-05-26T06:02:54.456350800Z",
     "start_time": "2023-05-26T06:02:54.385173300Z"
    }
   }
  },
  {
   "cell_type": "markdown",
   "source": [
    "# PRODUCT\n",
    "can add a category on top as food/drinks etc?"
   ],
   "metadata": {
    "collapsed": false
   }
  },
  {
   "cell_type": "code",
   "execution_count": null,
   "outputs": [],
   "source": [
    "productData = pd.merge(products, categories, on='CategoryID')"
   ],
   "metadata": {
    "collapsed": false
   }
  },
  {
   "cell_type": "code",
   "execution_count": 8,
   "outputs": [
    {
     "data": {
      "text/plain": "    PRODUCT_id                   PRODUCT_name PRODUCT_sub_category\n0            1                           Chai            Beverages\n1            2                          Chang            Beverages\n2           24             Guaraná Fantástica            Beverages\n3           34                  Sasquatch Ale            Beverages\n4           35                 Steeleye Stout            Beverages\n..         ...                            ...                  ...\n72          42  Singaporean Hokkien Fried Mee       Grains/Cereals\n73          52                       Filo Mix       Grains/Cereals\n74          56         Gnocchi di nonna Alice       Grains/Cereals\n75          57                 Ravioli Angelo       Grains/Cereals\n76          64      Wimmers gute Semmelknödel       Grains/Cereals\n\n[77 rows x 3 columns]",
      "text/html": "<div>\n<style scoped>\n    .dataframe tbody tr th:only-of-type {\n        vertical-align: middle;\n    }\n\n    .dataframe tbody tr th {\n        vertical-align: top;\n    }\n\n    .dataframe thead th {\n        text-align: right;\n    }\n</style>\n<table border=\"1\" class=\"dataframe\">\n  <thead>\n    <tr style=\"text-align: right;\">\n      <th></th>\n      <th>PRODUCT_id</th>\n      <th>PRODUCT_name</th>\n      <th>PRODUCT_sub_category</th>\n    </tr>\n  </thead>\n  <tbody>\n    <tr>\n      <th>0</th>\n      <td>1</td>\n      <td>Chai</td>\n      <td>Beverages</td>\n    </tr>\n    <tr>\n      <th>1</th>\n      <td>2</td>\n      <td>Chang</td>\n      <td>Beverages</td>\n    </tr>\n    <tr>\n      <th>2</th>\n      <td>24</td>\n      <td>Guaraná Fantástica</td>\n      <td>Beverages</td>\n    </tr>\n    <tr>\n      <th>3</th>\n      <td>34</td>\n      <td>Sasquatch Ale</td>\n      <td>Beverages</td>\n    </tr>\n    <tr>\n      <th>4</th>\n      <td>35</td>\n      <td>Steeleye Stout</td>\n      <td>Beverages</td>\n    </tr>\n    <tr>\n      <th>...</th>\n      <td>...</td>\n      <td>...</td>\n      <td>...</td>\n    </tr>\n    <tr>\n      <th>72</th>\n      <td>42</td>\n      <td>Singaporean Hokkien Fried Mee</td>\n      <td>Grains/Cereals</td>\n    </tr>\n    <tr>\n      <th>73</th>\n      <td>52</td>\n      <td>Filo Mix</td>\n      <td>Grains/Cereals</td>\n    </tr>\n    <tr>\n      <th>74</th>\n      <td>56</td>\n      <td>Gnocchi di nonna Alice</td>\n      <td>Grains/Cereals</td>\n    </tr>\n    <tr>\n      <th>75</th>\n      <td>57</td>\n      <td>Ravioli Angelo</td>\n      <td>Grains/Cereals</td>\n    </tr>\n    <tr>\n      <th>76</th>\n      <td>64</td>\n      <td>Wimmers gute Semmelknödel</td>\n      <td>Grains/Cereals</td>\n    </tr>\n  </tbody>\n</table>\n<p>77 rows × 3 columns</p>\n</div>"
     },
     "execution_count": 8,
     "metadata": {},
     "output_type": "execute_result"
    }
   ],
   "source": [
    "productData = pd.merge(products, categories, on='CategoryID')\n",
    "selectedColumns = ['ProductID', 'ProductName', 'CategoryName']\n",
    "productData = productData[selectedColumns]"
   ],
   "metadata": {
    "collapsed": false,
    "ExecuteTime": {
     "end_time": "2023-05-26T06:02:54.469282300Z",
     "start_time": "2023-05-26T06:02:54.429055600Z"
    }
   }
  },
  {
   "cell_type": "code",
   "execution_count": null,
   "outputs": [],
   "source": [
    "newColumnNames = ['PRODUCT_id', 'PRODUCT_name', 'PRODUCT_sub_category']\n",
    "productData.columns = newColumnNames\n",
    "productData"
   ],
   "metadata": {
    "collapsed": false
   }
  },
  {
   "cell_type": "markdown",
   "source": [
    "# CUSTOMER"
   ],
   "metadata": {
    "collapsed": false
   }
  },
  {
   "cell_type": "code",
   "execution_count": 9,
   "outputs": [
    {
     "data": {
      "text/plain": "   CUSTOMER_id               CUSTOMER_address CUSTOMER_city CUSTOMER_country  \\\n0        ALFKI                  Obere Str. 57        Berlin          Germany   \n1        ANATR  Avda. de la Constitución 2222   México D.F.           Mexico   \n2        ANTON                Mataderos  2312   México D.F.           Mexico   \n3        AROUT                120 Hanover Sq.        London               UK   \n4        BERGS                Berguvsvägen  8         Luleå           Sweden   \n..         ...                            ...           ...              ...   \n86       WARTH                    Torikatu 38          Oulu          Finland   \n87       WELLI             Rua do Mercado, 12       Resende           Brazil   \n88       WHITC    305 - 14th Ave. S. Suite 3B       Seattle              USA   \n89       WILMK                  Keskuskatu 45      Helsinki          Finland   \n90       WOLZA                ul. Filtrowa 68      Warszawa           Poland   \n\n                 CUSTOMER_company_name  \n0                  Alfreds Futterkiste  \n1   Ana Trujillo Emparedados y helados  \n2              Antonio Moreno Taquería  \n3                      Around the Horn  \n4                   Berglunds snabbköp  \n..                                 ...  \n86                      Wartian Herkku  \n87              Wellington Importadora  \n88                White Clover Markets  \n89                         Wilman Kala  \n90                      Wolski  Zajazd  \n\n[91 rows x 5 columns]",
      "text/html": "<div>\n<style scoped>\n    .dataframe tbody tr th:only-of-type {\n        vertical-align: middle;\n    }\n\n    .dataframe tbody tr th {\n        vertical-align: top;\n    }\n\n    .dataframe thead th {\n        text-align: right;\n    }\n</style>\n<table border=\"1\" class=\"dataframe\">\n  <thead>\n    <tr style=\"text-align: right;\">\n      <th></th>\n      <th>CUSTOMER_id</th>\n      <th>CUSTOMER_address</th>\n      <th>CUSTOMER_city</th>\n      <th>CUSTOMER_country</th>\n      <th>CUSTOMER_company_name</th>\n    </tr>\n  </thead>\n  <tbody>\n    <tr>\n      <th>0</th>\n      <td>ALFKI</td>\n      <td>Obere Str. 57</td>\n      <td>Berlin</td>\n      <td>Germany</td>\n      <td>Alfreds Futterkiste</td>\n    </tr>\n    <tr>\n      <th>1</th>\n      <td>ANATR</td>\n      <td>Avda. de la Constitución 2222</td>\n      <td>México D.F.</td>\n      <td>Mexico</td>\n      <td>Ana Trujillo Emparedados y helados</td>\n    </tr>\n    <tr>\n      <th>2</th>\n      <td>ANTON</td>\n      <td>Mataderos  2312</td>\n      <td>México D.F.</td>\n      <td>Mexico</td>\n      <td>Antonio Moreno Taquería</td>\n    </tr>\n    <tr>\n      <th>3</th>\n      <td>AROUT</td>\n      <td>120 Hanover Sq.</td>\n      <td>London</td>\n      <td>UK</td>\n      <td>Around the Horn</td>\n    </tr>\n    <tr>\n      <th>4</th>\n      <td>BERGS</td>\n      <td>Berguvsvägen  8</td>\n      <td>Luleå</td>\n      <td>Sweden</td>\n      <td>Berglunds snabbköp</td>\n    </tr>\n    <tr>\n      <th>...</th>\n      <td>...</td>\n      <td>...</td>\n      <td>...</td>\n      <td>...</td>\n      <td>...</td>\n    </tr>\n    <tr>\n      <th>86</th>\n      <td>WARTH</td>\n      <td>Torikatu 38</td>\n      <td>Oulu</td>\n      <td>Finland</td>\n      <td>Wartian Herkku</td>\n    </tr>\n    <tr>\n      <th>87</th>\n      <td>WELLI</td>\n      <td>Rua do Mercado, 12</td>\n      <td>Resende</td>\n      <td>Brazil</td>\n      <td>Wellington Importadora</td>\n    </tr>\n    <tr>\n      <th>88</th>\n      <td>WHITC</td>\n      <td>305 - 14th Ave. S. Suite 3B</td>\n      <td>Seattle</td>\n      <td>USA</td>\n      <td>White Clover Markets</td>\n    </tr>\n    <tr>\n      <th>89</th>\n      <td>WILMK</td>\n      <td>Keskuskatu 45</td>\n      <td>Helsinki</td>\n      <td>Finland</td>\n      <td>Wilman Kala</td>\n    </tr>\n    <tr>\n      <th>90</th>\n      <td>WOLZA</td>\n      <td>ul. Filtrowa 68</td>\n      <td>Warszawa</td>\n      <td>Poland</td>\n      <td>Wolski  Zajazd</td>\n    </tr>\n  </tbody>\n</table>\n<p>91 rows × 5 columns</p>\n</div>"
     },
     "execution_count": 9,
     "metadata": {},
     "output_type": "execute_result"
    }
   ],
   "source": [
    "selectedColumns = ['CustomerID','Address','City','Country','CompanyName']\n",
    "customerData = customers[selectedColumns]"
   ],
   "metadata": {
    "collapsed": false,
    "ExecuteTime": {
     "end_time": "2023-05-26T06:02:54.469282300Z",
     "start_time": "2023-05-26T06:02:54.456350800Z"
    }
   }
  },
  {
   "cell_type": "code",
   "execution_count": null,
   "outputs": [],
   "source": [
    "newColumnNames = ['CUSTOMER_id','CUSTOMER_address','CUSTOMER_city','CUSTOMER_country','CUSTOMER_company_name']\n",
    "customerData.columns = newColumnNames\n",
    "customerData"
   ],
   "metadata": {
    "collapsed": false
   }
  },
  {
   "cell_type": "markdown",
   "source": [
    "# Employee"
   ],
   "metadata": {
    "collapsed": false
   }
  },
  {
   "cell_type": "code",
   "execution_count": 10,
   "outputs": [
    {
     "data": {
      "text/plain": "   EMPLOYEE_id EMPLOYEE_first_name EMPLOYEE_city EMPLOYEE_country\n0            1               Nancy       Seattle              USA\n1            2              Andrew        Tacoma              USA\n2            3               Janet      Kirkland              USA\n3            4            Margaret       Redmond              USA\n4            5              Steven        London               UK\n5            6             Michael        London               UK\n6            7              Robert        London               UK\n7            8               Laura       Seattle              USA\n8            9                Anne        London               UK",
      "text/html": "<div>\n<style scoped>\n    .dataframe tbody tr th:only-of-type {\n        vertical-align: middle;\n    }\n\n    .dataframe tbody tr th {\n        vertical-align: top;\n    }\n\n    .dataframe thead th {\n        text-align: right;\n    }\n</style>\n<table border=\"1\" class=\"dataframe\">\n  <thead>\n    <tr style=\"text-align: right;\">\n      <th></th>\n      <th>EMPLOYEE_id</th>\n      <th>EMPLOYEE_first_name</th>\n      <th>EMPLOYEE_city</th>\n      <th>EMPLOYEE_country</th>\n    </tr>\n  </thead>\n  <tbody>\n    <tr>\n      <th>0</th>\n      <td>1</td>\n      <td>Nancy</td>\n      <td>Seattle</td>\n      <td>USA</td>\n    </tr>\n    <tr>\n      <th>1</th>\n      <td>2</td>\n      <td>Andrew</td>\n      <td>Tacoma</td>\n      <td>USA</td>\n    </tr>\n    <tr>\n      <th>2</th>\n      <td>3</td>\n      <td>Janet</td>\n      <td>Kirkland</td>\n      <td>USA</td>\n    </tr>\n    <tr>\n      <th>3</th>\n      <td>4</td>\n      <td>Margaret</td>\n      <td>Redmond</td>\n      <td>USA</td>\n    </tr>\n    <tr>\n      <th>4</th>\n      <td>5</td>\n      <td>Steven</td>\n      <td>London</td>\n      <td>UK</td>\n    </tr>\n    <tr>\n      <th>5</th>\n      <td>6</td>\n      <td>Michael</td>\n      <td>London</td>\n      <td>UK</td>\n    </tr>\n    <tr>\n      <th>6</th>\n      <td>7</td>\n      <td>Robert</td>\n      <td>London</td>\n      <td>UK</td>\n    </tr>\n    <tr>\n      <th>7</th>\n      <td>8</td>\n      <td>Laura</td>\n      <td>Seattle</td>\n      <td>USA</td>\n    </tr>\n    <tr>\n      <th>8</th>\n      <td>9</td>\n      <td>Anne</td>\n      <td>London</td>\n      <td>UK</td>\n    </tr>\n  </tbody>\n</table>\n</div>"
     },
     "execution_count": 10,
     "metadata": {},
     "output_type": "execute_result"
    }
   ],
   "source": [
    "selectedColumns = ['EmployeeID','FirstName','City','Country']\n",
    "employeeData = employees[selectedColumns]"
   ],
   "metadata": {
    "collapsed": false,
    "ExecuteTime": {
     "end_time": "2023-05-26T06:02:54.480252100Z",
     "start_time": "2023-05-26T06:02:54.460306100Z"
    }
   }
  },
  {
   "cell_type": "code",
   "execution_count": null,
   "outputs": [],
   "source": [
    "newColumnNames = ['EMPLOYEE_id','EMPLOYEE_first_name','EMPLOYEE_city','EMPLOYEE_country']\n",
    "employeeData.columns = newColumnNames\n",
    "employeeData"
   ],
   "metadata": {
    "collapsed": false
   }
  },
  {
   "cell_type": "markdown",
   "source": [
    "# Date"
   ],
   "metadata": {
    "collapsed": false
   }
  },
  {
   "cell_type": "code",
   "execution_count": null,
   "outputs": [],
   "source": [
    "newColums = Utils.splitFrames(orders, 'OrderDate', [])\n",
    "sales = newColums[0]\n",
    "dateData = newColums[1]"
   ],
   "metadata": {
    "collapsed": false
   }
  },
  {
   "cell_type": "code",
   "execution_count": null,
   "outputs": [],
   "source": [
    "dateFormat = '%Y-%m-%d'\n",
    "DAY_date = Utils.getDayDate(dateData, 'OrderDate', dateFormat)\n",
    "DAY_date"
   ],
   "metadata": {
    "collapsed": false
   }
  },
  {
   "cell_type": "markdown",
   "source": [
    "# Order Details"
   ],
   "metadata": {
    "collapsed": false
   }
  },
  {
   "cell_type": "code",
   "execution_count": null,
   "outputs": [],
   "source": [
    "orderDetailsJoin = pd.merge(orderDetails, orders, on='OrderID')"
   ],
   "metadata": {
    "collapsed": false
   }
  },
  {
   "cell_type": "code",
   "execution_count": null,
   "outputs": [],
   "source": [
    "selectedColumns = ['Quantity', 'UnitPrice', 'OrderDate', 'EmployeeID', 'CustomerID', 'ProductID']\n",
    "orderDetailsData = orderDetailsJoin[selectedColumns]"
   ],
   "metadata": {
    "collapsed": false
   }
  },
  {
   "cell_type": "code",
   "execution_count": null,
   "outputs": [],
   "source": [
    "newColumnNames = ['ORDER_DETAIL_quantity', 'ORDER_DETAIL_unit_price', 'DAY_date', 'EMPLOYEE_id', 'KLANT_id', 'PRODUCT_id']\n",
    "orderDetailsData.columns = newColumnNames"
   ],
   "metadata": {
    "collapsed": false
   }
  }
 ],
 "metadata": {
  "kernelspec": {
   "display_name": "Python 3",
   "language": "python",
   "name": "python3"
  },
  "language_info": {
   "codemirror_mode": {
    "name": "ipython",
    "version": 2
   },
   "file_extension": ".py",
   "mimetype": "text/x-python",
   "name": "python",
   "nbconvert_exporter": "python",
   "pygments_lexer": "ipython2",
   "version": "2.7.6"
  }
 },
 "nbformat": 4,
 "nbformat_minor": 0
}
