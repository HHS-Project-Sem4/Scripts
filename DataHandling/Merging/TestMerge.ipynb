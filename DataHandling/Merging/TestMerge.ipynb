{
 "cells": [
  {
   "cell_type": "code",
   "execution_count": 16,
   "metadata": {
    "collapsed": true,
    "ExecuteTime": {
     "end_time": "2023-05-29T13:49:31.774608600Z",
     "start_time": "2023-05-29T13:49:31.730726100Z"
    }
   },
   "outputs": [],
   "source": [
    "from DataService import BrightSpaceData as data\n",
    "import pandas as pd"
   ]
  },
  {
   "cell_type": "code",
   "execution_count": 17,
   "outputs": [
    {
     "name": "stderr",
     "output_type": "stream",
     "text": [
      "C:\\Users\\Max\\Documents\\GitHub\\Scripts\\DataHandling\\Merging\\Repositories\\AdventureWorksRepository.py:19: UserWarning: pandas only supports SQLAlchemy connectable (engine/connection) or database string URI or sqlite3 DBAPI2 connection. Other DBAPI2 objects are not tested. Please consider using SQLAlchemy.\n",
      "  productData = pd.read_sql(productJoinQuery, self.dbConnection)\n",
      "C:\\Users\\Max\\Documents\\GitHub\\Scripts\\DataHandling\\Merging\\Repositories\\AdventureWorksRepository.py:39: UserWarning: pandas only supports SQLAlchemy connectable (engine/connection) or database string URI or sqlite3 DBAPI2 connection. Other DBAPI2 objects are not tested. Please consider using SQLAlchemy.\n",
      "  customerData = pd.read_sql(customerJoinQuery, self.dbConnection)\n",
      "C:\\Users\\Max\\Documents\\GitHub\\Scripts\\DataHandling\\Merging\\Repositories\\AdventureWorksRepository.py:59: UserWarning: pandas only supports SQLAlchemy connectable (engine/connection) or database string URI or sqlite3 DBAPI2 connection. Other DBAPI2 objects are not tested. Please consider using SQLAlchemy.\n",
      "  employeeData = pd.read_sql(employeeJoinQuery, self.dbConnection)\n",
      "C:\\Users\\Max\\Documents\\GitHub\\Scripts\\DataHandling\\Merging\\Repositories\\AdventureWorksRepository.py:73: UserWarning: pandas only supports SQLAlchemy connectable (engine/connection) or database string URI or sqlite3 DBAPI2 connection. Other DBAPI2 objects are not tested. Please consider using SQLAlchemy.\n",
      "  orderDates = pd.read_sql(\"SELECT DISTINCT OrderDate FROM sales.SalesOrderHeader\", self.dbConnection)\n",
      "C:\\Users\\Max\\Documents\\GitHub\\Scripts\\DataHandling\\Merging\\Repositories\\AdventureWorksRepository.py:87: UserWarning: pandas only supports SQLAlchemy connectable (engine/connection) or database string URI or sqlite3 DBAPI2 connection. Other DBAPI2 objects are not tested. Please consider using SQLAlchemy.\n",
      "  orderDetailsData = pd.read_sql(orderDetailsQuery, self.dbConnection)\n",
      "C:\\Users\\Max\\Documents\\GitHub\\Scripts\\DataHandling\\Merging\\Repositories\\NorthwindRepository.py:18: UserWarning: pandas only supports SQLAlchemy connectable (engine/connection) or database string URI or sqlite3 DBAPI2 connection. Other DBAPI2 objects are not tested. Please consider using SQLAlchemy.\n",
      "  productData = pd.read_sql(productJoinQuery, self.dbConnection)\n",
      "C:\\Users\\Max\\Documents\\GitHub\\Scripts\\DataHandling\\Merging\\Repositories\\NorthwindRepository.py:31: UserWarning: pandas only supports SQLAlchemy connectable (engine/connection) or database string URI or sqlite3 DBAPI2 connection. Other DBAPI2 objects are not tested. Please consider using SQLAlchemy.\n",
      "  customerData = pd.read_sql(customerJoinQuery, self.dbConnection)\n",
      "C:\\Users\\Max\\Documents\\GitHub\\Scripts\\DataHandling\\Merging\\Repositories\\NorthwindRepository.py:45: UserWarning: pandas only supports SQLAlchemy connectable (engine/connection) or database string URI or sqlite3 DBAPI2 connection. Other DBAPI2 objects are not tested. Please consider using SQLAlchemy.\n",
      "  employeeData = pd.read_sql(employeeJoinQuery, self.dbConnection)\n",
      "C:\\Users\\Max\\Documents\\GitHub\\Scripts\\DataHandling\\Merging\\Repositories\\NorthwindRepository.py:53: UserWarning: pandas only supports SQLAlchemy connectable (engine/connection) or database string URI or sqlite3 DBAPI2 connection. Other DBAPI2 objects are not tested. Please consider using SQLAlchemy.\n",
      "  orderDates = pd.read_sql(\"SELECT DISTINCT OrderDate FROM orders\", self.dbConnection)\n",
      "C:\\Users\\Max\\Documents\\GitHub\\Scripts\\DataHandling\\Merging\\Repositories\\NorthwindRepository.py:68: UserWarning: pandas only supports SQLAlchemy connectable (engine/connection) or database string URI or sqlite3 DBAPI2 connection. Other DBAPI2 objects are not tested. Please consider using SQLAlchemy.\n",
      "  orderDetailsData = pd.read_sql(orderDetailsQuery, self.dbConnection)\n"
     ]
    }
   ],
   "source": [
    "datasets = data()\n",
    "\n",
    "adventureWorksStar = datasets.getAdventureWorksData()\n",
    "northwindStar = datasets.getNorthwindData()"
   ],
   "metadata": {
    "collapsed": false,
    "ExecuteTime": {
     "end_time": "2023-05-29T13:49:34.315656500Z",
     "start_time": "2023-05-29T13:49:31.748677800Z"
    }
   }
  },
  {
   "cell_type": "code",
   "execution_count": 18,
   "outputs": [],
   "source": [
    "def mergeFrame(starFrame, frameTwo):\n",
    "    resultFrame = starFrame.copy()\n",
    "\n",
    "    for table in frameTwo:\n",
    "        resultFrame[table] = pd.concat([resultFrame[table], frameTwo[table]])\n",
    "\n",
    "    return resultFrame"
   ],
   "metadata": {
    "collapsed": false,
    "ExecuteTime": {
     "end_time": "2023-05-29T13:49:34.337733700Z",
     "start_time": "2023-05-29T13:49:34.317628600Z"
    }
   }
  },
  {
   "cell_type": "code",
   "execution_count": 19,
   "outputs": [],
   "source": [
    "newData = mergeFrame(adventureWorksStar, northwindStar)"
   ],
   "metadata": {
    "collapsed": false,
    "ExecuteTime": {
     "end_time": "2023-05-29T13:49:34.365802900Z",
     "start_time": "2023-05-29T13:49:34.336735500Z"
    }
   }
  },
  {
   "cell_type": "code",
   "execution_count": 20,
   "outputs": [
    {
     "data": {
      "text/plain": "    PRODUCT_id                     PRODUCT_name PRODUCT_category  \\\n0          707            Sport-100 Helmet, Red      Accessories   \n1          708          Sport-100 Helmet, Black      Accessories   \n2          709           Mountain Bike Socks, M         Clothing   \n3          710           Mountain Bike Socks, L         Clothing   \n4          711           Sport-100 Helmet, Blue      Accessories   \n..         ...                              ...              ...   \n72          73                       Röd Kaviar              NaN   \n73          74                    Longlife Tofu              NaN   \n74          75             Rhönbräu Klosterbier              NaN   \n75          76                     Lakkalikööri              NaN   \n76          77  Original Frankfurter grüne Soße              NaN   \n\n   PRODUCT_sub_category PRODUCT_colour  PRODUCT_prod_cost  \\\n0               Helmets            Red            13.0863   \n1               Helmets          Black            13.0863   \n2                 Socks          White             3.3963   \n3                 Socks          White             3.3963   \n4               Helmets           Blue            13.0863   \n..                  ...            ...                ...   \n72              Seafood            NaN                NaN   \n73              Produce            NaN                NaN   \n74            Beverages            NaN                NaN   \n75            Beverages            NaN                NaN   \n76           Condiments            NaN                NaN   \n\n    PRODUCT_storage_quantity  \n0                      288.0  \n1                      324.0  \n2                      180.0  \n3                      216.0  \n4                      216.0  \n..                       ...  \n72                       NaN  \n73                       NaN  \n74                       NaN  \n75                       NaN  \n76                       NaN  \n\n[537 rows x 7 columns]",
      "text/html": "<div>\n<style scoped>\n    .dataframe tbody tr th:only-of-type {\n        vertical-align: middle;\n    }\n\n    .dataframe tbody tr th {\n        vertical-align: top;\n    }\n\n    .dataframe thead th {\n        text-align: right;\n    }\n</style>\n<table border=\"1\" class=\"dataframe\">\n  <thead>\n    <tr style=\"text-align: right;\">\n      <th></th>\n      <th>PRODUCT_id</th>\n      <th>PRODUCT_name</th>\n      <th>PRODUCT_category</th>\n      <th>PRODUCT_sub_category</th>\n      <th>PRODUCT_colour</th>\n      <th>PRODUCT_prod_cost</th>\n      <th>PRODUCT_storage_quantity</th>\n    </tr>\n  </thead>\n  <tbody>\n    <tr>\n      <th>0</th>\n      <td>707</td>\n      <td>Sport-100 Helmet, Red</td>\n      <td>Accessories</td>\n      <td>Helmets</td>\n      <td>Red</td>\n      <td>13.0863</td>\n      <td>288.0</td>\n    </tr>\n    <tr>\n      <th>1</th>\n      <td>708</td>\n      <td>Sport-100 Helmet, Black</td>\n      <td>Accessories</td>\n      <td>Helmets</td>\n      <td>Black</td>\n      <td>13.0863</td>\n      <td>324.0</td>\n    </tr>\n    <tr>\n      <th>2</th>\n      <td>709</td>\n      <td>Mountain Bike Socks, M</td>\n      <td>Clothing</td>\n      <td>Socks</td>\n      <td>White</td>\n      <td>3.3963</td>\n      <td>180.0</td>\n    </tr>\n    <tr>\n      <th>3</th>\n      <td>710</td>\n      <td>Mountain Bike Socks, L</td>\n      <td>Clothing</td>\n      <td>Socks</td>\n      <td>White</td>\n      <td>3.3963</td>\n      <td>216.0</td>\n    </tr>\n    <tr>\n      <th>4</th>\n      <td>711</td>\n      <td>Sport-100 Helmet, Blue</td>\n      <td>Accessories</td>\n      <td>Helmets</td>\n      <td>Blue</td>\n      <td>13.0863</td>\n      <td>216.0</td>\n    </tr>\n    <tr>\n      <th>...</th>\n      <td>...</td>\n      <td>...</td>\n      <td>...</td>\n      <td>...</td>\n      <td>...</td>\n      <td>...</td>\n      <td>...</td>\n    </tr>\n    <tr>\n      <th>72</th>\n      <td>73</td>\n      <td>Röd Kaviar</td>\n      <td>NaN</td>\n      <td>Seafood</td>\n      <td>NaN</td>\n      <td>NaN</td>\n      <td>NaN</td>\n    </tr>\n    <tr>\n      <th>73</th>\n      <td>74</td>\n      <td>Longlife Tofu</td>\n      <td>NaN</td>\n      <td>Produce</td>\n      <td>NaN</td>\n      <td>NaN</td>\n      <td>NaN</td>\n    </tr>\n    <tr>\n      <th>74</th>\n      <td>75</td>\n      <td>Rhönbräu Klosterbier</td>\n      <td>NaN</td>\n      <td>Beverages</td>\n      <td>NaN</td>\n      <td>NaN</td>\n      <td>NaN</td>\n    </tr>\n    <tr>\n      <th>75</th>\n      <td>76</td>\n      <td>Lakkalikööri</td>\n      <td>NaN</td>\n      <td>Beverages</td>\n      <td>NaN</td>\n      <td>NaN</td>\n      <td>NaN</td>\n    </tr>\n    <tr>\n      <th>76</th>\n      <td>77</td>\n      <td>Original Frankfurter grüne Soße</td>\n      <td>NaN</td>\n      <td>Condiments</td>\n      <td>NaN</td>\n      <td>NaN</td>\n      <td>NaN</td>\n    </tr>\n  </tbody>\n</table>\n<p>537 rows × 7 columns</p>\n</div>"
     },
     "execution_count": 20,
     "metadata": {},
     "output_type": "execute_result"
    }
   ],
   "source": [
    "newData['product_df']"
   ],
   "metadata": {
    "collapsed": false,
    "ExecuteTime": {
     "end_time": "2023-05-29T13:49:34.377781100Z",
     "start_time": "2023-05-29T13:49:34.363809Z"
    }
   }
  },
  {
   "cell_type": "code",
   "execution_count": 21,
   "outputs": [
    {
     "name": "stderr",
     "output_type": "stream",
     "text": [
      "C:\\Users\\Max\\Documents\\GitHub\\Scripts\\DataHandling\\Merging\\Repositories\\AENCRepository.py:16: UserWarning: pandas only supports SQLAlchemy connectable (engine/connection) or database string URI or sqlite3 DBAPI2 connection. Other DBAPI2 objects are not tested. Please consider using SQLAlchemy.\n",
      "  productData = pd.read_sql(productJoinQuery, self.dbConnection)\n",
      "C:\\Users\\Max\\Documents\\GitHub\\Scripts\\DataHandling\\Merging\\Repositories\\AENCRepository.py:31: UserWarning: pandas only supports SQLAlchemy connectable (engine/connection) or database string URI or sqlite3 DBAPI2 connection. Other DBAPI2 objects are not tested. Please consider using SQLAlchemy.\n",
      "  customerData = pd.read_sql(customerJoinQuery, self.dbConnection)\n",
      "C:\\Users\\Max\\Documents\\GitHub\\Scripts\\DataHandling\\Merging\\Repositories\\AENCRepository.py:45: UserWarning: pandas only supports SQLAlchemy connectable (engine/connection) or database string URI or sqlite3 DBAPI2 connection. Other DBAPI2 objects are not tested. Please consider using SQLAlchemy.\n",
      "  employeeData = pd.read_sql(employeeJoinQuery, self.dbConnection)\n",
      "C:\\Users\\Max\\Documents\\GitHub\\Scripts\\DataHandling\\Merging\\Repositories\\AENCRepository.py:53: UserWarning: pandas only supports SQLAlchemy connectable (engine/connection) or database string URI or sqlite3 DBAPI2 connection. Other DBAPI2 objects are not tested. Please consider using SQLAlchemy.\n",
      "  orderDates = pd.read_sql(\"SELECT DISTINCT order_date FROM sales_order\", self.dbConnection)\n",
      "C:\\Users\\Max\\Documents\\GitHub\\Scripts\\DataHandling\\Merging\\Repositories\\AENCRepository.py:68: UserWarning: pandas only supports SQLAlchemy connectable (engine/connection) or database string URI or sqlite3 DBAPI2 connection. Other DBAPI2 objects are not tested. Please consider using SQLAlchemy.\n",
      "  orderDetailsData = pd.read_sql(orderDetailsQuery, self.dbConnection)\n"
     ]
    }
   ],
   "source": [
    "aencStar = datasets.getAENCData()\n",
    "newData = mergeFrame(newData, aencStar)"
   ],
   "metadata": {
    "collapsed": false,
    "ExecuteTime": {
     "end_time": "2023-05-29T13:49:35.043394600Z",
     "start_time": "2023-05-29T13:49:34.380763100Z"
    }
   }
  },
  {
   "cell_type": "code",
   "execution_count": 22,
   "outputs": [
    {
     "data": {
      "text/plain": "   PRODUCT_id             PRODUCT_name PRODUCT_category PRODUCT_sub_category  \\\n0         707    Sport-100 Helmet, Red      Accessories              Helmets   \n1         708  Sport-100 Helmet, Black      Accessories              Helmets   \n2         709   Mountain Bike Socks, M         Clothing                Socks   \n3         710   Mountain Bike Socks, L         Clothing                Socks   \n4         711   Sport-100 Helmet, Blue      Accessories              Helmets   \n..        ...                      ...              ...                  ...   \n5         500              Cloth Visor      Accessories                Visor   \n6         501            Plastic Visor      Accessories                Visor   \n7         600        Hooded Sweatshirt          Clothes           Sweatshirt   \n8         601        Zipped Sweatshirt          Clothes           Sweatshirt   \n9         700            Cotton Shorts          Clothes               Shorts   \n\n   PRODUCT_colour  PRODUCT_prod_cost PRODUCT_storage_quantity  \n0             Red            13.0863                    288.0  \n1           Black            13.0863                    324.0  \n2           White             3.3963                    180.0  \n3           White             3.3963                    216.0  \n4            Blue            13.0863                    216.0  \n..            ...                ...                      ...  \n5           White                NaN                       36  \n6           Black                NaN                       28  \n7           Green                NaN                       39  \n8            Blue                NaN                       32  \n9           Black                NaN                       80  \n\n[547 rows x 7 columns]",
      "text/html": "<div>\n<style scoped>\n    .dataframe tbody tr th:only-of-type {\n        vertical-align: middle;\n    }\n\n    .dataframe tbody tr th {\n        vertical-align: top;\n    }\n\n    .dataframe thead th {\n        text-align: right;\n    }\n</style>\n<table border=\"1\" class=\"dataframe\">\n  <thead>\n    <tr style=\"text-align: right;\">\n      <th></th>\n      <th>PRODUCT_id</th>\n      <th>PRODUCT_name</th>\n      <th>PRODUCT_category</th>\n      <th>PRODUCT_sub_category</th>\n      <th>PRODUCT_colour</th>\n      <th>PRODUCT_prod_cost</th>\n      <th>PRODUCT_storage_quantity</th>\n    </tr>\n  </thead>\n  <tbody>\n    <tr>\n      <th>0</th>\n      <td>707</td>\n      <td>Sport-100 Helmet, Red</td>\n      <td>Accessories</td>\n      <td>Helmets</td>\n      <td>Red</td>\n      <td>13.0863</td>\n      <td>288.0</td>\n    </tr>\n    <tr>\n      <th>1</th>\n      <td>708</td>\n      <td>Sport-100 Helmet, Black</td>\n      <td>Accessories</td>\n      <td>Helmets</td>\n      <td>Black</td>\n      <td>13.0863</td>\n      <td>324.0</td>\n    </tr>\n    <tr>\n      <th>2</th>\n      <td>709</td>\n      <td>Mountain Bike Socks, M</td>\n      <td>Clothing</td>\n      <td>Socks</td>\n      <td>White</td>\n      <td>3.3963</td>\n      <td>180.0</td>\n    </tr>\n    <tr>\n      <th>3</th>\n      <td>710</td>\n      <td>Mountain Bike Socks, L</td>\n      <td>Clothing</td>\n      <td>Socks</td>\n      <td>White</td>\n      <td>3.3963</td>\n      <td>216.0</td>\n    </tr>\n    <tr>\n      <th>4</th>\n      <td>711</td>\n      <td>Sport-100 Helmet, Blue</td>\n      <td>Accessories</td>\n      <td>Helmets</td>\n      <td>Blue</td>\n      <td>13.0863</td>\n      <td>216.0</td>\n    </tr>\n    <tr>\n      <th>...</th>\n      <td>...</td>\n      <td>...</td>\n      <td>...</td>\n      <td>...</td>\n      <td>...</td>\n      <td>...</td>\n      <td>...</td>\n    </tr>\n    <tr>\n      <th>5</th>\n      <td>500</td>\n      <td>Cloth Visor</td>\n      <td>Accessories</td>\n      <td>Visor</td>\n      <td>White</td>\n      <td>NaN</td>\n      <td>36</td>\n    </tr>\n    <tr>\n      <th>6</th>\n      <td>501</td>\n      <td>Plastic Visor</td>\n      <td>Accessories</td>\n      <td>Visor</td>\n      <td>Black</td>\n      <td>NaN</td>\n      <td>28</td>\n    </tr>\n    <tr>\n      <th>7</th>\n      <td>600</td>\n      <td>Hooded Sweatshirt</td>\n      <td>Clothes</td>\n      <td>Sweatshirt</td>\n      <td>Green</td>\n      <td>NaN</td>\n      <td>39</td>\n    </tr>\n    <tr>\n      <th>8</th>\n      <td>601</td>\n      <td>Zipped Sweatshirt</td>\n      <td>Clothes</td>\n      <td>Sweatshirt</td>\n      <td>Blue</td>\n      <td>NaN</td>\n      <td>32</td>\n    </tr>\n    <tr>\n      <th>9</th>\n      <td>700</td>\n      <td>Cotton Shorts</td>\n      <td>Clothes</td>\n      <td>Shorts</td>\n      <td>Black</td>\n      <td>NaN</td>\n      <td>80</td>\n    </tr>\n  </tbody>\n</table>\n<p>547 rows × 7 columns</p>\n</div>"
     },
     "execution_count": 22,
     "metadata": {},
     "output_type": "execute_result"
    }
   ],
   "source": [
    "newData['product_df']"
   ],
   "metadata": {
    "collapsed": false,
    "ExecuteTime": {
     "end_time": "2023-05-29T13:49:35.070968300Z",
     "start_time": "2023-05-29T13:49:35.045389400Z"
    }
   }
  },
  {
   "cell_type": "code",
   "execution_count": 23,
   "outputs": [
    {
     "name": "stderr",
     "output_type": "stream",
     "text": [
      "C:\\Users\\Max\\Documents\\GitHub\\Scripts\\DataHandling\\Merging\\Repositories\\SalesRepository.py:9: UserWarning: pandas only supports SQLAlchemy connectable (engine/connection) or database string URI or sqlite3 DBAPI2 connection. Other DBAPI2 objects are not tested. Please consider using SQLAlchemy.\n",
      "  self.salesDataFrame = pd.read_sql(\"SELECT * FROM Sales\", dbConnection)\n"
     ]
    }
   ],
   "source": [
    "salesStar = datasets.getSalesData()\n",
    "newData = mergeFrame(newData, salesStar)"
   ],
   "metadata": {
    "collapsed": false,
    "ExecuteTime": {
     "end_time": "2023-05-29T13:49:39.377829100Z",
     "start_time": "2023-05-29T13:49:35.060995Z"
    }
   }
  },
  {
   "cell_type": "code",
   "execution_count": 24,
   "outputs": [
    {
     "data": {
      "text/plain": "       PRODUCT_id             PRODUCT_name PRODUCT_category  \\\n0             707    Sport-100 Helmet, Red      Accessories   \n1             708  Sport-100 Helmet, Black      Accessories   \n2             709   Mountain Bike Socks, M         Clothing   \n3             710   Mountain Bike Socks, L         Clothing   \n4             711   Sport-100 Helmet, Blue      Accessories   \n...           ...                      ...              ...   \n108780      125.0    Touring-2000 Blue, 50            Bikes   \n108864      126.0    Touring-2000 Blue, 60            Bikes   \n112074      127.0          Classic Vest, L         Clothing   \n112080      128.0          Classic Vest, M         Clothing   \n112090      129.0          Classic Vest, S         Clothing   \n\n       PRODUCT_sub_category PRODUCT_colour  PRODUCT_prod_cost  \\\n0                   Helmets            Red            13.0863   \n1                   Helmets          Black            13.0863   \n2                     Socks          White             3.3963   \n3                     Socks          White             3.3963   \n4                   Helmets           Blue            13.0863   \n...                     ...            ...                ...   \n108780        Touring Bikes            NaN           755.0000   \n108864        Touring Bikes            NaN           755.0000   \n112074                Vests            NaN            24.0000   \n112080                Vests            NaN            24.0000   \n112090                Vests            NaN            24.0000   \n\n       PRODUCT_storage_quantity  \n0                         288.0  \n1                         324.0  \n2                         180.0  \n3                         216.0  \n4                         216.0  \n...                         ...  \n108780                      NaN  \n108864                      NaN  \n112074                      NaN  \n112080                      NaN  \n112090                      NaN  \n\n[677 rows x 7 columns]",
      "text/html": "<div>\n<style scoped>\n    .dataframe tbody tr th:only-of-type {\n        vertical-align: middle;\n    }\n\n    .dataframe tbody tr th {\n        vertical-align: top;\n    }\n\n    .dataframe thead th {\n        text-align: right;\n    }\n</style>\n<table border=\"1\" class=\"dataframe\">\n  <thead>\n    <tr style=\"text-align: right;\">\n      <th></th>\n      <th>PRODUCT_id</th>\n      <th>PRODUCT_name</th>\n      <th>PRODUCT_category</th>\n      <th>PRODUCT_sub_category</th>\n      <th>PRODUCT_colour</th>\n      <th>PRODUCT_prod_cost</th>\n      <th>PRODUCT_storage_quantity</th>\n    </tr>\n  </thead>\n  <tbody>\n    <tr>\n      <th>0</th>\n      <td>707</td>\n      <td>Sport-100 Helmet, Red</td>\n      <td>Accessories</td>\n      <td>Helmets</td>\n      <td>Red</td>\n      <td>13.0863</td>\n      <td>288.0</td>\n    </tr>\n    <tr>\n      <th>1</th>\n      <td>708</td>\n      <td>Sport-100 Helmet, Black</td>\n      <td>Accessories</td>\n      <td>Helmets</td>\n      <td>Black</td>\n      <td>13.0863</td>\n      <td>324.0</td>\n    </tr>\n    <tr>\n      <th>2</th>\n      <td>709</td>\n      <td>Mountain Bike Socks, M</td>\n      <td>Clothing</td>\n      <td>Socks</td>\n      <td>White</td>\n      <td>3.3963</td>\n      <td>180.0</td>\n    </tr>\n    <tr>\n      <th>3</th>\n      <td>710</td>\n      <td>Mountain Bike Socks, L</td>\n      <td>Clothing</td>\n      <td>Socks</td>\n      <td>White</td>\n      <td>3.3963</td>\n      <td>216.0</td>\n    </tr>\n    <tr>\n      <th>4</th>\n      <td>711</td>\n      <td>Sport-100 Helmet, Blue</td>\n      <td>Accessories</td>\n      <td>Helmets</td>\n      <td>Blue</td>\n      <td>13.0863</td>\n      <td>216.0</td>\n    </tr>\n    <tr>\n      <th>...</th>\n      <td>...</td>\n      <td>...</td>\n      <td>...</td>\n      <td>...</td>\n      <td>...</td>\n      <td>...</td>\n      <td>...</td>\n    </tr>\n    <tr>\n      <th>108780</th>\n      <td>125.0</td>\n      <td>Touring-2000 Blue, 50</td>\n      <td>Bikes</td>\n      <td>Touring Bikes</td>\n      <td>NaN</td>\n      <td>755.0000</td>\n      <td>NaN</td>\n    </tr>\n    <tr>\n      <th>108864</th>\n      <td>126.0</td>\n      <td>Touring-2000 Blue, 60</td>\n      <td>Bikes</td>\n      <td>Touring Bikes</td>\n      <td>NaN</td>\n      <td>755.0000</td>\n      <td>NaN</td>\n    </tr>\n    <tr>\n      <th>112074</th>\n      <td>127.0</td>\n      <td>Classic Vest, L</td>\n      <td>Clothing</td>\n      <td>Vests</td>\n      <td>NaN</td>\n      <td>24.0000</td>\n      <td>NaN</td>\n    </tr>\n    <tr>\n      <th>112080</th>\n      <td>128.0</td>\n      <td>Classic Vest, M</td>\n      <td>Clothing</td>\n      <td>Vests</td>\n      <td>NaN</td>\n      <td>24.0000</td>\n      <td>NaN</td>\n    </tr>\n    <tr>\n      <th>112090</th>\n      <td>129.0</td>\n      <td>Classic Vest, S</td>\n      <td>Clothing</td>\n      <td>Vests</td>\n      <td>NaN</td>\n      <td>24.0000</td>\n      <td>NaN</td>\n    </tr>\n  </tbody>\n</table>\n<p>677 rows × 7 columns</p>\n</div>"
     },
     "execution_count": 24,
     "metadata": {},
     "output_type": "execute_result"
    }
   ],
   "source": [
    "newData['product_df']"
   ],
   "metadata": {
    "collapsed": false,
    "ExecuteTime": {
     "end_time": "2023-05-29T13:49:39.393157900Z",
     "start_time": "2023-05-29T13:49:39.378804500Z"
    }
   }
  }
 ],
 "metadata": {
  "kernelspec": {
   "display_name": "Python 3",
   "language": "python",
   "name": "python3"
  },
  "language_info": {
   "codemirror_mode": {
    "name": "ipython",
    "version": 2
   },
   "file_extension": ".py",
   "mimetype": "text/x-python",
   "name": "python",
   "nbconvert_exporter": "python",
   "pygments_lexer": "ipython2",
   "version": "2.7.6"
  }
 },
 "nbformat": 4,
 "nbformat_minor": 0
}
