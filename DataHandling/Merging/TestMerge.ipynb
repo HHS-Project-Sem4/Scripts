{
 "cells": [
  {
   "cell_type": "code",
   "execution_count": 5,
   "metadata": {
    "collapsed": true,
    "ExecuteTime": {
     "end_time": "2023-05-29T19:08:17.975296100Z",
     "start_time": "2023-05-29T19:08:17.958160100Z"
    }
   },
   "outputs": [],
   "source": [
    "from DataService import BrightSpaceData as data\n",
    "from Repositories.AENCRepository import Repository as aencRepository\n",
    "from Repositories.NorthwindRepository import Repository as northwindRepository\n",
    "from Repositories.AdventureWorksRepository import Repository as adventureWorksRepository\n",
    "from Repositories.SalesRepository import Repository as salesRepository\n",
    "import pandas as pd"
   ]
  },
  {
   "cell_type": "code",
   "execution_count": 6,
   "outputs": [],
   "source": [
    "server = 'outdoorfusionserver.database.windows.net'\n",
    "username = 'floep'\n",
    "password = 'ploep123!'\n",
    "driver = '{ODBC Driver 17 for SQL Server}'\n",
    "dataService = data(server, username, password, driver)"
   ],
   "metadata": {
    "collapsed": false,
    "ExecuteTime": {
     "end_time": "2023-05-29T19:08:18.763812600Z",
     "start_time": "2023-05-29T19:08:18.757805400Z"
    }
   }
  },
  {
   "cell_type": "code",
   "execution_count": 7,
   "outputs": [],
   "source": [
    "northwind = 'Northwind'\n",
    "AENC = 'AENC'\n",
    "adventureWorks = 'AdventureWorks'\n",
    "sales = 'Sales_db'"
   ],
   "metadata": {
    "collapsed": false,
    "ExecuteTime": {
     "end_time": "2023-05-29T19:08:19.448125300Z",
     "start_time": "2023-05-29T19:08:19.434874800Z"
    }
   }
  },
  {
   "cell_type": "code",
   "execution_count": 8,
   "outputs": [
    {
     "name": "stderr",
     "output_type": "stream",
     "text": [
      "C:\\Users\\Max\\Documents\\GitHub\\Scripts\\DataHandling\\Merging\\Repositories\\NorthwindRepository.py:18: UserWarning: pandas only supports SQLAlchemy connectable (engine/connection) or database string URI or sqlite3 DBAPI2 connection. Other DBAPI2 objects are not tested. Please consider using SQLAlchemy.\n",
      "  productData = pd.read_sql(productJoinQuery, self.dbConnection)\n",
      "C:\\Users\\Max\\Documents\\GitHub\\Scripts\\DataHandling\\Merging\\Repositories\\NorthwindRepository.py:31: UserWarning: pandas only supports SQLAlchemy connectable (engine/connection) or database string URI or sqlite3 DBAPI2 connection. Other DBAPI2 objects are not tested. Please consider using SQLAlchemy.\n",
      "  customerData = pd.read_sql(customerJoinQuery, self.dbConnection)\n",
      "C:\\Users\\Max\\Documents\\GitHub\\Scripts\\DataHandling\\Merging\\Repositories\\NorthwindRepository.py:45: UserWarning: pandas only supports SQLAlchemy connectable (engine/connection) or database string URI or sqlite3 DBAPI2 connection. Other DBAPI2 objects are not tested. Please consider using SQLAlchemy.\n",
      "  employeeData = pd.read_sql(employeeJoinQuery, self.dbConnection)\n",
      "C:\\Users\\Max\\Documents\\GitHub\\Scripts\\DataHandling\\Merging\\Repositories\\NorthwindRepository.py:53: UserWarning: pandas only supports SQLAlchemy connectable (engine/connection) or database string URI or sqlite3 DBAPI2 connection. Other DBAPI2 objects are not tested. Please consider using SQLAlchemy.\n",
      "  orderDates = pd.read_sql(\"SELECT DISTINCT OrderDate FROM orders\", self.dbConnection)\n",
      "C:\\Users\\Max\\Documents\\GitHub\\Scripts\\DataHandling\\Merging\\Repositories\\NorthwindRepository.py:68: UserWarning: pandas only supports SQLAlchemy connectable (engine/connection) or database string URI or sqlite3 DBAPI2 connection. Other DBAPI2 objects are not tested. Please consider using SQLAlchemy.\n",
      "  orderDetailsData = pd.read_sql(orderDetailsQuery, self.dbConnection)\n",
      "C:\\Users\\Max\\Documents\\GitHub\\Scripts\\DataHandling\\Merging\\Repositories\\AENCRepository.py:16: UserWarning: pandas only supports SQLAlchemy connectable (engine/connection) or database string URI or sqlite3 DBAPI2 connection. Other DBAPI2 objects are not tested. Please consider using SQLAlchemy.\n",
      "  productData = pd.read_sql(productJoinQuery, self.dbConnection)\n",
      "C:\\Users\\Max\\Documents\\GitHub\\Scripts\\DataHandling\\Merging\\Repositories\\AENCRepository.py:31: UserWarning: pandas only supports SQLAlchemy connectable (engine/connection) or database string URI or sqlite3 DBAPI2 connection. Other DBAPI2 objects are not tested. Please consider using SQLAlchemy.\n",
      "  customerData = pd.read_sql(customerJoinQuery, self.dbConnection)\n",
      "C:\\Users\\Max\\Documents\\GitHub\\Scripts\\DataHandling\\Merging\\Repositories\\AENCRepository.py:45: UserWarning: pandas only supports SQLAlchemy connectable (engine/connection) or database string URI or sqlite3 DBAPI2 connection. Other DBAPI2 objects are not tested. Please consider using SQLAlchemy.\n",
      "  employeeData = pd.read_sql(employeeJoinQuery, self.dbConnection)\n",
      "C:\\Users\\Max\\Documents\\GitHub\\Scripts\\DataHandling\\Merging\\Repositories\\AENCRepository.py:53: UserWarning: pandas only supports SQLAlchemy connectable (engine/connection) or database string URI or sqlite3 DBAPI2 connection. Other DBAPI2 objects are not tested. Please consider using SQLAlchemy.\n",
      "  orderDates = pd.read_sql(\"SELECT DISTINCT order_date FROM sales_order\", self.dbConnection)\n",
      "C:\\Users\\Max\\Documents\\GitHub\\Scripts\\DataHandling\\Merging\\Repositories\\AENCRepository.py:68: UserWarning: pandas only supports SQLAlchemy connectable (engine/connection) or database string URI or sqlite3 DBAPI2 connection. Other DBAPI2 objects are not tested. Please consider using SQLAlchemy.\n",
      "  orderDetailsData = pd.read_sql(orderDetailsQuery, self.dbConnection)\n",
      "C:\\Users\\Max\\Documents\\GitHub\\Scripts\\DataHandling\\Merging\\Repositories\\AdventureWorksRepository.py:19: UserWarning: pandas only supports SQLAlchemy connectable (engine/connection) or database string URI or sqlite3 DBAPI2 connection. Other DBAPI2 objects are not tested. Please consider using SQLAlchemy.\n",
      "  productData = pd.read_sql(productJoinQuery, self.dbConnection)\n",
      "C:\\Users\\Max\\Documents\\GitHub\\Scripts\\DataHandling\\Merging\\Repositories\\AdventureWorksRepository.py:39: UserWarning: pandas only supports SQLAlchemy connectable (engine/connection) or database string URI or sqlite3 DBAPI2 connection. Other DBAPI2 objects are not tested. Please consider using SQLAlchemy.\n",
      "  customerData = pd.read_sql(customerJoinQuery, self.dbConnection)\n",
      "C:\\Users\\Max\\Documents\\GitHub\\Scripts\\DataHandling\\Merging\\Repositories\\AdventureWorksRepository.py:59: UserWarning: pandas only supports SQLAlchemy connectable (engine/connection) or database string URI or sqlite3 DBAPI2 connection. Other DBAPI2 objects are not tested. Please consider using SQLAlchemy.\n",
      "  employeeData = pd.read_sql(employeeJoinQuery, self.dbConnection)\n",
      "C:\\Users\\Max\\Documents\\GitHub\\Scripts\\DataHandling\\Merging\\Repositories\\AdventureWorksRepository.py:73: UserWarning: pandas only supports SQLAlchemy connectable (engine/connection) or database string URI or sqlite3 DBAPI2 connection. Other DBAPI2 objects are not tested. Please consider using SQLAlchemy.\n",
      "  orderDates = pd.read_sql(\"SELECT DISTINCT OrderDate FROM sales.SalesOrderHeader\", self.dbConnection)\n",
      "C:\\Users\\Max\\Documents\\GitHub\\Scripts\\DataHandling\\Merging\\Repositories\\AdventureWorksRepository.py:87: UserWarning: pandas only supports SQLAlchemy connectable (engine/connection) or database string URI or sqlite3 DBAPI2 connection. Other DBAPI2 objects are not tested. Please consider using SQLAlchemy.\n",
      "  orderDetailsData = pd.read_sql(orderDetailsQuery, self.dbConnection)\n"
     ]
    },
    {
     "ename": "OperationalError",
     "evalue": "('08001', '[08001] [Microsoft][ODBC Driver 17 for SQL Server]TCP Provider: Timeout error [258].  (258) (SQLDriverConnect); [08001] [Microsoft][ODBC Driver 17 for SQL Server]Login timeout expired (0); [08001] [Microsoft][ODBC Driver 17 for SQL Server]Unable to complete login process due to delay in login response (258)')",
     "output_type": "error",
     "traceback": [
      "\u001B[1;31m---------------------------------------------------------------------------\u001B[0m",
      "\u001B[1;31mOperationalError\u001B[0m                          Traceback (most recent call last)",
      "Cell \u001B[1;32mIn[8], line 4\u001B[0m\n\u001B[0;32m      2\u001B[0m aencStar \u001B[38;5;241m=\u001B[39m dataService\u001B[38;5;241m.\u001B[39mgetData(aencRepository, AENC)\n\u001B[0;32m      3\u001B[0m adventureWorksStar \u001B[38;5;241m=\u001B[39m dataService\u001B[38;5;241m.\u001B[39mgetData(adventureWorksRepository, adventureWorks)\n\u001B[1;32m----> 4\u001B[0m salesStar \u001B[38;5;241m=\u001B[39m \u001B[43mdataService\u001B[49m\u001B[38;5;241;43m.\u001B[39;49m\u001B[43mgetData\u001B[49m\u001B[43m(\u001B[49m\u001B[43msalesRepository\u001B[49m\u001B[43m,\u001B[49m\u001B[43m \u001B[49m\u001B[43msales\u001B[49m\u001B[43m)\u001B[49m\n",
      "File \u001B[1;32m~\\Documents\\GitHub\\Scripts\\DataHandling\\Merging\\DataService.py:12\u001B[0m, in \u001B[0;36mBrightSpaceData.getData\u001B[1;34m(self, repository, dbName)\u001B[0m\n\u001B[0;32m      9\u001B[0m \u001B[38;5;28;01mdef\u001B[39;00m \u001B[38;5;21mgetData\u001B[39m(\u001B[38;5;28mself\u001B[39m, repository, dbName):\n\u001B[0;32m     10\u001B[0m     connectionString \u001B[38;5;241m=\u001B[39m \u001B[38;5;124mf\u001B[39m\u001B[38;5;124m\"\u001B[39m\u001B[38;5;124mDRIVER=\u001B[39m\u001B[38;5;132;01m{\u001B[39;00m\u001B[38;5;28mself\u001B[39m\u001B[38;5;241m.\u001B[39mdriver\u001B[38;5;132;01m}\u001B[39;00m\u001B[38;5;124m;SERVER=\u001B[39m\u001B[38;5;132;01m{\u001B[39;00m\u001B[38;5;28mself\u001B[39m\u001B[38;5;241m.\u001B[39mserver\u001B[38;5;132;01m}\u001B[39;00m\u001B[38;5;124m;DATABASE=\u001B[39m\u001B[38;5;132;01m{\u001B[39;00mdbName\u001B[38;5;132;01m}\u001B[39;00m\u001B[38;5;124m;UID=\u001B[39m\u001B[38;5;132;01m{\u001B[39;00m\u001B[38;5;28mself\u001B[39m\u001B[38;5;241m.\u001B[39musername\u001B[38;5;132;01m}\u001B[39;00m\u001B[38;5;124m;PWD=\u001B[39m\u001B[38;5;132;01m{\u001B[39;00m\u001B[38;5;28mself\u001B[39m\u001B[38;5;241m.\u001B[39mpassword\u001B[38;5;132;01m}\u001B[39;00m\u001B[38;5;124m\"\u001B[39m\n\u001B[1;32m---> 12\u001B[0m     repository \u001B[38;5;241m=\u001B[39m \u001B[43mrepository\u001B[49m\u001B[43m(\u001B[49m\u001B[43mconnectionString\u001B[49m\u001B[43m)\u001B[49m\n\u001B[0;32m     14\u001B[0m     product_df \u001B[38;5;241m=\u001B[39m repository\u001B[38;5;241m.\u001B[39mgetProductDataFrame()\n\u001B[0;32m     15\u001B[0m     customer_df \u001B[38;5;241m=\u001B[39m repository\u001B[38;5;241m.\u001B[39mgetCustomerDataFrame()\n",
      "File \u001B[1;32m~\\Documents\\GitHub\\Scripts\\DataHandling\\Merging\\Repositories\\SalesRepository.py:8\u001B[0m, in \u001B[0;36mRepository.__init__\u001B[1;34m(self, connectionString)\u001B[0m\n\u001B[0;32m      7\u001B[0m \u001B[38;5;28;01mdef\u001B[39;00m \u001B[38;5;21m__init__\u001B[39m(\u001B[38;5;28mself\u001B[39m, connectionString):\n\u001B[1;32m----> 8\u001B[0m     dbConnection \u001B[38;5;241m=\u001B[39m \u001B[43mpyodbc\u001B[49m\u001B[38;5;241;43m.\u001B[39;49m\u001B[43mconnect\u001B[49m\u001B[43m(\u001B[49m\u001B[43mconnectionString\u001B[49m\u001B[43m)\u001B[49m\n\u001B[0;32m      9\u001B[0m     \u001B[38;5;28mself\u001B[39m\u001B[38;5;241m.\u001B[39msalesDataFrame \u001B[38;5;241m=\u001B[39m pd\u001B[38;5;241m.\u001B[39mread_sql(\u001B[38;5;124m\"\u001B[39m\u001B[38;5;124mSELECT * FROM Sales\u001B[39m\u001B[38;5;124m\"\u001B[39m, dbConnection)\n",
      "\u001B[1;31mOperationalError\u001B[0m: ('08001', '[08001] [Microsoft][ODBC Driver 17 for SQL Server]TCP Provider: Timeout error [258].  (258) (SQLDriverConnect); [08001] [Microsoft][ODBC Driver 17 for SQL Server]Login timeout expired (0); [08001] [Microsoft][ODBC Driver 17 for SQL Server]Unable to complete login process due to delay in login response (258)')"
     ]
    }
   ],
   "source": [
    "northwindStar = dataService.getData(northwindRepository, northwind)\n",
    "aencStar = dataService.getData(aencRepository, AENC)\n",
    "adventureWorksStar = dataService.getData(adventureWorksRepository, adventureWorks)\n",
    "salesStar = dataService.getData(salesRepository, sales)"
   ],
   "metadata": {
    "collapsed": false,
    "ExecuteTime": {
     "end_time": "2023-05-29T19:08:54.833420900Z",
     "start_time": "2023-05-29T19:08:20.327791Z"
    }
   }
  },
  {
   "cell_type": "code",
   "execution_count": null,
   "outputs": [],
   "source": [
    "def mergeFrame(starFrame, frameTwo):\n",
    "    resultFrame = starFrame.copy()\n",
    "\n",
    "    for table in frameTwo:\n",
    "        resultFrame[table] = pd.concat([resultFrame[table], frameTwo[table]])\n",
    "\n",
    "    return resultFrame"
   ],
   "metadata": {
    "collapsed": false
   }
  },
  {
   "cell_type": "code",
   "execution_count": null,
   "outputs": [],
   "source": [
    "newData = mergeFrame(adventureWorksStar, northwindStar)"
   ],
   "metadata": {
    "collapsed": false
   }
  },
  {
   "cell_type": "code",
   "execution_count": null,
   "outputs": [],
   "source": [
    "newData['product_df']"
   ],
   "metadata": {
    "collapsed": false
   }
  },
  {
   "cell_type": "code",
   "execution_count": null,
   "outputs": [],
   "source": [
    "newData = mergeFrame(newData, aencStar)"
   ],
   "metadata": {
    "collapsed": false
   }
  },
  {
   "cell_type": "code",
   "execution_count": null,
   "outputs": [],
   "source": [
    "newData['product_df']"
   ],
   "metadata": {
    "collapsed": false
   }
  },
  {
   "cell_type": "code",
   "execution_count": null,
   "outputs": [],
   "source": [
    "newData = mergeFrame(newData, salesStar)"
   ],
   "metadata": {
    "collapsed": false
   }
  },
  {
   "cell_type": "code",
   "execution_count": null,
   "outputs": [],
   "source": [
    "newData['product_df']"
   ],
   "metadata": {
    "collapsed": false
   }
  }
 ],
 "metadata": {
  "kernelspec": {
   "display_name": "Python 3",
   "language": "python",
   "name": "python3"
  },
  "language_info": {
   "codemirror_mode": {
    "name": "ipython",
    "version": 2
   },
   "file_extension": ".py",
   "mimetype": "text/x-python",
   "name": "python",
   "nbconvert_exporter": "python",
   "pygments_lexer": "ipython2",
   "version": "2.7.6"
  }
 },
 "nbformat": 4,
 "nbformat_minor": 0
}
