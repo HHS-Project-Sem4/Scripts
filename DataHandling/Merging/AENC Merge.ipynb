{
 "cells": [
  {
   "cell_type": "code",
   "execution_count": 72,
   "metadata": {
    "collapsed": true,
    "ExecuteTime": {
     "end_time": "2023-05-26T18:26:22.585047900Z",
     "start_time": "2023-05-26T18:26:22.544116600Z"
    }
   },
   "outputs": [],
   "source": [
    "import pandas as pd\n",
    "import pyodbc\n",
    "import Utils"
   ]
  },
  {
   "cell_type": "code",
   "execution_count": 73,
   "outputs": [],
   "source": [
    "aencConnection = pyodbc.connect(\"Driver={SQL Server};\"\n",
    "                                \"Server=DESKTOP-8INVJ1O\\SQLEXPRESS;\"\n",
    "                                \"Database=AENC;\"\n",
    "                                \"trusted_connection=yes\")"
   ],
   "metadata": {
    "collapsed": false,
    "ExecuteTime": {
     "end_time": "2023-05-26T18:26:22.665250500Z",
     "start_time": "2023-05-26T18:26:22.549113200Z"
    }
   }
  },
  {
   "cell_type": "code",
   "execution_count": 74,
   "outputs": [
    {
     "name": "stderr",
     "output_type": "stream",
     "text": [
      "C:\\Users\\Max\\AppData\\Local\\Temp\\ipykernel_31972\\2065893459.py:1: UserWarning: pandas only supports SQLAlchemy connectable (engine/connection) or database string URI or sqlite3 DBAPI2 connection. Other DBAPI2 objects are not tested. Please consider using SQLAlchemy.\n",
      "  product = pd.read_sql(\"SELECT * FROM product\", aencConnection)\n",
      "C:\\Users\\Max\\AppData\\Local\\Temp\\ipykernel_31972\\2065893459.py:2: UserWarning: pandas only supports SQLAlchemy connectable (engine/connection) or database string URI or sqlite3 DBAPI2 connection. Other DBAPI2 objects are not tested. Please consider using SQLAlchemy.\n",
      "  customer  = pd.read_sql(\"SELECT * FROM customer\", aencConnection)\n",
      "C:\\Users\\Max\\AppData\\Local\\Temp\\ipykernel_31972\\2065893459.py:3: UserWarning: pandas only supports SQLAlchemy connectable (engine/connection) or database string URI or sqlite3 DBAPI2 connection. Other DBAPI2 objects are not tested. Please consider using SQLAlchemy.\n",
      "  employee  = pd.read_sql(\"SELECT * FROM employee\", aencConnection)\n",
      "C:\\Users\\Max\\AppData\\Local\\Temp\\ipykernel_31972\\2065893459.py:4: UserWarning: pandas only supports SQLAlchemy connectable (engine/connection) or database string URI or sqlite3 DBAPI2 connection. Other DBAPI2 objects are not tested. Please consider using SQLAlchemy.\n",
      "  state  = pd.read_sql(\"SELECT * FROM state\", aencConnection)\n",
      "C:\\Users\\Max\\AppData\\Local\\Temp\\ipykernel_31972\\2065893459.py:5: UserWarning: pandas only supports SQLAlchemy connectable (engine/connection) or database string URI or sqlite3 DBAPI2 connection. Other DBAPI2 objects are not tested. Please consider using SQLAlchemy.\n",
      "  salesOrder  = pd.read_sql(\"SELECT * FROM sales_order\", aencConnection)\n",
      "C:\\Users\\Max\\AppData\\Local\\Temp\\ipykernel_31972\\2065893459.py:6: UserWarning: pandas only supports SQLAlchemy connectable (engine/connection) or database string URI or sqlite3 DBAPI2 connection. Other DBAPI2 objects are not tested. Please consider using SQLAlchemy.\n",
      "  salesOrderItem  = pd.read_sql(\"SELECT * FROM sales_order_item\", aencConnection)\n"
     ]
    }
   ],
   "source": [
    "product = pd.read_sql(\"SELECT * FROM product\", aencConnection)\n",
    "customer  = pd.read_sql(\"SELECT * FROM customer\", aencConnection)\n",
    "employee  = pd.read_sql(\"SELECT * FROM employee\", aencConnection)\n",
    "state  = pd.read_sql(\"SELECT * FROM state\", aencConnection)\n",
    "salesOrder  = pd.read_sql(\"SELECT * FROM sales_order\", aencConnection)\n",
    "salesOrderItem  = pd.read_sql(\"SELECT * FROM sales_order_item\", aencConnection)"
   ],
   "metadata": {
    "collapsed": false,
    "ExecuteTime": {
     "end_time": "2023-05-26T18:26:22.684616300Z",
     "start_time": "2023-05-26T18:26:22.564263800Z"
    }
   }
  },
  {
   "cell_type": "markdown",
   "source": [
    "# Product\n",
    "add unit price from product to order because new product dataframe doesn't need this one but the merged fact table / star scheme does need it"
   ],
   "metadata": {
    "collapsed": false
   }
  },
  {
   "cell_type": "code",
   "execution_count": 75,
   "outputs": [],
   "source": [
    "# rename initial because id name doesnt match properly\n",
    "selectedColumns = ['id','description' ,'name', 'Category', 'color', 'quantity', 'unit_price']\n",
    "product = product[selectedColumns]\n",
    "newColumnNames = ['prod_id','description' ,'name', 'Category', 'color', 'quantity', 'unit_price']\n",
    "product.columns = newColumnNames"
   ],
   "metadata": {
    "collapsed": false,
    "ExecuteTime": {
     "end_time": "2023-05-26T18:26:22.685613800Z",
     "start_time": "2023-05-26T18:26:22.596019100Z"
    }
   }
  },
  {
   "cell_type": "code",
   "execution_count": 76,
   "outputs": [],
   "source": [
    "salesOrderItem = pd.merge(salesOrderItem, product[['prod_id', 'unit_price']],on='prod_id', how='left')"
   ],
   "metadata": {
    "collapsed": false,
    "ExecuteTime": {
     "end_time": "2023-05-26T18:26:22.685613800Z",
     "start_time": "2023-05-26T18:26:22.610207500Z"
    }
   }
  },
  {
   "cell_type": "code",
   "execution_count": 77,
   "outputs": [],
   "source": [
    "selectedColumns = ['prod_id','description' ,'name', 'Category', 'color', 'quantity']\n",
    "productData = product[selectedColumns]"
   ],
   "metadata": {
    "collapsed": false,
    "ExecuteTime": {
     "end_time": "2023-05-26T18:26:22.685613800Z",
     "start_time": "2023-05-26T18:26:22.626205300Z"
    }
   }
  },
  {
   "cell_type": "code",
   "execution_count": 78,
   "outputs": [],
   "source": [
    "newColumnNames = ['PRODUCT_id' , 'PRODUCT_name','PRODUCT_sub_category', 'PRODUCT_category', 'PRODUCT_color', 'PRODUCT_storage_quantity']\n",
    "productData.columns = newColumnNames"
   ],
   "metadata": {
    "collapsed": false,
    "ExecuteTime": {
     "end_time": "2023-05-26T18:26:22.685613800Z",
     "start_time": "2023-05-26T18:26:22.641314400Z"
    }
   }
  },
  {
   "cell_type": "markdown",
   "source": [
    "# Customer"
   ],
   "metadata": {
    "collapsed": false
   }
  },
  {
   "cell_type": "code",
   "execution_count": 79,
   "outputs": [],
   "source": [
    "customerData = pd.merge(customer, state, left_on='state', right_on='state_id' , how='inner')"
   ],
   "metadata": {
    "collapsed": false,
    "ExecuteTime": {
     "end_time": "2023-05-26T18:26:22.686611700Z",
     "start_time": "2023-05-26T18:26:22.659266200Z"
    }
   }
  },
  {
   "cell_type": "code",
   "execution_count": 80,
   "outputs": [],
   "source": [
    "selectedColumns = ['id', 'address', 'city', 'state_name', 'region', 'country', 'company_name']\n",
    "customerData = customerData[selectedColumns]"
   ],
   "metadata": {
    "collapsed": false,
    "ExecuteTime": {
     "end_time": "2023-05-26T18:26:22.700479600Z",
     "start_time": "2023-05-26T18:26:22.673229700Z"
    }
   }
  },
  {
   "cell_type": "code",
   "execution_count": 81,
   "outputs": [],
   "source": [
    "newColumnNames = ['CUSTOMER_id', 'CUSTOMER_address', 'CUSTOMER_city', 'CUSTOMER_state', 'CUSTOMER_region', 'CUSTOMER_country', 'CUSTOMER_company_name']\n",
    "customerData.columns = newColumnNames"
   ],
   "metadata": {
    "collapsed": false,
    "ExecuteTime": {
     "end_time": "2023-05-26T18:26:22.733385800Z",
     "start_time": "2023-05-26T18:26:22.687610200Z"
    }
   }
  },
  {
   "cell_type": "markdown",
   "source": [
    "# Employee"
   ],
   "metadata": {
    "collapsed": false
   }
  },
  {
   "cell_type": "code",
   "execution_count": 82,
   "outputs": [],
   "source": [
    "selectedColumns = ['emp_id', 'emp_fname', 'emp_lname', 'city']\n",
    "employeeDate = employee[selectedColumns]"
   ],
   "metadata": {
    "collapsed": false,
    "ExecuteTime": {
     "end_time": "2023-05-26T18:26:22.733385800Z",
     "start_time": "2023-05-26T18:26:22.704491900Z"
    }
   }
  },
  {
   "cell_type": "code",
   "execution_count": 83,
   "outputs": [],
   "source": [
    "newColumnNames = ['EMPLOYEE_id','EMPLOYEE_first_name','EMPLOYEE_last_name','EMPLOYEE_city']\n",
    "employeeDate.columns = newColumnNames"
   ],
   "metadata": {
    "collapsed": false,
    "ExecuteTime": {
     "end_time": "2023-05-26T18:26:22.742877700Z",
     "start_time": "2023-05-26T18:26:22.719576500Z"
    }
   }
  },
  {
   "cell_type": "markdown",
   "source": [
    "# Day"
   ],
   "metadata": {
    "collapsed": false
   }
  },
  {
   "cell_type": "code",
   "execution_count": 84,
   "outputs": [],
   "source": [
    "newFrames = Utils.splitFrames(salesOrder, 'order_date', [])\n",
    "salesOrder = newFrames[0]\n",
    "dateData = newFrames[1]"
   ],
   "metadata": {
    "collapsed": false,
    "ExecuteTime": {
     "end_time": "2023-05-26T18:26:22.763840100Z",
     "start_time": "2023-05-26T18:26:22.734363100Z"
    }
   }
  },
  {
   "cell_type": "code",
   "execution_count": 85,
   "outputs": [],
   "source": [
    "dateFormat = '%d-%b-%Y %H:%M:%S %p'\n",
    "DAY_date = Utils.getDayDate(salesOrder, 'order_date', dateFormat)"
   ],
   "metadata": {
    "collapsed": false,
    "ExecuteTime": {
     "end_time": "2023-05-26T18:26:23.366131900Z",
     "start_time": "2023-05-26T18:26:22.750856400Z"
    }
   }
  },
  {
   "cell_type": "markdown",
   "source": [
    "# Order Detail"
   ],
   "metadata": {
    "collapsed": false
   }
  },
  {
   "cell_type": "code",
   "execution_count": 86,
   "outputs": [],
   "source": [
    "orderDetailJoin = pd.merge(salesOrder, salesOrderItem, on='id')"
   ],
   "metadata": {
    "collapsed": false,
    "ExecuteTime": {
     "end_time": "2023-05-26T18:26:23.382241700Z",
     "start_time": "2023-05-26T18:26:23.367107700Z"
    }
   }
  },
  {
   "cell_type": "code",
   "execution_count": 88,
   "outputs": [],
   "source": [
    "selectedColumns = ['id','cust_id', 'order_date', 'sales_rep', 'prod_id', 'unit_price', 'quantity']\n",
    "orderDetailData = orderDetailJoin[selectedColumns]"
   ],
   "metadata": {
    "collapsed": false,
    "ExecuteTime": {
     "end_time": "2023-05-26T18:26:23.442758400Z",
     "start_time": "2023-05-26T18:26:23.399197700Z"
    }
   }
  },
  {
   "cell_type": "code",
   "execution_count": 89,
   "outputs": [],
   "source": [
    "newColumnNames = ['ORDER_DETAIL_NUMBER', 'CUSTOMER_id', 'DAY_date', 'EMPLOYEE_id', 'PRODUCT_id', 'ORDER_DETAIL_unit_price', 'ORDER_DETAIL_order_quantity']\n",
    "orderDetailData.columns = newColumnNames"
   ],
   "metadata": {
    "collapsed": false,
    "ExecuteTime": {
     "end_time": "2023-05-26T18:26:23.458623600Z",
     "start_time": "2023-05-26T18:26:23.414300700Z"
    }
   }
  }
 ],
 "metadata": {
  "kernelspec": {
   "display_name": "Python 3",
   "language": "python",
   "name": "python3"
  },
  "language_info": {
   "codemirror_mode": {
    "name": "ipython",
    "version": 2
   },
   "file_extension": ".py",
   "mimetype": "text/x-python",
   "name": "python",
   "nbconvert_exporter": "python",
   "pygments_lexer": "ipython2",
   "version": "2.7.6"
  }
 },
 "nbformat": 4,
 "nbformat_minor": 0
}
