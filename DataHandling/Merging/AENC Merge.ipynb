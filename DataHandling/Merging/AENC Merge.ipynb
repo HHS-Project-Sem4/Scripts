{
 "cells": [
  {
   "cell_type": "code",
   "execution_count": 1,
   "metadata": {
    "collapsed": true,
    "ExecuteTime": {
     "end_time": "2023-05-25T18:36:28.508299100Z",
     "start_time": "2023-05-25T18:36:28.047609400Z"
    }
   },
   "outputs": [],
   "source": [
    "import pandas as pd\n",
    "import pyodbc"
   ]
  },
  {
   "cell_type": "code",
   "execution_count": 2,
   "outputs": [],
   "source": [
    "aencConnection = pyodbc.connect(\"Driver={SQL Server};\"\n",
    "                                \"Server=DESKTOP-8INVJ1O\\SQLEXPRESS;\"\n",
    "                                \"Database=AENC;\"\n",
    "                                \"trusted_connection=yes\")"
   ],
   "metadata": {
    "collapsed": false,
    "ExecuteTime": {
     "end_time": "2023-05-25T18:36:28.541951500Z",
     "start_time": "2023-05-25T18:36:28.499322Z"
    }
   }
  },
  {
   "cell_type": "code",
   "execution_count": null,
   "outputs": [],
   "source": [
    "productSource = pd.read_sql(\"SELECT * FROM product\", aencConnection)\n",
    "customerSource  = pd.read_sql(\"SELECT * FROM customer\", aencConnection)\n",
    "employeeSource  = pd.read_sql(\"SELECT * FROM employee\", aencConnection)\n",
    "stateSource  = pd.read_sql(\"SELECT * FROM state\", aencConnection)\n",
    "salesOrderSource  = pd.read_sql(\"SELECT * FROM sales_order\", aencConnection)\n",
    "salesOrderItemSource  = pd.read_sql(\"SELECT * FROM sales_order_item\", aencConnection)"
   ],
   "metadata": {
    "collapsed": false
   }
  },
  {
   "cell_type": "code",
   "execution_count": 4,
   "outputs": [],
   "source": [
    "productColumns = ['PRODUCT_id' , 'PRODUCT_name', 'PRODUCT_category' ,'PRODUCT_sub_category', 'PRODUCT_color', 'PRODUCT_prod_cost', 'PRODUCT_storage_quantity']\n",
    "customerColumns = ['CUSTOMER_id', 'CUSTOMER_address', 'CUSTOMER_city', 'CUSTOMER_state', 'CUSTOMER_region', 'CUSTOMER_country', 'CUSTOMER_company_name']\n",
    "employeeColumns = ['EMPLOYEE_id','EMPLOYEE_first_name','EMPLOYEE_last_name','EMPLOYEE_city','EMPLOYEE_region','EMPLOYEE_country']\n",
    "dayColumns = ['DAY_date','DAY_MONTH_nr','DAY_QUARTER_nr', 'DAY_YEAR_nr']\n",
    "orderDetailColumns = ['ORDER_DETAIL_NUMBER','ORDER_DETAIL_quantity', 'ORDER_DETAIL_unit_price',  'DAY_date', 'EMPLOYEE_id', 'KLANT_id', 'PRODUCT_id']"
   ],
   "metadata": {
    "collapsed": false,
    "ExecuteTime": {
     "end_time": "2023-05-25T18:36:28.710668Z",
     "start_time": "2023-05-25T18:36:28.668860400Z"
    }
   }
  },
  {
   "cell_type": "code",
   "execution_count": 5,
   "outputs": [],
   "source": [
    "productDataframe = pd.DataFrame(columns=productColumns)\n",
    "customerDateframe = pd.DataFrame(columns=customerColumns)\n",
    "employeeDateframe = pd.DataFrame(columns=employeeColumns)\n",
    "dayDateframe = pd.DataFrame(columns=dayColumns)\n",
    "orderDetailDataframe = pd.DataFrame(columns=orderDetailColumns)"
   ],
   "metadata": {
    "collapsed": false,
    "ExecuteTime": {
     "end_time": "2023-05-25T18:36:28.726621100Z",
     "start_time": "2023-05-25T18:36:28.710668Z"
    }
   }
  },
  {
   "cell_type": "markdown",
   "source": [
    "# Product"
   ],
   "metadata": {
    "collapsed": false
   }
  },
  {
   "cell_type": "code",
   "execution_count": 6,
   "outputs": [
    {
     "data": {
      "text/plain": "        id line_id prod_id quantity                ship_date unit_price\n0     2001       1     300       12  15-Sep-1996 12:00:00 AM          9\n1     2001       2     301       12  14-Sep-1996 12:00:00 AM         14\n2     2001       3     302       12  14-Sep-1996 12:00:00 AM         14\n3     2002       1     400       24  18-Sep-1996 12:00:00 AM          9\n4     2002       2     401       24  18-Sep-1996 12:00:00 AM         10\n...    ...     ...     ...      ...                      ...        ...\n1098  2652       2     300       10  01-Dec-1998 12:00:00 AM          9\n1099  2653       1     301        0  17-Oct-1999 12:00:00 AM         14\n1100  2654       1     301       15  29-Oct-1999 12:00:00 AM         14\n1101  2654       2     302        3  29-Oct-1999 12:00:00 AM         14\n1102  2654       3     400        8  29-Oct-1999 12:00:00 AM          9\n\n[1103 rows x 6 columns]",
      "text/html": "<div>\n<style scoped>\n    .dataframe tbody tr th:only-of-type {\n        vertical-align: middle;\n    }\n\n    .dataframe tbody tr th {\n        vertical-align: top;\n    }\n\n    .dataframe thead th {\n        text-align: right;\n    }\n</style>\n<table border=\"1\" class=\"dataframe\">\n  <thead>\n    <tr style=\"text-align: right;\">\n      <th></th>\n      <th>id</th>\n      <th>line_id</th>\n      <th>prod_id</th>\n      <th>quantity</th>\n      <th>ship_date</th>\n      <th>unit_price</th>\n    </tr>\n  </thead>\n  <tbody>\n    <tr>\n      <th>0</th>\n      <td>2001</td>\n      <td>1</td>\n      <td>300</td>\n      <td>12</td>\n      <td>15-Sep-1996 12:00:00 AM</td>\n      <td>9</td>\n    </tr>\n    <tr>\n      <th>1</th>\n      <td>2001</td>\n      <td>2</td>\n      <td>301</td>\n      <td>12</td>\n      <td>14-Sep-1996 12:00:00 AM</td>\n      <td>14</td>\n    </tr>\n    <tr>\n      <th>2</th>\n      <td>2001</td>\n      <td>3</td>\n      <td>302</td>\n      <td>12</td>\n      <td>14-Sep-1996 12:00:00 AM</td>\n      <td>14</td>\n    </tr>\n    <tr>\n      <th>3</th>\n      <td>2002</td>\n      <td>1</td>\n      <td>400</td>\n      <td>24</td>\n      <td>18-Sep-1996 12:00:00 AM</td>\n      <td>9</td>\n    </tr>\n    <tr>\n      <th>4</th>\n      <td>2002</td>\n      <td>2</td>\n      <td>401</td>\n      <td>24</td>\n      <td>18-Sep-1996 12:00:00 AM</td>\n      <td>10</td>\n    </tr>\n    <tr>\n      <th>...</th>\n      <td>...</td>\n      <td>...</td>\n      <td>...</td>\n      <td>...</td>\n      <td>...</td>\n      <td>...</td>\n    </tr>\n    <tr>\n      <th>1098</th>\n      <td>2652</td>\n      <td>2</td>\n      <td>300</td>\n      <td>10</td>\n      <td>01-Dec-1998 12:00:00 AM</td>\n      <td>9</td>\n    </tr>\n    <tr>\n      <th>1099</th>\n      <td>2653</td>\n      <td>1</td>\n      <td>301</td>\n      <td>0</td>\n      <td>17-Oct-1999 12:00:00 AM</td>\n      <td>14</td>\n    </tr>\n    <tr>\n      <th>1100</th>\n      <td>2654</td>\n      <td>1</td>\n      <td>301</td>\n      <td>15</td>\n      <td>29-Oct-1999 12:00:00 AM</td>\n      <td>14</td>\n    </tr>\n    <tr>\n      <th>1101</th>\n      <td>2654</td>\n      <td>2</td>\n      <td>302</td>\n      <td>3</td>\n      <td>29-Oct-1999 12:00:00 AM</td>\n      <td>14</td>\n    </tr>\n    <tr>\n      <th>1102</th>\n      <td>2654</td>\n      <td>3</td>\n      <td>400</td>\n      <td>8</td>\n      <td>29-Oct-1999 12:00:00 AM</td>\n      <td>9</td>\n    </tr>\n  </tbody>\n</table>\n<p>1103 rows × 6 columns</p>\n</div>"
     },
     "execution_count": 6,
     "metadata": {},
     "output_type": "execute_result"
    }
   ],
   "source": [
    "# add unit price from product to order because new product dataframe doesnt need this one but the merged fact table / star scheme does need it\n",
    "selectedColumns = ['id','description' ,'name', 'Category', 'color', 'quantity', 'unit_price']\n",
    "product = productSource[selectedColumns]\n",
    "selectedColumns = ['prod_id','description' ,'name', 'Category', 'color', 'quantity', 'unit_price']\n",
    "product.columns = selectedColumns\n",
    "salesOrderItemSource = pd.merge(salesOrderItemSource, product[['prod_id', 'unit_price']],on='prod_id', how='left')\n",
    "salesOrderItemSource"
   ],
   "metadata": {
    "collapsed": false,
    "ExecuteTime": {
     "end_time": "2023-05-25T18:36:28.772582600Z",
     "start_time": "2023-05-25T18:36:28.716627900Z"
    }
   }
  },
  {
   "cell_type": "code",
   "execution_count": 7,
   "outputs": [
    {
     "data": {
      "text/plain": "  PRODUCT_id       PRODUCT_name PRODUCT_sub_category PRODUCT_category  \\\n0        300           Tank Top            Tee Shirt          Clothes   \n1        301             V-neck            Tee Shirt          Clothes   \n2        302          Crew Neck            Tee Shirt          Clothes   \n3        400         Cotton Cap         Baseball Cap      Accessories   \n4        401           Wool cap         Baseball Cap      Accessories   \n5        500        Cloth Visor                Visor      Accessories   \n6        501      Plastic Visor                Visor      Accessories   \n7        600  Hooded Sweatshirt           Sweatshirt          Clothes   \n8        601  Zipped Sweatshirt           Sweatshirt          Clothes   \n9        700      Cotton Shorts               Shorts          Clothes   \n\n  PRODUCT_color PRODUCT_quantity  \n0         White               18  \n1        Orange               39  \n2         Black               72  \n3         Black               92  \n4         White               12  \n5         White               36  \n6         Black               28  \n7         Green               39  \n8          Blue               32  \n9         Black               80  ",
      "text/html": "<div>\n<style scoped>\n    .dataframe tbody tr th:only-of-type {\n        vertical-align: middle;\n    }\n\n    .dataframe tbody tr th {\n        vertical-align: top;\n    }\n\n    .dataframe thead th {\n        text-align: right;\n    }\n</style>\n<table border=\"1\" class=\"dataframe\">\n  <thead>\n    <tr style=\"text-align: right;\">\n      <th></th>\n      <th>PRODUCT_id</th>\n      <th>PRODUCT_name</th>\n      <th>PRODUCT_sub_category</th>\n      <th>PRODUCT_category</th>\n      <th>PRODUCT_color</th>\n      <th>PRODUCT_quantity</th>\n    </tr>\n  </thead>\n  <tbody>\n    <tr>\n      <th>0</th>\n      <td>300</td>\n      <td>Tank Top</td>\n      <td>Tee Shirt</td>\n      <td>Clothes</td>\n      <td>White</td>\n      <td>18</td>\n    </tr>\n    <tr>\n      <th>1</th>\n      <td>301</td>\n      <td>V-neck</td>\n      <td>Tee Shirt</td>\n      <td>Clothes</td>\n      <td>Orange</td>\n      <td>39</td>\n    </tr>\n    <tr>\n      <th>2</th>\n      <td>302</td>\n      <td>Crew Neck</td>\n      <td>Tee Shirt</td>\n      <td>Clothes</td>\n      <td>Black</td>\n      <td>72</td>\n    </tr>\n    <tr>\n      <th>3</th>\n      <td>400</td>\n      <td>Cotton Cap</td>\n      <td>Baseball Cap</td>\n      <td>Accessories</td>\n      <td>Black</td>\n      <td>92</td>\n    </tr>\n    <tr>\n      <th>4</th>\n      <td>401</td>\n      <td>Wool cap</td>\n      <td>Baseball Cap</td>\n      <td>Accessories</td>\n      <td>White</td>\n      <td>12</td>\n    </tr>\n    <tr>\n      <th>5</th>\n      <td>500</td>\n      <td>Cloth Visor</td>\n      <td>Visor</td>\n      <td>Accessories</td>\n      <td>White</td>\n      <td>36</td>\n    </tr>\n    <tr>\n      <th>6</th>\n      <td>501</td>\n      <td>Plastic Visor</td>\n      <td>Visor</td>\n      <td>Accessories</td>\n      <td>Black</td>\n      <td>28</td>\n    </tr>\n    <tr>\n      <th>7</th>\n      <td>600</td>\n      <td>Hooded Sweatshirt</td>\n      <td>Sweatshirt</td>\n      <td>Clothes</td>\n      <td>Green</td>\n      <td>39</td>\n    </tr>\n    <tr>\n      <th>8</th>\n      <td>601</td>\n      <td>Zipped Sweatshirt</td>\n      <td>Sweatshirt</td>\n      <td>Clothes</td>\n      <td>Blue</td>\n      <td>32</td>\n    </tr>\n    <tr>\n      <th>9</th>\n      <td>700</td>\n      <td>Cotton Shorts</td>\n      <td>Shorts</td>\n      <td>Clothes</td>\n      <td>Black</td>\n      <td>80</td>\n    </tr>\n  </tbody>\n</table>\n</div>"
     },
     "execution_count": 7,
     "metadata": {},
     "output_type": "execute_result"
    }
   ],
   "source": [
    "selectedColumns = ['id','description' ,'name', 'Category', 'color', 'quantity']\n",
    "product = productSource[selectedColumns]\n",
    "columns = ['PRODUCT_id' , 'PRODUCT_name','PRODUCT_sub_category', 'PRODUCT_category', 'PRODUCT_color', 'PRODUCT_quantity']\n",
    "product.columns = columns\n",
    "product"
   ],
   "metadata": {
    "collapsed": false,
    "ExecuteTime": {
     "end_time": "2023-05-25T18:36:28.838848400Z",
     "start_time": "2023-05-25T18:36:28.751634600Z"
    }
   }
  },
  {
   "cell_type": "markdown",
   "source": [
    "# Customer"
   ],
   "metadata": {
    "collapsed": false
   }
  },
  {
   "cell_type": "code",
   "execution_count": 8,
   "outputs": [],
   "source": [
    "customerData = pd.merge(customerSource, stateSource, left_on='state', right_on='state_id' , how='inner')"
   ],
   "metadata": {
    "collapsed": false,
    "ExecuteTime": {
     "end_time": "2023-05-25T18:36:28.838848400Z",
     "start_time": "2023-05-25T18:36:28.761583800Z"
    }
   }
  },
  {
   "cell_type": "code",
   "execution_count": 9,
   "outputs": [
    {
     "data": {
      "text/plain": "    CUSTOMER_id         CUSTOMER_address CUSTOMER_city CUSTOMER_state  \\\n0           101      3114 Pioneer Avenue    Rutherford     New Jersey   \n1           147   501 Third Avenue North   Wood Bridge     New Jersey   \n2           102       1033 Whippany Road      New York       New York   \n3           111  14700 Prosperity Avenue      Syracuse       New York   \n4           116       39111 Wyman Street    Mamaroneck       New York   \n..          ...                      ...           ...            ...   \n121         331           33 West Street   New Orleans      Louisiana   \n122         332         67 Bronco Circle       Houston          Texas   \n123         444           23 Network Way        Dallas          Texas   \n124         550         6678 Sliver Road         Fargo   North Dakota   \n125         551        789 Far Away Lane        Eugene         Oregon   \n\n    CUSTOMER_region CUSTOMER_country CUSTOMER_company_name  \n0           Eastern              USA       The Power Group  \n1           Eastern              USA            Norton Co.  \n2           Eastern              USA             AMF Corp.  \n3           Eastern              USA         Dynamics Inc.  \n4           Eastern              USA        Sampson & Sons  \n..              ...              ...                   ...  \n121           South              USA    Mardi Gras Parties  \n122           South              USA      Bay Town Bus Co.  \n123           South              USA   Let's get Connected  \n124         Central              USA          Flat Landers  \n125         Western              USA       Raceway Engines  \n\n[126 rows x 7 columns]",
      "text/html": "<div>\n<style scoped>\n    .dataframe tbody tr th:only-of-type {\n        vertical-align: middle;\n    }\n\n    .dataframe tbody tr th {\n        vertical-align: top;\n    }\n\n    .dataframe thead th {\n        text-align: right;\n    }\n</style>\n<table border=\"1\" class=\"dataframe\">\n  <thead>\n    <tr style=\"text-align: right;\">\n      <th></th>\n      <th>CUSTOMER_id</th>\n      <th>CUSTOMER_address</th>\n      <th>CUSTOMER_city</th>\n      <th>CUSTOMER_state</th>\n      <th>CUSTOMER_region</th>\n      <th>CUSTOMER_country</th>\n      <th>CUSTOMER_company_name</th>\n    </tr>\n  </thead>\n  <tbody>\n    <tr>\n      <th>0</th>\n      <td>101</td>\n      <td>3114 Pioneer Avenue</td>\n      <td>Rutherford</td>\n      <td>New Jersey</td>\n      <td>Eastern</td>\n      <td>USA</td>\n      <td>The Power Group</td>\n    </tr>\n    <tr>\n      <th>1</th>\n      <td>147</td>\n      <td>501 Third Avenue North</td>\n      <td>Wood Bridge</td>\n      <td>New Jersey</td>\n      <td>Eastern</td>\n      <td>USA</td>\n      <td>Norton Co.</td>\n    </tr>\n    <tr>\n      <th>2</th>\n      <td>102</td>\n      <td>1033 Whippany Road</td>\n      <td>New York</td>\n      <td>New York</td>\n      <td>Eastern</td>\n      <td>USA</td>\n      <td>AMF Corp.</td>\n    </tr>\n    <tr>\n      <th>3</th>\n      <td>111</td>\n      <td>14700 Prosperity Avenue</td>\n      <td>Syracuse</td>\n      <td>New York</td>\n      <td>Eastern</td>\n      <td>USA</td>\n      <td>Dynamics Inc.</td>\n    </tr>\n    <tr>\n      <th>4</th>\n      <td>116</td>\n      <td>39111 Wyman Street</td>\n      <td>Mamaroneck</td>\n      <td>New York</td>\n      <td>Eastern</td>\n      <td>USA</td>\n      <td>Sampson &amp; Sons</td>\n    </tr>\n    <tr>\n      <th>...</th>\n      <td>...</td>\n      <td>...</td>\n      <td>...</td>\n      <td>...</td>\n      <td>...</td>\n      <td>...</td>\n      <td>...</td>\n    </tr>\n    <tr>\n      <th>121</th>\n      <td>331</td>\n      <td>33 West Street</td>\n      <td>New Orleans</td>\n      <td>Louisiana</td>\n      <td>South</td>\n      <td>USA</td>\n      <td>Mardi Gras Parties</td>\n    </tr>\n    <tr>\n      <th>122</th>\n      <td>332</td>\n      <td>67 Bronco Circle</td>\n      <td>Houston</td>\n      <td>Texas</td>\n      <td>South</td>\n      <td>USA</td>\n      <td>Bay Town Bus Co.</td>\n    </tr>\n    <tr>\n      <th>123</th>\n      <td>444</td>\n      <td>23 Network Way</td>\n      <td>Dallas</td>\n      <td>Texas</td>\n      <td>South</td>\n      <td>USA</td>\n      <td>Let's get Connected</td>\n    </tr>\n    <tr>\n      <th>124</th>\n      <td>550</td>\n      <td>6678 Sliver Road</td>\n      <td>Fargo</td>\n      <td>North Dakota</td>\n      <td>Central</td>\n      <td>USA</td>\n      <td>Flat Landers</td>\n    </tr>\n    <tr>\n      <th>125</th>\n      <td>551</td>\n      <td>789 Far Away Lane</td>\n      <td>Eugene</td>\n      <td>Oregon</td>\n      <td>Western</td>\n      <td>USA</td>\n      <td>Raceway Engines</td>\n    </tr>\n  </tbody>\n</table>\n<p>126 rows × 7 columns</p>\n</div>"
     },
     "execution_count": 9,
     "metadata": {},
     "output_type": "execute_result"
    }
   ],
   "source": [
    "selectedColumns = ['id', 'address', 'city', 'state_name', 'region', 'country', 'company_name']\n",
    "customerData = customerData[selectedColumns]\n",
    "customerColumns = ['CUSTOMER_id', 'CUSTOMER_address', 'CUSTOMER_city', 'CUSTOMER_state', 'CUSTOMER_region', 'CUSTOMER_country', 'CUSTOMER_company_name']\n",
    "customerData.columns = customerColumns\n",
    "customerData"
   ],
   "metadata": {
    "collapsed": false,
    "ExecuteTime": {
     "end_time": "2023-05-25T18:36:28.838848400Z",
     "start_time": "2023-05-25T18:36:28.776574500Z"
    }
   }
  },
  {
   "cell_type": "markdown",
   "source": [
    "# Employee"
   ],
   "metadata": {
    "collapsed": false
   }
  },
  {
   "cell_type": "code",
   "execution_count": 10,
   "outputs": [
    {
     "data": {
      "text/plain": "   EMPLOYEE_id EMPLOYEE_first_name EMPLOYEE_last_name EMPLOYEE_city\n0         1013              Joseph             Barker       Bedford\n1          102                Fran            Whitney       Needham\n2         1021                Paul           Sterling       Concord\n3         1039            Shih Lin               Chao     Lexington\n4          105             Matthew               Cobb       Waltham\n..         ...                 ...                ...           ...\n70         921             Charles            Crowley       Belmont\n71         930                 Ann             Taylor       Atlanta\n72         949              Pamela           Savarino    Long Beach\n73         958              Thomas             Sisson       Houston\n74         992               Joyce        Butterfield     Cambridge\n\n[75 rows x 4 columns]",
      "text/html": "<div>\n<style scoped>\n    .dataframe tbody tr th:only-of-type {\n        vertical-align: middle;\n    }\n\n    .dataframe tbody tr th {\n        vertical-align: top;\n    }\n\n    .dataframe thead th {\n        text-align: right;\n    }\n</style>\n<table border=\"1\" class=\"dataframe\">\n  <thead>\n    <tr style=\"text-align: right;\">\n      <th></th>\n      <th>EMPLOYEE_id</th>\n      <th>EMPLOYEE_first_name</th>\n      <th>EMPLOYEE_last_name</th>\n      <th>EMPLOYEE_city</th>\n    </tr>\n  </thead>\n  <tbody>\n    <tr>\n      <th>0</th>\n      <td>1013</td>\n      <td>Joseph</td>\n      <td>Barker</td>\n      <td>Bedford</td>\n    </tr>\n    <tr>\n      <th>1</th>\n      <td>102</td>\n      <td>Fran</td>\n      <td>Whitney</td>\n      <td>Needham</td>\n    </tr>\n    <tr>\n      <th>2</th>\n      <td>1021</td>\n      <td>Paul</td>\n      <td>Sterling</td>\n      <td>Concord</td>\n    </tr>\n    <tr>\n      <th>3</th>\n      <td>1039</td>\n      <td>Shih Lin</td>\n      <td>Chao</td>\n      <td>Lexington</td>\n    </tr>\n    <tr>\n      <th>4</th>\n      <td>105</td>\n      <td>Matthew</td>\n      <td>Cobb</td>\n      <td>Waltham</td>\n    </tr>\n    <tr>\n      <th>...</th>\n      <td>...</td>\n      <td>...</td>\n      <td>...</td>\n      <td>...</td>\n    </tr>\n    <tr>\n      <th>70</th>\n      <td>921</td>\n      <td>Charles</td>\n      <td>Crowley</td>\n      <td>Belmont</td>\n    </tr>\n    <tr>\n      <th>71</th>\n      <td>930</td>\n      <td>Ann</td>\n      <td>Taylor</td>\n      <td>Atlanta</td>\n    </tr>\n    <tr>\n      <th>72</th>\n      <td>949</td>\n      <td>Pamela</td>\n      <td>Savarino</td>\n      <td>Long Beach</td>\n    </tr>\n    <tr>\n      <th>73</th>\n      <td>958</td>\n      <td>Thomas</td>\n      <td>Sisson</td>\n      <td>Houston</td>\n    </tr>\n    <tr>\n      <th>74</th>\n      <td>992</td>\n      <td>Joyce</td>\n      <td>Butterfield</td>\n      <td>Cambridge</td>\n    </tr>\n  </tbody>\n</table>\n<p>75 rows × 4 columns</p>\n</div>"
     },
     "execution_count": 10,
     "metadata": {},
     "output_type": "execute_result"
    }
   ],
   "source": [
    "selectedColumns = ['emp_id', 'emp_fname', 'emp_lname', 'city']\n",
    "employee = employeeSource[selectedColumns]\n",
    "employeeColumns = ['EMPLOYEE_id','EMPLOYEE_first_name','EMPLOYEE_last_name','EMPLOYEE_city']\n",
    "employee.columns = employeeColumns\n",
    "employee"
   ],
   "metadata": {
    "collapsed": false,
    "ExecuteTime": {
     "end_time": "2023-05-25T18:36:28.904671200Z",
     "start_time": "2023-05-25T18:36:28.791534900Z"
    }
   }
  },
  {
   "cell_type": "markdown",
   "source": [
    "# Day"
   ],
   "metadata": {
    "collapsed": false
   }
  },
  {
   "cell_type": "code",
   "execution_count": 11,
   "outputs": [
    {
     "data": {
      "text/plain": "               DAY_date DAY_MONTH_nr DAY_QUARTER_nr DAY_YEAR_nr\n0   1996-03-14 12:00:00            3              1        1996\n1   1996-03-18 12:00:00            3              1        1996\n2   1996-03-21 12:00:00            3              1        1996\n3   1996-03-23 12:00:00            3              1        1996\n4   1996-03-24 12:00:00            3              1        1996\n..                  ...          ...            ...         ...\n645 1998-11-26 12:00:00           11              4        1998\n646 1998-11-26 12:00:00           11              4        1998\n647 1998-11-26 12:00:00           11              4        1998\n648 1999-01-17 12:00:00            1              1        1999\n649 1999-02-26 12:00:00            2              1        1999\n\n[650 rows x 4 columns]",
      "text/html": "<div>\n<style scoped>\n    .dataframe tbody tr th:only-of-type {\n        vertical-align: middle;\n    }\n\n    .dataframe tbody tr th {\n        vertical-align: top;\n    }\n\n    .dataframe thead th {\n        text-align: right;\n    }\n</style>\n<table border=\"1\" class=\"dataframe\">\n  <thead>\n    <tr style=\"text-align: right;\">\n      <th></th>\n      <th>DAY_date</th>\n      <th>DAY_MONTH_nr</th>\n      <th>DAY_QUARTER_nr</th>\n      <th>DAY_YEAR_nr</th>\n    </tr>\n  </thead>\n  <tbody>\n    <tr>\n      <th>0</th>\n      <td>1996-03-14 12:00:00</td>\n      <td>3</td>\n      <td>1</td>\n      <td>1996</td>\n    </tr>\n    <tr>\n      <th>1</th>\n      <td>1996-03-18 12:00:00</td>\n      <td>3</td>\n      <td>1</td>\n      <td>1996</td>\n    </tr>\n    <tr>\n      <th>2</th>\n      <td>1996-03-21 12:00:00</td>\n      <td>3</td>\n      <td>1</td>\n      <td>1996</td>\n    </tr>\n    <tr>\n      <th>3</th>\n      <td>1996-03-23 12:00:00</td>\n      <td>3</td>\n      <td>1</td>\n      <td>1996</td>\n    </tr>\n    <tr>\n      <th>4</th>\n      <td>1996-03-24 12:00:00</td>\n      <td>3</td>\n      <td>1</td>\n      <td>1996</td>\n    </tr>\n    <tr>\n      <th>...</th>\n      <td>...</td>\n      <td>...</td>\n      <td>...</td>\n      <td>...</td>\n    </tr>\n    <tr>\n      <th>645</th>\n      <td>1998-11-26 12:00:00</td>\n      <td>11</td>\n      <td>4</td>\n      <td>1998</td>\n    </tr>\n    <tr>\n      <th>646</th>\n      <td>1998-11-26 12:00:00</td>\n      <td>11</td>\n      <td>4</td>\n      <td>1998</td>\n    </tr>\n    <tr>\n      <th>647</th>\n      <td>1998-11-26 12:00:00</td>\n      <td>11</td>\n      <td>4</td>\n      <td>1998</td>\n    </tr>\n    <tr>\n      <th>648</th>\n      <td>1999-01-17 12:00:00</td>\n      <td>1</td>\n      <td>1</td>\n      <td>1999</td>\n    </tr>\n    <tr>\n      <th>649</th>\n      <td>1999-02-26 12:00:00</td>\n      <td>2</td>\n      <td>1</td>\n      <td>1999</td>\n    </tr>\n  </tbody>\n</table>\n<p>650 rows × 4 columns</p>\n</div>"
     },
     "execution_count": 11,
     "metadata": {},
     "output_type": "execute_result"
    }
   ],
   "source": [
    "DAY_date = pd.DataFrame(columns=['DAY_date', 'DAY_MONTH_nr', 'DAY_QUARTER_nr', 'DAY_YEAR_nr'])\n",
    "\n",
    "salesOrderSource['order_date'] = pd.to_datetime(salesOrderSource['order_date'], format='%d-%b-%Y %H:%M:%S %p')\n",
    "\n",
    "for index, row in salesOrderSource.iterrows():\n",
    "    return_date = row['order_date']\n",
    "\n",
    "    date_values = [return_date.month, (return_date.month - 1) // 3 + 1, return_date.year]\n",
    "\n",
    "    date_frame = pd.DataFrame([[return_date, date_values[0], date_values[1], date_values[2]]], columns=['DAY_date', 'DAY_MONTH_nr', 'DAY_QUARTER_nr', 'DAY_YEAR_nr'])\n",
    "    DAY_date = pd.concat([DAY_date, date_frame], ignore_index=True)\n",
    "\n",
    "DAY_date"
   ],
   "metadata": {
    "collapsed": false,
    "ExecuteTime": {
     "end_time": "2023-05-25T18:36:29.391844500Z",
     "start_time": "2023-05-25T18:36:28.818900500Z"
    }
   }
  },
  {
   "cell_type": "markdown",
   "source": [
    "# Order Detail"
   ],
   "metadata": {
    "collapsed": false
   }
  },
  {
   "cell_type": "code",
   "execution_count": 12,
   "outputs": [],
   "source": [
    "orderDetailJoin = pd.merge(salesOrderSource, salesOrderItemSource, on='id')\n",
    "orderDetailJoin = pd.merge(orderDetailJoin, customerData, left_on='cust_id', right_on='CUSTOMER_id')\n",
    "orderDetailJoin = pd.merge(orderDetailJoin, product, left_on='prod_id', right_on='PRODUCT_id')"
   ],
   "metadata": {
    "collapsed": false,
    "ExecuteTime": {
     "end_time": "2023-05-25T18:36:29.412328800Z",
     "start_time": "2023-05-25T18:36:29.395810100Z"
    }
   }
  },
  {
   "cell_type": "code",
   "execution_count": 13,
   "outputs": [],
   "source": [
    "selectedColumns = ['id','cust_id', 'order_date', 'sales_rep', 'prod_id', 'unit_price', 'quantity']\n",
    "orderDetailData = orderDetailJoin[selectedColumns]\n",
    "newColumnNames = ['ORDER_DETAIL_NUMBER', 'CUSTOMER_id', 'DAY_date', 'EMPLOYEE_id', 'PRODUCT_id', 'ORDER_DETAIL_unit_price', 'ORDER_DETAIL_order_quantity']\n",
    "orderDetailData.columns = newColumnNames"
   ],
   "metadata": {
    "collapsed": false,
    "ExecuteTime": {
     "end_time": "2023-05-25T18:36:29.472624800Z",
     "start_time": "2023-05-25T18:36:29.410305600Z"
    }
   }
  },
  {
   "cell_type": "code",
   "execution_count": 14,
   "outputs": [
    {
     "data": {
      "text/plain": "     ORDER_DETAIL_NUMBER CUSTOMER_id            DAY_date EMPLOYEE_id  \\\n0                   2001         101 1996-03-14 12:00:00         299   \n1                   2206         101 1997-10-15 12:00:00         299   \n2                   2279         101 1998-01-21 12:00:00         299   \n3                   2337         101 1998-03-24 12:00:00         949   \n4                   2560         101 1998-09-14 12:00:00         129   \n...                  ...         ...                 ...         ...   \n1098                2112         165 1997-05-12 12:00:00         299   \n1099                2180         209 1997-09-09 12:00:00         902   \n1100                2227         205 1997-11-13 12:00:00         949   \n1101                2269         205 1998-01-12 12:00:00        1142   \n1102                2455         205 1998-06-17 12:00:00         467   \n\n     PRODUCT_id ORDER_DETAIL_unit_price ORDER_DETAIL_order_quantity  \n0           300                       9                          12  \n1           300                       9                          12  \n2           300                       9                          12  \n3           300                       9                          12  \n4           300                       9                          24  \n...         ...                     ...                         ...  \n1098        601                      24                          12  \n1099        601                      24                          12  \n1100        601                      24                          12  \n1101        601                      24                          12  \n1102        601                      24                          24  \n\n[1103 rows x 7 columns]",
      "text/html": "<div>\n<style scoped>\n    .dataframe tbody tr th:only-of-type {\n        vertical-align: middle;\n    }\n\n    .dataframe tbody tr th {\n        vertical-align: top;\n    }\n\n    .dataframe thead th {\n        text-align: right;\n    }\n</style>\n<table border=\"1\" class=\"dataframe\">\n  <thead>\n    <tr style=\"text-align: right;\">\n      <th></th>\n      <th>ORDER_DETAIL_NUMBER</th>\n      <th>CUSTOMER_id</th>\n      <th>DAY_date</th>\n      <th>EMPLOYEE_id</th>\n      <th>PRODUCT_id</th>\n      <th>ORDER_DETAIL_unit_price</th>\n      <th>ORDER_DETAIL_order_quantity</th>\n    </tr>\n  </thead>\n  <tbody>\n    <tr>\n      <th>0</th>\n      <td>2001</td>\n      <td>101</td>\n      <td>1996-03-14 12:00:00</td>\n      <td>299</td>\n      <td>300</td>\n      <td>9</td>\n      <td>12</td>\n    </tr>\n    <tr>\n      <th>1</th>\n      <td>2206</td>\n      <td>101</td>\n      <td>1997-10-15 12:00:00</td>\n      <td>299</td>\n      <td>300</td>\n      <td>9</td>\n      <td>12</td>\n    </tr>\n    <tr>\n      <th>2</th>\n      <td>2279</td>\n      <td>101</td>\n      <td>1998-01-21 12:00:00</td>\n      <td>299</td>\n      <td>300</td>\n      <td>9</td>\n      <td>12</td>\n    </tr>\n    <tr>\n      <th>3</th>\n      <td>2337</td>\n      <td>101</td>\n      <td>1998-03-24 12:00:00</td>\n      <td>949</td>\n      <td>300</td>\n      <td>9</td>\n      <td>12</td>\n    </tr>\n    <tr>\n      <th>4</th>\n      <td>2560</td>\n      <td>101</td>\n      <td>1998-09-14 12:00:00</td>\n      <td>129</td>\n      <td>300</td>\n      <td>9</td>\n      <td>24</td>\n    </tr>\n    <tr>\n      <th>...</th>\n      <td>...</td>\n      <td>...</td>\n      <td>...</td>\n      <td>...</td>\n      <td>...</td>\n      <td>...</td>\n      <td>...</td>\n    </tr>\n    <tr>\n      <th>1098</th>\n      <td>2112</td>\n      <td>165</td>\n      <td>1997-05-12 12:00:00</td>\n      <td>299</td>\n      <td>601</td>\n      <td>24</td>\n      <td>12</td>\n    </tr>\n    <tr>\n      <th>1099</th>\n      <td>2180</td>\n      <td>209</td>\n      <td>1997-09-09 12:00:00</td>\n      <td>902</td>\n      <td>601</td>\n      <td>24</td>\n      <td>12</td>\n    </tr>\n    <tr>\n      <th>1100</th>\n      <td>2227</td>\n      <td>205</td>\n      <td>1997-11-13 12:00:00</td>\n      <td>949</td>\n      <td>601</td>\n      <td>24</td>\n      <td>12</td>\n    </tr>\n    <tr>\n      <th>1101</th>\n      <td>2269</td>\n      <td>205</td>\n      <td>1998-01-12 12:00:00</td>\n      <td>1142</td>\n      <td>601</td>\n      <td>24</td>\n      <td>12</td>\n    </tr>\n    <tr>\n      <th>1102</th>\n      <td>2455</td>\n      <td>205</td>\n      <td>1998-06-17 12:00:00</td>\n      <td>467</td>\n      <td>601</td>\n      <td>24</td>\n      <td>24</td>\n    </tr>\n  </tbody>\n</table>\n<p>1103 rows × 7 columns</p>\n</div>"
     },
     "execution_count": 14,
     "metadata": {},
     "output_type": "execute_result"
    }
   ],
   "source": [
    "orderDetailData"
   ],
   "metadata": {
    "collapsed": false,
    "ExecuteTime": {
     "end_time": "2023-05-25T18:36:37.215861900Z",
     "start_time": "2023-05-25T18:36:37.189931600Z"
    }
   }
  }
 ],
 "metadata": {
  "kernelspec": {
   "display_name": "Python 3",
   "language": "python",
   "name": "python3"
  },
  "language_info": {
   "codemirror_mode": {
    "name": "ipython",
    "version": 2
   },
   "file_extension": ".py",
   "mimetype": "text/x-python",
   "name": "python",
   "nbconvert_exporter": "python",
   "pygments_lexer": "ipython2",
   "version": "2.7.6"
  }
 },
 "nbformat": 4,
 "nbformat_minor": 0
}
