{
 "cells": [
  {
   "cell_type": "code",
   "execution_count": null,
   "metadata": {
    "collapsed": true
   },
   "outputs": [],
   "source": [
    "import pandas as pd"
   ]
  },
  {
   "cell_type": "code",
   "execution_count": null,
   "outputs": [],
   "source": [
    "productColumns = ['PRODUCT_id' , 'PRODUCT_name', 'PRODUCT_category' ,'PRODUCT_sub_category', 'PRODUCT_color', 'PRODUCT_prod_cost', 'PRODUCT_storage_quantity']\n",
    "customerColumns = ['CUSTOMER_id', 'CUSTOMER_address', 'CUSTOMER_city', 'CUSTOMER_state', 'CUSTOMER_region', 'CUSTOMER_country', 'CUSTOMER_company_name']\n",
    "employeeColumns = ['EMPLOYEE_id','EMPLOYEE_first_name','EMPLOYEE_last_name','EMPLOYEE_city','EMPLOYEE_region','EMPLOYEE_country']\n",
    "dayColumns = ['DAY_date','DAY_MONTH_nr','DAY_QUARTER_nr', 'DAY_YEAR_nr']\n",
    "orderDetailColumns = ['ORDER_DETAIL_NUMBER','ORDER_DETAIL_quantity', 'ORDER_DETAIL_unit_price',  'DAY_date', 'EMPLOYEE_id', 'KLANT_id', 'PRODUCT_id']"
   ],
   "metadata": {
    "collapsed": false
   }
  },
  {
   "cell_type": "code",
   "execution_count": null,
   "outputs": [],
   "source": [
    "productDataframe = pd.DataFrame(columns=productColumns)\n",
    "customerDateframe = pd.DataFrame(columns=customerColumns)\n",
    "employeeDateframe = pd.DataFrame(columns=employeeColumns)\n",
    "dayDateframe = pd.DataFrame(columns=dayColumns)\n",
    "orderDetailDataframe = pd.DataFrame(columns=orderDetailColumns)"
   ],
   "metadata": {
    "collapsed": false
   }
  }
 ],
 "metadata": {
  "kernelspec": {
   "display_name": "Python 3",
   "language": "python",
   "name": "python3"
  },
  "language_info": {
   "codemirror_mode": {
    "name": "ipython",
    "version": 2
   },
   "file_extension": ".py",
   "mimetype": "text/x-python",
   "name": "python",
   "nbconvert_exporter": "python",
   "pygments_lexer": "ipython2",
   "version": "2.7.6"
  }
 },
 "nbformat": 4,
 "nbformat_minor": 0
}
