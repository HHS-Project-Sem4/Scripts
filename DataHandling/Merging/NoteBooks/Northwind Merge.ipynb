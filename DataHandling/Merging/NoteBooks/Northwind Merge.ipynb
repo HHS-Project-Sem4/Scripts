{
 "cells": [
  {
   "cell_type": "code",
   "execution_count": 1,
   "outputs": [],
   "source": [
    "from Repositories.NorthwindRepository import Repository"
   ],
   "metadata": {
    "collapsed": false,
    "ExecuteTime": {
     "end_time": "2023-05-29T07:46:40.943414500Z",
     "start_time": "2023-05-29T07:46:40.507379800Z"
    }
   }
  },
  {
   "cell_type": "code",
   "execution_count": 2,
   "outputs": [],
   "source": [
    "northwindConnectionString = \"Driver={SQL Server};Server=DESKTOP-8INVJ1O\\SQLEXPRESS;Database=Northwind;trusted_connection=yes\"\n",
    "northwindRepository = Repository(northwindConnectionString)"
   ],
   "metadata": {
    "collapsed": false,
    "ExecuteTime": {
     "end_time": "2023-05-29T07:46:40.977404200Z",
     "start_time": "2023-05-29T07:46:40.946383700Z"
    }
   }
  },
  {
   "cell_type": "markdown",
   "source": [
    "# PRODUCT"
   ],
   "metadata": {
    "collapsed": false
   }
  },
  {
   "cell_type": "code",
   "execution_count": 3,
   "outputs": [
    {
     "name": "stderr",
     "output_type": "stream",
     "text": [
      "C:\\Users\\Max\\Documents\\GitHub\\Scripts\\DataHandling\\Merging\\Repositories\\NorthwindRepository.py:18: UserWarning: pandas only supports SQLAlchemy connectable (engine/connection) or database string URI or sqlite3 DBAPI2 connection. Other DBAPI2 objects are not tested. Please consider using SQLAlchemy.\n",
      "  productData = pd.read_sql(productJoinQuery, self.dbConnection)\n"
     ]
    },
    {
     "data": {
      "text/plain": "    PRODUCT_id                     PRODUCT_name PRODUCT_sub_category\n0            1                             Chai            Beverages\n1            2                            Chang            Beverages\n2            3                    Aniseed Syrup           Condiments\n3            4     Chef Anton's Cajun Seasoning           Condiments\n4            5           Chef Anton's Gumbo Mix           Condiments\n..         ...                              ...                  ...\n72          73                       Röd Kaviar              Seafood\n73          74                    Longlife Tofu              Produce\n74          75             Rhönbräu Klosterbier            Beverages\n75          76                     Lakkalikööri            Beverages\n76          77  Original Frankfurter grüne Soße           Condiments\n\n[77 rows x 3 columns]",
      "text/html": "<div>\n<style scoped>\n    .dataframe tbody tr th:only-of-type {\n        vertical-align: middle;\n    }\n\n    .dataframe tbody tr th {\n        vertical-align: top;\n    }\n\n    .dataframe thead th {\n        text-align: right;\n    }\n</style>\n<table border=\"1\" class=\"dataframe\">\n  <thead>\n    <tr style=\"text-align: right;\">\n      <th></th>\n      <th>PRODUCT_id</th>\n      <th>PRODUCT_name</th>\n      <th>PRODUCT_sub_category</th>\n    </tr>\n  </thead>\n  <tbody>\n    <tr>\n      <th>0</th>\n      <td>1</td>\n      <td>Chai</td>\n      <td>Beverages</td>\n    </tr>\n    <tr>\n      <th>1</th>\n      <td>2</td>\n      <td>Chang</td>\n      <td>Beverages</td>\n    </tr>\n    <tr>\n      <th>2</th>\n      <td>3</td>\n      <td>Aniseed Syrup</td>\n      <td>Condiments</td>\n    </tr>\n    <tr>\n      <th>3</th>\n      <td>4</td>\n      <td>Chef Anton's Cajun Seasoning</td>\n      <td>Condiments</td>\n    </tr>\n    <tr>\n      <th>4</th>\n      <td>5</td>\n      <td>Chef Anton's Gumbo Mix</td>\n      <td>Condiments</td>\n    </tr>\n    <tr>\n      <th>...</th>\n      <td>...</td>\n      <td>...</td>\n      <td>...</td>\n    </tr>\n    <tr>\n      <th>72</th>\n      <td>73</td>\n      <td>Röd Kaviar</td>\n      <td>Seafood</td>\n    </tr>\n    <tr>\n      <th>73</th>\n      <td>74</td>\n      <td>Longlife Tofu</td>\n      <td>Produce</td>\n    </tr>\n    <tr>\n      <th>74</th>\n      <td>75</td>\n      <td>Rhönbräu Klosterbier</td>\n      <td>Beverages</td>\n    </tr>\n    <tr>\n      <th>75</th>\n      <td>76</td>\n      <td>Lakkalikööri</td>\n      <td>Beverages</td>\n    </tr>\n    <tr>\n      <th>76</th>\n      <td>77</td>\n      <td>Original Frankfurter grüne Soße</td>\n      <td>Condiments</td>\n    </tr>\n  </tbody>\n</table>\n<p>77 rows × 3 columns</p>\n</div>"
     },
     "execution_count": 3,
     "metadata": {},
     "output_type": "execute_result"
    }
   ],
   "source": [
    "productDataFrame = northwindRepository.getProductDataFrame()\n",
    "productDataFrame"
   ],
   "metadata": {
    "collapsed": false,
    "ExecuteTime": {
     "end_time": "2023-05-29T07:46:41.113357Z",
     "start_time": "2023-05-29T07:46:40.975409700Z"
    }
   }
  },
  {
   "cell_type": "markdown",
   "source": [
    "# CUSTOMER"
   ],
   "metadata": {
    "collapsed": false
   }
  },
  {
   "cell_type": "code",
   "execution_count": 4,
   "outputs": [
    {
     "name": "stderr",
     "output_type": "stream",
     "text": [
      "C:\\Users\\Max\\Documents\\GitHub\\Scripts\\DataHandling\\Merging\\Repositories\\NorthwindRepository.py:31: UserWarning: pandas only supports SQLAlchemy connectable (engine/connection) or database string URI or sqlite3 DBAPI2 connection. Other DBAPI2 objects are not tested. Please consider using SQLAlchemy.\n",
      "  customerData = pd.read_sql(customerJoinQuery, self.dbConnection)\n"
     ]
    },
    {
     "data": {
      "text/plain": "   CUSTOMER_id               CUSTOMER_address CUSTOMER_city CUSTOMER_country  \\\n0        ALFKI                  Obere Str. 57        Berlin          Germany   \n1        ANATR  Avda. de la Constitución 2222   México D.F.           Mexico   \n2        ANTON                Mataderos  2312   México D.F.           Mexico   \n3        AROUT                120 Hanover Sq.        London               UK   \n4        BERGS                Berguvsvägen  8         Luleå           Sweden   \n..         ...                            ...           ...              ...   \n86       WARTH                    Torikatu 38          Oulu          Finland   \n87       WELLI             Rua do Mercado, 12       Resende           Brazil   \n88       WHITC    305 - 14th Ave. S. Suite 3B       Seattle              USA   \n89       WILMK                  Keskuskatu 45      Helsinki          Finland   \n90       WOLZA                ul. Filtrowa 68      Warszawa           Poland   \n\n                 CUSTOMER_company_name  \n0                  Alfreds Futterkiste  \n1   Ana Trujillo Emparedados y helados  \n2              Antonio Moreno Taquería  \n3                      Around the Horn  \n4                   Berglunds snabbköp  \n..                                 ...  \n86                      Wartian Herkku  \n87              Wellington Importadora  \n88                White Clover Markets  \n89                         Wilman Kala  \n90                      Wolski  Zajazd  \n\n[91 rows x 5 columns]",
      "text/html": "<div>\n<style scoped>\n    .dataframe tbody tr th:only-of-type {\n        vertical-align: middle;\n    }\n\n    .dataframe tbody tr th {\n        vertical-align: top;\n    }\n\n    .dataframe thead th {\n        text-align: right;\n    }\n</style>\n<table border=\"1\" class=\"dataframe\">\n  <thead>\n    <tr style=\"text-align: right;\">\n      <th></th>\n      <th>CUSTOMER_id</th>\n      <th>CUSTOMER_address</th>\n      <th>CUSTOMER_city</th>\n      <th>CUSTOMER_country</th>\n      <th>CUSTOMER_company_name</th>\n    </tr>\n  </thead>\n  <tbody>\n    <tr>\n      <th>0</th>\n      <td>ALFKI</td>\n      <td>Obere Str. 57</td>\n      <td>Berlin</td>\n      <td>Germany</td>\n      <td>Alfreds Futterkiste</td>\n    </tr>\n    <tr>\n      <th>1</th>\n      <td>ANATR</td>\n      <td>Avda. de la Constitución 2222</td>\n      <td>México D.F.</td>\n      <td>Mexico</td>\n      <td>Ana Trujillo Emparedados y helados</td>\n    </tr>\n    <tr>\n      <th>2</th>\n      <td>ANTON</td>\n      <td>Mataderos  2312</td>\n      <td>México D.F.</td>\n      <td>Mexico</td>\n      <td>Antonio Moreno Taquería</td>\n    </tr>\n    <tr>\n      <th>3</th>\n      <td>AROUT</td>\n      <td>120 Hanover Sq.</td>\n      <td>London</td>\n      <td>UK</td>\n      <td>Around the Horn</td>\n    </tr>\n    <tr>\n      <th>4</th>\n      <td>BERGS</td>\n      <td>Berguvsvägen  8</td>\n      <td>Luleå</td>\n      <td>Sweden</td>\n      <td>Berglunds snabbköp</td>\n    </tr>\n    <tr>\n      <th>...</th>\n      <td>...</td>\n      <td>...</td>\n      <td>...</td>\n      <td>...</td>\n      <td>...</td>\n    </tr>\n    <tr>\n      <th>86</th>\n      <td>WARTH</td>\n      <td>Torikatu 38</td>\n      <td>Oulu</td>\n      <td>Finland</td>\n      <td>Wartian Herkku</td>\n    </tr>\n    <tr>\n      <th>87</th>\n      <td>WELLI</td>\n      <td>Rua do Mercado, 12</td>\n      <td>Resende</td>\n      <td>Brazil</td>\n      <td>Wellington Importadora</td>\n    </tr>\n    <tr>\n      <th>88</th>\n      <td>WHITC</td>\n      <td>305 - 14th Ave. S. Suite 3B</td>\n      <td>Seattle</td>\n      <td>USA</td>\n      <td>White Clover Markets</td>\n    </tr>\n    <tr>\n      <th>89</th>\n      <td>WILMK</td>\n      <td>Keskuskatu 45</td>\n      <td>Helsinki</td>\n      <td>Finland</td>\n      <td>Wilman Kala</td>\n    </tr>\n    <tr>\n      <th>90</th>\n      <td>WOLZA</td>\n      <td>ul. Filtrowa 68</td>\n      <td>Warszawa</td>\n      <td>Poland</td>\n      <td>Wolski  Zajazd</td>\n    </tr>\n  </tbody>\n</table>\n<p>91 rows × 5 columns</p>\n</div>"
     },
     "execution_count": 4,
     "metadata": {},
     "output_type": "execute_result"
    }
   ],
   "source": [
    "customerDataFrame = northwindRepository.getCustomerDataFrame()\n",
    "customerDataFrame"
   ],
   "metadata": {
    "collapsed": false,
    "ExecuteTime": {
     "end_time": "2023-05-29T07:46:41.157392500Z",
     "start_time": "2023-05-29T07:46:41.114359100Z"
    }
   }
  },
  {
   "cell_type": "markdown",
   "source": [
    "# Employee"
   ],
   "metadata": {
    "collapsed": false
   }
  },
  {
   "cell_type": "code",
   "execution_count": 5,
   "outputs": [
    {
     "name": "stderr",
     "output_type": "stream",
     "text": [
      "C:\\Users\\Max\\Documents\\GitHub\\Scripts\\DataHandling\\Merging\\Repositories\\NorthwindRepository.py:45: UserWarning: pandas only supports SQLAlchemy connectable (engine/connection) or database string URI or sqlite3 DBAPI2 connection. Other DBAPI2 objects are not tested. Please consider using SQLAlchemy.\n",
      "  employeeData = pd.read_sql(employeeJoinQuery, self.dbConnection)\n"
     ]
    },
    {
     "data": {
      "text/plain": "   EMPLOYEE_id EMPLOYEE_first_name EMPLOYEE_city EMPLOYEE_country\n0            1               Nancy       Seattle              USA\n1            2              Andrew        Tacoma              USA\n2            3               Janet      Kirkland              USA\n3            4            Margaret       Redmond              USA\n4            5              Steven        London               UK\n5            6             Michael        London               UK\n6            7              Robert        London               UK\n7            8               Laura       Seattle              USA\n8            9                Anne        London               UK",
      "text/html": "<div>\n<style scoped>\n    .dataframe tbody tr th:only-of-type {\n        vertical-align: middle;\n    }\n\n    .dataframe tbody tr th {\n        vertical-align: top;\n    }\n\n    .dataframe thead th {\n        text-align: right;\n    }\n</style>\n<table border=\"1\" class=\"dataframe\">\n  <thead>\n    <tr style=\"text-align: right;\">\n      <th></th>\n      <th>EMPLOYEE_id</th>\n      <th>EMPLOYEE_first_name</th>\n      <th>EMPLOYEE_city</th>\n      <th>EMPLOYEE_country</th>\n    </tr>\n  </thead>\n  <tbody>\n    <tr>\n      <th>0</th>\n      <td>1</td>\n      <td>Nancy</td>\n      <td>Seattle</td>\n      <td>USA</td>\n    </tr>\n    <tr>\n      <th>1</th>\n      <td>2</td>\n      <td>Andrew</td>\n      <td>Tacoma</td>\n      <td>USA</td>\n    </tr>\n    <tr>\n      <th>2</th>\n      <td>3</td>\n      <td>Janet</td>\n      <td>Kirkland</td>\n      <td>USA</td>\n    </tr>\n    <tr>\n      <th>3</th>\n      <td>4</td>\n      <td>Margaret</td>\n      <td>Redmond</td>\n      <td>USA</td>\n    </tr>\n    <tr>\n      <th>4</th>\n      <td>5</td>\n      <td>Steven</td>\n      <td>London</td>\n      <td>UK</td>\n    </tr>\n    <tr>\n      <th>5</th>\n      <td>6</td>\n      <td>Michael</td>\n      <td>London</td>\n      <td>UK</td>\n    </tr>\n    <tr>\n      <th>6</th>\n      <td>7</td>\n      <td>Robert</td>\n      <td>London</td>\n      <td>UK</td>\n    </tr>\n    <tr>\n      <th>7</th>\n      <td>8</td>\n      <td>Laura</td>\n      <td>Seattle</td>\n      <td>USA</td>\n    </tr>\n    <tr>\n      <th>8</th>\n      <td>9</td>\n      <td>Anne</td>\n      <td>London</td>\n      <td>UK</td>\n    </tr>\n  </tbody>\n</table>\n</div>"
     },
     "execution_count": 5,
     "metadata": {},
     "output_type": "execute_result"
    }
   ],
   "source": [
    "employeeDataFrame = northwindRepository.getEmployeeDataFrame()\n",
    "employeeDataFrame"
   ],
   "metadata": {
    "collapsed": false,
    "ExecuteTime": {
     "end_time": "2023-05-29T07:46:41.225158100Z",
     "start_time": "2023-05-29T07:46:41.132129500Z"
    }
   }
  },
  {
   "cell_type": "markdown",
   "source": [
    "# Date"
   ],
   "metadata": {
    "collapsed": false
   }
  },
  {
   "cell_type": "code",
   "execution_count": 6,
   "outputs": [
    {
     "name": "stderr",
     "output_type": "stream",
     "text": [
      "C:\\Users\\Max\\Documents\\GitHub\\Scripts\\DataHandling\\Merging\\Repositories\\NorthwindRepository.py:53: UserWarning: pandas only supports SQLAlchemy connectable (engine/connection) or database string URI or sqlite3 DBAPI2 connection. Other DBAPI2 objects are not tested. Please consider using SQLAlchemy.\n",
      "  orderDates = pd.read_sql(\"SELECT DISTINCT OrderDate FROM orders\", self.dbConnection)\n"
     ]
    },
    {
     "data": {
      "text/plain": "      DAY_date DAY_MONTH_nr DAY_QUARTER_nr DAY_YEAR_nr\n0   1996-07-04            7              3        1996\n1   1996-07-05            7              3        1996\n2   1996-07-08            7              3        1996\n3   1996-07-09            7              3        1996\n4   1996-07-10            7              3        1996\n..         ...          ...            ...         ...\n475 1998-04-30            4              2        1998\n476 1998-05-01            5              2        1998\n477 1998-05-04            5              2        1998\n478 1998-05-05            5              2        1998\n479 1998-05-06            5              2        1998\n\n[480 rows x 4 columns]",
      "text/html": "<div>\n<style scoped>\n    .dataframe tbody tr th:only-of-type {\n        vertical-align: middle;\n    }\n\n    .dataframe tbody tr th {\n        vertical-align: top;\n    }\n\n    .dataframe thead th {\n        text-align: right;\n    }\n</style>\n<table border=\"1\" class=\"dataframe\">\n  <thead>\n    <tr style=\"text-align: right;\">\n      <th></th>\n      <th>DAY_date</th>\n      <th>DAY_MONTH_nr</th>\n      <th>DAY_QUARTER_nr</th>\n      <th>DAY_YEAR_nr</th>\n    </tr>\n  </thead>\n  <tbody>\n    <tr>\n      <th>0</th>\n      <td>1996-07-04</td>\n      <td>7</td>\n      <td>3</td>\n      <td>1996</td>\n    </tr>\n    <tr>\n      <th>1</th>\n      <td>1996-07-05</td>\n      <td>7</td>\n      <td>3</td>\n      <td>1996</td>\n    </tr>\n    <tr>\n      <th>2</th>\n      <td>1996-07-08</td>\n      <td>7</td>\n      <td>3</td>\n      <td>1996</td>\n    </tr>\n    <tr>\n      <th>3</th>\n      <td>1996-07-09</td>\n      <td>7</td>\n      <td>3</td>\n      <td>1996</td>\n    </tr>\n    <tr>\n      <th>4</th>\n      <td>1996-07-10</td>\n      <td>7</td>\n      <td>3</td>\n      <td>1996</td>\n    </tr>\n    <tr>\n      <th>...</th>\n      <td>...</td>\n      <td>...</td>\n      <td>...</td>\n      <td>...</td>\n    </tr>\n    <tr>\n      <th>475</th>\n      <td>1998-04-30</td>\n      <td>4</td>\n      <td>2</td>\n      <td>1998</td>\n    </tr>\n    <tr>\n      <th>476</th>\n      <td>1998-05-01</td>\n      <td>5</td>\n      <td>2</td>\n      <td>1998</td>\n    </tr>\n    <tr>\n      <th>477</th>\n      <td>1998-05-04</td>\n      <td>5</td>\n      <td>2</td>\n      <td>1998</td>\n    </tr>\n    <tr>\n      <th>478</th>\n      <td>1998-05-05</td>\n      <td>5</td>\n      <td>2</td>\n      <td>1998</td>\n    </tr>\n    <tr>\n      <th>479</th>\n      <td>1998-05-06</td>\n      <td>5</td>\n      <td>2</td>\n      <td>1998</td>\n    </tr>\n  </tbody>\n</table>\n<p>480 rows × 4 columns</p>\n</div>"
     },
     "execution_count": 6,
     "metadata": {},
     "output_type": "execute_result"
    }
   ],
   "source": [
    "DAY_date = northwindRepository.getDayDataFrame()\n",
    "DAY_date"
   ],
   "metadata": {
    "collapsed": false,
    "ExecuteTime": {
     "end_time": "2023-05-29T07:46:41.624303500Z",
     "start_time": "2023-05-29T07:46:41.145222300Z"
    }
   }
  },
  {
   "cell_type": "markdown",
   "source": [
    "# Order Details"
   ],
   "metadata": {
    "collapsed": false
   }
  },
  {
   "cell_type": "code",
   "execution_count": 7,
   "outputs": [
    {
     "name": "stderr",
     "output_type": "stream",
     "text": [
      "C:\\Users\\Max\\Documents\\GitHub\\Scripts\\DataHandling\\Merging\\Repositories\\NorthwindRepository.py:68: UserWarning: pandas only supports SQLAlchemy connectable (engine/connection) or database string URI or sqlite3 DBAPI2 connection. Other DBAPI2 objects are not tested. Please consider using SQLAlchemy.\n",
      "  orderDetailsData = pd.read_sql(orderDetailsQuery, self.dbConnection)\n"
     ]
    },
    {
     "data": {
      "text/plain": "      ORDER_DETAIL_id  ORDER_HEADER_id  ORDER_DETAIL_order_quantity  \\\n0               10248            10248                           12   \n1               10248            10248                           10   \n2               10248            10248                            5   \n3               10249            10249                            9   \n4               10249            10249                           40   \n...               ...              ...                          ...   \n2150            11077            11077                            2   \n2151            11077            11077                            1   \n2152            11077            11077                            2   \n2153            11077            11077                            4   \n2154            11077            11077                            2   \n\n      ORDER_DETAIL_unit_price   DAY_date  EMPLOYEE_id CUSTOMER_id  PRODUCT_id  \n0                       14.00 1996-07-04            5       VINET          11  \n1                        9.80 1996-07-04            5       VINET          42  \n2                       34.80 1996-07-04            5       VINET          72  \n3                       18.60 1996-07-05            6       TOMSP          14  \n4                       42.40 1996-07-05            6       TOMSP          51  \n...                       ...        ...          ...         ...         ...  \n2150                    33.25 1998-05-06            1       RATTC          64  \n2151                    17.00 1998-05-06            1       RATTC          66  \n2152                    15.00 1998-05-06            1       RATTC          73  \n2153                     7.75 1998-05-06            1       RATTC          75  \n2154                    13.00 1998-05-06            1       RATTC          77  \n\n[2155 rows x 8 columns]",
      "text/html": "<div>\n<style scoped>\n    .dataframe tbody tr th:only-of-type {\n        vertical-align: middle;\n    }\n\n    .dataframe tbody tr th {\n        vertical-align: top;\n    }\n\n    .dataframe thead th {\n        text-align: right;\n    }\n</style>\n<table border=\"1\" class=\"dataframe\">\n  <thead>\n    <tr style=\"text-align: right;\">\n      <th></th>\n      <th>ORDER_DETAIL_id</th>\n      <th>ORDER_HEADER_id</th>\n      <th>ORDER_DETAIL_order_quantity</th>\n      <th>ORDER_DETAIL_unit_price</th>\n      <th>DAY_date</th>\n      <th>EMPLOYEE_id</th>\n      <th>CUSTOMER_id</th>\n      <th>PRODUCT_id</th>\n    </tr>\n  </thead>\n  <tbody>\n    <tr>\n      <th>0</th>\n      <td>10248</td>\n      <td>10248</td>\n      <td>12</td>\n      <td>14.00</td>\n      <td>1996-07-04</td>\n      <td>5</td>\n      <td>VINET</td>\n      <td>11</td>\n    </tr>\n    <tr>\n      <th>1</th>\n      <td>10248</td>\n      <td>10248</td>\n      <td>10</td>\n      <td>9.80</td>\n      <td>1996-07-04</td>\n      <td>5</td>\n      <td>VINET</td>\n      <td>42</td>\n    </tr>\n    <tr>\n      <th>2</th>\n      <td>10248</td>\n      <td>10248</td>\n      <td>5</td>\n      <td>34.80</td>\n      <td>1996-07-04</td>\n      <td>5</td>\n      <td>VINET</td>\n      <td>72</td>\n    </tr>\n    <tr>\n      <th>3</th>\n      <td>10249</td>\n      <td>10249</td>\n      <td>9</td>\n      <td>18.60</td>\n      <td>1996-07-05</td>\n      <td>6</td>\n      <td>TOMSP</td>\n      <td>14</td>\n    </tr>\n    <tr>\n      <th>4</th>\n      <td>10249</td>\n      <td>10249</td>\n      <td>40</td>\n      <td>42.40</td>\n      <td>1996-07-05</td>\n      <td>6</td>\n      <td>TOMSP</td>\n      <td>51</td>\n    </tr>\n    <tr>\n      <th>...</th>\n      <td>...</td>\n      <td>...</td>\n      <td>...</td>\n      <td>...</td>\n      <td>...</td>\n      <td>...</td>\n      <td>...</td>\n      <td>...</td>\n    </tr>\n    <tr>\n      <th>2150</th>\n      <td>11077</td>\n      <td>11077</td>\n      <td>2</td>\n      <td>33.25</td>\n      <td>1998-05-06</td>\n      <td>1</td>\n      <td>RATTC</td>\n      <td>64</td>\n    </tr>\n    <tr>\n      <th>2151</th>\n      <td>11077</td>\n      <td>11077</td>\n      <td>1</td>\n      <td>17.00</td>\n      <td>1998-05-06</td>\n      <td>1</td>\n      <td>RATTC</td>\n      <td>66</td>\n    </tr>\n    <tr>\n      <th>2152</th>\n      <td>11077</td>\n      <td>11077</td>\n      <td>2</td>\n      <td>15.00</td>\n      <td>1998-05-06</td>\n      <td>1</td>\n      <td>RATTC</td>\n      <td>73</td>\n    </tr>\n    <tr>\n      <th>2153</th>\n      <td>11077</td>\n      <td>11077</td>\n      <td>4</td>\n      <td>7.75</td>\n      <td>1998-05-06</td>\n      <td>1</td>\n      <td>RATTC</td>\n      <td>75</td>\n    </tr>\n    <tr>\n      <th>2154</th>\n      <td>11077</td>\n      <td>11077</td>\n      <td>2</td>\n      <td>13.00</td>\n      <td>1998-05-06</td>\n      <td>1</td>\n      <td>RATTC</td>\n      <td>77</td>\n    </tr>\n  </tbody>\n</table>\n<p>2155 rows × 8 columns</p>\n</div>"
     },
     "execution_count": 7,
     "metadata": {},
     "output_type": "execute_result"
    }
   ],
   "source": [
    "orderDetailsData = northwindRepository.getOrderDetailsDataFrame()\n",
    "orderDetailsData"
   ],
   "metadata": {
    "collapsed": false,
    "ExecuteTime": {
     "end_time": "2023-05-29T07:46:41.730141700Z",
     "start_time": "2023-05-29T07:46:41.629290400Z"
    }
   }
  }
 ],
 "metadata": {
  "kernelspec": {
   "display_name": "Python 3",
   "language": "python",
   "name": "python3"
  },
  "language_info": {
   "codemirror_mode": {
    "name": "ipython",
    "version": 2
   },
   "file_extension": ".py",
   "mimetype": "text/x-python",
   "name": "python",
   "nbconvert_exporter": "python",
   "pygments_lexer": "ipython2",
   "version": "2.7.6"
  }
 },
 "nbformat": 4,
 "nbformat_minor": 0
}
