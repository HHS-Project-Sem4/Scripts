{
 "cells": [
  {
   "cell_type": "code",
   "execution_count": 1,
   "metadata": {
    "collapsed": true,
    "ExecuteTime": {
     "end_time": "2023-05-28T14:25:00.103420Z",
     "start_time": "2023-05-28T14:24:59.715758300Z"
    }
   },
   "outputs": [],
   "source": [
    "from Repositories.AdventureWorksRepository import Repository"
   ]
  },
  {
   "cell_type": "code",
   "execution_count": 2,
   "outputs": [],
   "source": [
    "adventureWorksConnectionString = \"Driver={SQL Server};Server=DESKTOP-8INVJ1O\\SQLEXPRESS;Database=AdventureWorks;trusted_connection=yes\"\n",
    "adventureWorkRepository = Repository(adventureWorksConnectionString)"
   ],
   "metadata": {
    "collapsed": false,
    "ExecuteTime": {
     "end_time": "2023-05-28T14:25:00.153621400Z",
     "start_time": "2023-05-28T14:25:00.105414500Z"
    }
   }
  },
  {
   "cell_type": "markdown",
   "source": [
    "# Product"
   ],
   "metadata": {
    "collapsed": false
   }
  },
  {
   "cell_type": "code",
   "execution_count": 3,
   "outputs": [
    {
     "name": "stderr",
     "output_type": "stream",
     "text": [
      "C:\\Users\\Max\\Documents\\GitHub\\Scripts\\DataHandling\\Merging\\Repositories\\AdventureWorksRepository.py:18: UserWarning: pandas only supports SQLAlchemy connectable (engine/connection) or database string URI or sqlite3 DBAPI2 connection. Other DBAPI2 objects are not tested. Please consider using SQLAlchemy.\n",
      "  productData = pd.read_sql(productJoinQuery, self.dbConnection)\n"
     ]
    },
    {
     "data": {
      "text/plain": "     PRODUCT_id               PRODUCT_name PRODUCT_category  \\\n0           680  HL Road Frame - Black, 58       Components   \n1           706    HL Road Frame - Red, 58       Components   \n2           707      Sport-100 Helmet, Red      Accessories   \n3           708    Sport-100 Helmet, Black      Accessories   \n4           709     Mountain Bike Socks, M         Clothing   \n..          ...                        ...              ...   \n290         995          ML Bottom Bracket       Components   \n291         996          HL Bottom Bracket       Components   \n292         997         Road-750 Black, 44            Bikes   \n293         998         Road-750 Black, 48            Bikes   \n294         999         Road-750 Black, 52            Bikes   \n\n    PRODUCT_sub_category PRODUCT_colour  PRODUCT_prod_cost  \n0            Road Frames          Black          1059.3100  \n1            Road Frames            Red          1059.3100  \n2                Helmets            Red            13.0863  \n3                Helmets          Black            13.0863  \n4                  Socks          White             3.3963  \n..                   ...            ...                ...  \n290      Bottom Brackets           None            44.9506  \n291      Bottom Brackets           None            53.9416  \n292           Road Bikes          Black           343.6496  \n293           Road Bikes          Black           343.6496  \n294           Road Bikes          Black           343.6496  \n\n[295 rows x 6 columns]",
      "text/html": "<div>\n<style scoped>\n    .dataframe tbody tr th:only-of-type {\n        vertical-align: middle;\n    }\n\n    .dataframe tbody tr th {\n        vertical-align: top;\n    }\n\n    .dataframe thead th {\n        text-align: right;\n    }\n</style>\n<table border=\"1\" class=\"dataframe\">\n  <thead>\n    <tr style=\"text-align: right;\">\n      <th></th>\n      <th>PRODUCT_id</th>\n      <th>PRODUCT_name</th>\n      <th>PRODUCT_category</th>\n      <th>PRODUCT_sub_category</th>\n      <th>PRODUCT_colour</th>\n      <th>PRODUCT_prod_cost</th>\n    </tr>\n  </thead>\n  <tbody>\n    <tr>\n      <th>0</th>\n      <td>680</td>\n      <td>HL Road Frame - Black, 58</td>\n      <td>Components</td>\n      <td>Road Frames</td>\n      <td>Black</td>\n      <td>1059.3100</td>\n    </tr>\n    <tr>\n      <th>1</th>\n      <td>706</td>\n      <td>HL Road Frame - Red, 58</td>\n      <td>Components</td>\n      <td>Road Frames</td>\n      <td>Red</td>\n      <td>1059.3100</td>\n    </tr>\n    <tr>\n      <th>2</th>\n      <td>707</td>\n      <td>Sport-100 Helmet, Red</td>\n      <td>Accessories</td>\n      <td>Helmets</td>\n      <td>Red</td>\n      <td>13.0863</td>\n    </tr>\n    <tr>\n      <th>3</th>\n      <td>708</td>\n      <td>Sport-100 Helmet, Black</td>\n      <td>Accessories</td>\n      <td>Helmets</td>\n      <td>Black</td>\n      <td>13.0863</td>\n    </tr>\n    <tr>\n      <th>4</th>\n      <td>709</td>\n      <td>Mountain Bike Socks, M</td>\n      <td>Clothing</td>\n      <td>Socks</td>\n      <td>White</td>\n      <td>3.3963</td>\n    </tr>\n    <tr>\n      <th>...</th>\n      <td>...</td>\n      <td>...</td>\n      <td>...</td>\n      <td>...</td>\n      <td>...</td>\n      <td>...</td>\n    </tr>\n    <tr>\n      <th>290</th>\n      <td>995</td>\n      <td>ML Bottom Bracket</td>\n      <td>Components</td>\n      <td>Bottom Brackets</td>\n      <td>None</td>\n      <td>44.9506</td>\n    </tr>\n    <tr>\n      <th>291</th>\n      <td>996</td>\n      <td>HL Bottom Bracket</td>\n      <td>Components</td>\n      <td>Bottom Brackets</td>\n      <td>None</td>\n      <td>53.9416</td>\n    </tr>\n    <tr>\n      <th>292</th>\n      <td>997</td>\n      <td>Road-750 Black, 44</td>\n      <td>Bikes</td>\n      <td>Road Bikes</td>\n      <td>Black</td>\n      <td>343.6496</td>\n    </tr>\n    <tr>\n      <th>293</th>\n      <td>998</td>\n      <td>Road-750 Black, 48</td>\n      <td>Bikes</td>\n      <td>Road Bikes</td>\n      <td>Black</td>\n      <td>343.6496</td>\n    </tr>\n    <tr>\n      <th>294</th>\n      <td>999</td>\n      <td>Road-750 Black, 52</td>\n      <td>Bikes</td>\n      <td>Road Bikes</td>\n      <td>Black</td>\n      <td>343.6496</td>\n    </tr>\n  </tbody>\n</table>\n<p>295 rows × 6 columns</p>\n</div>"
     },
     "execution_count": 3,
     "metadata": {},
     "output_type": "execute_result"
    }
   ],
   "source": [
    "productDataFrame = adventureWorkRepository.getProductDataFrame()\n",
    "productDataFrame"
   ],
   "metadata": {
    "collapsed": false,
    "ExecuteTime": {
     "end_time": "2023-05-28T14:25:00.286414600Z",
     "start_time": "2023-05-28T14:25:00.149632400Z"
    }
   }
  },
  {
   "cell_type": "markdown",
   "source": [
    "# Customer"
   ],
   "metadata": {
    "collapsed": false
   }
  },
  {
   "cell_type": "code",
   "execution_count": 4,
   "outputs": [
    {
     "name": "stderr",
     "output_type": "stream",
     "text": [
      "C:\\Users\\Max\\Documents\\GitHub\\Scripts\\DataHandling\\Merging\\Repositories\\AdventureWorksRepository.py:40: UserWarning: pandas only supports SQLAlchemy connectable (engine/connection) or database string URI or sqlite3 DBAPI2 connection. Other DBAPI2 objects are not tested. Please consider using SQLAlchemy.\n",
      "  customerData = pd.read_sql(customerJoinQuery, self.dbConnection)\n"
     ]
    },
    {
     "data": {
      "text/plain": "Empty DataFrame\nColumns: [CUSTOMER_id, CUSTOMER_address, CUSTOMER_city, CUSTOMER_state, CUSTOMER_country, CUSTOMER_company_name]\nIndex: []",
      "text/html": "<div>\n<style scoped>\n    .dataframe tbody tr th:only-of-type {\n        vertical-align: middle;\n    }\n\n    .dataframe tbody tr th {\n        vertical-align: top;\n    }\n\n    .dataframe thead th {\n        text-align: right;\n    }\n</style>\n<table border=\"1\" class=\"dataframe\">\n  <thead>\n    <tr style=\"text-align: right;\">\n      <th></th>\n      <th>CUSTOMER_id</th>\n      <th>CUSTOMER_address</th>\n      <th>CUSTOMER_city</th>\n      <th>CUSTOMER_state</th>\n      <th>CUSTOMER_country</th>\n      <th>CUSTOMER_company_name</th>\n    </tr>\n  </thead>\n  <tbody>\n  </tbody>\n</table>\n</div>"
     },
     "execution_count": 4,
     "metadata": {},
     "output_type": "execute_result"
    }
   ],
   "source": [
    "customerDataFrame = adventureWorkRepository.getCustomerDataFrame()\n",
    "customerDataFrame"
   ],
   "metadata": {
    "collapsed": false,
    "ExecuteTime": {
     "end_time": "2023-05-28T14:25:00.361745800Z",
     "start_time": "2023-05-28T14:25:00.288409200Z"
    }
   }
  },
  {
   "cell_type": "markdown",
   "source": [
    "# Employee"
   ],
   "metadata": {
    "collapsed": false
   }
  },
  {
   "cell_type": "code",
   "execution_count": 5,
   "outputs": [
    {
     "name": "stderr",
     "output_type": "stream",
     "text": [
      "C:\\Users\\Max\\Documents\\GitHub\\Scripts\\DataHandling\\Merging\\Repositories\\AdventureWorksRepository.py:61: UserWarning: pandas only supports SQLAlchemy connectable (engine/connection) or database string URI or sqlite3 DBAPI2 connection. Other DBAPI2 objects are not tested. Please consider using SQLAlchemy.\n",
      "  employeeData = pd.read_sql(employeeJoinQuery, self.dbConnection)\n"
     ]
    },
    {
     "data": {
      "text/plain": "    EMPLOYEE_id EMPLOYEE_first_name EMPLOYEE_last_name  EMPLOYEE_city  \\\n0           285                Syed              Abbas        Bothell   \n1           283               David           Campbell       Bellevue   \n2           278             Garrett             Vargas        Calgary   \n3           279                Tsvi             Reiter        Memphis   \n4           277             Jillian             Carson         Duluth   \n5           275             Michael             Blythe        Detroit   \n6           288              Rachel             Valdez         Berlin   \n7           287                 Amy            Alberts         Renton   \n8           276               Linda           Mitchell         Nevada   \n9           282                José            Saraiva         Ottawa   \n10          289                 Jae                Pak      Cambridge   \n11          290              Ranjit  Varkey Chudukatil       Bordeaux   \n12          274             Stephen              Jiang        Redmond   \n13          286                Lynn           Tsoflias      Melbourne   \n14          280              Pamela       Ansman-Wolfe       Portland   \n15          284                Tete        Mensa-Annan      Cambridge   \n16          281                 Shu                Ito  San Francisco   \n\n   EMPLOYEE_state EMPLOYEE_country  \n0      Washington    United States  \n1      Washington    United States  \n2         Alberta           Canada  \n3       Tennessee    United States  \n4       Minnesota    United States  \n5        Michigan    United States  \n6         Hamburg          Germany  \n7      Washington    United States  \n8            Utah    United States  \n9         Ontario           Canada  \n10        England   United Kingdom  \n11        Gironde           France  \n12     Washington    United States  \n13       Victoria        Australia  \n14         Oregon    United States  \n15  Massachusetts    United States  \n16     California    United States  ",
      "text/html": "<div>\n<style scoped>\n    .dataframe tbody tr th:only-of-type {\n        vertical-align: middle;\n    }\n\n    .dataframe tbody tr th {\n        vertical-align: top;\n    }\n\n    .dataframe thead th {\n        text-align: right;\n    }\n</style>\n<table border=\"1\" class=\"dataframe\">\n  <thead>\n    <tr style=\"text-align: right;\">\n      <th></th>\n      <th>EMPLOYEE_id</th>\n      <th>EMPLOYEE_first_name</th>\n      <th>EMPLOYEE_last_name</th>\n      <th>EMPLOYEE_city</th>\n      <th>EMPLOYEE_state</th>\n      <th>EMPLOYEE_country</th>\n    </tr>\n  </thead>\n  <tbody>\n    <tr>\n      <th>0</th>\n      <td>285</td>\n      <td>Syed</td>\n      <td>Abbas</td>\n      <td>Bothell</td>\n      <td>Washington</td>\n      <td>United States</td>\n    </tr>\n    <tr>\n      <th>1</th>\n      <td>283</td>\n      <td>David</td>\n      <td>Campbell</td>\n      <td>Bellevue</td>\n      <td>Washington</td>\n      <td>United States</td>\n    </tr>\n    <tr>\n      <th>2</th>\n      <td>278</td>\n      <td>Garrett</td>\n      <td>Vargas</td>\n      <td>Calgary</td>\n      <td>Alberta</td>\n      <td>Canada</td>\n    </tr>\n    <tr>\n      <th>3</th>\n      <td>279</td>\n      <td>Tsvi</td>\n      <td>Reiter</td>\n      <td>Memphis</td>\n      <td>Tennessee</td>\n      <td>United States</td>\n    </tr>\n    <tr>\n      <th>4</th>\n      <td>277</td>\n      <td>Jillian</td>\n      <td>Carson</td>\n      <td>Duluth</td>\n      <td>Minnesota</td>\n      <td>United States</td>\n    </tr>\n    <tr>\n      <th>5</th>\n      <td>275</td>\n      <td>Michael</td>\n      <td>Blythe</td>\n      <td>Detroit</td>\n      <td>Michigan</td>\n      <td>United States</td>\n    </tr>\n    <tr>\n      <th>6</th>\n      <td>288</td>\n      <td>Rachel</td>\n      <td>Valdez</td>\n      <td>Berlin</td>\n      <td>Hamburg</td>\n      <td>Germany</td>\n    </tr>\n    <tr>\n      <th>7</th>\n      <td>287</td>\n      <td>Amy</td>\n      <td>Alberts</td>\n      <td>Renton</td>\n      <td>Washington</td>\n      <td>United States</td>\n    </tr>\n    <tr>\n      <th>8</th>\n      <td>276</td>\n      <td>Linda</td>\n      <td>Mitchell</td>\n      <td>Nevada</td>\n      <td>Utah</td>\n      <td>United States</td>\n    </tr>\n    <tr>\n      <th>9</th>\n      <td>282</td>\n      <td>José</td>\n      <td>Saraiva</td>\n      <td>Ottawa</td>\n      <td>Ontario</td>\n      <td>Canada</td>\n    </tr>\n    <tr>\n      <th>10</th>\n      <td>289</td>\n      <td>Jae</td>\n      <td>Pak</td>\n      <td>Cambridge</td>\n      <td>England</td>\n      <td>United Kingdom</td>\n    </tr>\n    <tr>\n      <th>11</th>\n      <td>290</td>\n      <td>Ranjit</td>\n      <td>Varkey Chudukatil</td>\n      <td>Bordeaux</td>\n      <td>Gironde</td>\n      <td>France</td>\n    </tr>\n    <tr>\n      <th>12</th>\n      <td>274</td>\n      <td>Stephen</td>\n      <td>Jiang</td>\n      <td>Redmond</td>\n      <td>Washington</td>\n      <td>United States</td>\n    </tr>\n    <tr>\n      <th>13</th>\n      <td>286</td>\n      <td>Lynn</td>\n      <td>Tsoflias</td>\n      <td>Melbourne</td>\n      <td>Victoria</td>\n      <td>Australia</td>\n    </tr>\n    <tr>\n      <th>14</th>\n      <td>280</td>\n      <td>Pamela</td>\n      <td>Ansman-Wolfe</td>\n      <td>Portland</td>\n      <td>Oregon</td>\n      <td>United States</td>\n    </tr>\n    <tr>\n      <th>15</th>\n      <td>284</td>\n      <td>Tete</td>\n      <td>Mensa-Annan</td>\n      <td>Cambridge</td>\n      <td>Massachusetts</td>\n      <td>United States</td>\n    </tr>\n    <tr>\n      <th>16</th>\n      <td>281</td>\n      <td>Shu</td>\n      <td>Ito</td>\n      <td>San Francisco</td>\n      <td>California</td>\n      <td>United States</td>\n    </tr>\n  </tbody>\n</table>\n</div>"
     },
     "execution_count": 5,
     "metadata": {},
     "output_type": "execute_result"
    }
   ],
   "source": [
    "employeeDataFrame = adventureWorkRepository.getEmployeeDataFrame()\n",
    "employeeDataFrame"
   ],
   "metadata": {
    "collapsed": false,
    "ExecuteTime": {
     "end_time": "2023-05-28T14:25:00.459820900Z",
     "start_time": "2023-05-28T14:25:00.317840400Z"
    }
   }
  },
  {
   "cell_type": "markdown",
   "source": [
    "# Day"
   ],
   "metadata": {
    "collapsed": false
   }
  },
  {
   "cell_type": "code",
   "execution_count": 6,
   "outputs": [
    {
     "name": "stderr",
     "output_type": "stream",
     "text": [
      "C:\\Users\\Max\\Documents\\GitHub\\Scripts\\DataHandling\\Merging\\Repositories\\AdventureWorksRepository.py:76: UserWarning: pandas only supports SQLAlchemy connectable (engine/connection) or database string URI or sqlite3 DBAPI2 connection. Other DBAPI2 objects are not tested. Please consider using SQLAlchemy.\n",
      "  orderDates = pd.read_sql(\"SELECT DISTINCT OrderDate FROM sales.SalesOrderHeader\", self.dbConnection)\n"
     ]
    },
    {
     "data": {
      "text/plain": "       DAY_date DAY_MONTH_nr DAY_QUARTER_nr DAY_YEAR_nr\n0    2011-06-27            6              2        2011\n1    2011-09-06            9              3        2011\n2    2012-05-24            5              2        2012\n3    2012-08-03            8              3        2012\n4    2013-04-21            4              2        2013\n...         ...          ...            ...         ...\n1119 2014-06-18            6              2        2014\n1120 2012-06-09            6              2        2012\n1121 2012-07-28            7              3        2012\n1122 2013-12-02           12              4        2013\n1123 2014-01-20            1              1        2014\n\n[1124 rows x 4 columns]",
      "text/html": "<div>\n<style scoped>\n    .dataframe tbody tr th:only-of-type {\n        vertical-align: middle;\n    }\n\n    .dataframe tbody tr th {\n        vertical-align: top;\n    }\n\n    .dataframe thead th {\n        text-align: right;\n    }\n</style>\n<table border=\"1\" class=\"dataframe\">\n  <thead>\n    <tr style=\"text-align: right;\">\n      <th></th>\n      <th>DAY_date</th>\n      <th>DAY_MONTH_nr</th>\n      <th>DAY_QUARTER_nr</th>\n      <th>DAY_YEAR_nr</th>\n    </tr>\n  </thead>\n  <tbody>\n    <tr>\n      <th>0</th>\n      <td>2011-06-27</td>\n      <td>6</td>\n      <td>2</td>\n      <td>2011</td>\n    </tr>\n    <tr>\n      <th>1</th>\n      <td>2011-09-06</td>\n      <td>9</td>\n      <td>3</td>\n      <td>2011</td>\n    </tr>\n    <tr>\n      <th>2</th>\n      <td>2012-05-24</td>\n      <td>5</td>\n      <td>2</td>\n      <td>2012</td>\n    </tr>\n    <tr>\n      <th>3</th>\n      <td>2012-08-03</td>\n      <td>8</td>\n      <td>3</td>\n      <td>2012</td>\n    </tr>\n    <tr>\n      <th>4</th>\n      <td>2013-04-21</td>\n      <td>4</td>\n      <td>2</td>\n      <td>2013</td>\n    </tr>\n    <tr>\n      <th>...</th>\n      <td>...</td>\n      <td>...</td>\n      <td>...</td>\n      <td>...</td>\n    </tr>\n    <tr>\n      <th>1119</th>\n      <td>2014-06-18</td>\n      <td>6</td>\n      <td>2</td>\n      <td>2014</td>\n    </tr>\n    <tr>\n      <th>1120</th>\n      <td>2012-06-09</td>\n      <td>6</td>\n      <td>2</td>\n      <td>2012</td>\n    </tr>\n    <tr>\n      <th>1121</th>\n      <td>2012-07-28</td>\n      <td>7</td>\n      <td>3</td>\n      <td>2012</td>\n    </tr>\n    <tr>\n      <th>1122</th>\n      <td>2013-12-02</td>\n      <td>12</td>\n      <td>4</td>\n      <td>2013</td>\n    </tr>\n    <tr>\n      <th>1123</th>\n      <td>2014-01-20</td>\n      <td>1</td>\n      <td>1</td>\n      <td>2014</td>\n    </tr>\n  </tbody>\n</table>\n<p>1124 rows × 4 columns</p>\n</div>"
     },
     "execution_count": 6,
     "metadata": {},
     "output_type": "execute_result"
    }
   ],
   "source": [
    "DAY_date = adventureWorkRepository.getDayDataFrame()\n",
    "DAY_date"
   ],
   "metadata": {
    "collapsed": false,
    "ExecuteTime": {
     "end_time": "2023-05-28T14:25:01.345938700Z",
     "start_time": "2023-05-28T14:25:00.361745800Z"
    }
   }
  },
  {
   "cell_type": "markdown",
   "source": [
    "# Order Details"
   ],
   "metadata": {
    "collapsed": false
   }
  },
  {
   "cell_type": "code",
   "execution_count": 7,
   "outputs": [
    {
     "name": "stderr",
     "output_type": "stream",
     "text": [
      "C:\\Users\\Max\\Documents\\GitHub\\Scripts\\DataHandling\\Merging\\Repositories\\AdventureWorksRepository.py:91: UserWarning: pandas only supports SQLAlchemy connectable (engine/connection) or database string URI or sqlite3 DBAPI2 connection. Other DBAPI2 objects are not tested. Please consider using SQLAlchemy.\n",
      "  orderDetailsData = pd.read_sql(orderDetailsQuery, self.dbConnection)\n"
     ]
    },
    {
     "data": {
      "text/plain": "        ORDER_DETAIL_NUMBER  ORDER_DETAIL_order_quantity  \\\n0                         1                            1   \n1                         2                            3   \n2                         3                            1   \n3                         4                            1   \n4                         5                            1   \n...                     ...                          ...   \n121312               121313                            1   \n121313               121314                            1   \n121314               121315                            1   \n121315               121316                            1   \n121316               121317                            1   \n\n        ORDER_DETAIL_unit_price   DAY_date  EMPLOYEE_id  CUSTOMER_id  \\\n0                      2024.994 2011-05-31        279.0        29825   \n1                      2024.994 2011-05-31        279.0        29825   \n2                      2024.994 2011-05-31        279.0        29825   \n3                      2039.994 2011-05-31        279.0        29825   \n4                      2039.994 2011-05-31        279.0        29825   \n...                         ...        ...          ...          ...   \n121312                   21.980 2014-06-30          NaN        15868   \n121313                    8.990 2014-06-30          NaN        15868   \n121314                   21.980 2014-06-30          NaN        18759   \n121315                  159.000 2014-06-30          NaN        18759   \n121316                    8.990 2014-06-30          NaN        18759   \n\n        PRODUCT_id  \n0              776  \n1              777  \n2              778  \n3              771  \n4              772  \n...            ...  \n121312         878  \n121313         712  \n121314         878  \n121315         879  \n121316         712  \n\n[121317 rows x 7 columns]",
      "text/html": "<div>\n<style scoped>\n    .dataframe tbody tr th:only-of-type {\n        vertical-align: middle;\n    }\n\n    .dataframe tbody tr th {\n        vertical-align: top;\n    }\n\n    .dataframe thead th {\n        text-align: right;\n    }\n</style>\n<table border=\"1\" class=\"dataframe\">\n  <thead>\n    <tr style=\"text-align: right;\">\n      <th></th>\n      <th>ORDER_DETAIL_NUMBER</th>\n      <th>ORDER_DETAIL_order_quantity</th>\n      <th>ORDER_DETAIL_unit_price</th>\n      <th>DAY_date</th>\n      <th>EMPLOYEE_id</th>\n      <th>CUSTOMER_id</th>\n      <th>PRODUCT_id</th>\n    </tr>\n  </thead>\n  <tbody>\n    <tr>\n      <th>0</th>\n      <td>1</td>\n      <td>1</td>\n      <td>2024.994</td>\n      <td>2011-05-31</td>\n      <td>279.0</td>\n      <td>29825</td>\n      <td>776</td>\n    </tr>\n    <tr>\n      <th>1</th>\n      <td>2</td>\n      <td>3</td>\n      <td>2024.994</td>\n      <td>2011-05-31</td>\n      <td>279.0</td>\n      <td>29825</td>\n      <td>777</td>\n    </tr>\n    <tr>\n      <th>2</th>\n      <td>3</td>\n      <td>1</td>\n      <td>2024.994</td>\n      <td>2011-05-31</td>\n      <td>279.0</td>\n      <td>29825</td>\n      <td>778</td>\n    </tr>\n    <tr>\n      <th>3</th>\n      <td>4</td>\n      <td>1</td>\n      <td>2039.994</td>\n      <td>2011-05-31</td>\n      <td>279.0</td>\n      <td>29825</td>\n      <td>771</td>\n    </tr>\n    <tr>\n      <th>4</th>\n      <td>5</td>\n      <td>1</td>\n      <td>2039.994</td>\n      <td>2011-05-31</td>\n      <td>279.0</td>\n      <td>29825</td>\n      <td>772</td>\n    </tr>\n    <tr>\n      <th>...</th>\n      <td>...</td>\n      <td>...</td>\n      <td>...</td>\n      <td>...</td>\n      <td>...</td>\n      <td>...</td>\n      <td>...</td>\n    </tr>\n    <tr>\n      <th>121312</th>\n      <td>121313</td>\n      <td>1</td>\n      <td>21.980</td>\n      <td>2014-06-30</td>\n      <td>NaN</td>\n      <td>15868</td>\n      <td>878</td>\n    </tr>\n    <tr>\n      <th>121313</th>\n      <td>121314</td>\n      <td>1</td>\n      <td>8.990</td>\n      <td>2014-06-30</td>\n      <td>NaN</td>\n      <td>15868</td>\n      <td>712</td>\n    </tr>\n    <tr>\n      <th>121314</th>\n      <td>121315</td>\n      <td>1</td>\n      <td>21.980</td>\n      <td>2014-06-30</td>\n      <td>NaN</td>\n      <td>18759</td>\n      <td>878</td>\n    </tr>\n    <tr>\n      <th>121315</th>\n      <td>121316</td>\n      <td>1</td>\n      <td>159.000</td>\n      <td>2014-06-30</td>\n      <td>NaN</td>\n      <td>18759</td>\n      <td>879</td>\n    </tr>\n    <tr>\n      <th>121316</th>\n      <td>121317</td>\n      <td>1</td>\n      <td>8.990</td>\n      <td>2014-06-30</td>\n      <td>NaN</td>\n      <td>18759</td>\n      <td>712</td>\n    </tr>\n  </tbody>\n</table>\n<p>121317 rows × 7 columns</p>\n</div>"
     },
     "execution_count": 7,
     "metadata": {},
     "output_type": "execute_result"
    }
   ],
   "source": [
    "orderDetailsData = adventureWorkRepository.getOrderDetailsDataFrame()\n",
    "orderDetailsData"
   ],
   "metadata": {
    "collapsed": false,
    "ExecuteTime": {
     "end_time": "2023-05-28T14:25:02.159370700Z",
     "start_time": "2023-05-28T14:25:01.346936800Z"
    }
   }
  }
 ],
 "metadata": {
  "kernelspec": {
   "display_name": "Python 3",
   "language": "python",
   "name": "python3"
  },
  "language_info": {
   "codemirror_mode": {
    "name": "ipython",
    "version": 2
   },
   "file_extension": ".py",
   "mimetype": "text/x-python",
   "name": "python",
   "nbconvert_exporter": "python",
   "pygments_lexer": "ipython2",
   "version": "2.7.6"
  }
 },
 "nbformat": 4,
 "nbformat_minor": 0
}
