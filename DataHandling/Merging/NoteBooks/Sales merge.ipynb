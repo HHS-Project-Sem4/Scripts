{
 "cells": [
  {
   "cell_type": "code",
   "execution_count": 1,
   "outputs": [],
   "source": [
    "from Repositories.SalesRepository import Repository"
   ],
   "metadata": {
    "collapsed": false,
    "ExecuteTime": {
     "end_time": "2023-05-28T14:25:37.787916300Z",
     "start_time": "2023-05-28T14:25:37.380555400Z"
    }
   }
  },
  {
   "cell_type": "code",
   "execution_count": 2,
   "outputs": [
    {
     "name": "stderr",
     "output_type": "stream",
     "text": [
      "C:\\Users\\Max\\Documents\\GitHub\\Scripts\\DataHandling\\Merging\\Repositories\\SalesRepository.py:9: UserWarning: pandas only supports SQLAlchemy connectable (engine/connection) or database string URI or sqlite3 DBAPI2 connection. Other DBAPI2 objects are not tested. Please consider using SQLAlchemy.\n",
      "  self.salesDataFrame = pd.read_sql(\"SELECT * FROM Sales\", dbConnection)\n"
     ]
    }
   ],
   "source": [
    "salesConnectionString = \"Driver={SQL Server};Server=DESKTOP-8INVJ1O\\SQLEXPRESS;Database=Sales_db;trusted_connection=yes\"\n",
    "salesRepository = Repository(salesConnectionString)"
   ],
   "metadata": {
    "collapsed": false,
    "ExecuteTime": {
     "end_time": "2023-05-28T14:25:39.075819800Z",
     "start_time": "2023-05-28T14:25:37.791905900Z"
    }
   }
  },
  {
   "cell_type": "markdown",
   "source": [
    "# Product"
   ],
   "metadata": {
    "collapsed": false
   }
  },
  {
   "cell_type": "code",
   "execution_count": 3,
   "outputs": [
    {
     "data": {
      "text/plain": "        PRODUCT_id            PRODUCT_name PRODUCT_category  \\\n0              0.0     Hitch Rack - 4-Bike      Accessories   \n596            1.0  All-Purpose Bike Stand      Accessories   \n1048           2.0    Mountain Bottle Cage      Accessories   \n1056           3.0   Water Bottle - 30 oz.      Accessories   \n1074           4.0        Road Bottle Cage      Accessories   \n...            ...                     ...              ...   \n108780       125.0   Touring-2000 Blue, 50            Bikes   \n108864       126.0   Touring-2000 Blue, 60            Bikes   \n112074       127.0         Classic Vest, L         Clothing   \n112080       128.0         Classic Vest, M         Clothing   \n112090       129.0         Classic Vest, S         Clothing   \n\n       PRODUCT_sub_category  PRODUCT_prod_cost  \n0                Bike Racks               45.0  \n596             Bike Stands               59.0  \n1048      Bottles and Cages                4.0  \n1056      Bottles and Cages                2.0  \n1074      Bottles and Cages                3.0  \n...                     ...                ...  \n108780        Touring Bikes              755.0  \n108864        Touring Bikes              755.0  \n112074                Vests               24.0  \n112080                Vests               24.0  \n112090                Vests               24.0  \n\n[130 rows x 5 columns]",
      "text/html": "<div>\n<style scoped>\n    .dataframe tbody tr th:only-of-type {\n        vertical-align: middle;\n    }\n\n    .dataframe tbody tr th {\n        vertical-align: top;\n    }\n\n    .dataframe thead th {\n        text-align: right;\n    }\n</style>\n<table border=\"1\" class=\"dataframe\">\n  <thead>\n    <tr style=\"text-align: right;\">\n      <th></th>\n      <th>PRODUCT_id</th>\n      <th>PRODUCT_name</th>\n      <th>PRODUCT_category</th>\n      <th>PRODUCT_sub_category</th>\n      <th>PRODUCT_prod_cost</th>\n    </tr>\n  </thead>\n  <tbody>\n    <tr>\n      <th>0</th>\n      <td>0.0</td>\n      <td>Hitch Rack - 4-Bike</td>\n      <td>Accessories</td>\n      <td>Bike Racks</td>\n      <td>45.0</td>\n    </tr>\n    <tr>\n      <th>596</th>\n      <td>1.0</td>\n      <td>All-Purpose Bike Stand</td>\n      <td>Accessories</td>\n      <td>Bike Stands</td>\n      <td>59.0</td>\n    </tr>\n    <tr>\n      <th>1048</th>\n      <td>2.0</td>\n      <td>Mountain Bottle Cage</td>\n      <td>Accessories</td>\n      <td>Bottles and Cages</td>\n      <td>4.0</td>\n    </tr>\n    <tr>\n      <th>1056</th>\n      <td>3.0</td>\n      <td>Water Bottle - 30 oz.</td>\n      <td>Accessories</td>\n      <td>Bottles and Cages</td>\n      <td>2.0</td>\n    </tr>\n    <tr>\n      <th>1074</th>\n      <td>4.0</td>\n      <td>Road Bottle Cage</td>\n      <td>Accessories</td>\n      <td>Bottles and Cages</td>\n      <td>3.0</td>\n    </tr>\n    <tr>\n      <th>...</th>\n      <td>...</td>\n      <td>...</td>\n      <td>...</td>\n      <td>...</td>\n      <td>...</td>\n    </tr>\n    <tr>\n      <th>108780</th>\n      <td>125.0</td>\n      <td>Touring-2000 Blue, 50</td>\n      <td>Bikes</td>\n      <td>Touring Bikes</td>\n      <td>755.0</td>\n    </tr>\n    <tr>\n      <th>108864</th>\n      <td>126.0</td>\n      <td>Touring-2000 Blue, 60</td>\n      <td>Bikes</td>\n      <td>Touring Bikes</td>\n      <td>755.0</td>\n    </tr>\n    <tr>\n      <th>112074</th>\n      <td>127.0</td>\n      <td>Classic Vest, L</td>\n      <td>Clothing</td>\n      <td>Vests</td>\n      <td>24.0</td>\n    </tr>\n    <tr>\n      <th>112080</th>\n      <td>128.0</td>\n      <td>Classic Vest, M</td>\n      <td>Clothing</td>\n      <td>Vests</td>\n      <td>24.0</td>\n    </tr>\n    <tr>\n      <th>112090</th>\n      <td>129.0</td>\n      <td>Classic Vest, S</td>\n      <td>Clothing</td>\n      <td>Vests</td>\n      <td>24.0</td>\n    </tr>\n  </tbody>\n</table>\n<p>130 rows × 5 columns</p>\n</div>"
     },
     "execution_count": 3,
     "metadata": {},
     "output_type": "execute_result"
    }
   ],
   "source": [
    "productDataFrame = salesRepository.getProductDataFrame()\n",
    "productDataFrame"
   ],
   "metadata": {
    "collapsed": false,
    "ExecuteTime": {
     "end_time": "2023-05-28T14:25:39.950040100Z",
     "start_time": "2023-05-28T14:25:39.077819Z"
    }
   }
  },
  {
   "cell_type": "markdown",
   "source": [
    "# Customer"
   ],
   "metadata": {
    "collapsed": false
   }
  },
  {
   "cell_type": "code",
   "execution_count": 4,
   "outputs": [
    {
     "data": {
      "text/plain": "                                 CUSTOMER_id CUSTOMER_country  \\\n0       002081df-1d5b-4d1a-8e68-d7ef7f8d398e           Canada   \n1       016503f6-9246-450a-8d49-72be4032ec9b           Canada   \n2       4db0f296-77ff-47dc-9e54-554a7937b8cc        Australia   \n3       a119578d-a20b-4770-a8c1-e5453d8e4a0d        Australia   \n4       4b4b890d-1d61-43fa-aa8b-8f6387b8e7b5        Australia   \n...                                      ...              ...   \n113031  09c551dd-328b-4465-b7cf-9095289237e5   United Kingdom   \n113032  f88a2a20-a69f-4389-acd4-ea2e23616957        Australia   \n113033  e3eb4e0a-ffe6-4ce2-9bf3-4e71afb4395c        Australia   \n113034  a59b09b7-8b39-454a-a766-d9b350d167d9           France   \n113035  2e91b9d4-7c83-4f6f-9250-a02cb3e480f9           France   \n\n          CUSTOMER_state  \n0       British Columbia  \n1       British Columbia  \n2        New South Wales  \n3        New South Wales  \n4        New South Wales  \n...                  ...  \n113031           England  \n113032        Queensland  \n113033        Queensland  \n113034     Seine (Paris)  \n113035     Seine (Paris)  \n\n[113036 rows x 3 columns]",
      "text/html": "<div>\n<style scoped>\n    .dataframe tbody tr th:only-of-type {\n        vertical-align: middle;\n    }\n\n    .dataframe tbody tr th {\n        vertical-align: top;\n    }\n\n    .dataframe thead th {\n        text-align: right;\n    }\n</style>\n<table border=\"1\" class=\"dataframe\">\n  <thead>\n    <tr style=\"text-align: right;\">\n      <th></th>\n      <th>CUSTOMER_id</th>\n      <th>CUSTOMER_country</th>\n      <th>CUSTOMER_state</th>\n    </tr>\n  </thead>\n  <tbody>\n    <tr>\n      <th>0</th>\n      <td>002081df-1d5b-4d1a-8e68-d7ef7f8d398e</td>\n      <td>Canada</td>\n      <td>British Columbia</td>\n    </tr>\n    <tr>\n      <th>1</th>\n      <td>016503f6-9246-450a-8d49-72be4032ec9b</td>\n      <td>Canada</td>\n      <td>British Columbia</td>\n    </tr>\n    <tr>\n      <th>2</th>\n      <td>4db0f296-77ff-47dc-9e54-554a7937b8cc</td>\n      <td>Australia</td>\n      <td>New South Wales</td>\n    </tr>\n    <tr>\n      <th>3</th>\n      <td>a119578d-a20b-4770-a8c1-e5453d8e4a0d</td>\n      <td>Australia</td>\n      <td>New South Wales</td>\n    </tr>\n    <tr>\n      <th>4</th>\n      <td>4b4b890d-1d61-43fa-aa8b-8f6387b8e7b5</td>\n      <td>Australia</td>\n      <td>New South Wales</td>\n    </tr>\n    <tr>\n      <th>...</th>\n      <td>...</td>\n      <td>...</td>\n      <td>...</td>\n    </tr>\n    <tr>\n      <th>113031</th>\n      <td>09c551dd-328b-4465-b7cf-9095289237e5</td>\n      <td>United Kingdom</td>\n      <td>England</td>\n    </tr>\n    <tr>\n      <th>113032</th>\n      <td>f88a2a20-a69f-4389-acd4-ea2e23616957</td>\n      <td>Australia</td>\n      <td>Queensland</td>\n    </tr>\n    <tr>\n      <th>113033</th>\n      <td>e3eb4e0a-ffe6-4ce2-9bf3-4e71afb4395c</td>\n      <td>Australia</td>\n      <td>Queensland</td>\n    </tr>\n    <tr>\n      <th>113034</th>\n      <td>a59b09b7-8b39-454a-a766-d9b350d167d9</td>\n      <td>France</td>\n      <td>Seine (Paris)</td>\n    </tr>\n    <tr>\n      <th>113035</th>\n      <td>2e91b9d4-7c83-4f6f-9250-a02cb3e480f9</td>\n      <td>France</td>\n      <td>Seine (Paris)</td>\n    </tr>\n  </tbody>\n</table>\n<p>113036 rows × 3 columns</p>\n</div>"
     },
     "execution_count": 4,
     "metadata": {},
     "output_type": "execute_result"
    }
   ],
   "source": [
    "customerDataFrame = salesRepository.getCustomerDataFrame()\n",
    "customerDataFrame"
   ],
   "metadata": {
    "collapsed": false,
    "ExecuteTime": {
     "end_time": "2023-05-28T14:25:40.596441500Z",
     "start_time": "2023-05-28T14:25:39.961036300Z"
    }
   }
  },
  {
   "cell_type": "markdown",
   "source": [
    "# Day"
   ],
   "metadata": {
    "collapsed": false
   }
  },
  {
   "cell_type": "code",
   "execution_count": 5,
   "outputs": [
    {
     "data": {
      "text/plain": "       DAY_date DAY_MONTH_nr DAY_QUARTER_nr DAY_YEAR_nr\n0    2013-11-26           11              4        2013\n1    2015-11-26           11              4        2015\n2    2014-03-23            3              1        2014\n3    2016-03-23            3              1        2016\n4    2014-05-15            5              2        2014\n...         ...          ...            ...         ...\n1879 2011-10-27           10              4        2011\n1880 2013-01-06            1              1        2013\n1881 2015-01-06            1              1        2015\n1882 2012-02-20            2              1        2012\n1883 2011-02-20            2              1        2011\n\n[1884 rows x 4 columns]",
      "text/html": "<div>\n<style scoped>\n    .dataframe tbody tr th:only-of-type {\n        vertical-align: middle;\n    }\n\n    .dataframe tbody tr th {\n        vertical-align: top;\n    }\n\n    .dataframe thead th {\n        text-align: right;\n    }\n</style>\n<table border=\"1\" class=\"dataframe\">\n  <thead>\n    <tr style=\"text-align: right;\">\n      <th></th>\n      <th>DAY_date</th>\n      <th>DAY_MONTH_nr</th>\n      <th>DAY_QUARTER_nr</th>\n      <th>DAY_YEAR_nr</th>\n    </tr>\n  </thead>\n  <tbody>\n    <tr>\n      <th>0</th>\n      <td>2013-11-26</td>\n      <td>11</td>\n      <td>4</td>\n      <td>2013</td>\n    </tr>\n    <tr>\n      <th>1</th>\n      <td>2015-11-26</td>\n      <td>11</td>\n      <td>4</td>\n      <td>2015</td>\n    </tr>\n    <tr>\n      <th>2</th>\n      <td>2014-03-23</td>\n      <td>3</td>\n      <td>1</td>\n      <td>2014</td>\n    </tr>\n    <tr>\n      <th>3</th>\n      <td>2016-03-23</td>\n      <td>3</td>\n      <td>1</td>\n      <td>2016</td>\n    </tr>\n    <tr>\n      <th>4</th>\n      <td>2014-05-15</td>\n      <td>5</td>\n      <td>2</td>\n      <td>2014</td>\n    </tr>\n    <tr>\n      <th>...</th>\n      <td>...</td>\n      <td>...</td>\n      <td>...</td>\n      <td>...</td>\n    </tr>\n    <tr>\n      <th>1879</th>\n      <td>2011-10-27</td>\n      <td>10</td>\n      <td>4</td>\n      <td>2011</td>\n    </tr>\n    <tr>\n      <th>1880</th>\n      <td>2013-01-06</td>\n      <td>1</td>\n      <td>1</td>\n      <td>2013</td>\n    </tr>\n    <tr>\n      <th>1881</th>\n      <td>2015-01-06</td>\n      <td>1</td>\n      <td>1</td>\n      <td>2015</td>\n    </tr>\n    <tr>\n      <th>1882</th>\n      <td>2012-02-20</td>\n      <td>2</td>\n      <td>1</td>\n      <td>2012</td>\n    </tr>\n    <tr>\n      <th>1883</th>\n      <td>2011-02-20</td>\n      <td>2</td>\n      <td>1</td>\n      <td>2011</td>\n    </tr>\n  </tbody>\n</table>\n<p>1884 rows × 4 columns</p>\n</div>"
     },
     "execution_count": 5,
     "metadata": {},
     "output_type": "execute_result"
    }
   ],
   "source": [
    "DAY_date = salesRepository.getDayDataFrame()\n",
    "DAY_date"
   ],
   "metadata": {
    "collapsed": false,
    "ExecuteTime": {
     "end_time": "2023-05-28T14:25:42.425313100Z",
     "start_time": "2023-05-28T14:25:40.599434200Z"
    }
   }
  },
  {
   "cell_type": "markdown",
   "source": [
    "# Order Detail"
   ],
   "metadata": {
    "collapsed": false
   }
  },
  {
   "cell_type": "code",
   "execution_count": 6,
   "outputs": [
    {
     "data": {
      "text/plain": "        ORDER_DETAIL_order_quantity  ORDER_DETAIL_unit_price    DAY_date  \\\n0                                 8                    120.0  2013-11-26   \n1                                 8                    120.0  2015-11-26   \n2                                23                    120.0  2014-03-23   \n3                                20                    120.0  2016-03-23   \n4                                 4                    120.0  2014-05-15   \n...                             ...                      ...         ...   \n113031                            3                     64.0  2016-04-12   \n113032                           22                     64.0  2014-04-02   \n113033                           22                     64.0  2016-04-02   \n113034                           24                     64.0  2014-03-04   \n113035                           23                     64.0  2016-03-04   \n\n                                 CUSTOMER_id  PRODUCT_id  \n0       002081df-1d5b-4d1a-8e68-d7ef7f8d398e         0.0  \n1       016503f6-9246-450a-8d49-72be4032ec9b         0.0  \n2       4db0f296-77ff-47dc-9e54-554a7937b8cc         0.0  \n3       a119578d-a20b-4770-a8c1-e5453d8e4a0d         0.0  \n4       4b4b890d-1d61-43fa-aa8b-8f6387b8e7b5         0.0  \n...                                      ...         ...  \n113031  09c551dd-328b-4465-b7cf-9095289237e5       129.0  \n113032  f88a2a20-a69f-4389-acd4-ea2e23616957       128.0  \n113033  e3eb4e0a-ffe6-4ce2-9bf3-4e71afb4395c       128.0  \n113034  a59b09b7-8b39-454a-a766-d9b350d167d9       127.0  \n113035  2e91b9d4-7c83-4f6f-9250-a02cb3e480f9       127.0  \n\n[113036 rows x 5 columns]",
      "text/html": "<div>\n<style scoped>\n    .dataframe tbody tr th:only-of-type {\n        vertical-align: middle;\n    }\n\n    .dataframe tbody tr th {\n        vertical-align: top;\n    }\n\n    .dataframe thead th {\n        text-align: right;\n    }\n</style>\n<table border=\"1\" class=\"dataframe\">\n  <thead>\n    <tr style=\"text-align: right;\">\n      <th></th>\n      <th>ORDER_DETAIL_order_quantity</th>\n      <th>ORDER_DETAIL_unit_price</th>\n      <th>DAY_date</th>\n      <th>CUSTOMER_id</th>\n      <th>PRODUCT_id</th>\n    </tr>\n  </thead>\n  <tbody>\n    <tr>\n      <th>0</th>\n      <td>8</td>\n      <td>120.0</td>\n      <td>2013-11-26</td>\n      <td>002081df-1d5b-4d1a-8e68-d7ef7f8d398e</td>\n      <td>0.0</td>\n    </tr>\n    <tr>\n      <th>1</th>\n      <td>8</td>\n      <td>120.0</td>\n      <td>2015-11-26</td>\n      <td>016503f6-9246-450a-8d49-72be4032ec9b</td>\n      <td>0.0</td>\n    </tr>\n    <tr>\n      <th>2</th>\n      <td>23</td>\n      <td>120.0</td>\n      <td>2014-03-23</td>\n      <td>4db0f296-77ff-47dc-9e54-554a7937b8cc</td>\n      <td>0.0</td>\n    </tr>\n    <tr>\n      <th>3</th>\n      <td>20</td>\n      <td>120.0</td>\n      <td>2016-03-23</td>\n      <td>a119578d-a20b-4770-a8c1-e5453d8e4a0d</td>\n      <td>0.0</td>\n    </tr>\n    <tr>\n      <th>4</th>\n      <td>4</td>\n      <td>120.0</td>\n      <td>2014-05-15</td>\n      <td>4b4b890d-1d61-43fa-aa8b-8f6387b8e7b5</td>\n      <td>0.0</td>\n    </tr>\n    <tr>\n      <th>...</th>\n      <td>...</td>\n      <td>...</td>\n      <td>...</td>\n      <td>...</td>\n      <td>...</td>\n    </tr>\n    <tr>\n      <th>113031</th>\n      <td>3</td>\n      <td>64.0</td>\n      <td>2016-04-12</td>\n      <td>09c551dd-328b-4465-b7cf-9095289237e5</td>\n      <td>129.0</td>\n    </tr>\n    <tr>\n      <th>113032</th>\n      <td>22</td>\n      <td>64.0</td>\n      <td>2014-04-02</td>\n      <td>f88a2a20-a69f-4389-acd4-ea2e23616957</td>\n      <td>128.0</td>\n    </tr>\n    <tr>\n      <th>113033</th>\n      <td>22</td>\n      <td>64.0</td>\n      <td>2016-04-02</td>\n      <td>e3eb4e0a-ffe6-4ce2-9bf3-4e71afb4395c</td>\n      <td>128.0</td>\n    </tr>\n    <tr>\n      <th>113034</th>\n      <td>24</td>\n      <td>64.0</td>\n      <td>2014-03-04</td>\n      <td>a59b09b7-8b39-454a-a766-d9b350d167d9</td>\n      <td>127.0</td>\n    </tr>\n    <tr>\n      <th>113035</th>\n      <td>23</td>\n      <td>64.0</td>\n      <td>2016-03-04</td>\n      <td>2e91b9d4-7c83-4f6f-9250-a02cb3e480f9</td>\n      <td>127.0</td>\n    </tr>\n  </tbody>\n</table>\n<p>113036 rows × 5 columns</p>\n</div>"
     },
     "execution_count": 6,
     "metadata": {},
     "output_type": "execute_result"
    }
   ],
   "source": [
    "orderDetailsData = salesRepository.getOrderDetailsDataFrame()\n",
    "orderDetailsData"
   ],
   "metadata": {
    "collapsed": false,
    "ExecuteTime": {
     "end_time": "2023-05-28T14:25:42.485264900Z",
     "start_time": "2023-05-28T14:25:42.427309600Z"
    }
   }
  }
 ],
 "metadata": {
  "kernelspec": {
   "display_name": "Python 3",
   "language": "python",
   "name": "python3"
  },
  "language_info": {
   "codemirror_mode": {
    "name": "ipython",
    "version": 2
   },
   "file_extension": ".py",
   "mimetype": "text/x-python",
   "name": "python",
   "nbconvert_exporter": "python",
   "pygments_lexer": "ipython2",
   "version": "2.7.6"
  }
 },
 "nbformat": 4,
 "nbformat_minor": 0
}
