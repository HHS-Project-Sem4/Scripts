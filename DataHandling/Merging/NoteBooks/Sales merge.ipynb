{
 "cells": [
  {
   "cell_type": "code",
   "execution_count": 1,
   "outputs": [],
   "source": [
    "from Repositories.SalesRepository import Repository"
   ],
   "metadata": {
    "collapsed": false,
    "ExecuteTime": {
     "end_time": "2023-05-29T11:18:30.254186300Z",
     "start_time": "2023-05-29T11:18:29.828198800Z"
    }
   }
  },
  {
   "cell_type": "code",
   "execution_count": 2,
   "outputs": [
    {
     "name": "stderr",
     "output_type": "stream",
     "text": [
      "C:\\Users\\Max\\Documents\\GitHub\\Scripts\\DataHandling\\Merging\\Repositories\\SalesRepository.py:9: UserWarning: pandas only supports SQLAlchemy connectable (engine/connection) or database string URI or sqlite3 DBAPI2 connection. Other DBAPI2 objects are not tested. Please consider using SQLAlchemy.\n",
      "  self.salesDataFrame = pd.read_sql(\"SELECT * FROM Sales\", dbConnection)\n"
     ]
    }
   ],
   "source": [
    "salesConnectionString = \"Driver={SQL Server};Server=DESKTOP-8INVJ1O\\SQLEXPRESS;Database=Sales_db;trusted_connection=yes\"\n",
    "salesRepository = Repository(salesConnectionString)"
   ],
   "metadata": {
    "collapsed": false,
    "ExecuteTime": {
     "end_time": "2023-05-29T11:18:31.497657500Z",
     "start_time": "2023-05-29T11:18:30.259160Z"
    }
   }
  },
  {
   "cell_type": "markdown",
   "source": [
    "# Product"
   ],
   "metadata": {
    "collapsed": false
   }
  },
  {
   "cell_type": "code",
   "execution_count": 3,
   "outputs": [
    {
     "data": {
      "text/plain": "        PRODUCT_id            PRODUCT_name PRODUCT_category  \\\n0              0.0     Hitch Rack - 4-Bike      Accessories   \n596            1.0  All-Purpose Bike Stand      Accessories   \n1048           2.0    Mountain Bottle Cage      Accessories   \n1056           3.0   Water Bottle - 30 oz.      Accessories   \n1074           4.0        Road Bottle Cage      Accessories   \n...            ...                     ...              ...   \n108780       125.0   Touring-2000 Blue, 50            Bikes   \n108864       126.0   Touring-2000 Blue, 60            Bikes   \n112074       127.0         Classic Vest, L         Clothing   \n112080       128.0         Classic Vest, M         Clothing   \n112090       129.0         Classic Vest, S         Clothing   \n\n       PRODUCT_sub_category  PRODUCT_prod_cost  \n0                Bike Racks               45.0  \n596             Bike Stands               59.0  \n1048      Bottles and Cages                4.0  \n1056      Bottles and Cages                2.0  \n1074      Bottles and Cages                3.0  \n...                     ...                ...  \n108780        Touring Bikes              755.0  \n108864        Touring Bikes              755.0  \n112074                Vests               24.0  \n112080                Vests               24.0  \n112090                Vests               24.0  \n\n[130 rows x 5 columns]",
      "text/html": "<div>\n<style scoped>\n    .dataframe tbody tr th:only-of-type {\n        vertical-align: middle;\n    }\n\n    .dataframe tbody tr th {\n        vertical-align: top;\n    }\n\n    .dataframe thead th {\n        text-align: right;\n    }\n</style>\n<table border=\"1\" class=\"dataframe\">\n  <thead>\n    <tr style=\"text-align: right;\">\n      <th></th>\n      <th>PRODUCT_id</th>\n      <th>PRODUCT_name</th>\n      <th>PRODUCT_category</th>\n      <th>PRODUCT_sub_category</th>\n      <th>PRODUCT_prod_cost</th>\n    </tr>\n  </thead>\n  <tbody>\n    <tr>\n      <th>0</th>\n      <td>0.0</td>\n      <td>Hitch Rack - 4-Bike</td>\n      <td>Accessories</td>\n      <td>Bike Racks</td>\n      <td>45.0</td>\n    </tr>\n    <tr>\n      <th>596</th>\n      <td>1.0</td>\n      <td>All-Purpose Bike Stand</td>\n      <td>Accessories</td>\n      <td>Bike Stands</td>\n      <td>59.0</td>\n    </tr>\n    <tr>\n      <th>1048</th>\n      <td>2.0</td>\n      <td>Mountain Bottle Cage</td>\n      <td>Accessories</td>\n      <td>Bottles and Cages</td>\n      <td>4.0</td>\n    </tr>\n    <tr>\n      <th>1056</th>\n      <td>3.0</td>\n      <td>Water Bottle - 30 oz.</td>\n      <td>Accessories</td>\n      <td>Bottles and Cages</td>\n      <td>2.0</td>\n    </tr>\n    <tr>\n      <th>1074</th>\n      <td>4.0</td>\n      <td>Road Bottle Cage</td>\n      <td>Accessories</td>\n      <td>Bottles and Cages</td>\n      <td>3.0</td>\n    </tr>\n    <tr>\n      <th>...</th>\n      <td>...</td>\n      <td>...</td>\n      <td>...</td>\n      <td>...</td>\n      <td>...</td>\n    </tr>\n    <tr>\n      <th>108780</th>\n      <td>125.0</td>\n      <td>Touring-2000 Blue, 50</td>\n      <td>Bikes</td>\n      <td>Touring Bikes</td>\n      <td>755.0</td>\n    </tr>\n    <tr>\n      <th>108864</th>\n      <td>126.0</td>\n      <td>Touring-2000 Blue, 60</td>\n      <td>Bikes</td>\n      <td>Touring Bikes</td>\n      <td>755.0</td>\n    </tr>\n    <tr>\n      <th>112074</th>\n      <td>127.0</td>\n      <td>Classic Vest, L</td>\n      <td>Clothing</td>\n      <td>Vests</td>\n      <td>24.0</td>\n    </tr>\n    <tr>\n      <th>112080</th>\n      <td>128.0</td>\n      <td>Classic Vest, M</td>\n      <td>Clothing</td>\n      <td>Vests</td>\n      <td>24.0</td>\n    </tr>\n    <tr>\n      <th>112090</th>\n      <td>129.0</td>\n      <td>Classic Vest, S</td>\n      <td>Clothing</td>\n      <td>Vests</td>\n      <td>24.0</td>\n    </tr>\n  </tbody>\n</table>\n<p>130 rows × 5 columns</p>\n</div>"
     },
     "execution_count": 3,
     "metadata": {},
     "output_type": "execute_result"
    }
   ],
   "source": [
    "productDataFrame = salesRepository.getProductDataFrame()\n",
    "productDataFrame"
   ],
   "metadata": {
    "collapsed": false,
    "ExecuteTime": {
     "end_time": "2023-05-29T11:18:32.380951800Z",
     "start_time": "2023-05-29T11:18:31.502558500Z"
    }
   }
  },
  {
   "cell_type": "markdown",
   "source": [
    "# Customer"
   ],
   "metadata": {
    "collapsed": false
   }
  },
  {
   "cell_type": "code",
   "execution_count": 4,
   "outputs": [
    {
     "data": {
      "text/plain": "                                 CUSTOMER_id CUSTOMER_country  \\\n0       1088ea3e-cf11-4761-b42c-41c8b7d64d2b           Canada   \n1       f75c533f-9fdf-43d3-851f-5f0737b3aac8           Canada   \n2       db8a6f1c-d380-4038-927f-fd00b1dae58e        Australia   \n3       745f93ca-292b-45a8-947c-0e702a44f5b6        Australia   \n4       73ac0d5f-0a73-4961-ae83-d63f4b578388        Australia   \n...                                      ...              ...   \n113031  60f5a15d-6248-4c25-a328-0782c1f197a8   United Kingdom   \n113032  0cd8fd4d-1aee-4bd2-9971-2c5e3387345c        Australia   \n113033  71a9b0a7-16a3-45f8-9366-4d1c0cdff231        Australia   \n113034  2db2a9fd-da3e-4fe7-b377-df497e379a40           France   \n113035  930fcbbd-a955-4bb7-909e-3cfe78dae744           France   \n\n          CUSTOMER_state  \n0       British Columbia  \n1       British Columbia  \n2        New South Wales  \n3        New South Wales  \n4        New South Wales  \n...                  ...  \n113031           England  \n113032        Queensland  \n113033        Queensland  \n113034     Seine (Paris)  \n113035     Seine (Paris)  \n\n[113036 rows x 3 columns]",
      "text/html": "<div>\n<style scoped>\n    .dataframe tbody tr th:only-of-type {\n        vertical-align: middle;\n    }\n\n    .dataframe tbody tr th {\n        vertical-align: top;\n    }\n\n    .dataframe thead th {\n        text-align: right;\n    }\n</style>\n<table border=\"1\" class=\"dataframe\">\n  <thead>\n    <tr style=\"text-align: right;\">\n      <th></th>\n      <th>CUSTOMER_id</th>\n      <th>CUSTOMER_country</th>\n      <th>CUSTOMER_state</th>\n    </tr>\n  </thead>\n  <tbody>\n    <tr>\n      <th>0</th>\n      <td>1088ea3e-cf11-4761-b42c-41c8b7d64d2b</td>\n      <td>Canada</td>\n      <td>British Columbia</td>\n    </tr>\n    <tr>\n      <th>1</th>\n      <td>f75c533f-9fdf-43d3-851f-5f0737b3aac8</td>\n      <td>Canada</td>\n      <td>British Columbia</td>\n    </tr>\n    <tr>\n      <th>2</th>\n      <td>db8a6f1c-d380-4038-927f-fd00b1dae58e</td>\n      <td>Australia</td>\n      <td>New South Wales</td>\n    </tr>\n    <tr>\n      <th>3</th>\n      <td>745f93ca-292b-45a8-947c-0e702a44f5b6</td>\n      <td>Australia</td>\n      <td>New South Wales</td>\n    </tr>\n    <tr>\n      <th>4</th>\n      <td>73ac0d5f-0a73-4961-ae83-d63f4b578388</td>\n      <td>Australia</td>\n      <td>New South Wales</td>\n    </tr>\n    <tr>\n      <th>...</th>\n      <td>...</td>\n      <td>...</td>\n      <td>...</td>\n    </tr>\n    <tr>\n      <th>113031</th>\n      <td>60f5a15d-6248-4c25-a328-0782c1f197a8</td>\n      <td>United Kingdom</td>\n      <td>England</td>\n    </tr>\n    <tr>\n      <th>113032</th>\n      <td>0cd8fd4d-1aee-4bd2-9971-2c5e3387345c</td>\n      <td>Australia</td>\n      <td>Queensland</td>\n    </tr>\n    <tr>\n      <th>113033</th>\n      <td>71a9b0a7-16a3-45f8-9366-4d1c0cdff231</td>\n      <td>Australia</td>\n      <td>Queensland</td>\n    </tr>\n    <tr>\n      <th>113034</th>\n      <td>2db2a9fd-da3e-4fe7-b377-df497e379a40</td>\n      <td>France</td>\n      <td>Seine (Paris)</td>\n    </tr>\n    <tr>\n      <th>113035</th>\n      <td>930fcbbd-a955-4bb7-909e-3cfe78dae744</td>\n      <td>France</td>\n      <td>Seine (Paris)</td>\n    </tr>\n  </tbody>\n</table>\n<p>113036 rows × 3 columns</p>\n</div>"
     },
     "execution_count": 4,
     "metadata": {},
     "output_type": "execute_result"
    }
   ],
   "source": [
    "customerDataFrame = salesRepository.getCustomerDataFrame()\n",
    "customerDataFrame"
   ],
   "metadata": {
    "collapsed": false,
    "ExecuteTime": {
     "end_time": "2023-05-29T11:18:32.872886400Z",
     "start_time": "2023-05-29T11:18:32.380951800Z"
    }
   }
  },
  {
   "cell_type": "markdown",
   "source": [
    "# Day"
   ],
   "metadata": {
    "collapsed": false
   }
  },
  {
   "cell_type": "code",
   "execution_count": 5,
   "outputs": [
    {
     "data": {
      "text/plain": "       DAY_date DAY_MONTH_nr DAY_QUARTER_nr DAY_YEAR_nr\n0    2013-11-26           11              4        2013\n1    2015-11-26           11              4        2015\n2    2014-03-23            3              1        2014\n3    2016-03-23            3              1        2016\n4    2014-05-15            5              2        2014\n...         ...          ...            ...         ...\n1879 2011-10-27           10              4        2011\n1880 2013-01-06            1              1        2013\n1881 2015-01-06            1              1        2015\n1882 2012-02-20            2              1        2012\n1883 2011-02-20            2              1        2011\n\n[1884 rows x 4 columns]",
      "text/html": "<div>\n<style scoped>\n    .dataframe tbody tr th:only-of-type {\n        vertical-align: middle;\n    }\n\n    .dataframe tbody tr th {\n        vertical-align: top;\n    }\n\n    .dataframe thead th {\n        text-align: right;\n    }\n</style>\n<table border=\"1\" class=\"dataframe\">\n  <thead>\n    <tr style=\"text-align: right;\">\n      <th></th>\n      <th>DAY_date</th>\n      <th>DAY_MONTH_nr</th>\n      <th>DAY_QUARTER_nr</th>\n      <th>DAY_YEAR_nr</th>\n    </tr>\n  </thead>\n  <tbody>\n    <tr>\n      <th>0</th>\n      <td>2013-11-26</td>\n      <td>11</td>\n      <td>4</td>\n      <td>2013</td>\n    </tr>\n    <tr>\n      <th>1</th>\n      <td>2015-11-26</td>\n      <td>11</td>\n      <td>4</td>\n      <td>2015</td>\n    </tr>\n    <tr>\n      <th>2</th>\n      <td>2014-03-23</td>\n      <td>3</td>\n      <td>1</td>\n      <td>2014</td>\n    </tr>\n    <tr>\n      <th>3</th>\n      <td>2016-03-23</td>\n      <td>3</td>\n      <td>1</td>\n      <td>2016</td>\n    </tr>\n    <tr>\n      <th>4</th>\n      <td>2014-05-15</td>\n      <td>5</td>\n      <td>2</td>\n      <td>2014</td>\n    </tr>\n    <tr>\n      <th>...</th>\n      <td>...</td>\n      <td>...</td>\n      <td>...</td>\n      <td>...</td>\n    </tr>\n    <tr>\n      <th>1879</th>\n      <td>2011-10-27</td>\n      <td>10</td>\n      <td>4</td>\n      <td>2011</td>\n    </tr>\n    <tr>\n      <th>1880</th>\n      <td>2013-01-06</td>\n      <td>1</td>\n      <td>1</td>\n      <td>2013</td>\n    </tr>\n    <tr>\n      <th>1881</th>\n      <td>2015-01-06</td>\n      <td>1</td>\n      <td>1</td>\n      <td>2015</td>\n    </tr>\n    <tr>\n      <th>1882</th>\n      <td>2012-02-20</td>\n      <td>2</td>\n      <td>1</td>\n      <td>2012</td>\n    </tr>\n    <tr>\n      <th>1883</th>\n      <td>2011-02-20</td>\n      <td>2</td>\n      <td>1</td>\n      <td>2011</td>\n    </tr>\n  </tbody>\n</table>\n<p>1884 rows × 4 columns</p>\n</div>"
     },
     "execution_count": 5,
     "metadata": {},
     "output_type": "execute_result"
    }
   ],
   "source": [
    "DAY_date = salesRepository.getDayDataFrame()\n",
    "DAY_date"
   ],
   "metadata": {
    "collapsed": false,
    "ExecuteTime": {
     "end_time": "2023-05-29T11:18:34.569425600Z",
     "start_time": "2023-05-29T11:18:32.872886400Z"
    }
   }
  },
  {
   "cell_type": "markdown",
   "source": [
    "# Order Detail"
   ],
   "metadata": {
    "collapsed": false
   }
  },
  {
   "cell_type": "code",
   "execution_count": 6,
   "outputs": [
    {
     "data": {
      "text/plain": "        ORDER_DETAIL_order_quantity  ORDER_DETAIL_unit_price    DAY_date  \\\n0                                 8                    120.0  2013-11-26   \n1                                 8                    120.0  2015-11-26   \n2                                23                    120.0  2014-03-23   \n3                                20                    120.0  2016-03-23   \n4                                 4                    120.0  2014-05-15   \n...                             ...                      ...         ...   \n113031                            3                     64.0  2016-04-12   \n113032                           22                     64.0  2014-04-02   \n113033                           22                     64.0  2016-04-02   \n113034                           24                     64.0  2014-03-04   \n113035                           23                     64.0  2016-03-04   \n\n                                 CUSTOMER_id  PRODUCT_id  \n0       1088ea3e-cf11-4761-b42c-41c8b7d64d2b         0.0  \n1       f75c533f-9fdf-43d3-851f-5f0737b3aac8         0.0  \n2       db8a6f1c-d380-4038-927f-fd00b1dae58e         0.0  \n3       745f93ca-292b-45a8-947c-0e702a44f5b6         0.0  \n4       73ac0d5f-0a73-4961-ae83-d63f4b578388         0.0  \n...                                      ...         ...  \n113031  60f5a15d-6248-4c25-a328-0782c1f197a8       129.0  \n113032  0cd8fd4d-1aee-4bd2-9971-2c5e3387345c       128.0  \n113033  71a9b0a7-16a3-45f8-9366-4d1c0cdff231       128.0  \n113034  2db2a9fd-da3e-4fe7-b377-df497e379a40       127.0  \n113035  930fcbbd-a955-4bb7-909e-3cfe78dae744       127.0  \n\n[113036 rows x 5 columns]",
      "text/html": "<div>\n<style scoped>\n    .dataframe tbody tr th:only-of-type {\n        vertical-align: middle;\n    }\n\n    .dataframe tbody tr th {\n        vertical-align: top;\n    }\n\n    .dataframe thead th {\n        text-align: right;\n    }\n</style>\n<table border=\"1\" class=\"dataframe\">\n  <thead>\n    <tr style=\"text-align: right;\">\n      <th></th>\n      <th>ORDER_DETAIL_order_quantity</th>\n      <th>ORDER_DETAIL_unit_price</th>\n      <th>DAY_date</th>\n      <th>CUSTOMER_id</th>\n      <th>PRODUCT_id</th>\n    </tr>\n  </thead>\n  <tbody>\n    <tr>\n      <th>0</th>\n      <td>8</td>\n      <td>120.0</td>\n      <td>2013-11-26</td>\n      <td>1088ea3e-cf11-4761-b42c-41c8b7d64d2b</td>\n      <td>0.0</td>\n    </tr>\n    <tr>\n      <th>1</th>\n      <td>8</td>\n      <td>120.0</td>\n      <td>2015-11-26</td>\n      <td>f75c533f-9fdf-43d3-851f-5f0737b3aac8</td>\n      <td>0.0</td>\n    </tr>\n    <tr>\n      <th>2</th>\n      <td>23</td>\n      <td>120.0</td>\n      <td>2014-03-23</td>\n      <td>db8a6f1c-d380-4038-927f-fd00b1dae58e</td>\n      <td>0.0</td>\n    </tr>\n    <tr>\n      <th>3</th>\n      <td>20</td>\n      <td>120.0</td>\n      <td>2016-03-23</td>\n      <td>745f93ca-292b-45a8-947c-0e702a44f5b6</td>\n      <td>0.0</td>\n    </tr>\n    <tr>\n      <th>4</th>\n      <td>4</td>\n      <td>120.0</td>\n      <td>2014-05-15</td>\n      <td>73ac0d5f-0a73-4961-ae83-d63f4b578388</td>\n      <td>0.0</td>\n    </tr>\n    <tr>\n      <th>...</th>\n      <td>...</td>\n      <td>...</td>\n      <td>...</td>\n      <td>...</td>\n      <td>...</td>\n    </tr>\n    <tr>\n      <th>113031</th>\n      <td>3</td>\n      <td>64.0</td>\n      <td>2016-04-12</td>\n      <td>60f5a15d-6248-4c25-a328-0782c1f197a8</td>\n      <td>129.0</td>\n    </tr>\n    <tr>\n      <th>113032</th>\n      <td>22</td>\n      <td>64.0</td>\n      <td>2014-04-02</td>\n      <td>0cd8fd4d-1aee-4bd2-9971-2c5e3387345c</td>\n      <td>128.0</td>\n    </tr>\n    <tr>\n      <th>113033</th>\n      <td>22</td>\n      <td>64.0</td>\n      <td>2016-04-02</td>\n      <td>71a9b0a7-16a3-45f8-9366-4d1c0cdff231</td>\n      <td>128.0</td>\n    </tr>\n    <tr>\n      <th>113034</th>\n      <td>24</td>\n      <td>64.0</td>\n      <td>2014-03-04</td>\n      <td>2db2a9fd-da3e-4fe7-b377-df497e379a40</td>\n      <td>127.0</td>\n    </tr>\n    <tr>\n      <th>113035</th>\n      <td>23</td>\n      <td>64.0</td>\n      <td>2016-03-04</td>\n      <td>930fcbbd-a955-4bb7-909e-3cfe78dae744</td>\n      <td>127.0</td>\n    </tr>\n  </tbody>\n</table>\n<p>113036 rows × 5 columns</p>\n</div>"
     },
     "execution_count": 6,
     "metadata": {},
     "output_type": "execute_result"
    }
   ],
   "source": [
    "orderDetailsData = salesRepository.getOrderDetailsDataFrame()\n",
    "orderDetailsData"
   ],
   "metadata": {
    "collapsed": false,
    "ExecuteTime": {
     "end_time": "2023-05-29T11:18:34.600796900Z",
     "start_time": "2023-05-29T11:18:34.581009800Z"
    }
   }
  }
 ],
 "metadata": {
  "kernelspec": {
   "display_name": "Python 3",
   "language": "python",
   "name": "python3"
  },
  "language_info": {
   "codemirror_mode": {
    "name": "ipython",
    "version": 2
   },
   "file_extension": ".py",
   "mimetype": "text/x-python",
   "name": "python",
   "nbconvert_exporter": "python",
   "pygments_lexer": "ipython2",
   "version": "2.7.6"
  }
 },
 "nbformat": 4,
 "nbformat_minor": 0
}
