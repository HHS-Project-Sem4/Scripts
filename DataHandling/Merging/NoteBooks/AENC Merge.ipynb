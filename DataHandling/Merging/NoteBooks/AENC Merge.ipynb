{
 "cells": [
  {
   "cell_type": "code",
   "execution_count": 8,
   "outputs": [],
   "source": [
    "from Repositories.AENCRepository import Repository"
   ],
   "metadata": {
    "collapsed": false,
    "ExecuteTime": {
     "end_time": "2023-05-29T07:46:23.817658600Z",
     "start_time": "2023-05-29T07:46:22.594963200Z"
    }
   }
  },
  {
   "cell_type": "code",
   "execution_count": 9,
   "outputs": [],
   "source": [
    "AENCConnectionString = \"Driver={SQL Server};Server=DESKTOP-8INVJ1O\\SQLEXPRESS;Database=AENC;trusted_connection=yes\"\n",
    "aencRepository = Repository(AENCConnectionString)"
   ],
   "metadata": {
    "collapsed": false,
    "ExecuteTime": {
     "end_time": "2023-05-29T07:46:23.879327600Z",
     "start_time": "2023-05-29T07:46:23.084549300Z"
    }
   }
  },
  {
   "cell_type": "markdown",
   "source": [
    "# Product"
   ],
   "metadata": {
    "collapsed": false
   }
  },
  {
   "cell_type": "code",
   "execution_count": 10,
   "outputs": [
    {
     "name": "stderr",
     "output_type": "stream",
     "text": [
      "C:\\Users\\Max\\Documents\\GitHub\\Scripts\\DataHandling\\Merging\\Repositories\\AENCRepository.py:16: UserWarning: pandas only supports SQLAlchemy connectable (engine/connection) or database string URI or sqlite3 DBAPI2 connection. Other DBAPI2 objects are not tested. Please consider using SQLAlchemy.\n",
      "  productData = pd.read_sql(productJoinQuery, self.dbConnection)\n"
     ]
    },
    {
     "data": {
      "text/plain": "  PRODUCT_id       PRODUCT_name PRODUCT_sub_category PRODUCT_category  \\\n0        300           Tank Top            Tee Shirt          Clothes   \n1        301             V-neck            Tee Shirt          Clothes   \n2        302          Crew Neck            Tee Shirt          Clothes   \n3        400         Cotton Cap         Baseball Cap      Accessories   \n4        401           Wool cap         Baseball Cap      Accessories   \n5        500        Cloth Visor                Visor      Accessories   \n6        501      Plastic Visor                Visor      Accessories   \n7        600  Hooded Sweatshirt           Sweatshirt          Clothes   \n8        601  Zipped Sweatshirt           Sweatshirt          Clothes   \n9        700      Cotton Shorts               Shorts          Clothes   \n\n  PRODUCT_color PRODUCT_storage_quantity  \n0         White                       18  \n1        Orange                       39  \n2         Black                       72  \n3         Black                       92  \n4         White                       12  \n5         White                       36  \n6         Black                       28  \n7         Green                       39  \n8          Blue                       32  \n9         Black                       80  ",
      "text/html": "<div>\n<style scoped>\n    .dataframe tbody tr th:only-of-type {\n        vertical-align: middle;\n    }\n\n    .dataframe tbody tr th {\n        vertical-align: top;\n    }\n\n    .dataframe thead th {\n        text-align: right;\n    }\n</style>\n<table border=\"1\" class=\"dataframe\">\n  <thead>\n    <tr style=\"text-align: right;\">\n      <th></th>\n      <th>PRODUCT_id</th>\n      <th>PRODUCT_name</th>\n      <th>PRODUCT_sub_category</th>\n      <th>PRODUCT_category</th>\n      <th>PRODUCT_color</th>\n      <th>PRODUCT_storage_quantity</th>\n    </tr>\n  </thead>\n  <tbody>\n    <tr>\n      <th>0</th>\n      <td>300</td>\n      <td>Tank Top</td>\n      <td>Tee Shirt</td>\n      <td>Clothes</td>\n      <td>White</td>\n      <td>18</td>\n    </tr>\n    <tr>\n      <th>1</th>\n      <td>301</td>\n      <td>V-neck</td>\n      <td>Tee Shirt</td>\n      <td>Clothes</td>\n      <td>Orange</td>\n      <td>39</td>\n    </tr>\n    <tr>\n      <th>2</th>\n      <td>302</td>\n      <td>Crew Neck</td>\n      <td>Tee Shirt</td>\n      <td>Clothes</td>\n      <td>Black</td>\n      <td>72</td>\n    </tr>\n    <tr>\n      <th>3</th>\n      <td>400</td>\n      <td>Cotton Cap</td>\n      <td>Baseball Cap</td>\n      <td>Accessories</td>\n      <td>Black</td>\n      <td>92</td>\n    </tr>\n    <tr>\n      <th>4</th>\n      <td>401</td>\n      <td>Wool cap</td>\n      <td>Baseball Cap</td>\n      <td>Accessories</td>\n      <td>White</td>\n      <td>12</td>\n    </tr>\n    <tr>\n      <th>5</th>\n      <td>500</td>\n      <td>Cloth Visor</td>\n      <td>Visor</td>\n      <td>Accessories</td>\n      <td>White</td>\n      <td>36</td>\n    </tr>\n    <tr>\n      <th>6</th>\n      <td>501</td>\n      <td>Plastic Visor</td>\n      <td>Visor</td>\n      <td>Accessories</td>\n      <td>Black</td>\n      <td>28</td>\n    </tr>\n    <tr>\n      <th>7</th>\n      <td>600</td>\n      <td>Hooded Sweatshirt</td>\n      <td>Sweatshirt</td>\n      <td>Clothes</td>\n      <td>Green</td>\n      <td>39</td>\n    </tr>\n    <tr>\n      <th>8</th>\n      <td>601</td>\n      <td>Zipped Sweatshirt</td>\n      <td>Sweatshirt</td>\n      <td>Clothes</td>\n      <td>Blue</td>\n      <td>32</td>\n    </tr>\n    <tr>\n      <th>9</th>\n      <td>700</td>\n      <td>Cotton Shorts</td>\n      <td>Shorts</td>\n      <td>Clothes</td>\n      <td>Black</td>\n      <td>80</td>\n    </tr>\n  </tbody>\n</table>\n</div>"
     },
     "execution_count": 3,
     "metadata": {},
     "output_type": "execute_result"
    },
    {
     "name": "stderr",
     "output_type": "stream",
     "text": [
      "C:\\Users\\Max\\Documents\\GitHub\\Scripts\\DataHandling\\Merging\\Repositories\\AENCRepository.py:16: UserWarning: pandas only supports SQLAlchemy connectable (engine/connection) or database string URI or sqlite3 DBAPI2 connection. Other DBAPI2 objects are not tested. Please consider using SQLAlchemy.\n",
      "  productData = pd.read_sql(productJoinQuery, self.dbConnection)\n"
     ]
    },
    {
     "data": {
      "text/plain": "  PRODUCT_id       PRODUCT_name PRODUCT_sub_category PRODUCT_category  \\\n0        300           Tank Top            Tee Shirt          Clothes   \n1        301             V-neck            Tee Shirt          Clothes   \n2        302          Crew Neck            Tee Shirt          Clothes   \n3        400         Cotton Cap         Baseball Cap      Accessories   \n4        401           Wool cap         Baseball Cap      Accessories   \n5        500        Cloth Visor                Visor      Accessories   \n6        501      Plastic Visor                Visor      Accessories   \n7        600  Hooded Sweatshirt           Sweatshirt          Clothes   \n8        601  Zipped Sweatshirt           Sweatshirt          Clothes   \n9        700      Cotton Shorts               Shorts          Clothes   \n\n  PRODUCT_color PRODUCT_storage_quantity  \n0         White                       18  \n1        Orange                       39  \n2         Black                       72  \n3         Black                       92  \n4         White                       12  \n5         White                       36  \n6         Black                       28  \n7         Green                       39  \n8          Blue                       32  \n9         Black                       80  ",
      "text/html": "<div>\n<style scoped>\n    .dataframe tbody tr th:only-of-type {\n        vertical-align: middle;\n    }\n\n    .dataframe tbody tr th {\n        vertical-align: top;\n    }\n\n    .dataframe thead th {\n        text-align: right;\n    }\n</style>\n<table border=\"1\" class=\"dataframe\">\n  <thead>\n    <tr style=\"text-align: right;\">\n      <th></th>\n      <th>PRODUCT_id</th>\n      <th>PRODUCT_name</th>\n      <th>PRODUCT_sub_category</th>\n      <th>PRODUCT_category</th>\n      <th>PRODUCT_color</th>\n      <th>PRODUCT_storage_quantity</th>\n    </tr>\n  </thead>\n  <tbody>\n    <tr>\n      <th>0</th>\n      <td>300</td>\n      <td>Tank Top</td>\n      <td>Tee Shirt</td>\n      <td>Clothes</td>\n      <td>White</td>\n      <td>18</td>\n    </tr>\n    <tr>\n      <th>1</th>\n      <td>301</td>\n      <td>V-neck</td>\n      <td>Tee Shirt</td>\n      <td>Clothes</td>\n      <td>Orange</td>\n      <td>39</td>\n    </tr>\n    <tr>\n      <th>2</th>\n      <td>302</td>\n      <td>Crew Neck</td>\n      <td>Tee Shirt</td>\n      <td>Clothes</td>\n      <td>Black</td>\n      <td>72</td>\n    </tr>\n    <tr>\n      <th>3</th>\n      <td>400</td>\n      <td>Cotton Cap</td>\n      <td>Baseball Cap</td>\n      <td>Accessories</td>\n      <td>Black</td>\n      <td>92</td>\n    </tr>\n    <tr>\n      <th>4</th>\n      <td>401</td>\n      <td>Wool cap</td>\n      <td>Baseball Cap</td>\n      <td>Accessories</td>\n      <td>White</td>\n      <td>12</td>\n    </tr>\n    <tr>\n      <th>5</th>\n      <td>500</td>\n      <td>Cloth Visor</td>\n      <td>Visor</td>\n      <td>Accessories</td>\n      <td>White</td>\n      <td>36</td>\n    </tr>\n    <tr>\n      <th>6</th>\n      <td>501</td>\n      <td>Plastic Visor</td>\n      <td>Visor</td>\n      <td>Accessories</td>\n      <td>Black</td>\n      <td>28</td>\n    </tr>\n    <tr>\n      <th>7</th>\n      <td>600</td>\n      <td>Hooded Sweatshirt</td>\n      <td>Sweatshirt</td>\n      <td>Clothes</td>\n      <td>Green</td>\n      <td>39</td>\n    </tr>\n    <tr>\n      <th>8</th>\n      <td>601</td>\n      <td>Zipped Sweatshirt</td>\n      <td>Sweatshirt</td>\n      <td>Clothes</td>\n      <td>Blue</td>\n      <td>32</td>\n    </tr>\n    <tr>\n      <th>9</th>\n      <td>700</td>\n      <td>Cotton Shorts</td>\n      <td>Shorts</td>\n      <td>Clothes</td>\n      <td>Black</td>\n      <td>80</td>\n    </tr>\n  </tbody>\n</table>\n</div>"
     },
     "execution_count": 10,
     "metadata": {},
     "output_type": "execute_result"
    }
   ],
   "source": [
    "productDataFrame = aencRepository.getProductDataFrame()\n",
    "productDataFrame"
   ],
   "metadata": {
    "collapsed": false,
    "ExecuteTime": {
     "end_time": "2023-05-29T07:46:23.887446200Z",
     "start_time": "2023-05-29T07:46:23.123592200Z"
    }
   }
  },
  {
   "cell_type": "markdown",
   "source": [
    "# Customer"
   ],
   "metadata": {
    "collapsed": false
   }
  },
  {
   "cell_type": "code",
   "execution_count": 11,
   "outputs": [
    {
     "name": "stderr",
     "output_type": "stream",
     "text": [
      "C:\\Users\\Max\\Documents\\GitHub\\Scripts\\DataHandling\\Merging\\Repositories\\AENCRepository.py:31: UserWarning: pandas only supports SQLAlchemy connectable (engine/connection) or database string URI or sqlite3 DBAPI2 connection. Other DBAPI2 objects are not tested. Please consider using SQLAlchemy.\n",
      "  customerData = pd.read_sql(customerJoinQuery, self.dbConnection)\n"
     ]
    },
    {
     "data": {
      "text/plain": "    CUSTOMER_id       CUSTOMER_address CUSTOMER_city    CUSTOMER_state  \\\n0           196         303 Roe Avenue      Edmonton           Alberta   \n1           175   1270 N.W. 7th Avenue      Victoria  British Columbia   \n2           182       103 Campus Drive       Acworth        California   \n3           198  1801 W. Six Mile Road     San Ramon        California   \n4           222          57 Disk Drive      San Jose        California   \n..          ...                    ...           ...               ...   \n121         553   77 Recordings Circle        Tacoma        Washington   \n122         146   375 White Horse Road       Spokane        Washington   \n123         130   20th Eastlake Avenue    New Berlin         Wisconsin   \n124         203    401 Boylston Street       Madison         Wisconsin   \n125         220     245 Expedition Hwy       Laramie           Wyoming   \n\n    CUSTOMER_region CUSTOMER_country   CUSTOMER_company_name  \n0            Canada              CAN               The Igloo  \n1            Canada              CAN         The Hat Company  \n2           Western              USA   Polly's Custom Design  \n3           Western              USA               Able Inc.  \n4           Western              USA  data Recovery Services  \n..              ...              ...                     ...  \n121         Western              USA             It's a Hit!  \n122         Western              USA          Custom Designs  \n123         Central              USA              Wyse Corp.  \n124         Central              USA         Salt & Pepper's  \n125         Western              USA         Trek Outfitters  \n\n[126 rows x 7 columns]",
      "text/html": "<div>\n<style scoped>\n    .dataframe tbody tr th:only-of-type {\n        vertical-align: middle;\n    }\n\n    .dataframe tbody tr th {\n        vertical-align: top;\n    }\n\n    .dataframe thead th {\n        text-align: right;\n    }\n</style>\n<table border=\"1\" class=\"dataframe\">\n  <thead>\n    <tr style=\"text-align: right;\">\n      <th></th>\n      <th>CUSTOMER_id</th>\n      <th>CUSTOMER_address</th>\n      <th>CUSTOMER_city</th>\n      <th>CUSTOMER_state</th>\n      <th>CUSTOMER_region</th>\n      <th>CUSTOMER_country</th>\n      <th>CUSTOMER_company_name</th>\n    </tr>\n  </thead>\n  <tbody>\n    <tr>\n      <th>0</th>\n      <td>196</td>\n      <td>303 Roe Avenue</td>\n      <td>Edmonton</td>\n      <td>Alberta</td>\n      <td>Canada</td>\n      <td>CAN</td>\n      <td>The Igloo</td>\n    </tr>\n    <tr>\n      <th>1</th>\n      <td>175</td>\n      <td>1270 N.W. 7th Avenue</td>\n      <td>Victoria</td>\n      <td>British Columbia</td>\n      <td>Canada</td>\n      <td>CAN</td>\n      <td>The Hat Company</td>\n    </tr>\n    <tr>\n      <th>2</th>\n      <td>182</td>\n      <td>103 Campus Drive</td>\n      <td>Acworth</td>\n      <td>California</td>\n      <td>Western</td>\n      <td>USA</td>\n      <td>Polly's Custom Design</td>\n    </tr>\n    <tr>\n      <th>3</th>\n      <td>198</td>\n      <td>1801 W. Six Mile Road</td>\n      <td>San Ramon</td>\n      <td>California</td>\n      <td>Western</td>\n      <td>USA</td>\n      <td>Able Inc.</td>\n    </tr>\n    <tr>\n      <th>4</th>\n      <td>222</td>\n      <td>57 Disk Drive</td>\n      <td>San Jose</td>\n      <td>California</td>\n      <td>Western</td>\n      <td>USA</td>\n      <td>data Recovery Services</td>\n    </tr>\n    <tr>\n      <th>...</th>\n      <td>...</td>\n      <td>...</td>\n      <td>...</td>\n      <td>...</td>\n      <td>...</td>\n      <td>...</td>\n      <td>...</td>\n    </tr>\n    <tr>\n      <th>121</th>\n      <td>553</td>\n      <td>77 Recordings Circle</td>\n      <td>Tacoma</td>\n      <td>Washington</td>\n      <td>Western</td>\n      <td>USA</td>\n      <td>It's a Hit!</td>\n    </tr>\n    <tr>\n      <th>122</th>\n      <td>146</td>\n      <td>375 White Horse Road</td>\n      <td>Spokane</td>\n      <td>Washington</td>\n      <td>Western</td>\n      <td>USA</td>\n      <td>Custom Designs</td>\n    </tr>\n    <tr>\n      <th>123</th>\n      <td>130</td>\n      <td>20th Eastlake Avenue</td>\n      <td>New Berlin</td>\n      <td>Wisconsin</td>\n      <td>Central</td>\n      <td>USA</td>\n      <td>Wyse Corp.</td>\n    </tr>\n    <tr>\n      <th>124</th>\n      <td>203</td>\n      <td>401 Boylston Street</td>\n      <td>Madison</td>\n      <td>Wisconsin</td>\n      <td>Central</td>\n      <td>USA</td>\n      <td>Salt &amp; Pepper's</td>\n    </tr>\n    <tr>\n      <th>125</th>\n      <td>220</td>\n      <td>245 Expedition Hwy</td>\n      <td>Laramie</td>\n      <td>Wyoming</td>\n      <td>Western</td>\n      <td>USA</td>\n      <td>Trek Outfitters</td>\n    </tr>\n  </tbody>\n</table>\n<p>126 rows × 7 columns</p>\n</div>"
     },
     "execution_count": 4,
     "metadata": {},
     "output_type": "execute_result"
    },
    {
     "name": "stderr",
     "output_type": "stream",
     "text": [
      "C:\\Users\\Max\\Documents\\GitHub\\Scripts\\DataHandling\\Merging\\Repositories\\AENCRepository.py:31: UserWarning: pandas only supports SQLAlchemy connectable (engine/connection) or database string URI or sqlite3 DBAPI2 connection. Other DBAPI2 objects are not tested. Please consider using SQLAlchemy.\n",
      "  customerData = pd.read_sql(customerJoinQuery, self.dbConnection)\n"
     ]
    },
    {
     "data": {
      "text/plain": "    CUSTOMER_id       CUSTOMER_address CUSTOMER_city    CUSTOMER_state  \\\n0           196         303 Roe Avenue      Edmonton           Alberta   \n1           175   1270 N.W. 7th Avenue      Victoria  British Columbia   \n2           182       103 Campus Drive       Acworth        California   \n3           198  1801 W. Six Mile Road     San Ramon        California   \n4           222          57 Disk Drive      San Jose        California   \n..          ...                    ...           ...               ...   \n121         553   77 Recordings Circle        Tacoma        Washington   \n122         146   375 White Horse Road       Spokane        Washington   \n123         130   20th Eastlake Avenue    New Berlin         Wisconsin   \n124         203    401 Boylston Street       Madison         Wisconsin   \n125         220     245 Expedition Hwy       Laramie           Wyoming   \n\n    CUSTOMER_region CUSTOMER_country   CUSTOMER_company_name  \n0            Canada              CAN               The Igloo  \n1            Canada              CAN         The Hat Company  \n2           Western              USA   Polly's Custom Design  \n3           Western              USA               Able Inc.  \n4           Western              USA  data Recovery Services  \n..              ...              ...                     ...  \n121         Western              USA             It's a Hit!  \n122         Western              USA          Custom Designs  \n123         Central              USA              Wyse Corp.  \n124         Central              USA         Salt & Pepper's  \n125         Western              USA         Trek Outfitters  \n\n[126 rows x 7 columns]",
      "text/html": "<div>\n<style scoped>\n    .dataframe tbody tr th:only-of-type {\n        vertical-align: middle;\n    }\n\n    .dataframe tbody tr th {\n        vertical-align: top;\n    }\n\n    .dataframe thead th {\n        text-align: right;\n    }\n</style>\n<table border=\"1\" class=\"dataframe\">\n  <thead>\n    <tr style=\"text-align: right;\">\n      <th></th>\n      <th>CUSTOMER_id</th>\n      <th>CUSTOMER_address</th>\n      <th>CUSTOMER_city</th>\n      <th>CUSTOMER_state</th>\n      <th>CUSTOMER_region</th>\n      <th>CUSTOMER_country</th>\n      <th>CUSTOMER_company_name</th>\n    </tr>\n  </thead>\n  <tbody>\n    <tr>\n      <th>0</th>\n      <td>196</td>\n      <td>303 Roe Avenue</td>\n      <td>Edmonton</td>\n      <td>Alberta</td>\n      <td>Canada</td>\n      <td>CAN</td>\n      <td>The Igloo</td>\n    </tr>\n    <tr>\n      <th>1</th>\n      <td>175</td>\n      <td>1270 N.W. 7th Avenue</td>\n      <td>Victoria</td>\n      <td>British Columbia</td>\n      <td>Canada</td>\n      <td>CAN</td>\n      <td>The Hat Company</td>\n    </tr>\n    <tr>\n      <th>2</th>\n      <td>182</td>\n      <td>103 Campus Drive</td>\n      <td>Acworth</td>\n      <td>California</td>\n      <td>Western</td>\n      <td>USA</td>\n      <td>Polly's Custom Design</td>\n    </tr>\n    <tr>\n      <th>3</th>\n      <td>198</td>\n      <td>1801 W. Six Mile Road</td>\n      <td>San Ramon</td>\n      <td>California</td>\n      <td>Western</td>\n      <td>USA</td>\n      <td>Able Inc.</td>\n    </tr>\n    <tr>\n      <th>4</th>\n      <td>222</td>\n      <td>57 Disk Drive</td>\n      <td>San Jose</td>\n      <td>California</td>\n      <td>Western</td>\n      <td>USA</td>\n      <td>data Recovery Services</td>\n    </tr>\n    <tr>\n      <th>...</th>\n      <td>...</td>\n      <td>...</td>\n      <td>...</td>\n      <td>...</td>\n      <td>...</td>\n      <td>...</td>\n      <td>...</td>\n    </tr>\n    <tr>\n      <th>121</th>\n      <td>553</td>\n      <td>77 Recordings Circle</td>\n      <td>Tacoma</td>\n      <td>Washington</td>\n      <td>Western</td>\n      <td>USA</td>\n      <td>It's a Hit!</td>\n    </tr>\n    <tr>\n      <th>122</th>\n      <td>146</td>\n      <td>375 White Horse Road</td>\n      <td>Spokane</td>\n      <td>Washington</td>\n      <td>Western</td>\n      <td>USA</td>\n      <td>Custom Designs</td>\n    </tr>\n    <tr>\n      <th>123</th>\n      <td>130</td>\n      <td>20th Eastlake Avenue</td>\n      <td>New Berlin</td>\n      <td>Wisconsin</td>\n      <td>Central</td>\n      <td>USA</td>\n      <td>Wyse Corp.</td>\n    </tr>\n    <tr>\n      <th>124</th>\n      <td>203</td>\n      <td>401 Boylston Street</td>\n      <td>Madison</td>\n      <td>Wisconsin</td>\n      <td>Central</td>\n      <td>USA</td>\n      <td>Salt &amp; Pepper's</td>\n    </tr>\n    <tr>\n      <th>125</th>\n      <td>220</td>\n      <td>245 Expedition Hwy</td>\n      <td>Laramie</td>\n      <td>Wyoming</td>\n      <td>Western</td>\n      <td>USA</td>\n      <td>Trek Outfitters</td>\n    </tr>\n  </tbody>\n</table>\n<p>126 rows × 7 columns</p>\n</div>"
     },
     "execution_count": 11,
     "metadata": {},
     "output_type": "execute_result"
    }
   ],
   "source": [
    "customerDataFrame = aencRepository.getCustomerDataFrame()\n",
    "customerDataFrame"
   ],
   "metadata": {
    "collapsed": false,
    "ExecuteTime": {
     "end_time": "2023-05-29T07:46:24.031575100Z",
     "start_time": "2023-05-29T07:46:23.262430200Z"
    }
   }
  },
  {
   "cell_type": "markdown",
   "source": [
    "# Employee"
   ],
   "metadata": {
    "collapsed": false
   }
  },
  {
   "cell_type": "code",
   "execution_count": 12,
   "outputs": [
    {
     "name": "stderr",
     "output_type": "stream",
     "text": [
      "C:\\Users\\Max\\Documents\\GitHub\\Scripts\\DataHandling\\Merging\\Repositories\\AENCRepository.py:45: UserWarning: pandas only supports SQLAlchemy connectable (engine/connection) or database string URI or sqlite3 DBAPI2 connection. Other DBAPI2 objects are not tested. Please consider using SQLAlchemy.\n",
      "  employeeData = pd.read_sql(employeeJoinQuery, self.dbConnection)\n"
     ]
    },
    {
     "data": {
      "text/plain": "   EMPLOYEE_id EMPLOYEE_first_name EMPLOYEE_last_name EMPLOYEE_city\n0         1013              Joseph             Barker       Bedford\n1          102                Fran            Whitney       Needham\n2         1021                Paul           Sterling       Concord\n3         1039            Shih Lin               Chao     Lexington\n4          105             Matthew               Cobb       Waltham\n..         ...                 ...                ...           ...\n70         921             Charles            Crowley       Belmont\n71         930                 Ann             Taylor       Atlanta\n72         949              Pamela           Savarino    Long Beach\n73         958              Thomas             Sisson       Houston\n74         992               Joyce        Butterfield     Cambridge\n\n[75 rows x 4 columns]",
      "text/html": "<div>\n<style scoped>\n    .dataframe tbody tr th:only-of-type {\n        vertical-align: middle;\n    }\n\n    .dataframe tbody tr th {\n        vertical-align: top;\n    }\n\n    .dataframe thead th {\n        text-align: right;\n    }\n</style>\n<table border=\"1\" class=\"dataframe\">\n  <thead>\n    <tr style=\"text-align: right;\">\n      <th></th>\n      <th>EMPLOYEE_id</th>\n      <th>EMPLOYEE_first_name</th>\n      <th>EMPLOYEE_last_name</th>\n      <th>EMPLOYEE_city</th>\n    </tr>\n  </thead>\n  <tbody>\n    <tr>\n      <th>0</th>\n      <td>1013</td>\n      <td>Joseph</td>\n      <td>Barker</td>\n      <td>Bedford</td>\n    </tr>\n    <tr>\n      <th>1</th>\n      <td>102</td>\n      <td>Fran</td>\n      <td>Whitney</td>\n      <td>Needham</td>\n    </tr>\n    <tr>\n      <th>2</th>\n      <td>1021</td>\n      <td>Paul</td>\n      <td>Sterling</td>\n      <td>Concord</td>\n    </tr>\n    <tr>\n      <th>3</th>\n      <td>1039</td>\n      <td>Shih Lin</td>\n      <td>Chao</td>\n      <td>Lexington</td>\n    </tr>\n    <tr>\n      <th>4</th>\n      <td>105</td>\n      <td>Matthew</td>\n      <td>Cobb</td>\n      <td>Waltham</td>\n    </tr>\n    <tr>\n      <th>...</th>\n      <td>...</td>\n      <td>...</td>\n      <td>...</td>\n      <td>...</td>\n    </tr>\n    <tr>\n      <th>70</th>\n      <td>921</td>\n      <td>Charles</td>\n      <td>Crowley</td>\n      <td>Belmont</td>\n    </tr>\n    <tr>\n      <th>71</th>\n      <td>930</td>\n      <td>Ann</td>\n      <td>Taylor</td>\n      <td>Atlanta</td>\n    </tr>\n    <tr>\n      <th>72</th>\n      <td>949</td>\n      <td>Pamela</td>\n      <td>Savarino</td>\n      <td>Long Beach</td>\n    </tr>\n    <tr>\n      <th>73</th>\n      <td>958</td>\n      <td>Thomas</td>\n      <td>Sisson</td>\n      <td>Houston</td>\n    </tr>\n    <tr>\n      <th>74</th>\n      <td>992</td>\n      <td>Joyce</td>\n      <td>Butterfield</td>\n      <td>Cambridge</td>\n    </tr>\n  </tbody>\n</table>\n<p>75 rows × 4 columns</p>\n</div>"
     },
     "execution_count": 5,
     "metadata": {},
     "output_type": "execute_result"
    },
    {
     "name": "stderr",
     "output_type": "stream",
     "text": [
      "C:\\Users\\Max\\Documents\\GitHub\\Scripts\\DataHandling\\Merging\\Repositories\\AENCRepository.py:45: UserWarning: pandas only supports SQLAlchemy connectable (engine/connection) or database string URI or sqlite3 DBAPI2 connection. Other DBAPI2 objects are not tested. Please consider using SQLAlchemy.\n",
      "  employeeData = pd.read_sql(employeeJoinQuery, self.dbConnection)\n"
     ]
    },
    {
     "data": {
      "text/plain": "   EMPLOYEE_id EMPLOYEE_first_name EMPLOYEE_last_name EMPLOYEE_city\n0         1013              Joseph             Barker       Bedford\n1          102                Fran            Whitney       Needham\n2         1021                Paul           Sterling       Concord\n3         1039            Shih Lin               Chao     Lexington\n4          105             Matthew               Cobb       Waltham\n..         ...                 ...                ...           ...\n70         921             Charles            Crowley       Belmont\n71         930                 Ann             Taylor       Atlanta\n72         949              Pamela           Savarino    Long Beach\n73         958              Thomas             Sisson       Houston\n74         992               Joyce        Butterfield     Cambridge\n\n[75 rows x 4 columns]",
      "text/html": "<div>\n<style scoped>\n    .dataframe tbody tr th:only-of-type {\n        vertical-align: middle;\n    }\n\n    .dataframe tbody tr th {\n        vertical-align: top;\n    }\n\n    .dataframe thead th {\n        text-align: right;\n    }\n</style>\n<table border=\"1\" class=\"dataframe\">\n  <thead>\n    <tr style=\"text-align: right;\">\n      <th></th>\n      <th>EMPLOYEE_id</th>\n      <th>EMPLOYEE_first_name</th>\n      <th>EMPLOYEE_last_name</th>\n      <th>EMPLOYEE_city</th>\n    </tr>\n  </thead>\n  <tbody>\n    <tr>\n      <th>0</th>\n      <td>1013</td>\n      <td>Joseph</td>\n      <td>Barker</td>\n      <td>Bedford</td>\n    </tr>\n    <tr>\n      <th>1</th>\n      <td>102</td>\n      <td>Fran</td>\n      <td>Whitney</td>\n      <td>Needham</td>\n    </tr>\n    <tr>\n      <th>2</th>\n      <td>1021</td>\n      <td>Paul</td>\n      <td>Sterling</td>\n      <td>Concord</td>\n    </tr>\n    <tr>\n      <th>3</th>\n      <td>1039</td>\n      <td>Shih Lin</td>\n      <td>Chao</td>\n      <td>Lexington</td>\n    </tr>\n    <tr>\n      <th>4</th>\n      <td>105</td>\n      <td>Matthew</td>\n      <td>Cobb</td>\n      <td>Waltham</td>\n    </tr>\n    <tr>\n      <th>...</th>\n      <td>...</td>\n      <td>...</td>\n      <td>...</td>\n      <td>...</td>\n    </tr>\n    <tr>\n      <th>70</th>\n      <td>921</td>\n      <td>Charles</td>\n      <td>Crowley</td>\n      <td>Belmont</td>\n    </tr>\n    <tr>\n      <th>71</th>\n      <td>930</td>\n      <td>Ann</td>\n      <td>Taylor</td>\n      <td>Atlanta</td>\n    </tr>\n    <tr>\n      <th>72</th>\n      <td>949</td>\n      <td>Pamela</td>\n      <td>Savarino</td>\n      <td>Long Beach</td>\n    </tr>\n    <tr>\n      <th>73</th>\n      <td>958</td>\n      <td>Thomas</td>\n      <td>Sisson</td>\n      <td>Houston</td>\n    </tr>\n    <tr>\n      <th>74</th>\n      <td>992</td>\n      <td>Joyce</td>\n      <td>Butterfield</td>\n      <td>Cambridge</td>\n    </tr>\n  </tbody>\n</table>\n<p>75 rows × 4 columns</p>\n</div>"
     },
     "execution_count": 12,
     "metadata": {},
     "output_type": "execute_result"
    }
   ],
   "source": [
    "employeeDataFrame = aencRepository.getEmployeeDataFrame()\n",
    "employeeDataFrame"
   ],
   "metadata": {
    "collapsed": false,
    "ExecuteTime": {
     "end_time": "2023-05-29T07:46:24.032572100Z",
     "start_time": "2023-05-29T07:46:23.279495Z"
    }
   }
  },
  {
   "cell_type": "markdown",
   "source": [
    "# Day"
   ],
   "metadata": {
    "collapsed": false
   }
  },
  {
   "cell_type": "code",
   "execution_count": 13,
   "outputs": [
    {
     "name": "stderr",
     "output_type": "stream",
     "text": [
      "C:\\Users\\Max\\Documents\\GitHub\\Scripts\\DataHandling\\Merging\\Repositories\\AENCRepository.py:53: UserWarning: pandas only supports SQLAlchemy connectable (engine/connection) or database string URI or sqlite3 DBAPI2 connection. Other DBAPI2 objects are not tested. Please consider using SQLAlchemy.\n",
      "  orderDates = pd.read_sql(\"SELECT DISTINCT order_date FROM sales_order\", self.dbConnection)\n"
     ]
    },
    {
     "data": {
      "text/plain": "               DAY_date DAY_MONTH_nr DAY_QUARTER_nr DAY_YEAR_nr\n0   1996-04-01 12:00:00            4              2        1996\n1   1998-04-01 12:00:00            4              2        1998\n2   1996-08-01 12:00:00            8              3        1996\n3   1997-08-01 12:00:00            8              3        1997\n4   1997-12-01 12:00:00           12              4        1997\n..                  ...          ...            ...         ...\n438 1996-12-31 12:00:00           12              4        1996\n439 1997-12-31 12:00:00           12              4        1997\n440 1996-07-31 12:00:00            7              3        1996\n441 1997-07-31 12:00:00            7              3        1997\n442 1998-05-31 12:00:00            5              2        1998\n\n[443 rows x 4 columns]",
      "text/html": "<div>\n<style scoped>\n    .dataframe tbody tr th:only-of-type {\n        vertical-align: middle;\n    }\n\n    .dataframe tbody tr th {\n        vertical-align: top;\n    }\n\n    .dataframe thead th {\n        text-align: right;\n    }\n</style>\n<table border=\"1\" class=\"dataframe\">\n  <thead>\n    <tr style=\"text-align: right;\">\n      <th></th>\n      <th>DAY_date</th>\n      <th>DAY_MONTH_nr</th>\n      <th>DAY_QUARTER_nr</th>\n      <th>DAY_YEAR_nr</th>\n    </tr>\n  </thead>\n  <tbody>\n    <tr>\n      <th>0</th>\n      <td>1996-04-01 12:00:00</td>\n      <td>4</td>\n      <td>2</td>\n      <td>1996</td>\n    </tr>\n    <tr>\n      <th>1</th>\n      <td>1998-04-01 12:00:00</td>\n      <td>4</td>\n      <td>2</td>\n      <td>1998</td>\n    </tr>\n    <tr>\n      <th>2</th>\n      <td>1996-08-01 12:00:00</td>\n      <td>8</td>\n      <td>3</td>\n      <td>1996</td>\n    </tr>\n    <tr>\n      <th>3</th>\n      <td>1997-08-01 12:00:00</td>\n      <td>8</td>\n      <td>3</td>\n      <td>1997</td>\n    </tr>\n    <tr>\n      <th>4</th>\n      <td>1997-12-01 12:00:00</td>\n      <td>12</td>\n      <td>4</td>\n      <td>1997</td>\n    </tr>\n    <tr>\n      <th>...</th>\n      <td>...</td>\n      <td>...</td>\n      <td>...</td>\n      <td>...</td>\n    </tr>\n    <tr>\n      <th>438</th>\n      <td>1996-12-31 12:00:00</td>\n      <td>12</td>\n      <td>4</td>\n      <td>1996</td>\n    </tr>\n    <tr>\n      <th>439</th>\n      <td>1997-12-31 12:00:00</td>\n      <td>12</td>\n      <td>4</td>\n      <td>1997</td>\n    </tr>\n    <tr>\n      <th>440</th>\n      <td>1996-07-31 12:00:00</td>\n      <td>7</td>\n      <td>3</td>\n      <td>1996</td>\n    </tr>\n    <tr>\n      <th>441</th>\n      <td>1997-07-31 12:00:00</td>\n      <td>7</td>\n      <td>3</td>\n      <td>1997</td>\n    </tr>\n    <tr>\n      <th>442</th>\n      <td>1998-05-31 12:00:00</td>\n      <td>5</td>\n      <td>2</td>\n      <td>1998</td>\n    </tr>\n  </tbody>\n</table>\n<p>443 rows × 4 columns</p>\n</div>"
     },
     "execution_count": 6,
     "metadata": {},
     "output_type": "execute_result"
    },
    {
     "name": "stderr",
     "output_type": "stream",
     "text": [
      "C:\\Users\\Max\\Documents\\GitHub\\Scripts\\DataHandling\\Merging\\Repositories\\AENCRepository.py:53: UserWarning: pandas only supports SQLAlchemy connectable (engine/connection) or database string URI or sqlite3 DBAPI2 connection. Other DBAPI2 objects are not tested. Please consider using SQLAlchemy.\n",
      "  orderDates = pd.read_sql(\"SELECT DISTINCT order_date FROM sales_order\", self.dbConnection)\n"
     ]
    },
    {
     "data": {
      "text/plain": "               DAY_date DAY_MONTH_nr DAY_QUARTER_nr DAY_YEAR_nr\n0   1996-04-01 12:00:00            4              2        1996\n1   1998-04-01 12:00:00            4              2        1998\n2   1996-08-01 12:00:00            8              3        1996\n3   1997-08-01 12:00:00            8              3        1997\n4   1997-12-01 12:00:00           12              4        1997\n..                  ...          ...            ...         ...\n438 1996-12-31 12:00:00           12              4        1996\n439 1997-12-31 12:00:00           12              4        1997\n440 1996-07-31 12:00:00            7              3        1996\n441 1997-07-31 12:00:00            7              3        1997\n442 1998-05-31 12:00:00            5              2        1998\n\n[443 rows x 4 columns]",
      "text/html": "<div>\n<style scoped>\n    .dataframe tbody tr th:only-of-type {\n        vertical-align: middle;\n    }\n\n    .dataframe tbody tr th {\n        vertical-align: top;\n    }\n\n    .dataframe thead th {\n        text-align: right;\n    }\n</style>\n<table border=\"1\" class=\"dataframe\">\n  <thead>\n    <tr style=\"text-align: right;\">\n      <th></th>\n      <th>DAY_date</th>\n      <th>DAY_MONTH_nr</th>\n      <th>DAY_QUARTER_nr</th>\n      <th>DAY_YEAR_nr</th>\n    </tr>\n  </thead>\n  <tbody>\n    <tr>\n      <th>0</th>\n      <td>1996-04-01 12:00:00</td>\n      <td>4</td>\n      <td>2</td>\n      <td>1996</td>\n    </tr>\n    <tr>\n      <th>1</th>\n      <td>1998-04-01 12:00:00</td>\n      <td>4</td>\n      <td>2</td>\n      <td>1998</td>\n    </tr>\n    <tr>\n      <th>2</th>\n      <td>1996-08-01 12:00:00</td>\n      <td>8</td>\n      <td>3</td>\n      <td>1996</td>\n    </tr>\n    <tr>\n      <th>3</th>\n      <td>1997-08-01 12:00:00</td>\n      <td>8</td>\n      <td>3</td>\n      <td>1997</td>\n    </tr>\n    <tr>\n      <th>4</th>\n      <td>1997-12-01 12:00:00</td>\n      <td>12</td>\n      <td>4</td>\n      <td>1997</td>\n    </tr>\n    <tr>\n      <th>...</th>\n      <td>...</td>\n      <td>...</td>\n      <td>...</td>\n      <td>...</td>\n    </tr>\n    <tr>\n      <th>438</th>\n      <td>1996-12-31 12:00:00</td>\n      <td>12</td>\n      <td>4</td>\n      <td>1996</td>\n    </tr>\n    <tr>\n      <th>439</th>\n      <td>1997-12-31 12:00:00</td>\n      <td>12</td>\n      <td>4</td>\n      <td>1997</td>\n    </tr>\n    <tr>\n      <th>440</th>\n      <td>1996-07-31 12:00:00</td>\n      <td>7</td>\n      <td>3</td>\n      <td>1996</td>\n    </tr>\n    <tr>\n      <th>441</th>\n      <td>1997-07-31 12:00:00</td>\n      <td>7</td>\n      <td>3</td>\n      <td>1997</td>\n    </tr>\n    <tr>\n      <th>442</th>\n      <td>1998-05-31 12:00:00</td>\n      <td>5</td>\n      <td>2</td>\n      <td>1998</td>\n    </tr>\n  </tbody>\n</table>\n<p>443 rows × 4 columns</p>\n</div>"
     },
     "execution_count": 13,
     "metadata": {},
     "output_type": "execute_result"
    }
   ],
   "source": [
    "DAY_date = aencRepository.getDayDataFrame()\n",
    "DAY_date"
   ],
   "metadata": {
    "collapsed": false,
    "ExecuteTime": {
     "end_time": "2023-05-29T07:46:24.531503400Z",
     "start_time": "2023-05-29T07:46:23.294103300Z"
    }
   }
  },
  {
   "cell_type": "markdown",
   "source": [
    "# Order Detail"
   ],
   "metadata": {
    "collapsed": false
   }
  },
  {
   "cell_type": "code",
   "execution_count": 14,
   "outputs": [
    {
     "name": "stderr",
     "output_type": "stream",
     "text": [
      "C:\\Users\\Max\\Documents\\GitHub\\Scripts\\DataHandling\\Merging\\Repositories\\AENCRepository.py:68: UserWarning: pandas only supports SQLAlchemy connectable (engine/connection) or database string URI or sqlite3 DBAPI2 connection. Other DBAPI2 objects are not tested. Please consider using SQLAlchemy.\n",
      "  orderDetailsData = pd.read_sql(orderDetailsQuery, self.dbConnection)\n"
     ]
    },
    {
     "data": {
      "text/plain": "     ORDER_DETAIL_id ORDER_HEADER_id CUSTOMER_id                 DAY_date  \\\n0               2001               1         101  14-Mar-1996 12:00:00 AM   \n1               2001               2         101  14-Mar-1996 12:00:00 AM   \n2               2001               3         101  14-Mar-1996 12:00:00 AM   \n3               2002               1         102  18-Mar-1996 12:00:00 AM   \n4               2002               2         102  18-Mar-1996 12:00:00 AM   \n...              ...             ...         ...                      ...   \n1098            2652               2         174  26-Nov-1998 12:00:00 AM   \n1099            2653               1         102  17-Jan-1999 12:00:00 AM   \n1100            2654               1         105  26-Feb-1999 12:00:00 AM   \n1101            2654               2         105  26-Feb-1999 12:00:00 AM   \n1102            2654               3         105  26-Feb-1999 12:00:00 AM   \n\n     EMPLOYEE_id PRODUCT_id ORDER_DETAIL_unit_price  \\\n0            299        300                       9   \n1            299        301                      14   \n2            299        302                      14   \n3            467        400                       9   \n4            467        401                      10   \n...          ...        ...                     ...   \n1098         902        300                       9   \n1099         148        301                      14   \n1100         148        301                      14   \n1101         148        302                      14   \n1102         148        400                       9   \n\n     ORDER_DETAIL_order_quantity  \n0                             12  \n1                             12  \n2                             12  \n3                             24  \n4                             24  \n...                          ...  \n1098                          10  \n1099                           0  \n1100                          15  \n1101                           3  \n1102                           8  \n\n[1103 rows x 8 columns]",
      "text/html": "<div>\n<style scoped>\n    .dataframe tbody tr th:only-of-type {\n        vertical-align: middle;\n    }\n\n    .dataframe tbody tr th {\n        vertical-align: top;\n    }\n\n    .dataframe thead th {\n        text-align: right;\n    }\n</style>\n<table border=\"1\" class=\"dataframe\">\n  <thead>\n    <tr style=\"text-align: right;\">\n      <th></th>\n      <th>ORDER_DETAIL_id</th>\n      <th>ORDER_HEADER_id</th>\n      <th>CUSTOMER_id</th>\n      <th>DAY_date</th>\n      <th>EMPLOYEE_id</th>\n      <th>PRODUCT_id</th>\n      <th>ORDER_DETAIL_unit_price</th>\n      <th>ORDER_DETAIL_order_quantity</th>\n    </tr>\n  </thead>\n  <tbody>\n    <tr>\n      <th>0</th>\n      <td>2001</td>\n      <td>1</td>\n      <td>101</td>\n      <td>14-Mar-1996 12:00:00 AM</td>\n      <td>299</td>\n      <td>300</td>\n      <td>9</td>\n      <td>12</td>\n    </tr>\n    <tr>\n      <th>1</th>\n      <td>2001</td>\n      <td>2</td>\n      <td>101</td>\n      <td>14-Mar-1996 12:00:00 AM</td>\n      <td>299</td>\n      <td>301</td>\n      <td>14</td>\n      <td>12</td>\n    </tr>\n    <tr>\n      <th>2</th>\n      <td>2001</td>\n      <td>3</td>\n      <td>101</td>\n      <td>14-Mar-1996 12:00:00 AM</td>\n      <td>299</td>\n      <td>302</td>\n      <td>14</td>\n      <td>12</td>\n    </tr>\n    <tr>\n      <th>3</th>\n      <td>2002</td>\n      <td>1</td>\n      <td>102</td>\n      <td>18-Mar-1996 12:00:00 AM</td>\n      <td>467</td>\n      <td>400</td>\n      <td>9</td>\n      <td>24</td>\n    </tr>\n    <tr>\n      <th>4</th>\n      <td>2002</td>\n      <td>2</td>\n      <td>102</td>\n      <td>18-Mar-1996 12:00:00 AM</td>\n      <td>467</td>\n      <td>401</td>\n      <td>10</td>\n      <td>24</td>\n    </tr>\n    <tr>\n      <th>...</th>\n      <td>...</td>\n      <td>...</td>\n      <td>...</td>\n      <td>...</td>\n      <td>...</td>\n      <td>...</td>\n      <td>...</td>\n      <td>...</td>\n    </tr>\n    <tr>\n      <th>1098</th>\n      <td>2652</td>\n      <td>2</td>\n      <td>174</td>\n      <td>26-Nov-1998 12:00:00 AM</td>\n      <td>902</td>\n      <td>300</td>\n      <td>9</td>\n      <td>10</td>\n    </tr>\n    <tr>\n      <th>1099</th>\n      <td>2653</td>\n      <td>1</td>\n      <td>102</td>\n      <td>17-Jan-1999 12:00:00 AM</td>\n      <td>148</td>\n      <td>301</td>\n      <td>14</td>\n      <td>0</td>\n    </tr>\n    <tr>\n      <th>1100</th>\n      <td>2654</td>\n      <td>1</td>\n      <td>105</td>\n      <td>26-Feb-1999 12:00:00 AM</td>\n      <td>148</td>\n      <td>301</td>\n      <td>14</td>\n      <td>15</td>\n    </tr>\n    <tr>\n      <th>1101</th>\n      <td>2654</td>\n      <td>2</td>\n      <td>105</td>\n      <td>26-Feb-1999 12:00:00 AM</td>\n      <td>148</td>\n      <td>302</td>\n      <td>14</td>\n      <td>3</td>\n    </tr>\n    <tr>\n      <th>1102</th>\n      <td>2654</td>\n      <td>3</td>\n      <td>105</td>\n      <td>26-Feb-1999 12:00:00 AM</td>\n      <td>148</td>\n      <td>400</td>\n      <td>9</td>\n      <td>8</td>\n    </tr>\n  </tbody>\n</table>\n<p>1103 rows × 8 columns</p>\n</div>"
     },
     "execution_count": 7,
     "metadata": {},
     "output_type": "execute_result"
    },
    {
     "name": "stderr",
     "output_type": "stream",
     "text": [
      "C:\\Users\\Max\\Documents\\GitHub\\Scripts\\DataHandling\\Merging\\Repositories\\AENCRepository.py:68: UserWarning: pandas only supports SQLAlchemy connectable (engine/connection) or database string URI or sqlite3 DBAPI2 connection. Other DBAPI2 objects are not tested. Please consider using SQLAlchemy.\n",
      "  orderDetailsData = pd.read_sql(orderDetailsQuery, self.dbConnection)\n"
     ]
    },
    {
     "data": {
      "text/plain": "     ORDER_DETAIL_id ORDER_HEADER_id CUSTOMER_id                 DAY_date  \\\n0               2001               1         101  14-Mar-1996 12:00:00 AM   \n1               2001               2         101  14-Mar-1996 12:00:00 AM   \n2               2001               3         101  14-Mar-1996 12:00:00 AM   \n3               2002               1         102  18-Mar-1996 12:00:00 AM   \n4               2002               2         102  18-Mar-1996 12:00:00 AM   \n...              ...             ...         ...                      ...   \n1098            2652               2         174  26-Nov-1998 12:00:00 AM   \n1099            2653               1         102  17-Jan-1999 12:00:00 AM   \n1100            2654               1         105  26-Feb-1999 12:00:00 AM   \n1101            2654               2         105  26-Feb-1999 12:00:00 AM   \n1102            2654               3         105  26-Feb-1999 12:00:00 AM   \n\n     EMPLOYEE_id PRODUCT_id ORDER_DETAIL_unit_price  \\\n0            299        300                       9   \n1            299        301                      14   \n2            299        302                      14   \n3            467        400                       9   \n4            467        401                      10   \n...          ...        ...                     ...   \n1098         902        300                       9   \n1099         148        301                      14   \n1100         148        301                      14   \n1101         148        302                      14   \n1102         148        400                       9   \n\n     ORDER_DETAIL_order_quantity  \n0                             12  \n1                             12  \n2                             12  \n3                             24  \n4                             24  \n...                          ...  \n1098                          10  \n1099                           0  \n1100                          15  \n1101                           3  \n1102                           8  \n\n[1103 rows x 8 columns]",
      "text/html": "<div>\n<style scoped>\n    .dataframe tbody tr th:only-of-type {\n        vertical-align: middle;\n    }\n\n    .dataframe tbody tr th {\n        vertical-align: top;\n    }\n\n    .dataframe thead th {\n        text-align: right;\n    }\n</style>\n<table border=\"1\" class=\"dataframe\">\n  <thead>\n    <tr style=\"text-align: right;\">\n      <th></th>\n      <th>ORDER_DETAIL_id</th>\n      <th>ORDER_HEADER_id</th>\n      <th>CUSTOMER_id</th>\n      <th>DAY_date</th>\n      <th>EMPLOYEE_id</th>\n      <th>PRODUCT_id</th>\n      <th>ORDER_DETAIL_unit_price</th>\n      <th>ORDER_DETAIL_order_quantity</th>\n    </tr>\n  </thead>\n  <tbody>\n    <tr>\n      <th>0</th>\n      <td>2001</td>\n      <td>1</td>\n      <td>101</td>\n      <td>14-Mar-1996 12:00:00 AM</td>\n      <td>299</td>\n      <td>300</td>\n      <td>9</td>\n      <td>12</td>\n    </tr>\n    <tr>\n      <th>1</th>\n      <td>2001</td>\n      <td>2</td>\n      <td>101</td>\n      <td>14-Mar-1996 12:00:00 AM</td>\n      <td>299</td>\n      <td>301</td>\n      <td>14</td>\n      <td>12</td>\n    </tr>\n    <tr>\n      <th>2</th>\n      <td>2001</td>\n      <td>3</td>\n      <td>101</td>\n      <td>14-Mar-1996 12:00:00 AM</td>\n      <td>299</td>\n      <td>302</td>\n      <td>14</td>\n      <td>12</td>\n    </tr>\n    <tr>\n      <th>3</th>\n      <td>2002</td>\n      <td>1</td>\n      <td>102</td>\n      <td>18-Mar-1996 12:00:00 AM</td>\n      <td>467</td>\n      <td>400</td>\n      <td>9</td>\n      <td>24</td>\n    </tr>\n    <tr>\n      <th>4</th>\n      <td>2002</td>\n      <td>2</td>\n      <td>102</td>\n      <td>18-Mar-1996 12:00:00 AM</td>\n      <td>467</td>\n      <td>401</td>\n      <td>10</td>\n      <td>24</td>\n    </tr>\n    <tr>\n      <th>...</th>\n      <td>...</td>\n      <td>...</td>\n      <td>...</td>\n      <td>...</td>\n      <td>...</td>\n      <td>...</td>\n      <td>...</td>\n      <td>...</td>\n    </tr>\n    <tr>\n      <th>1098</th>\n      <td>2652</td>\n      <td>2</td>\n      <td>174</td>\n      <td>26-Nov-1998 12:00:00 AM</td>\n      <td>902</td>\n      <td>300</td>\n      <td>9</td>\n      <td>10</td>\n    </tr>\n    <tr>\n      <th>1099</th>\n      <td>2653</td>\n      <td>1</td>\n      <td>102</td>\n      <td>17-Jan-1999 12:00:00 AM</td>\n      <td>148</td>\n      <td>301</td>\n      <td>14</td>\n      <td>0</td>\n    </tr>\n    <tr>\n      <th>1100</th>\n      <td>2654</td>\n      <td>1</td>\n      <td>105</td>\n      <td>26-Feb-1999 12:00:00 AM</td>\n      <td>148</td>\n      <td>301</td>\n      <td>14</td>\n      <td>15</td>\n    </tr>\n    <tr>\n      <th>1101</th>\n      <td>2654</td>\n      <td>2</td>\n      <td>105</td>\n      <td>26-Feb-1999 12:00:00 AM</td>\n      <td>148</td>\n      <td>302</td>\n      <td>14</td>\n      <td>3</td>\n    </tr>\n    <tr>\n      <th>1102</th>\n      <td>2654</td>\n      <td>3</td>\n      <td>105</td>\n      <td>26-Feb-1999 12:00:00 AM</td>\n      <td>148</td>\n      <td>400</td>\n      <td>9</td>\n      <td>8</td>\n    </tr>\n  </tbody>\n</table>\n<p>1103 rows × 8 columns</p>\n</div>"
     },
     "execution_count": 14,
     "metadata": {},
     "output_type": "execute_result"
    }
   ],
   "source": [
    "orderDetailsData = aencRepository.getOrderDetailsDataFrame()\n",
    "orderDetailsData"
   ],
   "metadata": {
    "collapsed": false,
    "ExecuteTime": {
     "end_time": "2023-05-29T07:46:24.639032Z",
     "start_time": "2023-05-29T07:46:23.744841700Z"
    }
   }
  }
 ],
 "metadata": {
  "kernelspec": {
   "display_name": "Python 3",
   "language": "python",
   "name": "python3"
  },
  "language_info": {
   "codemirror_mode": {
    "name": "ipython",
    "version": 2
   },
   "file_extension": ".py",
   "mimetype": "text/x-python",
   "name": "python",
   "nbconvert_exporter": "python",
   "pygments_lexer": "ipython2",
   "version": "2.7.6"
  }
 },
 "nbformat": 4,
 "nbformat_minor": 0
}
