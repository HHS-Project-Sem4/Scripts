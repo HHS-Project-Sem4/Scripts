{
 "cells": [
  {
   "cell_type": "code",
   "execution_count": 1,
   "metadata": {
    "collapsed": true,
    "ExecuteTime": {
     "end_time": "2023-05-25T12:54:06.248671700Z",
     "start_time": "2023-05-25T12:54:05.833091600Z"
    }
   },
   "outputs": [],
   "source": [
    "import pandas as pd\n",
    "import pyodbc"
   ]
  },
  {
   "cell_type": "code",
   "execution_count": 2,
   "outputs": [],
   "source": [
    "nortWindConnection = pyodbc.connect(\"Driver={SQL Server};\"\n",
    "                                \"Server=DESKTOP-8INVJ1O\\SQLEXPRESS;\"\n",
    "                                \"Database=Northwind;\"\n",
    "                                \"trusted_connection=yes\")"
   ],
   "metadata": {
    "collapsed": false,
    "ExecuteTime": {
     "end_time": "2023-05-25T12:54:06.295534900Z",
     "start_time": "2023-05-25T12:54:06.248671700Z"
    }
   }
  },
  {
   "cell_type": "code",
   "execution_count": 3,
   "outputs": [
    {
     "name": "stderr",
     "output_type": "stream",
     "text": [
      "C:\\Users\\Max\\AppData\\Local\\Temp\\ipykernel_14900\\161998852.py:1: UserWarning: pandas only supports SQLAlchemy connectable (engine/connection) or database string URI or sqlite3 DBAPI2 connection. Other DBAPI2 objects are not tested. Please consider using SQLAlchemy.\n",
      "  products = pd.read_sql(\"SELECT * FROM products\", nortWindConnection)\n",
      "C:\\Users\\Max\\AppData\\Local\\Temp\\ipykernel_14900\\161998852.py:2: UserWarning: pandas only supports SQLAlchemy connectable (engine/connection) or database string URI or sqlite3 DBAPI2 connection. Other DBAPI2 objects are not tested. Please consider using SQLAlchemy.\n",
      "  categories = pd.read_sql(\"SELECT * FROM categories\", nortWindConnection)\n",
      "C:\\Users\\Max\\AppData\\Local\\Temp\\ipykernel_14900\\161998852.py:3: UserWarning: pandas only supports SQLAlchemy connectable (engine/connection) or database string URI or sqlite3 DBAPI2 connection. Other DBAPI2 objects are not tested. Please consider using SQLAlchemy.\n",
      "  customers = pd.read_sql(\"SELECT * FROM customers\", nortWindConnection)\n",
      "C:\\Users\\Max\\AppData\\Local\\Temp\\ipykernel_14900\\161998852.py:4: UserWarning: pandas only supports SQLAlchemy connectable (engine/connection) or database string URI or sqlite3 DBAPI2 connection. Other DBAPI2 objects are not tested. Please consider using SQLAlchemy.\n",
      "  employees = pd.read_sql(\"SELECT * FROM employees\", nortWindConnection)\n",
      "C:\\Users\\Max\\AppData\\Local\\Temp\\ipykernel_14900\\161998852.py:5: UserWarning: pandas only supports SQLAlchemy connectable (engine/connection) or database string URI or sqlite3 DBAPI2 connection. Other DBAPI2 objects are not tested. Please consider using SQLAlchemy.\n",
      "  orderDetails = pd.read_sql(\"SELECT * FROM [order details]\", nortWindConnection)\n",
      "C:\\Users\\Max\\AppData\\Local\\Temp\\ipykernel_14900\\161998852.py:6: UserWarning: pandas only supports SQLAlchemy connectable (engine/connection) or database string URI or sqlite3 DBAPI2 connection. Other DBAPI2 objects are not tested. Please consider using SQLAlchemy.\n",
      "  orders = pd.read_sql(\"SELECT * FROM orders\", nortWindConnection)\n"
     ]
    }
   ],
   "source": [
    "products = pd.read_sql(\"SELECT * FROM products\", nortWindConnection)\n",
    "categories = pd.read_sql(\"SELECT * FROM categories\", nortWindConnection)\n",
    "customers = pd.read_sql(\"SELECT * FROM customers\", nortWindConnection)\n",
    "employees = pd.read_sql(\"SELECT * FROM employees\", nortWindConnection)\n",
    "orderDetails = pd.read_sql(\"SELECT * FROM [order details]\", nortWindConnection)\n",
    "orders = pd.read_sql(\"SELECT * FROM orders\", nortWindConnection)"
   ],
   "metadata": {
    "collapsed": false,
    "ExecuteTime": {
     "end_time": "2023-05-25T12:54:06.467369800Z",
     "start_time": "2023-05-25T12:54:06.295534900Z"
    }
   }
  }
 ],
 "metadata": {
  "kernelspec": {
   "display_name": "Python 3",
   "language": "python",
   "name": "python3"
  },
  "language_info": {
   "codemirror_mode": {
    "name": "ipython",
    "version": 2
   },
   "file_extension": ".py",
   "mimetype": "text/x-python",
   "name": "python",
   "nbconvert_exporter": "python",
   "pygments_lexer": "ipython2",
   "version": "2.7.6"
  }
 },
 "nbformat": 4,
 "nbformat_minor": 0
}
