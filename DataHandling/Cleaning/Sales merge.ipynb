{
 "cells": [
  {
   "cell_type": "code",
   "execution_count": 9,
   "metadata": {
    "collapsed": true,
    "ExecuteTime": {
     "end_time": "2023-05-25T19:08:30.046967200Z",
     "start_time": "2023-05-25T19:08:30.027019400Z"
    }
   },
   "outputs": [],
   "source": [
    "import pandas as pd\n",
    "import pyodbc\n",
    "import Utils"
   ]
  },
  {
   "cell_type": "code",
   "execution_count": 10,
   "outputs": [],
   "source": [
    "salesConnection = pyodbc.connect(\"Driver={SQL Server};\"\n",
    "                                \"Server=DESKTOP-8INVJ1O\\SQLEXPRESS;\"\n",
    "                                \"Database=Sales_db;\"\n",
    "                                \"trusted_connection=yes\")"
   ],
   "metadata": {
    "collapsed": false,
    "ExecuteTime": {
     "end_time": "2023-05-25T19:08:30.078880500Z",
     "start_time": "2023-05-25T19:08:30.034001200Z"
    }
   }
  },
  {
   "cell_type": "code",
   "execution_count": 11,
   "outputs": [
    {
     "name": "stderr",
     "output_type": "stream",
     "text": [
      "C:\\Users\\Max\\AppData\\Local\\Temp\\ipykernel_3216\\3051299410.py:2: UserWarning: pandas only supports SQLAlchemy connectable (engine/connection) or database string URI or sqlite3 DBAPI2 connection. Other DBAPI2 objects are not tested. Please consider using SQLAlchemy.\n",
      "  sales = pd.read_sql(\"SELECT * FROM Sales\", salesConnection)\n"
     ]
    }
   ],
   "source": [
    "# Try to separate the large ass table?\n",
    "sales = pd.read_sql(\"SELECT * FROM Sales\", salesConnection)"
   ],
   "metadata": {
    "collapsed": false,
    "ExecuteTime": {
     "end_time": "2023-05-25T19:08:31.203871400Z",
     "start_time": "2023-05-25T19:08:30.067911100Z"
    }
   }
  },
  {
   "cell_type": "code",
   "execution_count": 12,
   "outputs": [],
   "source": [
    "# add id"
   ],
   "metadata": {
    "collapsed": false,
    "ExecuteTime": {
     "end_time": "2023-05-25T19:08:31.217834600Z",
     "start_time": "2023-05-25T19:08:31.204868900Z"
    }
   }
  },
  {
   "cell_type": "markdown",
   "source": [
    "# Product"
   ],
   "metadata": {
    "collapsed": false
   }
  },
  {
   "cell_type": "code",
   "execution_count": 13,
   "outputs": [
    {
     "data": {
      "text/plain": "              Date  Day     Month  Year  Customer_Age       Age_Group  \\\n0       2013-11-26   26  November  2013            19     Youth (<25)   \n1       2015-11-26   26  November  2015            19     Youth (<25)   \n2       2014-03-23   23     March  2014            49  Adults (35-64)   \n3       2016-03-23   23     March  2016            49  Adults (35-64)   \n4       2014-05-15   15       May  2014            47  Adults (35-64)   \n...            ...  ...       ...   ...           ...             ...   \n113031  2016-04-12   12     April  2016            41  Adults (35-64)   \n113032  2014-04-02    2     April  2014            18     Youth (<25)   \n113033  2016-04-02    2     April  2016            18     Youth (<25)   \n113034  2014-03-04    4     March  2014            37  Adults (35-64)   \n113035  2016-03-04    4     March  2016            37  Adults (35-64)   \n\n       Customer_Gender         Country             State Product_Category  \\\n0                    M          Canada  British Columbia      Accessories   \n1                    M          Canada  British Columbia      Accessories   \n2                    M       Australia   New South Wales      Accessories   \n3                    M       Australia   New South Wales      Accessories   \n4                    F       Australia   New South Wales      Accessories   \n...                ...             ...               ...              ...   \n113031               M  United Kingdom           England         Clothing   \n113032               M       Australia        Queensland         Clothing   \n113033               M       Australia        Queensland         Clothing   \n113034               F          France     Seine (Paris)         Clothing   \n113035               F          France     Seine (Paris)         Clothing   \n\n       Sub_Category              Product  Order_Quantity  Unit_Cost  \\\n0        Bike Racks  Hitch Rack - 4-Bike               8       45.0   \n1        Bike Racks  Hitch Rack - 4-Bike               8       45.0   \n2        Bike Racks  Hitch Rack - 4-Bike              23       45.0   \n3        Bike Racks  Hitch Rack - 4-Bike              20       45.0   \n4        Bike Racks  Hitch Rack - 4-Bike               4       45.0   \n...             ...                  ...             ...        ...   \n113031        Vests      Classic Vest, S               3       24.0   \n113032        Vests      Classic Vest, M              22       24.0   \n113033        Vests      Classic Vest, M              22       24.0   \n113034        Vests      Classic Vest, L              24       24.0   \n113035        Vests      Classic Vest, L              23       24.0   \n\n        Unit_Price  Profit    Cost  Revenue  \n0            120.0   590.0   360.0    950.0  \n1            120.0   590.0   360.0    950.0  \n2            120.0  1366.0  1035.0   2401.0  \n3            120.0  1188.0   900.0   2088.0  \n4            120.0   238.0   180.0    418.0  \n...            ...     ...     ...      ...  \n113031        64.0   112.0    72.0    184.0  \n113032        64.0   655.0   528.0   1183.0  \n113033        64.0   655.0   528.0   1183.0  \n113034        64.0   684.0   576.0   1260.0  \n113035        64.0   655.0   552.0   1207.0  \n\n[113036 rows x 18 columns]",
      "text/html": "<div>\n<style scoped>\n    .dataframe tbody tr th:only-of-type {\n        vertical-align: middle;\n    }\n\n    .dataframe tbody tr th {\n        vertical-align: top;\n    }\n\n    .dataframe thead th {\n        text-align: right;\n    }\n</style>\n<table border=\"1\" class=\"dataframe\">\n  <thead>\n    <tr style=\"text-align: right;\">\n      <th></th>\n      <th>Date</th>\n      <th>Day</th>\n      <th>Month</th>\n      <th>Year</th>\n      <th>Customer_Age</th>\n      <th>Age_Group</th>\n      <th>Customer_Gender</th>\n      <th>Country</th>\n      <th>State</th>\n      <th>Product_Category</th>\n      <th>Sub_Category</th>\n      <th>Product</th>\n      <th>Order_Quantity</th>\n      <th>Unit_Cost</th>\n      <th>Unit_Price</th>\n      <th>Profit</th>\n      <th>Cost</th>\n      <th>Revenue</th>\n    </tr>\n  </thead>\n  <tbody>\n    <tr>\n      <th>0</th>\n      <td>2013-11-26</td>\n      <td>26</td>\n      <td>November</td>\n      <td>2013</td>\n      <td>19</td>\n      <td>Youth (&lt;25)</td>\n      <td>M</td>\n      <td>Canada</td>\n      <td>British Columbia</td>\n      <td>Accessories</td>\n      <td>Bike Racks</td>\n      <td>Hitch Rack - 4-Bike</td>\n      <td>8</td>\n      <td>45.0</td>\n      <td>120.0</td>\n      <td>590.0</td>\n      <td>360.0</td>\n      <td>950.0</td>\n    </tr>\n    <tr>\n      <th>1</th>\n      <td>2015-11-26</td>\n      <td>26</td>\n      <td>November</td>\n      <td>2015</td>\n      <td>19</td>\n      <td>Youth (&lt;25)</td>\n      <td>M</td>\n      <td>Canada</td>\n      <td>British Columbia</td>\n      <td>Accessories</td>\n      <td>Bike Racks</td>\n      <td>Hitch Rack - 4-Bike</td>\n      <td>8</td>\n      <td>45.0</td>\n      <td>120.0</td>\n      <td>590.0</td>\n      <td>360.0</td>\n      <td>950.0</td>\n    </tr>\n    <tr>\n      <th>2</th>\n      <td>2014-03-23</td>\n      <td>23</td>\n      <td>March</td>\n      <td>2014</td>\n      <td>49</td>\n      <td>Adults (35-64)</td>\n      <td>M</td>\n      <td>Australia</td>\n      <td>New South Wales</td>\n      <td>Accessories</td>\n      <td>Bike Racks</td>\n      <td>Hitch Rack - 4-Bike</td>\n      <td>23</td>\n      <td>45.0</td>\n      <td>120.0</td>\n      <td>1366.0</td>\n      <td>1035.0</td>\n      <td>2401.0</td>\n    </tr>\n    <tr>\n      <th>3</th>\n      <td>2016-03-23</td>\n      <td>23</td>\n      <td>March</td>\n      <td>2016</td>\n      <td>49</td>\n      <td>Adults (35-64)</td>\n      <td>M</td>\n      <td>Australia</td>\n      <td>New South Wales</td>\n      <td>Accessories</td>\n      <td>Bike Racks</td>\n      <td>Hitch Rack - 4-Bike</td>\n      <td>20</td>\n      <td>45.0</td>\n      <td>120.0</td>\n      <td>1188.0</td>\n      <td>900.0</td>\n      <td>2088.0</td>\n    </tr>\n    <tr>\n      <th>4</th>\n      <td>2014-05-15</td>\n      <td>15</td>\n      <td>May</td>\n      <td>2014</td>\n      <td>47</td>\n      <td>Adults (35-64)</td>\n      <td>F</td>\n      <td>Australia</td>\n      <td>New South Wales</td>\n      <td>Accessories</td>\n      <td>Bike Racks</td>\n      <td>Hitch Rack - 4-Bike</td>\n      <td>4</td>\n      <td>45.0</td>\n      <td>120.0</td>\n      <td>238.0</td>\n      <td>180.0</td>\n      <td>418.0</td>\n    </tr>\n    <tr>\n      <th>...</th>\n      <td>...</td>\n      <td>...</td>\n      <td>...</td>\n      <td>...</td>\n      <td>...</td>\n      <td>...</td>\n      <td>...</td>\n      <td>...</td>\n      <td>...</td>\n      <td>...</td>\n      <td>...</td>\n      <td>...</td>\n      <td>...</td>\n      <td>...</td>\n      <td>...</td>\n      <td>...</td>\n      <td>...</td>\n      <td>...</td>\n    </tr>\n    <tr>\n      <th>113031</th>\n      <td>2016-04-12</td>\n      <td>12</td>\n      <td>April</td>\n      <td>2016</td>\n      <td>41</td>\n      <td>Adults (35-64)</td>\n      <td>M</td>\n      <td>United Kingdom</td>\n      <td>England</td>\n      <td>Clothing</td>\n      <td>Vests</td>\n      <td>Classic Vest, S</td>\n      <td>3</td>\n      <td>24.0</td>\n      <td>64.0</td>\n      <td>112.0</td>\n      <td>72.0</td>\n      <td>184.0</td>\n    </tr>\n    <tr>\n      <th>113032</th>\n      <td>2014-04-02</td>\n      <td>2</td>\n      <td>April</td>\n      <td>2014</td>\n      <td>18</td>\n      <td>Youth (&lt;25)</td>\n      <td>M</td>\n      <td>Australia</td>\n      <td>Queensland</td>\n      <td>Clothing</td>\n      <td>Vests</td>\n      <td>Classic Vest, M</td>\n      <td>22</td>\n      <td>24.0</td>\n      <td>64.0</td>\n      <td>655.0</td>\n      <td>528.0</td>\n      <td>1183.0</td>\n    </tr>\n    <tr>\n      <th>113033</th>\n      <td>2016-04-02</td>\n      <td>2</td>\n      <td>April</td>\n      <td>2016</td>\n      <td>18</td>\n      <td>Youth (&lt;25)</td>\n      <td>M</td>\n      <td>Australia</td>\n      <td>Queensland</td>\n      <td>Clothing</td>\n      <td>Vests</td>\n      <td>Classic Vest, M</td>\n      <td>22</td>\n      <td>24.0</td>\n      <td>64.0</td>\n      <td>655.0</td>\n      <td>528.0</td>\n      <td>1183.0</td>\n    </tr>\n    <tr>\n      <th>113034</th>\n      <td>2014-03-04</td>\n      <td>4</td>\n      <td>March</td>\n      <td>2014</td>\n      <td>37</td>\n      <td>Adults (35-64)</td>\n      <td>F</td>\n      <td>France</td>\n      <td>Seine (Paris)</td>\n      <td>Clothing</td>\n      <td>Vests</td>\n      <td>Classic Vest, L</td>\n      <td>24</td>\n      <td>24.0</td>\n      <td>64.0</td>\n      <td>684.0</td>\n      <td>576.0</td>\n      <td>1260.0</td>\n    </tr>\n    <tr>\n      <th>113035</th>\n      <td>2016-03-04</td>\n      <td>4</td>\n      <td>March</td>\n      <td>2016</td>\n      <td>37</td>\n      <td>Adults (35-64)</td>\n      <td>F</td>\n      <td>France</td>\n      <td>Seine (Paris)</td>\n      <td>Clothing</td>\n      <td>Vests</td>\n      <td>Classic Vest, L</td>\n      <td>23</td>\n      <td>24.0</td>\n      <td>64.0</td>\n      <td>655.0</td>\n      <td>552.0</td>\n      <td>1207.0</td>\n    </tr>\n  </tbody>\n</table>\n<p>113036 rows × 18 columns</p>\n</div>"
     },
     "execution_count": 13,
     "metadata": {},
     "output_type": "execute_result"
    }
   ],
   "source": [
    "sales"
   ],
   "metadata": {
    "collapsed": false,
    "ExecuteTime": {
     "end_time": "2023-05-25T19:08:31.251743900Z",
     "start_time": "2023-05-25T19:08:31.220826500Z"
    }
   }
  },
  {
   "cell_type": "code",
   "execution_count": 14,
   "outputs": [],
   "source": [
    "selectedColumn = ['Order_Quantity', 'Product_Category', 'Sub_Category', 'Unit_Cost']\n",
    "product = sales[selectedColumn]\n",
    "newColumnNames = ['PRODUCT_name', 'PRODUCT_category', 'PRODUCT_sub_category', 'PRODUCT_prod_cost']\n",
    "product.columns = newColumnNames"
   ],
   "metadata": {
    "collapsed": false,
    "ExecuteTime": {
     "end_time": "2023-05-25T19:08:31.264709800Z",
     "start_time": "2023-05-25T19:08:31.250745900Z"
    }
   }
  },
  {
   "cell_type": "markdown",
   "source": [
    "# Customer"
   ],
   "metadata": {
    "collapsed": false
   }
  },
  {
   "cell_type": "code",
   "execution_count": 15,
   "outputs": [],
   "source": [
    "selectedColumn = ['Country', 'State']\n",
    "customer = sales[selectedColumn]\n",
    "newColumnNames = ['CUSTOMER_country', 'CUSTOMER_state']\n",
    "customer.columns = newColumnNames"
   ],
   "metadata": {
    "collapsed": false,
    "ExecuteTime": {
     "end_time": "2023-05-25T19:08:31.283658Z",
     "start_time": "2023-05-25T19:08:31.265706600Z"
    }
   }
  },
  {
   "cell_type": "markdown",
   "source": [
    "# Day"
   ],
   "metadata": {
    "collapsed": false
   }
  },
  {
   "cell_type": "code",
   "execution_count": 16,
   "outputs": [
    {
     "data": {
      "text/plain": "         DAY_date DAY_MONTH_nr DAY_QUARTER_nr DAY_YEAR_nr\n0      2013-11-26           11              4        2013\n1      2015-11-26           11              4        2015\n2      2014-03-23            3              1        2014\n3      2016-03-23            3              1        2016\n4      2014-05-15            5              2        2014\n...           ...          ...            ...         ...\n113031 2016-04-12            4              2        2016\n113032 2014-04-02            4              2        2014\n113033 2016-04-02            4              2        2016\n113034 2014-03-04            3              1        2014\n113035 2016-03-04            3              1        2016\n\n[113036 rows x 4 columns]",
      "text/html": "<div>\n<style scoped>\n    .dataframe tbody tr th:only-of-type {\n        vertical-align: middle;\n    }\n\n    .dataframe tbody tr th {\n        vertical-align: top;\n    }\n\n    .dataframe thead th {\n        text-align: right;\n    }\n</style>\n<table border=\"1\" class=\"dataframe\">\n  <thead>\n    <tr style=\"text-align: right;\">\n      <th></th>\n      <th>DAY_date</th>\n      <th>DAY_MONTH_nr</th>\n      <th>DAY_QUARTER_nr</th>\n      <th>DAY_YEAR_nr</th>\n    </tr>\n  </thead>\n  <tbody>\n    <tr>\n      <th>0</th>\n      <td>2013-11-26</td>\n      <td>11</td>\n      <td>4</td>\n      <td>2013</td>\n    </tr>\n    <tr>\n      <th>1</th>\n      <td>2015-11-26</td>\n      <td>11</td>\n      <td>4</td>\n      <td>2015</td>\n    </tr>\n    <tr>\n      <th>2</th>\n      <td>2014-03-23</td>\n      <td>3</td>\n      <td>1</td>\n      <td>2014</td>\n    </tr>\n    <tr>\n      <th>3</th>\n      <td>2016-03-23</td>\n      <td>3</td>\n      <td>1</td>\n      <td>2016</td>\n    </tr>\n    <tr>\n      <th>4</th>\n      <td>2014-05-15</td>\n      <td>5</td>\n      <td>2</td>\n      <td>2014</td>\n    </tr>\n    <tr>\n      <th>...</th>\n      <td>...</td>\n      <td>...</td>\n      <td>...</td>\n      <td>...</td>\n    </tr>\n    <tr>\n      <th>113031</th>\n      <td>2016-04-12</td>\n      <td>4</td>\n      <td>2</td>\n      <td>2016</td>\n    </tr>\n    <tr>\n      <th>113032</th>\n      <td>2014-04-02</td>\n      <td>4</td>\n      <td>2</td>\n      <td>2014</td>\n    </tr>\n    <tr>\n      <th>113033</th>\n      <td>2016-04-02</td>\n      <td>4</td>\n      <td>2</td>\n      <td>2016</td>\n    </tr>\n    <tr>\n      <th>113034</th>\n      <td>2014-03-04</td>\n      <td>3</td>\n      <td>1</td>\n      <td>2014</td>\n    </tr>\n    <tr>\n      <th>113035</th>\n      <td>2016-03-04</td>\n      <td>3</td>\n      <td>1</td>\n      <td>2016</td>\n    </tr>\n  </tbody>\n</table>\n<p>113036 rows × 4 columns</p>\n</div>"
     },
     "execution_count": 16,
     "metadata": {},
     "output_type": "execute_result"
    }
   ],
   "source": [
    "dateFormat = '%Y-%m-%d'\n",
    "DAY_date = Utils.getDayDate(sales, 'Date', dateFormat)\n",
    "DAY_date"
   ],
   "metadata": {
    "collapsed": false,
    "ExecuteTime": {
     "end_time": "2023-05-25T19:12:30.428095400Z",
     "start_time": "2023-05-25T19:08:31.281663700Z"
    }
   }
  },
  {
   "cell_type": "markdown",
   "source": [
    "# Order Detail"
   ],
   "metadata": {
    "collapsed": false
   }
  },
  {
   "cell_type": "code",
   "execution_count": 17,
   "outputs": [],
   "source": [
    "selectedColumn = []\n",
    "\n",
    "newColumnNames = []"
   ],
   "metadata": {
    "collapsed": false,
    "ExecuteTime": {
     "end_time": "2023-05-25T19:12:30.442538100Z",
     "start_time": "2023-05-25T19:12:30.429093800Z"
    }
   }
  }
 ],
 "metadata": {
  "kernelspec": {
   "display_name": "Python 3",
   "language": "python",
   "name": "python3"
  },
  "language_info": {
   "codemirror_mode": {
    "name": "ipython",
    "version": 2
   },
   "file_extension": ".py",
   "mimetype": "text/x-python",
   "name": "python",
   "nbconvert_exporter": "python",
   "pygments_lexer": "ipython2",
   "version": "2.7.6"
  }
 },
 "nbformat": 4,
 "nbformat_minor": 0
}
